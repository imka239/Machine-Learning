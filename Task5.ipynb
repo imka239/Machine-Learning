{
 "cells": [
  {
   "cell_type": "code",
   "execution_count": 1,
   "metadata": {},
   "outputs": [],
   "source": [
    "from sklearn.tree import DecisionTreeClassifier\n",
    "from sklearn.model_selection import GridSearchCV\n",
    "import pandas as pd\n",
    "import numpy as np\n",
    "from tqdm import tqdm\n",
    "from sklearn.metrics import f1_score\n",
    "from os import path\n",
    "from os import listdir\n",
    "from sklearn.metrics import accuracy_score\n",
    "import matplotlib.pyplot as plt"
   ]
  },
  {
   "cell_type": "code",
   "execution_count": 2,
   "metadata": {},
   "outputs": [
    {
     "name": "stderr",
     "output_type": "stream",
     "text": [
      "C:\\Users\\ASUS\\anaconda3\\lib\\site-packages\\sklearn\\model_selection\\_split.py:667: UserWarning: The least populated class in y has only 4 members, which is less than n_splits=5.\n",
      "  % (min_groups, self.n_splits)), UserWarning)\n",
      "C:\\Users\\ASUS\\anaconda3\\lib\\site-packages\\sklearn\\model_selection\\_split.py:667: UserWarning: The least populated class in y has only 4 members, which is less than n_splits=5.\n",
      "  % (min_groups, self.n_splits)), UserWarning)\n"
     ]
    },
    {
     "name": "stdout",
     "output_type": "stream",
     "text": [
      "0.9997429966589566\n",
      "0.6966921119592875\n"
     ]
    },
    {
     "name": "stderr",
     "output_type": "stream",
     "text": [
      "C:\\Users\\ASUS\\anaconda3\\lib\\site-packages\\sklearn\\model_selection\\_split.py:667: UserWarning: The least populated class in y has only 2 members, which is less than n_splits=5.\n",
      "  % (min_groups, self.n_splits)), UserWarning)\n",
      "C:\\Users\\ASUS\\anaconda3\\lib\\site-packages\\sklearn\\model_selection\\_split.py:667: UserWarning: The least populated class in y has only 2 members, which is less than n_splits=5.\n",
      "  % (min_groups, self.n_splits)), UserWarning)\n"
     ]
    },
    {
     "name": "stdout",
     "output_type": "stream",
     "text": [
      "1.0\n",
      "0.9951304347826087\n"
     ]
    },
    {
     "name": "stderr",
     "output_type": "stream",
     "text": [
      "C:\\Users\\ASUS\\anaconda3\\lib\\site-packages\\sklearn\\model_selection\\_split.py:667: UserWarning: The least populated class in y has only 3 members, which is less than n_splits=5.\n",
      "  % (min_groups, self.n_splits)), UserWarning)\n",
      "C:\\Users\\ASUS\\anaconda3\\lib\\site-packages\\sklearn\\model_selection\\_split.py:667: UserWarning: The least populated class in y has only 3 members, which is less than n_splits=5.\n",
      "  % (min_groups, self.n_splits)), UserWarning)\n"
     ]
    },
    {
     "name": "stdout",
     "output_type": "stream",
     "text": [
      "0.9956709956709957\n",
      "0.9988962472406181\n",
      "0.9967441860465116\n",
      "0.997920997920998\n",
      "0.8137254901960784\n",
      "0.9979879275653923\n",
      "0.999195171026157\n",
      "0.8717373000280663\n",
      "0.6412844036697247\n",
      "0.990351215746816\n"
     ]
    },
    {
     "name": "stderr",
     "output_type": "stream",
     "text": [
      "C:\\Users\\ASUS\\anaconda3\\lib\\site-packages\\sklearn\\model_selection\\_split.py:667: UserWarning: The least populated class in y has only 3 members, which is less than n_splits=5.\n",
      "  % (min_groups, self.n_splits)), UserWarning)\n",
      "C:\\Users\\ASUS\\anaconda3\\lib\\site-packages\\sklearn\\model_selection\\_split.py:667: UserWarning: The least populated class in y has only 3 members, which is less than n_splits=5.\n",
      "  % (min_groups, self.n_splits)), UserWarning)\n"
     ]
    },
    {
     "name": "stdout",
     "output_type": "stream",
     "text": [
      "1.0\n",
      "1.0\n",
      "0.8458961474036851\n",
      "0.9389426656738645\n",
      "0.8304576144036009\n"
     ]
    },
    {
     "name": "stderr",
     "output_type": "stream",
     "text": [
      "C:\\Users\\ASUS\\anaconda3\\lib\\site-packages\\sklearn\\model_selection\\_split.py:667: UserWarning: The least populated class in y has only 4 members, which is less than n_splits=5.\n",
      "  % (min_groups, self.n_splits)), UserWarning)\n",
      "C:\\Users\\ASUS\\anaconda3\\lib\\site-packages\\sklearn\\model_selection\\_split.py:667: UserWarning: The least populated class in y has only 4 members, which is less than n_splits=5.\n",
      "  % (min_groups, self.n_splits)), UserWarning)\n"
     ]
    },
    {
     "name": "stdout",
     "output_type": "stream",
     "text": [
      "0.9694928684627575\n",
      "0.807863031071655\n",
      "1 2\n"
     ]
    }
   ],
   "source": [
    "simplePath = 'C:\\\\Users\\\\ASUS\\\\test5\\\\'\n",
    "blocks = range(1, 22)\n",
    "bigData = [0] * 21\n",
    "for i in blocks:\n",
    "    s = str(i // 10) + str(i % 10)\n",
    "    full_path_test = path.join(simplePath, s + \"_test.csv\")\n",
    "    full_path_train = path.join(simplePath, s + \"_train.csv\")\n",
    "    #print(full_path_test)\n",
    "    df = pd.read_csv(\"test5\\\\\" + s + \"_train.csv\")\n",
    "    df = pd.DataFrame(df)\n",
    "    df_test = pd.read_csv(\"test5\\\\\" + s + \"_test.csv\")\n",
    "    df_test = pd.DataFrame(df_test)\n",
    "    Y_test = df_test[\"y\"]\n",
    "    X_test = df_test.drop(columns=[\"y\"])\n",
    "    params = dict()\n",
    "    params[\"criterion\"] = (\"gini\", \"entropy\")\n",
    "    params[\"splitter\"] = (\"best\", \"random\") \n",
    "    params[\"max_depth\"] = (range(1, 17))\n",
    "    worker = GridSearchCV(DecisionTreeClassifier(), params, n_jobs=-1)\n",
    "    Y = df[\"y\"]\n",
    "    X = df.drop(columns=[\"y\"])\n",
    "    bigData[i - 1] = worker.fit(X, Y).best_params_['max_depth']\n",
    "    worker.fit(X, Y)\n",
    "    Val = worker.predict(X_test)\n",
    "    print(accuracy_score(Y_test, Val))\n",
    "print(np.argmax(bigData), np.argmin(bigData))\n",
    "#16 2\n",
    "\n"
   ]
  },
  {
   "cell_type": "code",
   "execution_count": 3,
   "metadata": {},
   "outputs": [
    {
     "name": "stdout",
     "output_type": "stream",
     "text": [
      "[3, 8, 1, 5, 1, 3, 3, 2, 4, 4, 1, 8, 7, 5, 1, 1, 7, 4, 7, 6, 8]\n"
     ]
    }
   ],
   "source": [
    "print(bigData)"
   ]
  },
  {
   "cell_type": "code",
   "execution_count": 5,
   "metadata": {},
   "outputs": [
    {
     "name": "stdout",
     "output_type": "stream",
     "text": [
      "C:\\Users\\ASUS\\test5\\02_test.csv\n",
      "{'criterion': 'entropy', 'max_depth': 9, 'splitter': 'best'}\n"
     ]
    },
    {
     "data": {
      "image/png": "[encoded data removed]",
      "text/plain": [
       "<Figure size 432x288 with 1 Axes>"
      ]
     },
     "metadata": {
      "needs_background": "light"
     },
     "output_type": "display_data"
    }
   ],
   "source": [
    "#argmax\n",
    "i = 2\n",
    "s = str(i // 10) + str(i % 10)\n",
    "full_path_test = path.join(simplePath, s + \"_test.csv\")\n",
    "full_path_train = path.join(simplePath, s + \"_train.csv\")\n",
    "print(full_path_test)\n",
    "df = pd.read_csv(\"test5\\\\\" + s + \"_train.csv\")\n",
    "df = pd.DataFrame(df)\n",
    "df_test = pd.read_csv(\"test5\\\\\" + s + \"_test.csv\")\n",
    "df_test = pd.DataFrame(df_test)\n",
    "tree = DecisionTreeClassifier(criterion='entropy', max_depth=8, splitter='best')\n",
    "Y = df[\"y\"]\n",
    "X = df.drop(columns=[\"y\"])\n",
    "print(worker.fit(X, Y).best_params_)\n",
    "Y_test = df_test[\"y\"]\n",
    "X_test = df_test.drop(columns=[\"y\"])\n",
    "Gr_X = range(1, 17)\n",
    "Gr_Y = []\n",
    "Gr_Y_test = []\n",
    "for i in range(1, 17):\n",
    "    tree = DecisionTreeClassifier(criterion='entropy', max_depth=i, splitter='best')\n",
    "    tree.fit(X, Y)\n",
    "    Val = tree.predict(X)\n",
    "    Gr_Y.append(accuracy_score(Y, Val))\n",
    "    Val = tree.predict(X_test)\n",
    "    Gr_Y_test.append(accuracy_score(Y_test, Val))\n",
    "plt.plot(Gr_X, Gr_Y, linestyle='solid', color='blue', label=\"train\")\n",
    "plt.plot(Gr_X, Gr_Y_test, linestyle='solid', color='yellow', label=\"test\")\n",
    "plt.legend(loc=2, ncol=2)\n",
    "plt.show()"
   ]
  },
  {
   "cell_type": "code",
   "execution_count": 6,
   "metadata": {},
   "outputs": [
    {
     "name": "stdout",
     "output_type": "stream",
     "text": [
      "C:\\Users\\ASUS\\test5\\11_test.csv\n",
      "{'criterion': 'gini', 'max_depth': 1, 'splitter': 'best'}\n",
      "0.9541247484909456\n",
      "0.9549295774647887\n",
      "0.9553319919517103\n",
      "0.9557344064386318\n",
      "0.9569416498993963\n",
      "0.958148893360161\n",
      "0.9601609657947686\n",
      "0.9625754527162977\n",
      "0.9641851106639839\n",
      "0.9665995975855131\n",
      "0.9694164989939638\n",
      "0.9722334004024145\n",
      "0.9746478873239437\n",
      "0.9762575452716298\n",
      "0.9782696177062374\n",
      "0.979476861167002\n"
     ]
    },
    {
     "data": {
      "image/png": "[encoded data removed]",
      "text/plain": [
       "<Figure size 432x288 with 1 Axes>"
      ]
     },
     "metadata": {
      "needs_background": "light"
     },
     "output_type": "display_data"
    }
   ],
   "source": [
    "#argmin\n",
    "i = 11\n",
    "s = str(i // 10) + str(i % 10)\n",
    "full_path_test = path.join(simplePath, s + \"_test.csv\")\n",
    "full_path_train = path.join(simplePath, s + \"_train.csv\")\n",
    "print(full_path_test)\n",
    "df = pd.read_csv(\"test5\\\\\" + s + \"_train.csv\")\n",
    "df = pd.DataFrame(df)\n",
    "df_test = pd.read_csv(\"test5\\\\\" + s + \"_test.csv\")\n",
    "df_test = pd.DataFrame(df_test)\n",
    "tree = DecisionTreeClassifier(criterion='gini', max_depth=1, splitter='best')\n",
    "Y = df[\"y\"]\n",
    "X = df.drop(columns=[\"y\"])\n",
    "print(worker.fit(X, Y).best_params_)\n",
    "Y_test = df_test[\"y\"]\n",
    "X_test = df_test.drop(columns=[\"y\"])\n",
    "Gr_X = range(1, 17)\n",
    "Gr_Y = []\n",
    "Gr_Y_test = []\n",
    "for i in range(1, 17):\n",
    "    tree = DecisionTreeClassifier(criterion='gini', max_depth=i, splitter='best')\n",
    "    tree.fit(X, Y)\n",
    "    Val = tree.predict(X)\n",
    "    print(accuracy_score(Y, Val))\n",
    "    Gr_Y.append(accuracy_score(Y, Val))\n",
    "    Val = tree.predict(X_test)\n",
    "    Gr_Y_test.append(accuracy_score(Y_test, Val))\n",
    "plt.plot(Gr_X, Gr_Y, linestyle='solid', color='blue', label=\"train\")\n",
    "plt.plot(Gr_X, Gr_Y_test, linestyle='solid', color='yellow', label=\"test\")\n",
    "plt.legend(loc=2, ncol=2)\n",
    "plt.show()\n",
    "    "
   ]
  },
  {
   "cell_type": "code",
   "execution_count": 8,
   "metadata": {},
   "outputs": [
    {
     "name": "stdout",
     "output_type": "stream",
     "text": [
      "C:\\Users\\ASUS\\test5\\01_test.csv\n",
      "C:\\Users\\ASUS\\test5\\02_test.csv\n",
      "C:\\Users\\ASUS\\test5\\03_test.csv\n",
      "C:\\Users\\ASUS\\test5\\04_test.csv\n",
      "C:\\Users\\ASUS\\test5\\05_test.csv\n",
      "C:\\Users\\ASUS\\test5\\06_test.csv\n",
      "C:\\Users\\ASUS\\test5\\07_test.csv\n",
      "C:\\Users\\ASUS\\test5\\08_test.csv\n",
      "C:\\Users\\ASUS\\test5\\09_test.csv\n",
      "C:\\Users\\ASUS\\test5\\10_test.csv\n",
      "C:\\Users\\ASUS\\test5\\11_test.csv\n",
      "C:\\Users\\ASUS\\test5\\12_test.csv\n",
      "C:\\Users\\ASUS\\test5\\13_test.csv\n",
      "C:\\Users\\ASUS\\test5\\14_test.csv\n",
      "C:\\Users\\ASUS\\test5\\15_test.csv\n",
      "C:\\Users\\ASUS\\test5\\16_test.csv\n",
      "C:\\Users\\ASUS\\test5\\17_test.csv\n",
      "C:\\Users\\ASUS\\test5\\18_test.csv\n",
      "C:\\Users\\ASUS\\test5\\19_test.csv\n",
      "C:\\Users\\ASUS\\test5\\20_test.csv\n",
      "C:\\Users\\ASUS\\test5\\21_test.csv\n",
      "0.9914039535062903\n",
      "0.5044517314879291\n"
     ]
    }
   ],
   "source": [
    "from math import sqrt\n",
    "Gr_X = range(1, 22)\n",
    "Gr_Y = []\n",
    "Gr_Y_Test = []\n",
    "for i in range(1, 22):\n",
    "    s = str(i // 10) + str(i % 10)\n",
    "    full_path_test = path.join(simplePath, s + \"_test.csv\")\n",
    "    full_path_train = path.join(simplePath, s + \"_train.csv\")\n",
    "    print(full_path_test)\n",
    "    df = pd.read_csv(\"test5\\\\\" + s + \"_train.csv\")\n",
    "    df = pd.DataFrame(df)\n",
    "    df_test = pd.read_csv(\"test5\\\\\" + s + \"_test.csv\")\n",
    "    df_test = pd.DataFrame(df_test)\n",
    "    Y = df[\"y\"]\n",
    "    X = df.drop(columns=[\"y\"])\n",
    "    Y_test = df_test[\"y\"]\n",
    "    X_test = df_test.drop(columns=[\"y\"])\n",
    "    trees = []\n",
    "    for j in range(10):\n",
    "        featx = []\n",
    "        featy = []\n",
    "        for i in range(df.shape[0]):\n",
    "            featx.append(np.random.randint(0, X.shape[0]))\n",
    "        for i in range(int(sqrt(X.shape[1]))):\n",
    "            featy.append(np.random.randint(0, X.shape[1]))\n",
    "        X_feat = X.iloc[featx, featy]\n",
    "        Y_feat = Y.iloc[featx]\n",
    "        #X_test_feat = X_test.iloc[:, featy]\n",
    "        tree = DecisionTreeClassifier(criterion='gini', splitter='best')\n",
    "        tree.fit(X_feat, Y_feat)\n",
    "        trees.append((featy, tree))\n",
    "    y_pred = []\n",
    "    for j in range(X_test.shape[0]):\n",
    "        #nex = X_test.iloc[j]\n",
    "        answers = []\n",
    "        for k in range(10):\n",
    "            nex1 = np.mat(X_test.iloc[j, trees[k][0]])\n",
    "            answers.append(trees[k][1].predict(nex1)[0])\n",
    "        y_pred.append(np.argmax(np.bincount(answers)))\n",
    "    Gr_Y_Test.append(accuracy_score(Y_test, y_pred))\n",
    "    y_pred = []\n",
    "    for j in range(X.shape[0]):\n",
    "        #nex = X_test.iloc[j]\n",
    "        answers = []\n",
    "        for k in range(10):\n",
    "            nex1 = np.mat(X.iloc[j, trees[k][0]])\n",
    "            answers.append(trees[k][1].predict(nex1)[0])\n",
    "        y_pred.append(np.argmax(np.bincount(answers)))\n",
    "    Gr_Y.append(accuracy_score(Y, y_pred))\n",
    "print(sum(Gr_Y) / len(Gr_Y)) \n",
    "print(sum(Gr_Y_Test) / len(Gr_Y_Test)) "
   ]
  },
  {
   "cell_type": "code",
   "execution_count": null,
   "metadata": {},
   "outputs": [],
   "source": [
    "print(sum(Gr_Y) / len(Gr_Y))  "
   ]
  },
  {
   "cell_type": "code",
   "execution_count": 9,
   "metadata": {},
   "outputs": [
    {
     "data": {
      "text/plain": [
       "[0.6602415831405808,\n",
       " 0.14198473282442747,\n",
       " 0.8563162970106075,\n",
       " 0.4761739130434783,\n",
       " 0.9307359307359307,\n",
       " 0.5149006622516556,\n",
       " 0.4413953488372093,\n",
       " 0.9708939708939709,\n",
       " 0.2411764705882353,\n",
       " 0.40643863179074446,\n",
       " 0.8418511066398391,\n",
       " 0.415380297502105,\n",
       " 0.2724770642201835,\n",
       " 0.3014280200694712,\n",
       " 0.9477477477477477,\n",
       " 0.5040498442367601,\n",
       " 0.18481295365717476,\n",
       " 0.4832464631422189,\n",
       " 0.23630907726931732,\n",
       " 0.518621236133122,\n",
       " 0.24730500951173112]"
      ]
     },
     "execution_count": 9,
     "metadata": {},
     "output_type": "execute_result"
    }
   ],
   "source": [
    "Gr_Y_Test"
   ]
  },
  {
   "cell_type": "code",
   "execution_count": null,
   "metadata": {},
   "outputs": [],
   "source": []
  },
  {
   "cell_type": "code",
   "execution_count": null,
   "metadata": {},
   "outputs": [],
   "source": []
  }
 ],
 "metadata": {
  "kernelspec": {
   "display_name": "Python 3",
   "language": "python",
   "name": "python3"
  },
  "language_info": {
   "codemirror_mode": {
    "name": "ipython",
    "version": 3
   },
   "file_extension": ".py",
   "mimetype": "text/x-python",
   "name": "python",
   "nbconvert_exporter": "python",
   "pygments_lexer": "ipython3",
   "version": "3.7.6"
  }
 },
 "nbformat": 4,
 "nbformat_minor": 4
}
