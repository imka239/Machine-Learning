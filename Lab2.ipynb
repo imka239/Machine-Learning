{
 "cells": [
  {
   "cell_type": "code",
   "execution_count": 2,
   "metadata": {},
   "outputs": [
    {
     "data": {
      "text/plain": [
       "(796, 628)"
      ]
     },
     "execution_count": 2,
     "metadata": {},
     "output_type": "execute_result"
    }
   ],
   "source": [
    "import numpy as np\n",
    "import pandas as pd\n",
    "\n",
    "fin = open(\"5.txt\", \"r\")\n",
    "n = int(fin.readline())\n",
    "n += 1\n",
    "size_of_train = int(fin.readline())\n",
    "train = [0] * size_of_train\n",
    "Y_train = []\n",
    "for i in range(size_of_train):\n",
    "    train[i] = [int(x) for x in fin.readline().split()]\n",
    "    Y_train.append(train[i][-1])\n",
    "    train[i][-1] = 1\n",
    "size_of_test = int(fin.readline())\n",
    "test = [0] * size_of_test\n",
    "Y_test = []\n",
    "for i in range(size_of_test):\n",
    "    test[i] = [float(x) for x in fin.readline().split()]\n",
    "    Y_test.append(test[i][-1])\n",
    "    test[i][-1] = 1\n",
    "train = np.mat(train)\n",
    "test = np.mat(test)\n",
    "Y_train = np.mat(Y_train)\n",
    "train.shape"
   ]
  },
  {
   "cell_type": "code",
   "execution_count": 3,
   "metadata": {},
   "outputs": [],
   "source": [
    "import matplotlib.pyplot as plt"
   ]
  },
  {
   "cell_type": "code",
   "execution_count": 4,
   "metadata": {},
   "outputs": [],
   "source": [
    "sz = 1000\n",
    "answer1 = [0] * sz\n",
    "answer2 = [0] * sz\n",
    "answer3 = [0] * sz\n",
    "ans1 = [0] * sz\n",
    "ans2 = [0] * sz\n",
    "ans3 = [0] * sz"
   ]
  },
  {
   "cell_type": "code",
   "execution_count": null,
   "metadata": {},
   "outputs": [],
   "source": []
  },
  {
   "cell_type": "code",
   "execution_count": 5,
   "metadata": {},
   "outputs": [],
   "source": [
    "from tqdm import tqdm"
   ]
  },
  {
   "cell_type": "code",
   "execution_count": 6,
   "metadata": {},
   "outputs": [],
   "source": [
    "def getAns(test, w, Y_test):\n",
    "    arr = np.array(Y_test)\n",
    "    Y_result = test * w.T\n",
    "    diffs = np.array(Y_result.T - arr)\n",
    "    return np.sqrt((diffs ** 2).mean()) / (arr.max() - arr.min())"
   ]
  },
  {
   "cell_type": "code",
   "execution_count": 7,
   "metadata": {},
   "outputs": [],
   "source": [
    "triple = np.linalg.svd(train, full_matrices=False)\n",
    "pseudoTrain = triple[2].T * np.linalg.inv(np.diag(triple[1] + 10 ** -4)) * triple[0].T\n",
    "w = pseudoTrain * Y_train.T\n",
    "matr1 = getAns(test, w.T, Y_test)\n",
    "matr2 = getAns(train, w.T, Y_train)\n",
    "for i in range(sz):\n",
    "    answer1[i] = matr1\n",
    "    ans1[i] = matr2\n"
   ]
  },
  {
   "cell_type": "code",
   "execution_count": 8,
   "metadata": {},
   "outputs": [
    {
     "name": "stderr",
     "output_type": "stream",
     "text": [
      "100%|██████████████████████████████████████████████████████████████████████████████| 1000/1000 [00:13<00:00, 74.31it/s]\n"
     ]
    },
    {
     "data": {
      "text/plain": [
       "0.024990567503856274"
      ]
     },
     "execution_count": 8,
     "metadata": {},
     "output_type": "execute_result"
    }
   ],
   "source": [
    "w = np.mat([0.] * n)\n",
    "for i in tqdm(range(sz)):\n",
    "    grad = (Y_train - w * train.T) * train\n",
    "    grad *= 2 / n\n",
    "    u = 10 ** (-16)\n",
    "    w += u * grad\n",
    "    answer2[i] = getAns(test, w, Y_test)\n",
    "    ans2[i] = getAns(train, w, Y_train)\n",
    "gradient = getAns(test, w, Y_test)\n",
    "gradient"
   ]
  },
  {
   "cell_type": "code",
   "execution_count": 9,
   "metadata": {},
   "outputs": [
    {
     "name": "stderr",
     "output_type": "stream",
     "text": [
      "100%|██████████████████████████████████████████████████████████████████████████████| 1000/1000 [00:27<00:00, 36.73it/s]\n"
     ]
    },
    {
     "data": {
      "text/plain": [
       "0.014503160594919648"
      ]
     },
     "execution_count": 9,
     "metadata": {},
     "output_type": "execute_result"
    }
   ],
   "source": [
    "w = np.mat([0.] * n)\n",
    "for j in tqdm(range(sz)):\n",
    "    for_minimum = [getAns(train, w, Y_train)]\n",
    "    matr_minimum = [w + 0]\n",
    "    for i in range(5):\n",
    "        u = np.mat(np.random.normal(0, 10 ** -2, n))\n",
    "        new_w = w + u;\n",
    "        x = getAns(train, new_w, Y_train)\n",
    "        for_minimum.append(x)\n",
    "        matr_minimum.append(new_w)\n",
    "    w = matr_minimum[np.argmin(for_minimum)]\n",
    "    answer3[j] = getAns(test, w, Y_test)\n",
    "    ans3[j] = getAns(train, w, Y_train)\n",
    "evaluate = getAns(test, w, Y_test)\n",
    "evaluate"
   ]
  },
  {
   "cell_type": "code",
   "execution_count": 10,
   "metadata": {},
   "outputs": [
    {
     "data": {
      "image/png": "[encoded data removed]",
      "text/plain": [
       "<Figure size 432x288 with 1 Axes>"
      ]
     },
     "metadata": {
      "needs_background": "light"
     },
     "output_type": "display_data"
    }
   ],
   "source": [
    "palette = ['b', 'g', 'r', 'c', 'm', 'y', 'k', 'w']\n",
    "plt.plot(range(sz), answer1, color=palette[0], label=\"matr_test\")\n",
    "plt.plot(range(sz), answer2, color=palette[1], label=\"grad_test\")\n",
    "plt.plot(range(sz), answer3, color=palette[2], label=\"eval_test\")\n",
    "plt.plot(range(sz), ans1, color=palette[3], label=\"matr_train\")\n",
    "plt.plot(range(sz), ans2, color=palette[4], label=\"grad_train\")\n",
    "plt.plot(range(sz), ans3, color=palette[5], label=\"eval_train\")\n",
    "plt.legend(loc=2, ncol=2)\n",
    "plt.show()"
   ]
  },
  {
   "cell_type": "code",
   "execution_count": null,
   "metadata": {},
   "outputs": [],
   "source": []
  },
  {
   "cell_type": "code",
   "execution_count": null,
   "metadata": {},
   "outputs": [],
   "source": []
  },
  {
   "cell_type": "code",
   "execution_count": null,
   "metadata": {},
   "outputs": [],
   "source": []
  },
  {
   "cell_type": "code",
   "execution_count": null,
   "metadata": {},
   "outputs": [],
   "source": []
  }
 ],
 "metadata": {
  "kernelspec": {
   "display_name": "Python 3",
   "language": "python",
   "name": "python3"
  },
  "language_info": {
   "codemirror_mode": {
    "name": "ipython",
    "version": 3
   },
   "file_extension": ".py",
   "mimetype": "text/x-python",
   "name": "python",
   "nbconvert_exporter": "python",
   "pygments_lexer": "ipython3",
   "version": "3.7.6"
  },
  "pycharm": {
   "stem_cell": {
    "cell_type": "raw",
    "metadata": {
     "collapsed": false
    },
    "source": []
   }
  }
 },
 "nbformat": 4,
 "nbformat_minor": 4
}
