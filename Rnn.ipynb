{
  "nbformat": 4,
  "nbformat_minor": 0,
  "metadata": {
    "colab": {
      "name": "Rnn.ipynb",
      "provenance": [],
      "collapsed_sections": []
    },
    "kernelspec": {
      "name": "python3",
      "display_name": "Python 3"
    },
    "accelerator": "GPU"
  },
  "cells": [
    {
      "cell_type": "code",
      "metadata": {
        "colab": {
          "base_uri": "https://localhost:8080/"
        },
        "id": "Qa9L-4f_7NzE",
        "outputId": "2a0bb920-8197-4be6-81e2-e5cbaae27765"
      },
      "source": [
        "from google.colab import drive\r\n",
        "drive.mount('/content/drive')\r\n",
        "\r\n",
        "import numpy as np\r\n",
        "import pandas as pd\r\n",
        "import random\r\n",
        "from tqdm import tqdm\r\n",
        "from sklearn.metrics import f1_score\r\n",
        "from os import path\r\n",
        "from os import listdir\r\n",
        "from sklearn.metrics import accuracy_score\r\n",
        "import matplotlib.pyplot as plt\r\n",
        "from torch.utils.data import DataLoader, Dataset\r\n",
        "import torch\r\n",
        "from math import log2, e\r\n",
        "device = torch.device('cuda:0' if torch.cuda.is_available() else 'cpu')"
      ],
      "execution_count": null,
      "outputs": [
        {
          "output_type": "stream",
          "text": [
            "Drive already mounted at /content/drive; to attempt to forcibly remount, call drive.mount(\"/content/drive\", force_remount=True).\n"
          ],
          "name": "stdout"
        }
      ]
    },
    {
      "cell_type": "code",
      "metadata": {
        "colab": {
          "base_uri": "https://localhost:8080/"
        },
        "id": "0YuFswAX_BAw",
        "outputId": "a19e3411-016b-4c2d-bb97-a8bc46b639d2"
      },
      "source": [
        "f = open(\"drive/MyDrive/author_quotes.txt\", \"r\")\r\n",
        "n = 36165\r\n",
        "data = [0] * n\r\n",
        "s = set()\r\n",
        "for i in range(n):\r\n",
        "  words = f.readline().strip()\r\n",
        "  words = words.lower()\r\n",
        "  data[i] = words[:-1]\r\n",
        "  for x in words:\r\n",
        "    s.add(x)\r\n",
        "print(s)"
      ],
      "execution_count": null,
      "outputs": [
        {
          "output_type": "stream",
          "text": [
            "{'v', '#', ':', '9', '(', '!', '/', 'r', '+', '&', 'x', '5', 'o', '7', \"'\", '6', 'q', 'w', 'a', '-', ';', '—', 'g', ',', 'f', 'e', 'h', 't', 'b', '%', 's', '*', '1', '£', ' ', 'n', '=', 'd', '8', 'u', ')', 'z', 'c', '0', '2', '.', '?', 'i', 'k', '3', 'y', '\"', '$', '4', 'm', 'p', 'j', 'l', '’'}\n"
          ],
          "name": "stdout"
        }
      ]
    },
    {
      "cell_type": "code",
      "metadata": {
        "id": "FBQibLbyC8Wj",
        "colab": {
          "base_uri": "https://localhost:8080/"
        },
        "outputId": "b0fd44c7-3ef3-49ff-8a67-73f7e6e8dbd2"
      },
      "source": [
        "todel = \",£;’)=\\\"?*(/\\'$!-&+#—.:%\"\r\n",
        "for c in todel:\r\n",
        "  for i in range(len(data)):\r\n",
        "    data[i] = data[i].replace(c, \"\")\r\n",
        "s = set()\r\n",
        "for x in data:\r\n",
        "  for symb in x:\r\n",
        "    s.add(symb)\r\n",
        "s = (list(s))\r\n",
        "s.sort()\r\n",
        "print(s)"
      ],
      "execution_count": null,
      "outputs": [
        {
          "output_type": "stream",
          "text": [
            "[' ', '0', '1', '2', '3', '4', '5', '6', '7', '8', '9', 'a', 'b', 'c', 'd', 'e', 'f', 'g', 'h', 'i', 'j', 'k', 'l', 'm', 'n', 'o', 'p', 'q', 'r', 's', 't', 'u', 'v', 'w', 'x', 'y', 'z']\n"
          ],
          "name": "stdout"
        }
      ]
    },
    {
      "cell_type": "code",
      "metadata": {
        "id": "Ji768RPYREhR"
      },
      "source": [
        "index = 0\r\n",
        "symb_to_int = dict()\r\n",
        "int_to_symb = dict()\r\n",
        "for c in s:\r\n",
        "  if (c not in symb_to_int):\r\n",
        "    symb_to_int[c] = index\r\n",
        "    int_to_symb[index] = c\r\n",
        "    index += 1"
      ],
      "execution_count": null,
      "outputs": []
    },
    {
      "cell_type": "code",
      "metadata": {
        "colab": {
          "base_uri": "https://localhost:8080/"
        },
        "id": "_WF-P9WBxhnH",
        "outputId": "56c513ee-9bd9-4d41-bcaf-ff71b5876857"
      },
      "source": [
        "def to_num(seq):\r\n",
        "  ans = []\r\n",
        "  for j in seq:\r\n",
        "    ans.append(symb_to_int[j])\r\n",
        "  return ans\r\n",
        "\r\n",
        "real_data = [0] * len(data)\r\n",
        "for i in range(len(data)):\r\n",
        "  real_data[i] = to_num(data[i])\r\n",
        "print(real_data[0])\r\n",
        "print(data[0])"
      ],
      "execution_count": null,
      "outputs": [
        {
          "output_type": "stream",
          "text": [
            "[19, 16, 0, 35, 25, 31, 0, 22, 19, 32, 15, 0, 30, 25, 0, 12, 15, 0, 11, 0, 18, 31, 24, 14, 28, 15, 14, 0, 19, 0, 33, 11, 24, 30, 0, 30, 25, 0, 22, 19, 32, 15, 0, 30, 25, 0, 12, 15, 0, 11, 0, 18, 31, 24, 14, 28, 15, 14, 0, 23, 19, 24, 31, 29, 0, 25, 24, 15, 0, 14, 11, 35, 0, 29, 25, 0, 19, 0, 24, 15, 32, 15, 28, 0, 18, 11, 32, 15, 0, 30, 25, 0, 22, 19, 32, 15, 0, 33, 19, 30, 18, 25, 31, 30, 0, 35, 25, 31]\n",
            "if you live to be a hundred i want to live to be a hundred minus one day so i never have to live without you\n"
          ],
          "name": "stdout"
        }
      ]
    },
    {
      "cell_type": "markdown",
      "metadata": {
        "id": "ZomSodnrKxqD"
      },
      "source": [
        ""
      ]
    },
    {
      "cell_type": "code",
      "metadata": {
        "id": "Sd3oKkciIwC5",
        "colab": {
          "base_uri": "https://localhost:8080/"
        },
        "outputId": "3d9a58e3-459f-4da5-abd5-636cf4b12906"
      },
      "source": [
        "seq = 20\r\n",
        "X_Y = []\r\n",
        "for i in range(len(data)):\r\n",
        "  for j in range(len(data[i])):\r\n",
        "    if (j + seq + 1 < len(data[i])):\r\n",
        "      X_Y.append((real_data[i][j:j + seq], real_data[i][j + 1:j + seq + 1]))\r\n",
        "print(X_Y[0])"
      ],
      "execution_count": null,
      "outputs": [
        {
          "output_type": "stream",
          "text": [
            "([19, 16, 0, 35, 25, 31, 0, 22, 19, 32, 15, 0, 30, 25, 0, 12, 15, 0, 11, 0], [16, 0, 35, 25, 31, 0, 22, 19, 32, 15, 0, 30, 25, 0, 12, 15, 0, 11, 0, 18])\n"
          ],
          "name": "stdout"
        }
      ]
    },
    {
      "cell_type": "code",
      "metadata": {
        "id": "qcL-xr1_I1-V",
        "colab": {
          "base_uri": "https://localhost:8080/",
          "height": 231
        },
        "outputId": "697dee27-2429-43fe-8ad7-56b102f1b888"
      },
      "source": [
        "class LSTM(torch.nn.Module):\r\n",
        "  def __init__(self):\r\n",
        "    super(LSTM, self).__init__()\r\n",
        "    self.features = len(s)\r\n",
        "    self.embedd = self.features\r\n",
        "    self.layers = 4\r\n",
        "    self.embedding = torch.nn.Embedding(\r\n",
        "        num_embeddings=self.features,\r\n",
        "        embedding_dim=self.embedd,\r\n",
        "    )\r\n",
        "    self.lstm = torch.nn.LSTM(\r\n",
        "        input_size=self.embedd,\r\n",
        "        hidden_size=self.embedd,\r\n",
        "        num_layers=self.layers\r\n",
        "    )\r\n",
        "    self.fc = torch.nn.Linear(self.embedd, len(s))\r\n",
        "  def forward(self, x, prev_state):\r\n",
        "    embed = self.embedding(x)\r\n",
        "    output, state = self.lstm(embed, prev_state)\r\n",
        "    logits = self.fc(output)\r\n",
        "    return logits, state\r\n",
        "\r\n",
        "  def init_state(self):\r\n",
        "    return (torch.zeros(self.layers, seq, self.embedd), \r\n",
        "            torch.zeros(self.layers, seq, self.embedd))\r\n",
        "\r\n",
        "class Dataset(torch.utils.data.Dataset):\r\n",
        "  def __init__(self, data):\r\n",
        "    self.data = data\r\n",
        "      \r\n",
        "  def __len__(self):\r\n",
        "    return len(self.data)\r\n",
        "\r\n",
        "  def __getitem__(self, i):\r\n",
        "    return (torch.LongTensor(self.data[i][0]), torch.LongTensor(self.data[i][1]))"
      ],
      "execution_count": null,
      "outputs": [
        {
          "output_type": "error",
          "ename": "NameError",
          "evalue": "ignored",
          "traceback": [
            "\u001b[0;31m---------------------------------------------------------------------------\u001b[0m",
            "\u001b[0;31mNameError\u001b[0m                                 Traceback (most recent call last)",
            "\u001b[0;32m<ipython-input-1-f6d5d514d427>\u001b[0m in \u001b[0;36m<module>\u001b[0;34m()\u001b[0m\n\u001b[0;32m----> 1\u001b[0;31m \u001b[0;32mclass\u001b[0m \u001b[0mLSTM\u001b[0m\u001b[0;34m(\u001b[0m\u001b[0mtorch\u001b[0m\u001b[0;34m.\u001b[0m\u001b[0mnn\u001b[0m\u001b[0;34m.\u001b[0m\u001b[0mModule\u001b[0m\u001b[0;34m)\u001b[0m\u001b[0;34m:\u001b[0m\u001b[0;34m\u001b[0m\u001b[0;34m\u001b[0m\u001b[0m\n\u001b[0m\u001b[1;32m      2\u001b[0m   \u001b[0;32mdef\u001b[0m \u001b[0m__init__\u001b[0m\u001b[0;34m(\u001b[0m\u001b[0mself\u001b[0m\u001b[0;34m)\u001b[0m\u001b[0;34m:\u001b[0m\u001b[0;34m\u001b[0m\u001b[0;34m\u001b[0m\u001b[0m\n\u001b[1;32m      3\u001b[0m     \u001b[0msuper\u001b[0m\u001b[0;34m(\u001b[0m\u001b[0mLSTM\u001b[0m\u001b[0;34m,\u001b[0m \u001b[0mself\u001b[0m\u001b[0;34m)\u001b[0m\u001b[0;34m.\u001b[0m\u001b[0m__init__\u001b[0m\u001b[0;34m(\u001b[0m\u001b[0;34m)\u001b[0m\u001b[0;34m\u001b[0m\u001b[0;34m\u001b[0m\u001b[0m\n\u001b[1;32m      4\u001b[0m     \u001b[0mself\u001b[0m\u001b[0;34m.\u001b[0m\u001b[0mfeatures\u001b[0m \u001b[0;34m=\u001b[0m \u001b[0mlen\u001b[0m\u001b[0;34m(\u001b[0m\u001b[0ms\u001b[0m\u001b[0;34m)\u001b[0m\u001b[0;34m\u001b[0m\u001b[0;34m\u001b[0m\u001b[0m\n\u001b[1;32m      5\u001b[0m     \u001b[0mself\u001b[0m\u001b[0;34m.\u001b[0m\u001b[0membedd\u001b[0m \u001b[0;34m=\u001b[0m \u001b[0mself\u001b[0m\u001b[0;34m.\u001b[0m\u001b[0mfeatures\u001b[0m\u001b[0;34m\u001b[0m\u001b[0;34m\u001b[0m\u001b[0m\n",
            "\u001b[0;31mNameError\u001b[0m: name 'torch' is not defined"
          ]
        }
      ]
    },
    {
      "cell_type": "code",
      "metadata": {
        "id": "ZwUQH4rVJUST"
      },
      "source": [
        "model = LSTM().to(device)\r\n",
        "batch_size = 1000"
      ],
      "execution_count": null,
      "outputs": []
    },
    {
      "cell_type": "code",
      "metadata": {
        "id": "nuzmzepxVRp2"
      },
      "source": [
        "def train(model):\r\n",
        "  dataset = Dataset(X_Y)\r\n",
        "  dataloader = DataLoader(dataset, batch_size, num_workers=6)\r\n",
        "  model.train()\r\n",
        "  for _, (x, y) in tqdm(enumerate(dataloader)):\r\n",
        "    h, c = model.init_state()\r\n",
        "    optimizer.zero_grad()\r\n",
        "    x = x.to(device)\r\n",
        "    y = y.to(device)\r\n",
        "    h = h.to(device)\r\n",
        "    c = c.to(device)\r\n",
        "    y_pred, (h, c) = model(x, (h, c))\r\n",
        "    \r\n",
        "    loss = criterion(y_pred.transpose(1, 2), y)\r\n",
        "    loss.backward()\r\n",
        "    optimizer.step()\r\n",
        "    print(loss.item())"
      ],
      "execution_count": null,
      "outputs": []
    },
    {
      "cell_type": "code",
      "metadata": {
        "colab": {
          "base_uri": "https://localhost:8080/"
        },
        "id": "H0thENF-VVjj",
        "outputId": "9d955163-7a8c-4a31-fa42-62c7c5c02f96"
      },
      "source": [
        "criterion = torch.nn.CrossEntropyLoss()\r\n",
        "optimizer = torch.optim.Adam(model.parameters(), lr=0.001)\r\n",
        "train(model)"
      ],
      "execution_count": null,
      "outputs": [
        {
          "output_type": "stream",
          "text": [
            "2it [00:00,  5.61it/s]"
          ],
          "name": "stderr"
        },
        {
          "output_type": "stream",
          "text": [
            "2.841902256011963\n",
            "2.811788320541382\n"
          ],
          "name": "stdout"
        },
        {
          "output_type": "stream",
          "text": [
            "4it [00:00,  6.55it/s]"
          ],
          "name": "stderr"
        },
        {
          "output_type": "stream",
          "text": [
            "2.879502058029175\n",
            "2.849597692489624\n"
          ],
          "name": "stdout"
        },
        {
          "output_type": "stream",
          "text": [
            "6it [00:00,  7.16it/s]"
          ],
          "name": "stderr"
        },
        {
          "output_type": "stream",
          "text": [
            "2.8746020793914795\n",
            "2.8721604347229004\n"
          ],
          "name": "stdout"
        },
        {
          "output_type": "stream",
          "text": [
            "8it [00:01,  7.51it/s]"
          ],
          "name": "stderr"
        },
        {
          "output_type": "stream",
          "text": [
            "2.8143279552459717\n",
            "2.835928201675415\n"
          ],
          "name": "stdout"
        },
        {
          "output_type": "stream",
          "text": [
            "10it [00:01,  7.40it/s]"
          ],
          "name": "stderr"
        },
        {
          "output_type": "stream",
          "text": [
            "2.862166166305542\n",
            "2.8653454780578613\n"
          ],
          "name": "stdout"
        },
        {
          "output_type": "stream",
          "text": [
            "12it [00:01,  7.76it/s]"
          ],
          "name": "stderr"
        },
        {
          "output_type": "stream",
          "text": [
            "2.8959813117980957\n",
            "2.828115463256836\n"
          ],
          "name": "stdout"
        },
        {
          "output_type": "stream",
          "text": [
            "14it [00:01,  7.98it/s]"
          ],
          "name": "stderr"
        },
        {
          "output_type": "stream",
          "text": [
            "2.8470754623413086\n",
            "2.858717441558838\n"
          ],
          "name": "stdout"
        },
        {
          "output_type": "stream",
          "text": [
            "16it [00:02,  7.92it/s]"
          ],
          "name": "stderr"
        },
        {
          "output_type": "stream",
          "text": [
            "2.916893482208252\n",
            "2.8970258235931396\n"
          ],
          "name": "stdout"
        },
        {
          "output_type": "stream",
          "text": [
            "18it [00:02,  7.95it/s]"
          ],
          "name": "stderr"
        },
        {
          "output_type": "stream",
          "text": [
            "2.889005661010742\n",
            "2.8689801692962646\n"
          ],
          "name": "stdout"
        },
        {
          "output_type": "stream",
          "text": [
            "20it [00:02,  8.00it/s]"
          ],
          "name": "stderr"
        },
        {
          "output_type": "stream",
          "text": [
            "2.828075408935547\n",
            "2.8354287147521973\n"
          ],
          "name": "stdout"
        },
        {
          "output_type": "stream",
          "text": [
            "22it [00:02,  7.95it/s]"
          ],
          "name": "stderr"
        },
        {
          "output_type": "stream",
          "text": [
            "2.8396875858306885\n",
            "2.831678628921509\n"
          ],
          "name": "stdout"
        },
        {
          "output_type": "stream",
          "text": [
            "24it [00:03,  7.89it/s]"
          ],
          "name": "stderr"
        },
        {
          "output_type": "stream",
          "text": [
            "2.8702802658081055\n",
            "2.800358295440674\n"
          ],
          "name": "stdout"
        },
        {
          "output_type": "stream",
          "text": [
            "26it [00:03,  7.92it/s]"
          ],
          "name": "stderr"
        },
        {
          "output_type": "stream",
          "text": [
            "2.8285748958587646\n",
            "2.8630471229553223\n"
          ],
          "name": "stdout"
        },
        {
          "output_type": "stream",
          "text": [
            "28it [00:03,  7.87it/s]"
          ],
          "name": "stderr"
        },
        {
          "output_type": "stream",
          "text": [
            "2.8087806701660156\n",
            "2.8298795223236084\n"
          ],
          "name": "stdout"
        },
        {
          "output_type": "stream",
          "text": [
            "30it [00:03,  7.89it/s]"
          ],
          "name": "stderr"
        },
        {
          "output_type": "stream",
          "text": [
            "2.860767364501953\n",
            "2.9113516807556152\n"
          ],
          "name": "stdout"
        },
        {
          "output_type": "stream",
          "text": [
            "32it [00:04,  7.81it/s]"
          ],
          "name": "stderr"
        },
        {
          "output_type": "stream",
          "text": [
            "2.8814737796783447\n",
            "2.855219841003418\n"
          ],
          "name": "stdout"
        },
        {
          "output_type": "stream",
          "text": [
            "34it [00:04,  7.80it/s]"
          ],
          "name": "stderr"
        },
        {
          "output_type": "stream",
          "text": [
            "2.8750267028808594\n",
            "2.845717430114746\n"
          ],
          "name": "stdout"
        },
        {
          "output_type": "stream",
          "text": [
            "36it [00:04,  7.89it/s]"
          ],
          "name": "stderr"
        },
        {
          "output_type": "stream",
          "text": [
            "2.852628469467163\n",
            "2.8817098140716553\n"
          ],
          "name": "stdout"
        },
        {
          "output_type": "stream",
          "text": [
            "38it [00:04,  7.96it/s]"
          ],
          "name": "stderr"
        },
        {
          "output_type": "stream",
          "text": [
            "2.818373680114746\n",
            "2.861076831817627\n"
          ],
          "name": "stdout"
        },
        {
          "output_type": "stream",
          "text": [
            "40it [00:05,  7.81it/s]"
          ],
          "name": "stderr"
        },
        {
          "output_type": "stream",
          "text": [
            "2.8626046180725098\n",
            "2.8434064388275146\n"
          ],
          "name": "stdout"
        },
        {
          "output_type": "stream",
          "text": [
            "42it [00:05,  7.87it/s]"
          ],
          "name": "stderr"
        },
        {
          "output_type": "stream",
          "text": [
            "2.8514792919158936\n",
            "2.8784923553466797\n"
          ],
          "name": "stdout"
        },
        {
          "output_type": "stream",
          "text": [
            "44it [00:05,  7.79it/s]"
          ],
          "name": "stderr"
        },
        {
          "output_type": "stream",
          "text": [
            "2.899564027786255\n",
            "2.8686020374298096\n"
          ],
          "name": "stdout"
        },
        {
          "output_type": "stream",
          "text": [
            "46it [00:05,  7.89it/s]"
          ],
          "name": "stderr"
        },
        {
          "output_type": "stream",
          "text": [
            "2.868391752243042\n",
            "2.843583106994629\n"
          ],
          "name": "stdout"
        },
        {
          "output_type": "stream",
          "text": [
            "48it [00:06,  7.76it/s]"
          ],
          "name": "stderr"
        },
        {
          "output_type": "stream",
          "text": [
            "2.8357460498809814\n",
            "2.8360049724578857\n"
          ],
          "name": "stdout"
        },
        {
          "output_type": "stream",
          "text": [
            "50it [00:06,  7.90it/s]"
          ],
          "name": "stderr"
        },
        {
          "output_type": "stream",
          "text": [
            "2.8691186904907227\n",
            "2.8459548950195312\n"
          ],
          "name": "stdout"
        },
        {
          "output_type": "stream",
          "text": [
            "52it [00:06,  7.91it/s]"
          ],
          "name": "stderr"
        },
        {
          "output_type": "stream",
          "text": [
            "2.8066658973693848\n",
            "2.8117213249206543\n"
          ],
          "name": "stdout"
        },
        {
          "output_type": "stream",
          "text": [
            "54it [00:06,  7.98it/s]"
          ],
          "name": "stderr"
        },
        {
          "output_type": "stream",
          "text": [
            "2.8688981533050537\n",
            "2.895247459411621\n"
          ],
          "name": "stdout"
        },
        {
          "output_type": "stream",
          "text": [
            "56it [00:07,  7.81it/s]"
          ],
          "name": "stderr"
        },
        {
          "output_type": "stream",
          "text": [
            "2.8754215240478516\n",
            "2.8691864013671875\n"
          ],
          "name": "stdout"
        },
        {
          "output_type": "stream",
          "text": [
            "58it [00:07,  7.91it/s]"
          ],
          "name": "stderr"
        },
        {
          "output_type": "stream",
          "text": [
            "2.8399734497070312\n",
            "2.8215012550354004\n"
          ],
          "name": "stdout"
        },
        {
          "output_type": "stream",
          "text": [
            "60it [00:07,  7.95it/s]"
          ],
          "name": "stderr"
        },
        {
          "output_type": "stream",
          "text": [
            "2.8667407035827637\n",
            "2.866708278656006\n"
          ],
          "name": "stdout"
        },
        {
          "output_type": "stream",
          "text": [
            "62it [00:07,  8.04it/s]"
          ],
          "name": "stderr"
        },
        {
          "output_type": "stream",
          "text": [
            "2.847977638244629\n",
            "2.8716273307800293\n"
          ],
          "name": "stdout"
        },
        {
          "output_type": "stream",
          "text": [
            "64it [00:08,  7.92it/s]"
          ],
          "name": "stderr"
        },
        {
          "output_type": "stream",
          "text": [
            "2.8498990535736084\n",
            "2.8494582176208496\n"
          ],
          "name": "stdout"
        },
        {
          "output_type": "stream",
          "text": [
            "66it [00:08,  7.81it/s]"
          ],
          "name": "stderr"
        },
        {
          "output_type": "stream",
          "text": [
            "2.8820972442626953\n",
            "2.854851007461548\n"
          ],
          "name": "stdout"
        },
        {
          "output_type": "stream",
          "text": [
            "68it [00:08,  7.94it/s]"
          ],
          "name": "stderr"
        },
        {
          "output_type": "stream",
          "text": [
            "2.860738754272461\n",
            "2.8345768451690674\n"
          ],
          "name": "stdout"
        },
        {
          "output_type": "stream",
          "text": [
            "70it [00:08,  7.85it/s]"
          ],
          "name": "stderr"
        },
        {
          "output_type": "stream",
          "text": [
            "2.835554838180542\n",
            "2.874755859375\n"
          ],
          "name": "stdout"
        },
        {
          "output_type": "stream",
          "text": [
            "72it [00:09,  7.80it/s]"
          ],
          "name": "stderr"
        },
        {
          "output_type": "stream",
          "text": [
            "2.8277816772460938\n",
            "2.86505126953125\n"
          ],
          "name": "stdout"
        },
        {
          "output_type": "stream",
          "text": [
            "74it [00:09,  7.93it/s]"
          ],
          "name": "stderr"
        },
        {
          "output_type": "stream",
          "text": [
            "2.881580352783203\n",
            "2.8440334796905518\n"
          ],
          "name": "stdout"
        },
        {
          "output_type": "stream",
          "text": [
            "76it [00:09,  7.97it/s]"
          ],
          "name": "stderr"
        },
        {
          "output_type": "stream",
          "text": [
            "2.856518268585205\n",
            "2.85180401802063\n"
          ],
          "name": "stdout"
        },
        {
          "output_type": "stream",
          "text": [
            "78it [00:09,  8.01it/s]"
          ],
          "name": "stderr"
        },
        {
          "output_type": "stream",
          "text": [
            "2.8137645721435547\n",
            "2.841726541519165\n"
          ],
          "name": "stdout"
        },
        {
          "output_type": "stream",
          "text": [
            "80it [00:10,  7.89it/s]"
          ],
          "name": "stderr"
        },
        {
          "output_type": "stream",
          "text": [
            "2.856546401977539\n",
            "2.8694825172424316\n"
          ],
          "name": "stdout"
        },
        {
          "output_type": "stream",
          "text": [
            "82it [00:10,  7.91it/s]"
          ],
          "name": "stderr"
        },
        {
          "output_type": "stream",
          "text": [
            "2.833921194076538\n",
            "2.8263673782348633\n"
          ],
          "name": "stdout"
        },
        {
          "output_type": "stream",
          "text": [
            "84it [00:10,  7.88it/s]"
          ],
          "name": "stderr"
        },
        {
          "output_type": "stream",
          "text": [
            "2.8002421855926514\n",
            "2.8150832653045654\n"
          ],
          "name": "stdout"
        },
        {
          "output_type": "stream",
          "text": [
            "86it [00:11,  7.92it/s]"
          ],
          "name": "stderr"
        },
        {
          "output_type": "stream",
          "text": [
            "2.8162589073181152\n",
            "2.8286995887756348\n"
          ],
          "name": "stdout"
        },
        {
          "output_type": "stream",
          "text": [
            "88it [00:11,  7.85it/s]"
          ],
          "name": "stderr"
        },
        {
          "output_type": "stream",
          "text": [
            "2.8680593967437744\n",
            "2.8267428874969482\n"
          ],
          "name": "stdout"
        },
        {
          "output_type": "stream",
          "text": [
            "90it [00:11,  7.77it/s]"
          ],
          "name": "stderr"
        },
        {
          "output_type": "stream",
          "text": [
            "2.8468425273895264\n",
            "2.869462728500366\n"
          ],
          "name": "stdout"
        },
        {
          "output_type": "stream",
          "text": [
            "92it [00:11,  7.87it/s]"
          ],
          "name": "stderr"
        },
        {
          "output_type": "stream",
          "text": [
            "2.8768694400787354\n",
            "2.8390846252441406\n"
          ],
          "name": "stdout"
        },
        {
          "output_type": "stream",
          "text": [
            "94it [00:12,  7.88it/s]"
          ],
          "name": "stderr"
        },
        {
          "output_type": "stream",
          "text": [
            "2.8315072059631348\n",
            "2.8195693492889404\n"
          ],
          "name": "stdout"
        },
        {
          "output_type": "stream",
          "text": [
            "96it [00:12,  7.81it/s]"
          ],
          "name": "stderr"
        },
        {
          "output_type": "stream",
          "text": [
            "2.8528404235839844\n",
            "2.8473923206329346\n"
          ],
          "name": "stdout"
        },
        {
          "output_type": "stream",
          "text": [
            "98it [00:12,  7.89it/s]"
          ],
          "name": "stderr"
        },
        {
          "output_type": "stream",
          "text": [
            "2.821256160736084\n",
            "2.8371171951293945\n"
          ],
          "name": "stdout"
        },
        {
          "output_type": "stream",
          "text": [
            "100it [00:12,  7.92it/s]"
          ],
          "name": "stderr"
        },
        {
          "output_type": "stream",
          "text": [
            "2.8315107822418213\n",
            "2.84092378616333\n"
          ],
          "name": "stdout"
        },
        {
          "output_type": "stream",
          "text": [
            "102it [00:13,  7.97it/s]"
          ],
          "name": "stderr"
        },
        {
          "output_type": "stream",
          "text": [
            "2.8260419368743896\n",
            "2.861829996109009\n"
          ],
          "name": "stdout"
        },
        {
          "output_type": "stream",
          "text": [
            "104it [00:13,  7.90it/s]"
          ],
          "name": "stderr"
        },
        {
          "output_type": "stream",
          "text": [
            "2.8756215572357178\n",
            "2.855907440185547\n"
          ],
          "name": "stdout"
        },
        {
          "output_type": "stream",
          "text": [
            "106it [00:13,  7.97it/s]"
          ],
          "name": "stderr"
        },
        {
          "output_type": "stream",
          "text": [
            "2.8678739070892334\n",
            "2.8400375843048096\n"
          ],
          "name": "stdout"
        },
        {
          "output_type": "stream",
          "text": [
            "108it [00:13,  7.90it/s]"
          ],
          "name": "stderr"
        },
        {
          "output_type": "stream",
          "text": [
            "2.85874605178833\n",
            "2.857228994369507\n"
          ],
          "name": "stdout"
        },
        {
          "output_type": "stream",
          "text": [
            "110it [00:14,  8.01it/s]"
          ],
          "name": "stderr"
        },
        {
          "output_type": "stream",
          "text": [
            "2.8572895526885986\n",
            "2.838346004486084\n"
          ],
          "name": "stdout"
        },
        {
          "output_type": "stream",
          "text": [
            "112it [00:14,  7.90it/s]"
          ],
          "name": "stderr"
        },
        {
          "output_type": "stream",
          "text": [
            "2.863426685333252\n",
            "2.8509902954101562\n"
          ],
          "name": "stdout"
        },
        {
          "output_type": "stream",
          "text": [
            "114it [00:14,  7.94it/s]"
          ],
          "name": "stderr"
        },
        {
          "output_type": "stream",
          "text": [
            "2.841791868209839\n",
            "2.8327670097351074\n"
          ],
          "name": "stdout"
        },
        {
          "output_type": "stream",
          "text": [
            "116it [00:14,  7.93it/s]"
          ],
          "name": "stderr"
        },
        {
          "output_type": "stream",
          "text": [
            "2.8515100479125977\n",
            "2.8205173015594482\n"
          ],
          "name": "stdout"
        },
        {
          "output_type": "stream",
          "text": [
            "118it [00:15,  7.87it/s]"
          ],
          "name": "stderr"
        },
        {
          "output_type": "stream",
          "text": [
            "2.839444398880005\n",
            "2.830455780029297\n"
          ],
          "name": "stdout"
        },
        {
          "output_type": "stream",
          "text": [
            "120it [00:15,  7.83it/s]"
          ],
          "name": "stderr"
        },
        {
          "output_type": "stream",
          "text": [
            "2.8570258617401123\n",
            "2.8956754207611084\n"
          ],
          "name": "stdout"
        },
        {
          "output_type": "stream",
          "text": [
            "122it [00:15,  7.94it/s]"
          ],
          "name": "stderr"
        },
        {
          "output_type": "stream",
          "text": [
            "2.8647093772888184\n",
            "2.838277816772461\n"
          ],
          "name": "stdout"
        },
        {
          "output_type": "stream",
          "text": [
            "124it [00:15,  7.94it/s]"
          ],
          "name": "stderr"
        },
        {
          "output_type": "stream",
          "text": [
            "2.816649913787842\n",
            "2.820929527282715\n"
          ],
          "name": "stdout"
        },
        {
          "output_type": "stream",
          "text": [
            "126it [00:16,  7.96it/s]"
          ],
          "name": "stderr"
        },
        {
          "output_type": "stream",
          "text": [
            "2.8450698852539062\n",
            "2.8267829418182373\n"
          ],
          "name": "stdout"
        },
        {
          "output_type": "stream",
          "text": [
            "128it [00:16,  7.81it/s]"
          ],
          "name": "stderr"
        },
        {
          "output_type": "stream",
          "text": [
            "2.868466377258301\n",
            "2.894784450531006\n"
          ],
          "name": "stdout"
        },
        {
          "output_type": "stream",
          "text": [
            "130it [00:16,  7.75it/s]"
          ],
          "name": "stderr"
        },
        {
          "output_type": "stream",
          "text": [
            "2.8328638076782227\n",
            "2.833383083343506\n"
          ],
          "name": "stdout"
        },
        {
          "output_type": "stream",
          "text": [
            "132it [00:16,  7.85it/s]"
          ],
          "name": "stderr"
        },
        {
          "output_type": "stream",
          "text": [
            "2.8422889709472656\n",
            "2.8164002895355225\n"
          ],
          "name": "stdout"
        },
        {
          "output_type": "stream",
          "text": [
            "134it [00:17,  7.87it/s]"
          ],
          "name": "stderr"
        },
        {
          "output_type": "stream",
          "text": [
            "2.844620943069458\n",
            "2.803121566772461\n"
          ],
          "name": "stdout"
        },
        {
          "output_type": "stream",
          "text": [
            "136it [00:17,  7.90it/s]"
          ],
          "name": "stderr"
        },
        {
          "output_type": "stream",
          "text": [
            "2.829315662384033\n",
            "2.8064887523651123\n"
          ],
          "name": "stdout"
        },
        {
          "output_type": "stream",
          "text": [
            "138it [00:17,  7.96it/s]"
          ],
          "name": "stderr"
        },
        {
          "output_type": "stream",
          "text": [
            "2.814791202545166\n",
            "2.8617260456085205\n"
          ],
          "name": "stdout"
        },
        {
          "output_type": "stream",
          "text": [
            "140it [00:17,  7.99it/s]"
          ],
          "name": "stderr"
        },
        {
          "output_type": "stream",
          "text": [
            "2.8337721824645996\n",
            "2.835916519165039\n"
          ],
          "name": "stdout"
        },
        {
          "output_type": "stream",
          "text": [
            "142it [00:18,  8.04it/s]"
          ],
          "name": "stderr"
        },
        {
          "output_type": "stream",
          "text": [
            "2.8174753189086914\n",
            "2.8176679611206055\n"
          ],
          "name": "stdout"
        },
        {
          "output_type": "stream",
          "text": [
            "144it [00:18,  7.79it/s]"
          ],
          "name": "stderr"
        },
        {
          "output_type": "stream",
          "text": [
            "2.8582217693328857\n",
            "2.8158273696899414\n"
          ],
          "name": "stdout"
        },
        {
          "output_type": "stream",
          "text": [
            "146it [00:18,  7.79it/s]"
          ],
          "name": "stderr"
        },
        {
          "output_type": "stream",
          "text": [
            "2.7980995178222656\n",
            "2.8181838989257812\n"
          ],
          "name": "stdout"
        },
        {
          "output_type": "stream",
          "text": [
            "148it [00:18,  7.87it/s]"
          ],
          "name": "stderr"
        },
        {
          "output_type": "stream",
          "text": [
            "2.8163113594055176\n",
            "2.7908809185028076\n"
          ],
          "name": "stdout"
        },
        {
          "output_type": "stream",
          "text": [
            "150it [00:19,  7.88it/s]"
          ],
          "name": "stderr"
        },
        {
          "output_type": "stream",
          "text": [
            "2.7989306449890137\n",
            "2.7912166118621826\n"
          ],
          "name": "stdout"
        },
        {
          "output_type": "stream",
          "text": [
            "152it [00:19,  7.84it/s]"
          ],
          "name": "stderr"
        },
        {
          "output_type": "stream",
          "text": [
            "2.8334760665893555\n",
            "2.8287203311920166\n"
          ],
          "name": "stdout"
        },
        {
          "output_type": "stream",
          "text": [
            "154it [00:19,  7.81it/s]"
          ],
          "name": "stderr"
        },
        {
          "output_type": "stream",
          "text": [
            "2.8388168811798096\n",
            "2.8352227210998535\n"
          ],
          "name": "stdout"
        },
        {
          "output_type": "stream",
          "text": [
            "156it [00:19,  7.89it/s]"
          ],
          "name": "stderr"
        },
        {
          "output_type": "stream",
          "text": [
            "2.7771735191345215\n",
            "2.7521727085113525\n"
          ],
          "name": "stdout"
        },
        {
          "output_type": "stream",
          "text": [
            "158it [00:20,  7.91it/s]"
          ],
          "name": "stderr"
        },
        {
          "output_type": "stream",
          "text": [
            "2.752133369445801\n",
            "2.774632215499878\n"
          ],
          "name": "stdout"
        },
        {
          "output_type": "stream",
          "text": [
            "160it [00:20,  7.87it/s]"
          ],
          "name": "stderr"
        },
        {
          "output_type": "stream",
          "text": [
            "2.794475793838501\n",
            "2.776854991912842\n"
          ],
          "name": "stdout"
        },
        {
          "output_type": "stream",
          "text": [
            "162it [00:20,  7.91it/s]"
          ],
          "name": "stderr"
        },
        {
          "output_type": "stream",
          "text": [
            "2.777886152267456\n",
            "2.8075239658355713\n"
          ],
          "name": "stdout"
        },
        {
          "output_type": "stream",
          "text": [
            "164it [00:20,  7.91it/s]"
          ],
          "name": "stderr"
        },
        {
          "output_type": "stream",
          "text": [
            "2.75793194770813\n",
            "2.7899434566497803\n"
          ],
          "name": "stdout"
        },
        {
          "output_type": "stream",
          "text": [
            "166it [00:21,  7.80it/s]"
          ],
          "name": "stderr"
        },
        {
          "output_type": "stream",
          "text": [
            "2.7688088417053223\n",
            "2.7746543884277344\n"
          ],
          "name": "stdout"
        },
        {
          "output_type": "stream",
          "text": [
            "168it [00:21,  7.78it/s]"
          ],
          "name": "stderr"
        },
        {
          "output_type": "stream",
          "text": [
            "2.7459092140197754\n",
            "2.763855457305908\n"
          ],
          "name": "stdout"
        },
        {
          "output_type": "stream",
          "text": [
            "170it [00:21,  7.88it/s]"
          ],
          "name": "stderr"
        },
        {
          "output_type": "stream",
          "text": [
            "2.754869222640991\n",
            "2.7854981422424316\n"
          ],
          "name": "stdout"
        },
        {
          "output_type": "stream",
          "text": [
            "172it [00:21,  7.72it/s]"
          ],
          "name": "stderr"
        },
        {
          "output_type": "stream",
          "text": [
            "2.750189781188965\n",
            "2.6956160068511963\n"
          ],
          "name": "stdout"
        },
        {
          "output_type": "stream",
          "text": [
            "174it [00:22,  7.66it/s]"
          ],
          "name": "stderr"
        },
        {
          "output_type": "stream",
          "text": [
            "2.6933724880218506\n",
            "2.6902427673339844\n"
          ],
          "name": "stdout"
        },
        {
          "output_type": "stream",
          "text": [
            "176it [00:22,  7.77it/s]"
          ],
          "name": "stderr"
        },
        {
          "output_type": "stream",
          "text": [
            "2.750107526779175\n",
            "2.742009401321411\n"
          ],
          "name": "stdout"
        },
        {
          "output_type": "stream",
          "text": [
            "178it [00:22,  7.86it/s]"
          ],
          "name": "stderr"
        },
        {
          "output_type": "stream",
          "text": [
            "2.7124826908111572\n",
            "2.682342529296875\n"
          ],
          "name": "stdout"
        },
        {
          "output_type": "stream",
          "text": [
            "180it [00:22,  7.98it/s]"
          ],
          "name": "stderr"
        },
        {
          "output_type": "stream",
          "text": [
            "2.7062227725982666\n",
            "2.750725507736206\n"
          ],
          "name": "stdout"
        },
        {
          "output_type": "stream",
          "text": [
            "182it [00:23,  7.78it/s]"
          ],
          "name": "stderr"
        },
        {
          "output_type": "stream",
          "text": [
            "2.7314507961273193\n",
            "2.7248740196228027\n"
          ],
          "name": "stdout"
        },
        {
          "output_type": "stream",
          "text": [
            "184it [00:23,  7.92it/s]"
          ],
          "name": "stderr"
        },
        {
          "output_type": "stream",
          "text": [
            "2.710986614227295\n",
            "2.712073564529419\n"
          ],
          "name": "stdout"
        },
        {
          "output_type": "stream",
          "text": [
            "186it [00:23,  7.90it/s]"
          ],
          "name": "stderr"
        },
        {
          "output_type": "stream",
          "text": [
            "2.716383695602417\n",
            "2.6977035999298096\n"
          ],
          "name": "stdout"
        },
        {
          "output_type": "stream",
          "text": [
            "188it [00:23,  7.93it/s]"
          ],
          "name": "stderr"
        },
        {
          "output_type": "stream",
          "text": [
            "2.7022111415863037\n",
            "2.6795287132263184\n"
          ],
          "name": "stdout"
        },
        {
          "output_type": "stream",
          "text": [
            "190it [00:24,  7.74it/s]"
          ],
          "name": "stderr"
        },
        {
          "output_type": "stream",
          "text": [
            "2.681259870529175\n",
            "2.7428066730499268\n"
          ],
          "name": "stdout"
        },
        {
          "output_type": "stream",
          "text": [
            "192it [00:24,  7.85it/s]"
          ],
          "name": "stderr"
        },
        {
          "output_type": "stream",
          "text": [
            "2.738659620285034\n",
            "2.697986602783203\n"
          ],
          "name": "stdout"
        },
        {
          "output_type": "stream",
          "text": [
            "194it [00:24,  7.91it/s]"
          ],
          "name": "stderr"
        },
        {
          "output_type": "stream",
          "text": [
            "2.6865451335906982\n",
            "2.7204461097717285\n"
          ],
          "name": "stdout"
        },
        {
          "output_type": "stream",
          "text": [
            "196it [00:25,  7.97it/s]"
          ],
          "name": "stderr"
        },
        {
          "output_type": "stream",
          "text": [
            "2.6508941650390625\n",
            "2.6172375679016113\n"
          ],
          "name": "stdout"
        },
        {
          "output_type": "stream",
          "text": [
            "198it [00:25,  7.85it/s]"
          ],
          "name": "stderr"
        },
        {
          "output_type": "stream",
          "text": [
            "2.665220022201538\n",
            "2.708122730255127\n"
          ],
          "name": "stdout"
        },
        {
          "output_type": "stream",
          "text": [
            "200it [00:25,  7.79it/s]"
          ],
          "name": "stderr"
        },
        {
          "output_type": "stream",
          "text": [
            "2.671910047531128\n",
            "2.685098171234131\n"
          ],
          "name": "stdout"
        },
        {
          "output_type": "stream",
          "text": [
            "202it [00:25,  7.87it/s]"
          ],
          "name": "stderr"
        },
        {
          "output_type": "stream",
          "text": [
            "2.6964516639709473\n",
            "2.7418570518493652\n"
          ],
          "name": "stdout"
        },
        {
          "output_type": "stream",
          "text": [
            "204it [00:26,  7.90it/s]"
          ],
          "name": "stderr"
        },
        {
          "output_type": "stream",
          "text": [
            "2.6788887977600098\n",
            "2.6629600524902344\n"
          ],
          "name": "stdout"
        },
        {
          "output_type": "stream",
          "text": [
            "206it [00:26,  7.82it/s]"
          ],
          "name": "stderr"
        },
        {
          "output_type": "stream",
          "text": [
            "2.703244686126709\n",
            "2.725879192352295\n"
          ],
          "name": "stdout"
        },
        {
          "output_type": "stream",
          "text": [
            "208it [00:26,  7.91it/s]"
          ],
          "name": "stderr"
        },
        {
          "output_type": "stream",
          "text": [
            "2.6683456897735596\n",
            "2.6783387660980225\n"
          ],
          "name": "stdout"
        },
        {
          "output_type": "stream",
          "text": [
            "210it [00:26,  7.87it/s]"
          ],
          "name": "stderr"
        },
        {
          "output_type": "stream",
          "text": [
            "2.71626615524292\n",
            "2.6935296058654785\n"
          ],
          "name": "stdout"
        },
        {
          "output_type": "stream",
          "text": [
            "212it [00:27,  7.91it/s]"
          ],
          "name": "stderr"
        },
        {
          "output_type": "stream",
          "text": [
            "2.638613224029541\n",
            "2.6589696407318115\n"
          ],
          "name": "stdout"
        },
        {
          "output_type": "stream",
          "text": [
            "214it [00:27,  7.88it/s]"
          ],
          "name": "stderr"
        },
        {
          "output_type": "stream",
          "text": [
            "2.672355890274048\n",
            "2.6824381351470947\n"
          ],
          "name": "stdout"
        },
        {
          "output_type": "stream",
          "text": [
            "216it [00:27,  8.00it/s]"
          ],
          "name": "stderr"
        },
        {
          "output_type": "stream",
          "text": [
            "2.700761079788208\n",
            "2.676673412322998\n"
          ],
          "name": "stdout"
        },
        {
          "output_type": "stream",
          "text": [
            "218it [00:27,  8.00it/s]"
          ],
          "name": "stderr"
        },
        {
          "output_type": "stream",
          "text": [
            "2.672818422317505\n",
            "2.6698358058929443\n"
          ],
          "name": "stdout"
        },
        {
          "output_type": "stream",
          "text": [
            "220it [00:28,  7.95it/s]"
          ],
          "name": "stderr"
        },
        {
          "output_type": "stream",
          "text": [
            "2.6851847171783447\n",
            "2.6792473793029785\n"
          ],
          "name": "stdout"
        },
        {
          "output_type": "stream",
          "text": [
            "222it [00:28,  7.76it/s]"
          ],
          "name": "stderr"
        },
        {
          "output_type": "stream",
          "text": [
            "2.6701319217681885\n",
            "2.663489818572998\n"
          ],
          "name": "stdout"
        },
        {
          "output_type": "stream",
          "text": [
            "224it [00:28,  7.78it/s]"
          ],
          "name": "stderr"
        },
        {
          "output_type": "stream",
          "text": [
            "2.710256338119507\n",
            "2.7346572875976562\n"
          ],
          "name": "stdout"
        },
        {
          "output_type": "stream",
          "text": [
            "226it [00:28,  7.81it/s]"
          ],
          "name": "stderr"
        },
        {
          "output_type": "stream",
          "text": [
            "2.685645818710327\n",
            "2.664801836013794\n"
          ],
          "name": "stdout"
        },
        {
          "output_type": "stream",
          "text": [
            "228it [00:29,  7.77it/s]"
          ],
          "name": "stderr"
        },
        {
          "output_type": "stream",
          "text": [
            "2.6809468269348145\n",
            "2.6690895557403564\n"
          ],
          "name": "stdout"
        },
        {
          "output_type": "stream",
          "text": [
            "230it [00:29,  7.60it/s]"
          ],
          "name": "stderr"
        },
        {
          "output_type": "stream",
          "text": [
            "2.644061803817749\n",
            "2.6645872592926025\n"
          ],
          "name": "stdout"
        },
        {
          "output_type": "stream",
          "text": [
            "232it [00:29,  7.74it/s]"
          ],
          "name": "stderr"
        },
        {
          "output_type": "stream",
          "text": [
            "2.657738208770752\n",
            "2.637094259262085\n"
          ],
          "name": "stdout"
        },
        {
          "output_type": "stream",
          "text": [
            "234it [00:29,  7.74it/s]"
          ],
          "name": "stderr"
        },
        {
          "output_type": "stream",
          "text": [
            "2.7202038764953613\n",
            "2.6984360218048096\n"
          ],
          "name": "stdout"
        },
        {
          "output_type": "stream",
          "text": [
            "236it [00:30,  7.87it/s]"
          ],
          "name": "stderr"
        },
        {
          "output_type": "stream",
          "text": [
            "2.7017674446105957\n",
            "2.6573243141174316\n"
          ],
          "name": "stdout"
        },
        {
          "output_type": "stream",
          "text": [
            "238it [00:30,  7.83it/s]"
          ],
          "name": "stderr"
        },
        {
          "output_type": "stream",
          "text": [
            "2.6529183387756348\n",
            "2.6379425525665283\n"
          ],
          "name": "stdout"
        },
        {
          "output_type": "stream",
          "text": [
            "240it [00:30,  7.92it/s]"
          ],
          "name": "stderr"
        },
        {
          "output_type": "stream",
          "text": [
            "2.646923542022705\n",
            "2.6105055809020996\n"
          ],
          "name": "stdout"
        },
        {
          "output_type": "stream",
          "text": [
            "242it [00:30,  7.86it/s]"
          ],
          "name": "stderr"
        },
        {
          "output_type": "stream",
          "text": [
            "2.6585049629211426\n",
            "2.6453821659088135\n"
          ],
          "name": "stdout"
        },
        {
          "output_type": "stream",
          "text": [
            "244it [00:31,  7.94it/s]"
          ],
          "name": "stderr"
        },
        {
          "output_type": "stream",
          "text": [
            "2.652625322341919\n",
            "2.618709087371826\n"
          ],
          "name": "stdout"
        },
        {
          "output_type": "stream",
          "text": [
            "246it [00:31,  7.80it/s]"
          ],
          "name": "stderr"
        },
        {
          "output_type": "stream",
          "text": [
            "2.6188783645629883\n",
            "2.6560354232788086\n"
          ],
          "name": "stdout"
        },
        {
          "output_type": "stream",
          "text": [
            "248it [00:31,  7.86it/s]"
          ],
          "name": "stderr"
        },
        {
          "output_type": "stream",
          "text": [
            "2.6410629749298096\n",
            "2.641845941543579\n"
          ],
          "name": "stdout"
        },
        {
          "output_type": "stream",
          "text": [
            "250it [00:31,  7.90it/s]"
          ],
          "name": "stderr"
        },
        {
          "output_type": "stream",
          "text": [
            "2.6511034965515137\n",
            "2.609593152999878\n"
          ],
          "name": "stdout"
        },
        {
          "output_type": "stream",
          "text": [
            "252it [00:32,  7.57it/s]"
          ],
          "name": "stderr"
        },
        {
          "output_type": "stream",
          "text": [
            "2.637209892272949\n",
            "2.6267518997192383\n"
          ],
          "name": "stdout"
        },
        {
          "output_type": "stream",
          "text": [
            "254it [00:32,  7.61it/s]"
          ],
          "name": "stderr"
        },
        {
          "output_type": "stream",
          "text": [
            "2.674954891204834\n",
            "2.6892218589782715\n"
          ],
          "name": "stdout"
        },
        {
          "output_type": "stream",
          "text": [
            "256it [00:32,  7.79it/s]"
          ],
          "name": "stderr"
        },
        {
          "output_type": "stream",
          "text": [
            "2.6819684505462646\n",
            "2.7354822158813477\n"
          ],
          "name": "stdout"
        },
        {
          "output_type": "stream",
          "text": [
            "258it [00:32,  7.88it/s]"
          ],
          "name": "stderr"
        },
        {
          "output_type": "stream",
          "text": [
            "2.703856945037842\n",
            "2.729691505432129\n"
          ],
          "name": "stdout"
        },
        {
          "output_type": "stream",
          "text": [
            "260it [00:33,  7.92it/s]"
          ],
          "name": "stderr"
        },
        {
          "output_type": "stream",
          "text": [
            "2.6663854122161865\n",
            "2.664504289627075\n"
          ],
          "name": "stdout"
        },
        {
          "output_type": "stream",
          "text": [
            "262it [00:33,  7.86it/s]"
          ],
          "name": "stderr"
        },
        {
          "output_type": "stream",
          "text": [
            "2.652777671813965\n",
            "2.617587089538574\n"
          ],
          "name": "stdout"
        },
        {
          "output_type": "stream",
          "text": [
            "264it [00:33,  7.84it/s]"
          ],
          "name": "stderr"
        },
        {
          "output_type": "stream",
          "text": [
            "2.659113883972168\n",
            "2.633066415786743\n"
          ],
          "name": "stdout"
        },
        {
          "output_type": "stream",
          "text": [
            "266it [00:33,  7.97it/s]"
          ],
          "name": "stderr"
        },
        {
          "output_type": "stream",
          "text": [
            "2.6248908042907715\n",
            "2.6735661029815674\n"
          ],
          "name": "stdout"
        },
        {
          "output_type": "stream",
          "text": [
            "268it [00:34,  7.98it/s]"
          ],
          "name": "stderr"
        },
        {
          "output_type": "stream",
          "text": [
            "2.574869394302368\n",
            "2.6787173748016357\n"
          ],
          "name": "stdout"
        },
        {
          "output_type": "stream",
          "text": [
            "270it [00:34,  7.85it/s]"
          ],
          "name": "stderr"
        },
        {
          "output_type": "stream",
          "text": [
            "2.652616024017334\n",
            "2.699397087097168\n"
          ],
          "name": "stdout"
        },
        {
          "output_type": "stream",
          "text": [
            "272it [00:34,  7.87it/s]"
          ],
          "name": "stderr"
        },
        {
          "output_type": "stream",
          "text": [
            "2.6033222675323486\n",
            "2.6144580841064453\n"
          ],
          "name": "stdout"
        },
        {
          "output_type": "stream",
          "text": [
            "274it [00:34,  7.93it/s]"
          ],
          "name": "stderr"
        },
        {
          "output_type": "stream",
          "text": [
            "2.629469633102417\n",
            "2.6081197261810303\n"
          ],
          "name": "stdout"
        },
        {
          "output_type": "stream",
          "text": [
            "276it [00:35,  7.83it/s]"
          ],
          "name": "stderr"
        },
        {
          "output_type": "stream",
          "text": [
            "2.6039934158325195\n",
            "2.6343393325805664\n"
          ],
          "name": "stdout"
        },
        {
          "output_type": "stream",
          "text": [
            "278it [00:35,  7.79it/s]"
          ],
          "name": "stderr"
        },
        {
          "output_type": "stream",
          "text": [
            "2.6391186714172363\n",
            "2.5844709873199463\n"
          ],
          "name": "stdout"
        },
        {
          "output_type": "stream",
          "text": [
            "280it [00:35,  7.84it/s]"
          ],
          "name": "stderr"
        },
        {
          "output_type": "stream",
          "text": [
            "2.549207925796509\n",
            "2.563369035720825\n"
          ],
          "name": "stdout"
        },
        {
          "output_type": "stream",
          "text": [
            "282it [00:35,  7.95it/s]"
          ],
          "name": "stderr"
        },
        {
          "output_type": "stream",
          "text": [
            "2.578890085220337\n",
            "2.588609457015991\n"
          ],
          "name": "stdout"
        },
        {
          "output_type": "stream",
          "text": [
            "284it [00:36,  7.91it/s]"
          ],
          "name": "stderr"
        },
        {
          "output_type": "stream",
          "text": [
            "2.606577157974243\n",
            "2.6550309658050537\n"
          ],
          "name": "stdout"
        },
        {
          "output_type": "stream",
          "text": [
            "286it [00:36,  7.71it/s]"
          ],
          "name": "stderr"
        },
        {
          "output_type": "stream",
          "text": [
            "2.6351633071899414\n",
            "2.60007905960083\n"
          ],
          "name": "stdout"
        },
        {
          "output_type": "stream",
          "text": [
            "288it [00:36,  7.80it/s]"
          ],
          "name": "stderr"
        },
        {
          "output_type": "stream",
          "text": [
            "2.633201837539673\n",
            "2.579040050506592\n"
          ],
          "name": "stdout"
        },
        {
          "output_type": "stream",
          "text": [
            "290it [00:37,  7.87it/s]"
          ],
          "name": "stderr"
        },
        {
          "output_type": "stream",
          "text": [
            "2.650357246398926\n",
            "2.5750832557678223\n"
          ],
          "name": "stdout"
        },
        {
          "output_type": "stream",
          "text": [
            "292it [00:37,  7.89it/s]"
          ],
          "name": "stderr"
        },
        {
          "output_type": "stream",
          "text": [
            "2.5831921100616455\n",
            "2.605823278427124\n"
          ],
          "name": "stdout"
        },
        {
          "output_type": "stream",
          "text": [
            "294it [00:37,  7.82it/s]"
          ],
          "name": "stderr"
        },
        {
          "output_type": "stream",
          "text": [
            "2.617865562438965\n",
            "2.658059597015381\n"
          ],
          "name": "stdout"
        },
        {
          "output_type": "stream",
          "text": [
            "296it [00:37,  7.87it/s]"
          ],
          "name": "stderr"
        },
        {
          "output_type": "stream",
          "text": [
            "2.646608829498291\n",
            "2.6150341033935547\n"
          ],
          "name": "stdout"
        },
        {
          "output_type": "stream",
          "text": [
            "298it [00:38,  7.92it/s]"
          ],
          "name": "stderr"
        },
        {
          "output_type": "stream",
          "text": [
            "2.6093668937683105\n",
            "2.537954568862915\n"
          ],
          "name": "stdout"
        },
        {
          "output_type": "stream",
          "text": [
            "300it [00:38,  7.88it/s]"
          ],
          "name": "stderr"
        },
        {
          "output_type": "stream",
          "text": [
            "2.5265533924102783\n",
            "2.556602954864502\n"
          ],
          "name": "stdout"
        },
        {
          "output_type": "stream",
          "text": [
            "302it [00:38,  7.83it/s]"
          ],
          "name": "stderr"
        },
        {
          "output_type": "stream",
          "text": [
            "2.6176509857177734\n",
            "2.700462818145752\n"
          ],
          "name": "stdout"
        },
        {
          "output_type": "stream",
          "text": [
            "304it [00:38,  7.96it/s]"
          ],
          "name": "stderr"
        },
        {
          "output_type": "stream",
          "text": [
            "2.5763728618621826\n",
            "2.607144832611084\n"
          ],
          "name": "stdout"
        },
        {
          "output_type": "stream",
          "text": [
            "306it [00:39,  7.97it/s]"
          ],
          "name": "stderr"
        },
        {
          "output_type": "stream",
          "text": [
            "2.54621958732605\n",
            "2.5804343223571777\n"
          ],
          "name": "stdout"
        },
        {
          "output_type": "stream",
          "text": [
            "308it [00:39,  7.97it/s]"
          ],
          "name": "stderr"
        },
        {
          "output_type": "stream",
          "text": [
            "2.605738639831543\n",
            "2.570997476577759\n"
          ],
          "name": "stdout"
        },
        {
          "output_type": "stream",
          "text": [
            "310it [00:39,  7.79it/s]"
          ],
          "name": "stderr"
        },
        {
          "output_type": "stream",
          "text": [
            "2.5934576988220215\n",
            "2.597785234451294\n"
          ],
          "name": "stdout"
        },
        {
          "output_type": "stream",
          "text": [
            "312it [00:39,  7.83it/s]"
          ],
          "name": "stderr"
        },
        {
          "output_type": "stream",
          "text": [
            "2.621281862258911\n",
            "2.5597331523895264\n"
          ],
          "name": "stdout"
        },
        {
          "output_type": "stream",
          "text": [
            "314it [00:40,  7.87it/s]"
          ],
          "name": "stderr"
        },
        {
          "output_type": "stream",
          "text": [
            "2.549081563949585\n",
            "2.5457258224487305\n"
          ],
          "name": "stdout"
        },
        {
          "output_type": "stream",
          "text": [
            "316it [00:40,  7.89it/s]"
          ],
          "name": "stderr"
        },
        {
          "output_type": "stream",
          "text": [
            "2.5439059734344482\n",
            "2.53739595413208\n"
          ],
          "name": "stdout"
        },
        {
          "output_type": "stream",
          "text": [
            "318it [00:40,  7.84it/s]"
          ],
          "name": "stderr"
        },
        {
          "output_type": "stream",
          "text": [
            "2.6271560192108154\n",
            "2.582416296005249\n"
          ],
          "name": "stdout"
        },
        {
          "output_type": "stream",
          "text": [
            "320it [00:40,  7.87it/s]"
          ],
          "name": "stderr"
        },
        {
          "output_type": "stream",
          "text": [
            "2.54563307762146\n",
            "2.494204044342041\n"
          ],
          "name": "stdout"
        },
        {
          "output_type": "stream",
          "text": [
            "322it [00:41,  7.88it/s]"
          ],
          "name": "stderr"
        },
        {
          "output_type": "stream",
          "text": [
            "2.635376214981079\n",
            "2.569887638092041\n"
          ],
          "name": "stdout"
        },
        {
          "output_type": "stream",
          "text": [
            "324it [00:41,  7.90it/s]"
          ],
          "name": "stderr"
        },
        {
          "output_type": "stream",
          "text": [
            "2.6143970489501953\n",
            "2.49626088142395\n"
          ],
          "name": "stdout"
        },
        {
          "output_type": "stream",
          "text": [
            "326it [00:41,  7.68it/s]"
          ],
          "name": "stderr"
        },
        {
          "output_type": "stream",
          "text": [
            "2.535510540008545\n",
            "2.596783399581909\n"
          ],
          "name": "stdout"
        },
        {
          "output_type": "stream",
          "text": [
            "328it [00:41,  7.78it/s]"
          ],
          "name": "stderr"
        },
        {
          "output_type": "stream",
          "text": [
            "2.526326894760132\n",
            "2.4779205322265625\n"
          ],
          "name": "stdout"
        },
        {
          "output_type": "stream",
          "text": [
            "330it [00:42,  7.70it/s]"
          ],
          "name": "stderr"
        },
        {
          "output_type": "stream",
          "text": [
            "2.5123467445373535\n",
            "2.546085834503174\n"
          ],
          "name": "stdout"
        },
        {
          "output_type": "stream",
          "text": [
            "332it [00:42,  7.42it/s]"
          ],
          "name": "stderr"
        },
        {
          "output_type": "stream",
          "text": [
            "2.5451109409332275\n",
            "2.534001588821411\n"
          ],
          "name": "stdout"
        },
        {
          "output_type": "stream",
          "text": [
            "334it [00:42,  7.38it/s]"
          ],
          "name": "stderr"
        },
        {
          "output_type": "stream",
          "text": [
            "2.5326714515686035\n",
            "2.574646472930908\n"
          ],
          "name": "stdout"
        },
        {
          "output_type": "stream",
          "text": [
            "336it [00:42,  7.63it/s]"
          ],
          "name": "stderr"
        },
        {
          "output_type": "stream",
          "text": [
            "2.5625622272491455\n",
            "2.5035934448242188\n"
          ],
          "name": "stdout"
        },
        {
          "output_type": "stream",
          "text": [
            "338it [00:43,  7.74it/s]"
          ],
          "name": "stderr"
        },
        {
          "output_type": "stream",
          "text": [
            "2.5593068599700928\n",
            "2.470278263092041\n"
          ],
          "name": "stdout"
        },
        {
          "output_type": "stream",
          "text": [
            "340it [00:43,  7.74it/s]"
          ],
          "name": "stderr"
        },
        {
          "output_type": "stream",
          "text": [
            "2.5921707153320312\n",
            "2.573176860809326\n"
          ],
          "name": "stdout"
        },
        {
          "output_type": "stream",
          "text": [
            "342it [00:43,  7.72it/s]"
          ],
          "name": "stderr"
        },
        {
          "output_type": "stream",
          "text": [
            "2.5243940353393555\n",
            "2.586587905883789\n"
          ],
          "name": "stdout"
        },
        {
          "output_type": "stream",
          "text": [
            "344it [00:43,  7.55it/s]"
          ],
          "name": "stderr"
        },
        {
          "output_type": "stream",
          "text": [
            "2.479590892791748\n",
            "2.491926908493042\n"
          ],
          "name": "stdout"
        },
        {
          "output_type": "stream",
          "text": [
            "346it [00:44,  7.63it/s]"
          ],
          "name": "stderr"
        },
        {
          "output_type": "stream",
          "text": [
            "2.538381576538086\n",
            "2.5098514556884766\n"
          ],
          "name": "stdout"
        },
        {
          "output_type": "stream",
          "text": [
            "348it [00:44,  7.69it/s]"
          ],
          "name": "stderr"
        },
        {
          "output_type": "stream",
          "text": [
            "2.5676047801971436\n",
            "2.547766923904419\n"
          ],
          "name": "stdout"
        },
        {
          "output_type": "stream",
          "text": [
            "350it [00:44,  7.65it/s]"
          ],
          "name": "stderr"
        },
        {
          "output_type": "stream",
          "text": [
            "2.5431668758392334\n",
            "2.5705347061157227\n"
          ],
          "name": "stdout"
        },
        {
          "output_type": "stream",
          "text": [
            "352it [00:45,  7.76it/s]"
          ],
          "name": "stderr"
        },
        {
          "output_type": "stream",
          "text": [
            "2.5593154430389404\n",
            "2.5590498447418213\n"
          ],
          "name": "stdout"
        },
        {
          "output_type": "stream",
          "text": [
            "354it [00:45,  7.67it/s]"
          ],
          "name": "stderr"
        },
        {
          "output_type": "stream",
          "text": [
            "2.570204973220825\n",
            "2.5395095348358154\n"
          ],
          "name": "stdout"
        },
        {
          "output_type": "stream",
          "text": [
            "356it [00:45,  7.49it/s]"
          ],
          "name": "stderr"
        },
        {
          "output_type": "stream",
          "text": [
            "2.5155551433563232\n",
            "2.5153703689575195\n"
          ],
          "name": "stdout"
        },
        {
          "output_type": "stream",
          "text": [
            "358it [00:45,  7.67it/s]"
          ],
          "name": "stderr"
        },
        {
          "output_type": "stream",
          "text": [
            "2.535740375518799\n",
            "2.5277323722839355\n"
          ],
          "name": "stdout"
        },
        {
          "output_type": "stream",
          "text": [
            "360it [00:46,  7.76it/s]"
          ],
          "name": "stderr"
        },
        {
          "output_type": "stream",
          "text": [
            "2.5272912979125977\n",
            "2.5626614093780518\n"
          ],
          "name": "stdout"
        },
        {
          "output_type": "stream",
          "text": [
            "362it [00:46,  7.80it/s]"
          ],
          "name": "stderr"
        },
        {
          "output_type": "stream",
          "text": [
            "2.5241715908050537\n",
            "2.5213491916656494\n"
          ],
          "name": "stdout"
        },
        {
          "output_type": "stream",
          "text": [
            "364it [00:46,  7.66it/s]"
          ],
          "name": "stderr"
        },
        {
          "output_type": "stream",
          "text": [
            "2.5167953968048096\n",
            "2.5402586460113525\n"
          ],
          "name": "stdout"
        },
        {
          "output_type": "stream",
          "text": [
            "366it [00:46,  7.68it/s]"
          ],
          "name": "stderr"
        },
        {
          "output_type": "stream",
          "text": [
            "2.5663747787475586\n",
            "2.599578380584717\n"
          ],
          "name": "stdout"
        },
        {
          "output_type": "stream",
          "text": [
            "368it [00:47,  7.59it/s]"
          ],
          "name": "stderr"
        },
        {
          "output_type": "stream",
          "text": [
            "2.5995171070098877\n",
            "2.565009832382202\n"
          ],
          "name": "stdout"
        },
        {
          "output_type": "stream",
          "text": [
            "370it [00:47,  7.47it/s]"
          ],
          "name": "stderr"
        },
        {
          "output_type": "stream",
          "text": [
            "2.5897347927093506\n",
            "2.5719046592712402\n"
          ],
          "name": "stdout"
        },
        {
          "output_type": "stream",
          "text": [
            "372it [00:47,  7.59it/s]"
          ],
          "name": "stderr"
        },
        {
          "output_type": "stream",
          "text": [
            "2.563032627105713\n",
            "2.5561747550964355\n"
          ],
          "name": "stdout"
        },
        {
          "output_type": "stream",
          "text": [
            "374it [00:47,  7.72it/s]"
          ],
          "name": "stderr"
        },
        {
          "output_type": "stream",
          "text": [
            "2.5806496143341064\n",
            "2.558215856552124\n"
          ],
          "name": "stdout"
        },
        {
          "output_type": "stream",
          "text": [
            "376it [00:48,  7.86it/s]"
          ],
          "name": "stderr"
        },
        {
          "output_type": "stream",
          "text": [
            "2.5323009490966797\n",
            "2.534844398498535\n"
          ],
          "name": "stdout"
        },
        {
          "output_type": "stream",
          "text": [
            "378it [00:48,  7.82it/s]"
          ],
          "name": "stderr"
        },
        {
          "output_type": "stream",
          "text": [
            "2.552443742752075\n",
            "2.565279006958008\n"
          ],
          "name": "stdout"
        },
        {
          "output_type": "stream",
          "text": [
            "380it [00:48,  7.62it/s]"
          ],
          "name": "stderr"
        },
        {
          "output_type": "stream",
          "text": [
            "2.547290563583374\n",
            "2.5419633388519287\n"
          ],
          "name": "stdout"
        },
        {
          "output_type": "stream",
          "text": [
            "382it [00:48,  7.72it/s]"
          ],
          "name": "stderr"
        },
        {
          "output_type": "stream",
          "text": [
            "2.5477194786071777\n",
            "2.5359368324279785\n"
          ],
          "name": "stdout"
        },
        {
          "output_type": "stream",
          "text": [
            "384it [00:49,  7.85it/s]"
          ],
          "name": "stderr"
        },
        {
          "output_type": "stream",
          "text": [
            "2.5284719467163086\n",
            "2.501018524169922\n"
          ],
          "name": "stdout"
        },
        {
          "output_type": "stream",
          "text": [
            "386it [00:49,  7.85it/s]"
          ],
          "name": "stderr"
        },
        {
          "output_type": "stream",
          "text": [
            "2.5165622234344482\n",
            "2.5385379791259766\n"
          ],
          "name": "stdout"
        },
        {
          "output_type": "stream",
          "text": [
            "388it [00:49,  7.78it/s]"
          ],
          "name": "stderr"
        },
        {
          "output_type": "stream",
          "text": [
            "2.53646183013916\n",
            "2.512036085128784\n"
          ],
          "name": "stdout"
        },
        {
          "output_type": "stream",
          "text": [
            "390it [00:49,  7.86it/s]"
          ],
          "name": "stderr"
        },
        {
          "output_type": "stream",
          "text": [
            "2.5436244010925293\n",
            "2.468369483947754\n"
          ],
          "name": "stdout"
        },
        {
          "output_type": "stream",
          "text": [
            "392it [00:50,  7.87it/s]"
          ],
          "name": "stderr"
        },
        {
          "output_type": "stream",
          "text": [
            "2.47530460357666\n",
            "2.571070909500122\n"
          ],
          "name": "stdout"
        },
        {
          "output_type": "stream",
          "text": [
            "394it [00:50,  7.82it/s]"
          ],
          "name": "stderr"
        },
        {
          "output_type": "stream",
          "text": [
            "2.5857982635498047\n",
            "2.502253532409668\n"
          ],
          "name": "stdout"
        },
        {
          "output_type": "stream",
          "text": [
            "396it [00:50,  7.75it/s]"
          ],
          "name": "stderr"
        },
        {
          "output_type": "stream",
          "text": [
            "2.4575839042663574\n",
            "2.496863603591919\n"
          ],
          "name": "stdout"
        },
        {
          "output_type": "stream",
          "text": [
            "398it [00:50,  7.88it/s]"
          ],
          "name": "stderr"
        },
        {
          "output_type": "stream",
          "text": [
            "2.4836959838867188\n",
            "2.4856441020965576\n"
          ],
          "name": "stdout"
        },
        {
          "output_type": "stream",
          "text": [
            "400it [00:51,  7.86it/s]"
          ],
          "name": "stderr"
        },
        {
          "output_type": "stream",
          "text": [
            "2.441636800765991\n",
            "2.5158538818359375\n"
          ],
          "name": "stdout"
        },
        {
          "output_type": "stream",
          "text": [
            "402it [00:51,  7.69it/s]"
          ],
          "name": "stderr"
        },
        {
          "output_type": "stream",
          "text": [
            "2.4518239498138428\n",
            "2.4495937824249268\n"
          ],
          "name": "stdout"
        },
        {
          "output_type": "stream",
          "text": [
            "404it [00:51,  7.74it/s]"
          ],
          "name": "stderr"
        },
        {
          "output_type": "stream",
          "text": [
            "2.3735275268554688\n",
            "2.419874906539917\n"
          ],
          "name": "stdout"
        },
        {
          "output_type": "stream",
          "text": [
            "406it [00:51,  7.81it/s]"
          ],
          "name": "stderr"
        },
        {
          "output_type": "stream",
          "text": [
            "2.5037686824798584\n",
            "2.5377700328826904\n"
          ],
          "name": "stdout"
        },
        {
          "output_type": "stream",
          "text": [
            "408it [00:52,  7.84it/s]"
          ],
          "name": "stderr"
        },
        {
          "output_type": "stream",
          "text": [
            "2.523566246032715\n",
            "2.5103609561920166\n"
          ],
          "name": "stdout"
        },
        {
          "output_type": "stream",
          "text": [
            "410it [00:52,  7.69it/s]"
          ],
          "name": "stderr"
        },
        {
          "output_type": "stream",
          "text": [
            "2.5206210613250732\n",
            "2.467884063720703\n"
          ],
          "name": "stdout"
        },
        {
          "output_type": "stream",
          "text": [
            "412it [00:52,  7.37it/s]"
          ],
          "name": "stderr"
        },
        {
          "output_type": "stream",
          "text": [
            "2.4861361980438232\n",
            "2.518935441970825\n"
          ],
          "name": "stdout"
        },
        {
          "output_type": "stream",
          "text": [
            "414it [00:53,  7.64it/s]"
          ],
          "name": "stderr"
        },
        {
          "output_type": "stream",
          "text": [
            "2.5759379863739014\n",
            "2.5917246341705322\n"
          ],
          "name": "stdout"
        },
        {
          "output_type": "stream",
          "text": [
            "416it [00:53,  7.74it/s]"
          ],
          "name": "stderr"
        },
        {
          "output_type": "stream",
          "text": [
            "2.5038602352142334\n",
            "2.5137076377868652\n"
          ],
          "name": "stdout"
        },
        {
          "output_type": "stream",
          "text": [
            "418it [00:53,  7.75it/s]"
          ],
          "name": "stderr"
        },
        {
          "output_type": "stream",
          "text": [
            "2.517029285430908\n",
            "2.525015115737915\n"
          ],
          "name": "stdout"
        },
        {
          "output_type": "stream",
          "text": [
            "420it [00:53,  7.72it/s]"
          ],
          "name": "stderr"
        },
        {
          "output_type": "stream",
          "text": [
            "2.529228687286377\n",
            "2.494335651397705\n"
          ],
          "name": "stdout"
        },
        {
          "output_type": "stream",
          "text": [
            "422it [00:54,  7.80it/s]"
          ],
          "name": "stderr"
        },
        {
          "output_type": "stream",
          "text": [
            "2.5007317066192627\n",
            "2.5596346855163574\n"
          ],
          "name": "stdout"
        },
        {
          "output_type": "stream",
          "text": [
            "424it [00:54,  7.76it/s]"
          ],
          "name": "stderr"
        },
        {
          "output_type": "stream",
          "text": [
            "2.473313093185425\n",
            "2.4300506114959717\n"
          ],
          "name": "stdout"
        },
        {
          "output_type": "stream",
          "text": [
            "426it [00:54,  7.81it/s]"
          ],
          "name": "stderr"
        },
        {
          "output_type": "stream",
          "text": [
            "2.4532482624053955\n",
            "2.44732928276062\n"
          ],
          "name": "stdout"
        },
        {
          "output_type": "stream",
          "text": [
            "428it [00:54,  7.71it/s]"
          ],
          "name": "stderr"
        },
        {
          "output_type": "stream",
          "text": [
            "2.4840941429138184\n",
            "2.4519858360290527\n"
          ],
          "name": "stdout"
        },
        {
          "output_type": "stream",
          "text": [
            "430it [00:55,  7.77it/s]"
          ],
          "name": "stderr"
        },
        {
          "output_type": "stream",
          "text": [
            "2.441363573074341\n",
            "2.5039467811584473\n"
          ],
          "name": "stdout"
        },
        {
          "output_type": "stream",
          "text": [
            "432it [00:55,  7.70it/s]"
          ],
          "name": "stderr"
        },
        {
          "output_type": "stream",
          "text": [
            "2.4925026893615723\n",
            "2.502190113067627\n"
          ],
          "name": "stdout"
        },
        {
          "output_type": "stream",
          "text": [
            "434it [00:55,  7.62it/s]"
          ],
          "name": "stderr"
        },
        {
          "output_type": "stream",
          "text": [
            "2.494452476501465\n",
            "2.4826035499572754\n"
          ],
          "name": "stdout"
        },
        {
          "output_type": "stream",
          "text": [
            "436it [00:55,  7.65it/s]"
          ],
          "name": "stderr"
        },
        {
          "output_type": "stream",
          "text": [
            "2.4557242393493652\n",
            "2.4494335651397705\n"
          ],
          "name": "stdout"
        },
        {
          "output_type": "stream",
          "text": [
            "438it [00:56,  7.74it/s]"
          ],
          "name": "stderr"
        },
        {
          "output_type": "stream",
          "text": [
            "2.4417917728424072\n",
            "2.482468605041504\n"
          ],
          "name": "stdout"
        },
        {
          "output_type": "stream",
          "text": [
            "440it [00:56,  7.77it/s]"
          ],
          "name": "stderr"
        },
        {
          "output_type": "stream",
          "text": [
            "2.4231324195861816\n",
            "2.4287493228912354\n"
          ],
          "name": "stdout"
        },
        {
          "output_type": "stream",
          "text": [
            "442it [00:56,  7.78it/s]"
          ],
          "name": "stderr"
        },
        {
          "output_type": "stream",
          "text": [
            "2.4798409938812256\n",
            "2.4742188453674316\n"
          ],
          "name": "stdout"
        },
        {
          "output_type": "stream",
          "text": [
            "444it [00:56,  7.67it/s]"
          ],
          "name": "stderr"
        },
        {
          "output_type": "stream",
          "text": [
            "2.407391309738159\n",
            "2.4642624855041504\n"
          ],
          "name": "stdout"
        },
        {
          "output_type": "stream",
          "text": [
            "446it [00:57,  7.65it/s]"
          ],
          "name": "stderr"
        },
        {
          "output_type": "stream",
          "text": [
            "2.5004849433898926\n",
            "2.405780553817749\n"
          ],
          "name": "stdout"
        },
        {
          "output_type": "stream",
          "text": [
            "448it [00:57,  7.70it/s]"
          ],
          "name": "stderr"
        },
        {
          "output_type": "stream",
          "text": [
            "2.433088779449463\n",
            "2.553609848022461\n"
          ],
          "name": "stdout"
        },
        {
          "output_type": "stream",
          "text": [
            "450it [00:57,  7.70it/s]"
          ],
          "name": "stderr"
        },
        {
          "output_type": "stream",
          "text": [
            "2.5416383743286133\n",
            "2.329235076904297\n"
          ],
          "name": "stdout"
        },
        {
          "output_type": "stream",
          "text": [
            "452it [00:57,  7.79it/s]"
          ],
          "name": "stderr"
        },
        {
          "output_type": "stream",
          "text": [
            "2.3382158279418945\n",
            "2.3634226322174072\n"
          ],
          "name": "stdout"
        },
        {
          "output_type": "stream",
          "text": [
            "454it [00:58,  7.73it/s]"
          ],
          "name": "stderr"
        },
        {
          "output_type": "stream",
          "text": [
            "2.383273124694824\n",
            "2.4295494556427\n"
          ],
          "name": "stdout"
        },
        {
          "output_type": "stream",
          "text": [
            "456it [00:58,  7.70it/s]"
          ],
          "name": "stderr"
        },
        {
          "output_type": "stream",
          "text": [
            "2.453394889831543\n",
            "2.398669958114624\n"
          ],
          "name": "stdout"
        },
        {
          "output_type": "stream",
          "text": [
            "458it [00:58,  7.61it/s]"
          ],
          "name": "stderr"
        },
        {
          "output_type": "stream",
          "text": [
            "2.541966438293457\n",
            "2.476431131362915\n"
          ],
          "name": "stdout"
        },
        {
          "output_type": "stream",
          "text": [
            "460it [00:59,  7.70it/s]"
          ],
          "name": "stderr"
        },
        {
          "output_type": "stream",
          "text": [
            "2.506356716156006\n",
            "2.40110445022583\n"
          ],
          "name": "stdout"
        },
        {
          "output_type": "stream",
          "text": [
            "462it [00:59,  7.61it/s]"
          ],
          "name": "stderr"
        },
        {
          "output_type": "stream",
          "text": [
            "2.513165235519409\n",
            "2.446153402328491\n"
          ],
          "name": "stdout"
        },
        {
          "output_type": "stream",
          "text": [
            "464it [00:59,  7.49it/s]"
          ],
          "name": "stderr"
        },
        {
          "output_type": "stream",
          "text": [
            "2.481994390487671\n",
            "2.4313526153564453\n"
          ],
          "name": "stdout"
        },
        {
          "output_type": "stream",
          "text": [
            "466it [00:59,  7.56it/s]"
          ],
          "name": "stderr"
        },
        {
          "output_type": "stream",
          "text": [
            "2.4399852752685547\n",
            "2.4552037715911865\n"
          ],
          "name": "stdout"
        },
        {
          "output_type": "stream",
          "text": [
            "468it [01:00,  7.77it/s]"
          ],
          "name": "stderr"
        },
        {
          "output_type": "stream",
          "text": [
            "2.4254531860351562\n",
            "2.432293176651001\n"
          ],
          "name": "stdout"
        },
        {
          "output_type": "stream",
          "text": [
            "470it [01:00,  7.78it/s]"
          ],
          "name": "stderr"
        },
        {
          "output_type": "stream",
          "text": [
            "2.4662833213806152\n",
            "2.349642038345337\n"
          ],
          "name": "stdout"
        },
        {
          "output_type": "stream",
          "text": [
            "472it [01:00,  7.71it/s]"
          ],
          "name": "stderr"
        },
        {
          "output_type": "stream",
          "text": [
            "2.41287899017334\n",
            "2.458568811416626\n"
          ],
          "name": "stdout"
        },
        {
          "output_type": "stream",
          "text": [
            "474it [01:00,  7.68it/s]"
          ],
          "name": "stderr"
        },
        {
          "output_type": "stream",
          "text": [
            "2.401637077331543\n",
            "2.5148282051086426\n"
          ],
          "name": "stdout"
        },
        {
          "output_type": "stream",
          "text": [
            "476it [01:01,  7.84it/s]"
          ],
          "name": "stderr"
        },
        {
          "output_type": "stream",
          "text": [
            "2.4401559829711914\n",
            "2.422132968902588\n"
          ],
          "name": "stdout"
        },
        {
          "output_type": "stream",
          "text": [
            "478it [01:01,  7.72it/s]"
          ],
          "name": "stderr"
        },
        {
          "output_type": "stream",
          "text": [
            "2.479572296142578\n",
            "2.4299724102020264\n"
          ],
          "name": "stdout"
        },
        {
          "output_type": "stream",
          "text": [
            "480it [01:01,  7.75it/s]"
          ],
          "name": "stderr"
        },
        {
          "output_type": "stream",
          "text": [
            "2.517411708831787\n",
            "2.454015016555786\n"
          ],
          "name": "stdout"
        },
        {
          "output_type": "stream",
          "text": [
            "482it [01:01,  7.72it/s]"
          ],
          "name": "stderr"
        },
        {
          "output_type": "stream",
          "text": [
            "2.42084002494812\n",
            "2.5181665420532227\n"
          ],
          "name": "stdout"
        },
        {
          "output_type": "stream",
          "text": [
            "484it [01:02,  7.69it/s]"
          ],
          "name": "stderr"
        },
        {
          "output_type": "stream",
          "text": [
            "2.422184467315674\n",
            "2.4167580604553223\n"
          ],
          "name": "stdout"
        },
        {
          "output_type": "stream",
          "text": [
            "486it [01:02,  7.71it/s]"
          ],
          "name": "stderr"
        },
        {
          "output_type": "stream",
          "text": [
            "2.4131147861480713\n",
            "2.433328628540039\n"
          ],
          "name": "stdout"
        },
        {
          "output_type": "stream",
          "text": [
            "488it [01:02,  7.75it/s]"
          ],
          "name": "stderr"
        },
        {
          "output_type": "stream",
          "text": [
            "2.4015352725982666\n",
            "2.311445474624634\n"
          ],
          "name": "stdout"
        },
        {
          "output_type": "stream",
          "text": [
            "490it [01:02,  7.66it/s]"
          ],
          "name": "stderr"
        },
        {
          "output_type": "stream",
          "text": [
            "2.4255313873291016\n",
            "2.4171438217163086\n"
          ],
          "name": "stdout"
        },
        {
          "output_type": "stream",
          "text": [
            "492it [01:03,  7.50it/s]"
          ],
          "name": "stderr"
        },
        {
          "output_type": "stream",
          "text": [
            "2.4265236854553223\n",
            "2.420079469680786\n"
          ],
          "name": "stdout"
        },
        {
          "output_type": "stream",
          "text": [
            "494it [01:03,  7.66it/s]"
          ],
          "name": "stderr"
        },
        {
          "output_type": "stream",
          "text": [
            "2.5196375846862793\n",
            "2.3407466411590576\n"
          ],
          "name": "stdout"
        },
        {
          "output_type": "stream",
          "text": [
            "496it [01:03,  7.79it/s]"
          ],
          "name": "stderr"
        },
        {
          "output_type": "stream",
          "text": [
            "2.4293406009674072\n",
            "2.4063053131103516\n"
          ],
          "name": "stdout"
        },
        {
          "output_type": "stream",
          "text": [
            "498it [01:03,  7.78it/s]"
          ],
          "name": "stderr"
        },
        {
          "output_type": "stream",
          "text": [
            "2.4022977352142334\n",
            "2.3254053592681885\n"
          ],
          "name": "stdout"
        },
        {
          "output_type": "stream",
          "text": [
            "500it [01:04,  7.83it/s]"
          ],
          "name": "stderr"
        },
        {
          "output_type": "stream",
          "text": [
            "2.3295748233795166\n",
            "2.353970527648926\n"
          ],
          "name": "stdout"
        },
        {
          "output_type": "stream",
          "text": [
            "502it [01:04,  7.91it/s]"
          ],
          "name": "stderr"
        },
        {
          "output_type": "stream",
          "text": [
            "2.411043405532837\n",
            "2.3920083045959473\n"
          ],
          "name": "stdout"
        },
        {
          "output_type": "stream",
          "text": [
            "504it [01:04,  7.95it/s]"
          ],
          "name": "stderr"
        },
        {
          "output_type": "stream",
          "text": [
            "2.3273515701293945\n",
            "2.3502633571624756\n"
          ],
          "name": "stdout"
        },
        {
          "output_type": "stream",
          "text": [
            "506it [01:04,  7.87it/s]"
          ],
          "name": "stderr"
        },
        {
          "output_type": "stream",
          "text": [
            "2.3778045177459717\n",
            "2.4209189414978027\n"
          ],
          "name": "stdout"
        },
        {
          "output_type": "stream",
          "text": [
            "508it [01:05,  7.89it/s]"
          ],
          "name": "stderr"
        },
        {
          "output_type": "stream",
          "text": [
            "2.363128423690796\n",
            "2.3515725135803223\n"
          ],
          "name": "stdout"
        },
        {
          "output_type": "stream",
          "text": [
            "510it [01:05,  7.72it/s]"
          ],
          "name": "stderr"
        },
        {
          "output_type": "stream",
          "text": [
            "2.356689929962158\n",
            "2.4565987586975098\n"
          ],
          "name": "stdout"
        },
        {
          "output_type": "stream",
          "text": [
            "512it [01:05,  7.82it/s]"
          ],
          "name": "stderr"
        },
        {
          "output_type": "stream",
          "text": [
            "2.4364829063415527\n",
            "2.377734899520874\n"
          ],
          "name": "stdout"
        },
        {
          "output_type": "stream",
          "text": [
            "514it [01:06,  7.83it/s]"
          ],
          "name": "stderr"
        },
        {
          "output_type": "stream",
          "text": [
            "2.478637218475342\n",
            "2.5265114307403564\n"
          ],
          "name": "stdout"
        },
        {
          "output_type": "stream",
          "text": [
            "516it [01:06,  7.84it/s]"
          ],
          "name": "stderr"
        },
        {
          "output_type": "stream",
          "text": [
            "2.38834810256958\n",
            "2.4064230918884277\n"
          ],
          "name": "stdout"
        },
        {
          "output_type": "stream",
          "text": [
            "518it [01:06,  7.92it/s]"
          ],
          "name": "stderr"
        },
        {
          "output_type": "stream",
          "text": [
            "2.478837013244629\n",
            "2.4970545768737793\n"
          ],
          "name": "stdout"
        },
        {
          "output_type": "stream",
          "text": [
            "520it [01:06,  7.85it/s]"
          ],
          "name": "stderr"
        },
        {
          "output_type": "stream",
          "text": [
            "2.4739036560058594\n",
            "2.409330129623413\n"
          ],
          "name": "stdout"
        },
        {
          "output_type": "stream",
          "text": [
            "522it [01:07,  7.70it/s]"
          ],
          "name": "stderr"
        },
        {
          "output_type": "stream",
          "text": [
            "2.4050686359405518\n",
            "2.3832950592041016\n"
          ],
          "name": "stdout"
        },
        {
          "output_type": "stream",
          "text": [
            "524it [01:07,  7.84it/s]"
          ],
          "name": "stderr"
        },
        {
          "output_type": "stream",
          "text": [
            "2.4147446155548096\n",
            "2.3824684619903564\n"
          ],
          "name": "stdout"
        },
        {
          "output_type": "stream",
          "text": [
            "526it [01:07,  7.90it/s]"
          ],
          "name": "stderr"
        },
        {
          "output_type": "stream",
          "text": [
            "2.3595635890960693\n",
            "2.3853278160095215\n"
          ],
          "name": "stdout"
        },
        {
          "output_type": "stream",
          "text": [
            "528it [01:07,  7.94it/s]"
          ],
          "name": "stderr"
        },
        {
          "output_type": "stream",
          "text": [
            "2.3269546031951904\n",
            "2.2746410369873047\n"
          ],
          "name": "stdout"
        },
        {
          "output_type": "stream",
          "text": [
            "530it [01:08,  7.74it/s]"
          ],
          "name": "stderr"
        },
        {
          "output_type": "stream",
          "text": [
            "2.489424705505371\n",
            "2.430403232574463\n"
          ],
          "name": "stdout"
        },
        {
          "output_type": "stream",
          "text": [
            "532it [01:08,  7.85it/s]"
          ],
          "name": "stderr"
        },
        {
          "output_type": "stream",
          "text": [
            "2.407675266265869\n",
            "2.337993860244751\n"
          ],
          "name": "stdout"
        },
        {
          "output_type": "stream",
          "text": [
            "534it [01:08,  7.88it/s]"
          ],
          "name": "stderr"
        },
        {
          "output_type": "stream",
          "text": [
            "2.4042701721191406\n",
            "2.3332226276397705\n"
          ],
          "name": "stdout"
        },
        {
          "output_type": "stream",
          "text": [
            "536it [01:08,  7.86it/s]"
          ],
          "name": "stderr"
        },
        {
          "output_type": "stream",
          "text": [
            "2.3634252548217773\n",
            "2.382658004760742\n"
          ],
          "name": "stdout"
        },
        {
          "output_type": "stream",
          "text": [
            "538it [01:09,  7.78it/s]"
          ],
          "name": "stderr"
        },
        {
          "output_type": "stream",
          "text": [
            "2.400223731994629\n",
            "2.312276840209961\n"
          ],
          "name": "stdout"
        },
        {
          "output_type": "stream",
          "text": [
            "540it [01:09,  7.82it/s]"
          ],
          "name": "stderr"
        },
        {
          "output_type": "stream",
          "text": [
            "2.288712978363037\n",
            "2.314610481262207\n"
          ],
          "name": "stdout"
        },
        {
          "output_type": "stream",
          "text": [
            "542it [01:09,  7.85it/s]"
          ],
          "name": "stderr"
        },
        {
          "output_type": "stream",
          "text": [
            "2.4299192428588867\n",
            "2.384416341781616\n"
          ],
          "name": "stdout"
        },
        {
          "output_type": "stream",
          "text": [
            "544it [01:09,  7.75it/s]"
          ],
          "name": "stderr"
        },
        {
          "output_type": "stream",
          "text": [
            "2.4514944553375244\n",
            "2.345698356628418\n"
          ],
          "name": "stdout"
        },
        {
          "output_type": "stream",
          "text": [
            "546it [01:10,  7.79it/s]"
          ],
          "name": "stderr"
        },
        {
          "output_type": "stream",
          "text": [
            "2.4589571952819824\n",
            "2.377246379852295\n"
          ],
          "name": "stdout"
        },
        {
          "output_type": "stream",
          "text": [
            "548it [01:10,  7.84it/s]"
          ],
          "name": "stderr"
        },
        {
          "output_type": "stream",
          "text": [
            "2.436145305633545\n",
            "2.3510236740112305\n"
          ],
          "name": "stdout"
        },
        {
          "output_type": "stream",
          "text": [
            "550it [01:10,  7.86it/s]"
          ],
          "name": "stderr"
        },
        {
          "output_type": "stream",
          "text": [
            "2.4209911823272705\n",
            "2.3754234313964844\n"
          ],
          "name": "stdout"
        },
        {
          "output_type": "stream",
          "text": [
            "552it [01:10,  7.79it/s]"
          ],
          "name": "stderr"
        },
        {
          "output_type": "stream",
          "text": [
            "2.290208578109741\n",
            "2.4131739139556885\n"
          ],
          "name": "stdout"
        },
        {
          "output_type": "stream",
          "text": [
            "554it [01:11,  7.81it/s]"
          ],
          "name": "stderr"
        },
        {
          "output_type": "stream",
          "text": [
            "2.3273086547851562\n",
            "2.2734501361846924\n"
          ],
          "name": "stdout"
        },
        {
          "output_type": "stream",
          "text": [
            "556it [01:11,  7.83it/s]"
          ],
          "name": "stderr"
        },
        {
          "output_type": "stream",
          "text": [
            "2.3107495307922363\n",
            "2.3113324642181396\n"
          ],
          "name": "stdout"
        },
        {
          "output_type": "stream",
          "text": [
            "558it [01:11,  7.95it/s]"
          ],
          "name": "stderr"
        },
        {
          "output_type": "stream",
          "text": [
            "2.2817821502685547\n",
            "2.331681966781616\n"
          ],
          "name": "stdout"
        },
        {
          "output_type": "stream",
          "text": [
            "560it [01:11,  7.86it/s]"
          ],
          "name": "stderr"
        },
        {
          "output_type": "stream",
          "text": [
            "2.4129114151000977\n",
            "2.448596477508545\n"
          ],
          "name": "stdout"
        },
        {
          "output_type": "stream",
          "text": [
            "562it [01:12,  7.95it/s]"
          ],
          "name": "stderr"
        },
        {
          "output_type": "stream",
          "text": [
            "2.35139536857605\n",
            "2.305041551589966\n"
          ],
          "name": "stdout"
        },
        {
          "output_type": "stream",
          "text": [
            "564it [01:12,  7.94it/s]"
          ],
          "name": "stderr"
        },
        {
          "output_type": "stream",
          "text": [
            "2.372446298599243\n",
            "2.3422000408172607\n"
          ],
          "name": "stdout"
        },
        {
          "output_type": "stream",
          "text": [
            "566it [01:12,  7.95it/s]"
          ],
          "name": "stderr"
        },
        {
          "output_type": "stream",
          "text": [
            "2.4012646675109863\n",
            "2.3462367057800293\n"
          ],
          "name": "stdout"
        },
        {
          "output_type": "stream",
          "text": [
            "568it [01:12,  7.76it/s]"
          ],
          "name": "stderr"
        },
        {
          "output_type": "stream",
          "text": [
            "2.2994730472564697\n",
            "2.2399024963378906\n"
          ],
          "name": "stdout"
        },
        {
          "output_type": "stream",
          "text": [
            "570it [01:13,  7.89it/s]"
          ],
          "name": "stderr"
        },
        {
          "output_type": "stream",
          "text": [
            "2.298769950866699\n",
            "2.333549976348877\n"
          ],
          "name": "stdout"
        },
        {
          "output_type": "stream",
          "text": [
            "572it [01:13,  7.74it/s]"
          ],
          "name": "stderr"
        },
        {
          "output_type": "stream",
          "text": [
            "2.3790266513824463\n",
            "2.352674722671509\n"
          ],
          "name": "stdout"
        },
        {
          "output_type": "stream",
          "text": [
            "574it [01:13,  7.84it/s]"
          ],
          "name": "stderr"
        },
        {
          "output_type": "stream",
          "text": [
            "2.345787286758423\n",
            "2.3033156394958496\n"
          ],
          "name": "stdout"
        },
        {
          "output_type": "stream",
          "text": [
            "576it [01:13,  7.73it/s]"
          ],
          "name": "stderr"
        },
        {
          "output_type": "stream",
          "text": [
            "2.32952880859375\n",
            "2.3503684997558594\n"
          ],
          "name": "stdout"
        },
        {
          "output_type": "stream",
          "text": [
            "578it [01:14,  7.68it/s]"
          ],
          "name": "stderr"
        },
        {
          "output_type": "stream",
          "text": [
            "2.3423049449920654\n",
            "2.305244207382202\n"
          ],
          "name": "stdout"
        },
        {
          "output_type": "stream",
          "text": [
            "580it [01:14,  7.80it/s]"
          ],
          "name": "stderr"
        },
        {
          "output_type": "stream",
          "text": [
            "2.4164440631866455\n",
            "2.321044683456421\n"
          ],
          "name": "stdout"
        },
        {
          "output_type": "stream",
          "text": [
            "582it [01:14,  7.86it/s]"
          ],
          "name": "stderr"
        },
        {
          "output_type": "stream",
          "text": [
            "2.2967190742492676\n",
            "2.323282241821289\n"
          ],
          "name": "stdout"
        },
        {
          "output_type": "stream",
          "text": [
            "584it [01:14,  7.69it/s]"
          ],
          "name": "stderr"
        },
        {
          "output_type": "stream",
          "text": [
            "2.284821033477783\n",
            "2.307450532913208\n"
          ],
          "name": "stdout"
        },
        {
          "output_type": "stream",
          "text": [
            "586it [01:15,  7.71it/s]"
          ],
          "name": "stderr"
        },
        {
          "output_type": "stream",
          "text": [
            "2.335503339767456\n",
            "2.3021633625030518\n"
          ],
          "name": "stdout"
        },
        {
          "output_type": "stream",
          "text": [
            "588it [01:15,  7.84it/s]"
          ],
          "name": "stderr"
        },
        {
          "output_type": "stream",
          "text": [
            "2.345160484313965\n",
            "2.321481943130493\n"
          ],
          "name": "stdout"
        },
        {
          "output_type": "stream",
          "text": [
            "590it [01:15,  7.81it/s]"
          ],
          "name": "stderr"
        },
        {
          "output_type": "stream",
          "text": [
            "2.242511510848999\n",
            "2.3274734020233154\n"
          ],
          "name": "stdout"
        },
        {
          "output_type": "stream",
          "text": [
            "592it [01:15,  7.75it/s]"
          ],
          "name": "stderr"
        },
        {
          "output_type": "stream",
          "text": [
            "2.33076810836792\n",
            "2.2728519439697266\n"
          ],
          "name": "stdout"
        },
        {
          "output_type": "stream",
          "text": [
            "594it [01:16,  7.75it/s]"
          ],
          "name": "stderr"
        },
        {
          "output_type": "stream",
          "text": [
            "2.319117546081543\n",
            "2.4160146713256836\n"
          ],
          "name": "stdout"
        },
        {
          "output_type": "stream",
          "text": [
            "596it [01:16,  7.85it/s]"
          ],
          "name": "stderr"
        },
        {
          "output_type": "stream",
          "text": [
            "2.292739152908325\n",
            "2.312858819961548\n"
          ],
          "name": "stdout"
        },
        {
          "output_type": "stream",
          "text": [
            "598it [01:16,  7.88it/s]"
          ],
          "name": "stderr"
        },
        {
          "output_type": "stream",
          "text": [
            "2.3435356616973877\n",
            "2.2894418239593506\n"
          ],
          "name": "stdout"
        },
        {
          "output_type": "stream",
          "text": [
            "600it [01:17,  7.78it/s]"
          ],
          "name": "stderr"
        },
        {
          "output_type": "stream",
          "text": [
            "2.4043922424316406\n",
            "2.284834384918213\n"
          ],
          "name": "stdout"
        },
        {
          "output_type": "stream",
          "text": [
            "602it [01:17,  7.72it/s]"
          ],
          "name": "stderr"
        },
        {
          "output_type": "stream",
          "text": [
            "2.307513952255249\n",
            "2.271026849746704\n"
          ],
          "name": "stdout"
        },
        {
          "output_type": "stream",
          "text": [
            "604it [01:17,  7.84it/s]"
          ],
          "name": "stderr"
        },
        {
          "output_type": "stream",
          "text": [
            "2.365657329559326\n",
            "2.3551957607269287\n"
          ],
          "name": "stdout"
        },
        {
          "output_type": "stream",
          "text": [
            "606it [01:17,  7.79it/s]"
          ],
          "name": "stderr"
        },
        {
          "output_type": "stream",
          "text": [
            "2.337827444076538\n",
            "2.3444607257843018\n"
          ],
          "name": "stdout"
        },
        {
          "output_type": "stream",
          "text": [
            "608it [01:18,  7.75it/s]"
          ],
          "name": "stderr"
        },
        {
          "output_type": "stream",
          "text": [
            "2.32590651512146\n",
            "2.296844959259033\n"
          ],
          "name": "stdout"
        },
        {
          "output_type": "stream",
          "text": [
            "610it [01:18,  7.78it/s]"
          ],
          "name": "stderr"
        },
        {
          "output_type": "stream",
          "text": [
            "2.3490476608276367\n",
            "2.31575083732605\n"
          ],
          "name": "stdout"
        },
        {
          "output_type": "stream",
          "text": [
            "612it [01:18,  7.81it/s]"
          ],
          "name": "stderr"
        },
        {
          "output_type": "stream",
          "text": [
            "2.317084550857544\n",
            "2.2872633934020996\n"
          ],
          "name": "stdout"
        },
        {
          "output_type": "stream",
          "text": [
            "614it [01:18,  7.62it/s]"
          ],
          "name": "stderr"
        },
        {
          "output_type": "stream",
          "text": [
            "2.3084542751312256\n",
            "2.2226274013519287\n"
          ],
          "name": "stdout"
        },
        {
          "output_type": "stream",
          "text": [
            "616it [01:19,  7.59it/s]"
          ],
          "name": "stderr"
        },
        {
          "output_type": "stream",
          "text": [
            "2.2789785861968994\n",
            "2.241994619369507\n"
          ],
          "name": "stdout"
        },
        {
          "output_type": "stream",
          "text": [
            "618it [01:19,  7.79it/s]"
          ],
          "name": "stderr"
        },
        {
          "output_type": "stream",
          "text": [
            "2.204664468765259\n",
            "2.319535255432129\n"
          ],
          "name": "stdout"
        },
        {
          "output_type": "stream",
          "text": [
            "620it [01:19,  7.87it/s]"
          ],
          "name": "stderr"
        },
        {
          "output_type": "stream",
          "text": [
            "2.2645156383514404\n",
            "2.335998773574829\n"
          ],
          "name": "stdout"
        },
        {
          "output_type": "stream",
          "text": [
            "622it [01:19,  7.83it/s]"
          ],
          "name": "stderr"
        },
        {
          "output_type": "stream",
          "text": [
            "2.3018851280212402\n",
            "2.3429274559020996\n"
          ],
          "name": "stdout"
        },
        {
          "output_type": "stream",
          "text": [
            "624it [01:20,  7.77it/s]"
          ],
          "name": "stderr"
        },
        {
          "output_type": "stream",
          "text": [
            "2.2895939350128174\n",
            "2.286590814590454\n"
          ],
          "name": "stdout"
        },
        {
          "output_type": "stream",
          "text": [
            "626it [01:20,  7.76it/s]"
          ],
          "name": "stderr"
        },
        {
          "output_type": "stream",
          "text": [
            "2.408860921859741\n",
            "2.35669207572937\n"
          ],
          "name": "stdout"
        },
        {
          "output_type": "stream",
          "text": [
            "628it [01:20,  7.83it/s]"
          ],
          "name": "stderr"
        },
        {
          "output_type": "stream",
          "text": [
            "2.296921968460083\n",
            "2.305816650390625\n"
          ],
          "name": "stdout"
        },
        {
          "output_type": "stream",
          "text": [
            "630it [01:20,  7.83it/s]"
          ],
          "name": "stderr"
        },
        {
          "output_type": "stream",
          "text": [
            "2.3251349925994873\n",
            "2.2839529514312744\n"
          ],
          "name": "stdout"
        },
        {
          "output_type": "stream",
          "text": [
            "632it [01:21,  7.76it/s]"
          ],
          "name": "stderr"
        },
        {
          "output_type": "stream",
          "text": [
            "2.2999138832092285\n",
            "2.328697919845581\n"
          ],
          "name": "stdout"
        },
        {
          "output_type": "stream",
          "text": [
            "634it [01:21,  7.85it/s]"
          ],
          "name": "stderr"
        },
        {
          "output_type": "stream",
          "text": [
            "2.32327938079834\n",
            "2.3429982662200928\n"
          ],
          "name": "stdout"
        },
        {
          "output_type": "stream",
          "text": [
            "636it [01:21,  7.84it/s]"
          ],
          "name": "stderr"
        },
        {
          "output_type": "stream",
          "text": [
            "2.3291728496551514\n",
            "2.268451452255249\n"
          ],
          "name": "stdout"
        },
        {
          "output_type": "stream",
          "text": [
            "638it [01:21,  7.72it/s]"
          ],
          "name": "stderr"
        },
        {
          "output_type": "stream",
          "text": [
            "2.3307061195373535\n",
            "2.286818504333496\n"
          ],
          "name": "stdout"
        },
        {
          "output_type": "stream",
          "text": [
            "640it [01:22,  7.53it/s]"
          ],
          "name": "stderr"
        },
        {
          "output_type": "stream",
          "text": [
            "2.2572946548461914\n",
            "2.3702259063720703\n"
          ],
          "name": "stdout"
        },
        {
          "output_type": "stream",
          "text": [
            "642it [01:22,  7.67it/s]"
          ],
          "name": "stderr"
        },
        {
          "output_type": "stream",
          "text": [
            "2.266692638397217\n",
            "2.219675064086914\n"
          ],
          "name": "stdout"
        },
        {
          "output_type": "stream",
          "text": [
            "644it [01:22,  7.74it/s]"
          ],
          "name": "stderr"
        },
        {
          "output_type": "stream",
          "text": [
            "2.209287643432617\n",
            "2.2971770763397217\n"
          ],
          "name": "stdout"
        },
        {
          "output_type": "stream",
          "text": [
            "646it [01:22,  7.77it/s]"
          ],
          "name": "stderr"
        },
        {
          "output_type": "stream",
          "text": [
            "2.2207589149475098\n",
            "2.25654673576355\n"
          ],
          "name": "stdout"
        },
        {
          "output_type": "stream",
          "text": [
            "648it [01:23,  7.72it/s]"
          ],
          "name": "stderr"
        },
        {
          "output_type": "stream",
          "text": [
            "2.3229713439941406\n",
            "2.274601459503174\n"
          ],
          "name": "stdout"
        },
        {
          "output_type": "stream",
          "text": [
            "650it [01:23,  7.73it/s]"
          ],
          "name": "stderr"
        },
        {
          "output_type": "stream",
          "text": [
            "2.220684051513672\n",
            "2.2783961296081543\n"
          ],
          "name": "stdout"
        },
        {
          "output_type": "stream",
          "text": [
            "652it [01:23,  7.59it/s]"
          ],
          "name": "stderr"
        },
        {
          "output_type": "stream",
          "text": [
            "2.2628276348114014\n",
            "2.240565538406372\n"
          ],
          "name": "stdout"
        },
        {
          "output_type": "stream",
          "text": [
            "654it [01:23,  7.75it/s]"
          ],
          "name": "stderr"
        },
        {
          "output_type": "stream",
          "text": [
            "2.254249334335327\n",
            "2.2911295890808105\n"
          ],
          "name": "stdout"
        },
        {
          "output_type": "stream",
          "text": [
            "656it [01:24,  7.53it/s]"
          ],
          "name": "stderr"
        },
        {
          "output_type": "stream",
          "text": [
            "2.2799105644226074\n",
            "2.281587839126587\n"
          ],
          "name": "stdout"
        },
        {
          "output_type": "stream",
          "text": [
            "658it [01:24,  7.64it/s]"
          ],
          "name": "stderr"
        },
        {
          "output_type": "stream",
          "text": [
            "2.2303099632263184\n",
            "2.288496971130371\n"
          ],
          "name": "stdout"
        },
        {
          "output_type": "stream",
          "text": [
            "660it [01:24,  7.57it/s]"
          ],
          "name": "stderr"
        },
        {
          "output_type": "stream",
          "text": [
            "2.316777229309082\n",
            "2.2456347942352295\n"
          ],
          "name": "stdout"
        },
        {
          "output_type": "stream",
          "text": [
            "662it [01:25,  7.68it/s]"
          ],
          "name": "stderr"
        },
        {
          "output_type": "stream",
          "text": [
            "2.269932508468628\n",
            "2.280395746231079\n"
          ],
          "name": "stdout"
        },
        {
          "output_type": "stream",
          "text": [
            "664it [01:25,  7.71it/s]"
          ],
          "name": "stderr"
        },
        {
          "output_type": "stream",
          "text": [
            "2.3528528213500977\n",
            "2.2634379863739014\n"
          ],
          "name": "stdout"
        },
        {
          "output_type": "stream",
          "text": [
            "666it [01:25,  7.79it/s]"
          ],
          "name": "stderr"
        },
        {
          "output_type": "stream",
          "text": [
            "2.2532496452331543\n",
            "2.3148481845855713\n"
          ],
          "name": "stdout"
        },
        {
          "output_type": "stream",
          "text": [
            "668it [01:25,  7.80it/s]"
          ],
          "name": "stderr"
        },
        {
          "output_type": "stream",
          "text": [
            "2.2574496269226074\n",
            "2.239513397216797\n"
          ],
          "name": "stdout"
        },
        {
          "output_type": "stream",
          "text": [
            "670it [01:26,  7.69it/s]"
          ],
          "name": "stderr"
        },
        {
          "output_type": "stream",
          "text": [
            "2.251246213912964\n",
            "2.2445311546325684\n"
          ],
          "name": "stdout"
        },
        {
          "output_type": "stream",
          "text": [
            "672it [01:26,  7.80it/s]"
          ],
          "name": "stderr"
        },
        {
          "output_type": "stream",
          "text": [
            "2.220277786254883\n",
            "2.2600879669189453\n"
          ],
          "name": "stdout"
        },
        {
          "output_type": "stream",
          "text": [
            "674it [01:26,  7.86it/s]"
          ],
          "name": "stderr"
        },
        {
          "output_type": "stream",
          "text": [
            "2.2501957416534424\n",
            "2.2891342639923096\n"
          ],
          "name": "stdout"
        },
        {
          "output_type": "stream",
          "text": [
            "676it [01:26,  7.91it/s]"
          ],
          "name": "stderr"
        },
        {
          "output_type": "stream",
          "text": [
            "2.2394957542419434\n",
            "2.3023715019226074\n"
          ],
          "name": "stdout"
        },
        {
          "output_type": "stream",
          "text": [
            "678it [01:27,  7.80it/s]"
          ],
          "name": "stderr"
        },
        {
          "output_type": "stream",
          "text": [
            "2.2297627925872803\n",
            "2.242396116256714\n"
          ],
          "name": "stdout"
        },
        {
          "output_type": "stream",
          "text": [
            "680it [01:27,  7.83it/s]"
          ],
          "name": "stderr"
        },
        {
          "output_type": "stream",
          "text": [
            "2.2729029655456543\n",
            "2.210901975631714\n"
          ],
          "name": "stdout"
        },
        {
          "output_type": "stream",
          "text": [
            "682it [01:27,  7.90it/s]"
          ],
          "name": "stderr"
        },
        {
          "output_type": "stream",
          "text": [
            "2.2731497287750244\n",
            "2.2684521675109863\n"
          ],
          "name": "stdout"
        },
        {
          "output_type": "stream",
          "text": [
            "684it [01:27,  7.81it/s]"
          ],
          "name": "stderr"
        },
        {
          "output_type": "stream",
          "text": [
            "2.2270915508270264\n",
            "2.2323520183563232\n"
          ],
          "name": "stdout"
        },
        {
          "output_type": "stream",
          "text": [
            "686it [01:28,  7.78it/s]"
          ],
          "name": "stderr"
        },
        {
          "output_type": "stream",
          "text": [
            "2.204782724380493\n",
            "2.2766103744506836\n"
          ],
          "name": "stdout"
        },
        {
          "output_type": "stream",
          "text": [
            "688it [01:28,  7.83it/s]"
          ],
          "name": "stderr"
        },
        {
          "output_type": "stream",
          "text": [
            "2.2645070552825928\n",
            "2.2860422134399414\n"
          ],
          "name": "stdout"
        },
        {
          "output_type": "stream",
          "text": [
            "690it [01:28,  7.90it/s]"
          ],
          "name": "stderr"
        },
        {
          "output_type": "stream",
          "text": [
            "2.3051230907440186\n",
            "2.2568347454071045\n"
          ],
          "name": "stdout"
        },
        {
          "output_type": "stream",
          "text": [
            "692it [01:28,  7.88it/s]"
          ],
          "name": "stderr"
        },
        {
          "output_type": "stream",
          "text": [
            "2.2439234256744385\n",
            "2.1810507774353027\n"
          ],
          "name": "stdout"
        },
        {
          "output_type": "stream",
          "text": [
            "694it [01:29,  7.53it/s]"
          ],
          "name": "stderr"
        },
        {
          "output_type": "stream",
          "text": [
            "2.227980852127075\n",
            "2.2695696353912354\n"
          ],
          "name": "stdout"
        },
        {
          "output_type": "stream",
          "text": [
            "696it [01:29,  7.72it/s]"
          ],
          "name": "stderr"
        },
        {
          "output_type": "stream",
          "text": [
            "2.282379388809204\n",
            "2.233168840408325\n"
          ],
          "name": "stdout"
        },
        {
          "output_type": "stream",
          "text": [
            "698it [01:29,  7.83it/s]"
          ],
          "name": "stderr"
        },
        {
          "output_type": "stream",
          "text": [
            "2.326780080795288\n",
            "2.3183982372283936\n"
          ],
          "name": "stdout"
        },
        {
          "output_type": "stream",
          "text": [
            "700it [01:29,  7.83it/s]"
          ],
          "name": "stderr"
        },
        {
          "output_type": "stream",
          "text": [
            "2.2516839504241943\n",
            "2.240046739578247\n"
          ],
          "name": "stdout"
        },
        {
          "output_type": "stream",
          "text": [
            "702it [01:30,  7.75it/s]"
          ],
          "name": "stderr"
        },
        {
          "output_type": "stream",
          "text": [
            "2.3034305572509766\n",
            "2.301941156387329\n"
          ],
          "name": "stdout"
        },
        {
          "output_type": "stream",
          "text": [
            "704it [01:30,  7.81it/s]"
          ],
          "name": "stderr"
        },
        {
          "output_type": "stream",
          "text": [
            "2.178729772567749\n",
            "2.3279547691345215\n"
          ],
          "name": "stdout"
        },
        {
          "output_type": "stream",
          "text": [
            "706it [01:30,  7.85it/s]"
          ],
          "name": "stderr"
        },
        {
          "output_type": "stream",
          "text": [
            "2.2330849170684814\n",
            "2.214306116104126\n"
          ],
          "name": "stdout"
        },
        {
          "output_type": "stream",
          "text": [
            "708it [01:30,  7.85it/s]"
          ],
          "name": "stderr"
        },
        {
          "output_type": "stream",
          "text": [
            "2.136603355407715\n",
            "2.193549871444702\n"
          ],
          "name": "stdout"
        },
        {
          "output_type": "stream",
          "text": [
            "710it [01:31,  7.75it/s]"
          ],
          "name": "stderr"
        },
        {
          "output_type": "stream",
          "text": [
            "2.2164769172668457\n",
            "2.301638126373291\n"
          ],
          "name": "stdout"
        },
        {
          "output_type": "stream",
          "text": [
            "712it [01:31,  7.82it/s]"
          ],
          "name": "stderr"
        },
        {
          "output_type": "stream",
          "text": [
            "2.2741005420684814\n",
            "2.263580560684204\n"
          ],
          "name": "stdout"
        },
        {
          "output_type": "stream",
          "text": [
            "714it [01:31,  7.86it/s]"
          ],
          "name": "stderr"
        },
        {
          "output_type": "stream",
          "text": [
            "2.2307934761047363\n",
            "2.2771785259246826\n"
          ],
          "name": "stdout"
        },
        {
          "output_type": "stream",
          "text": [
            "716it [01:31,  7.85it/s]"
          ],
          "name": "stderr"
        },
        {
          "output_type": "stream",
          "text": [
            "2.242626428604126\n",
            "2.2343335151672363\n"
          ],
          "name": "stdout"
        },
        {
          "output_type": "stream",
          "text": [
            "718it [01:32,  7.60it/s]"
          ],
          "name": "stderr"
        },
        {
          "output_type": "stream",
          "text": [
            "2.2069034576416016\n",
            "2.2677431106567383\n"
          ],
          "name": "stdout"
        },
        {
          "output_type": "stream",
          "text": [
            "720it [01:32,  7.67it/s]"
          ],
          "name": "stderr"
        },
        {
          "output_type": "stream",
          "text": [
            "2.2062108516693115\n",
            "2.292520046234131\n"
          ],
          "name": "stdout"
        },
        {
          "output_type": "stream",
          "text": [
            "722it [01:32,  7.80it/s]"
          ],
          "name": "stderr"
        },
        {
          "output_type": "stream",
          "text": [
            "2.226641893386841\n",
            "2.2133708000183105\n"
          ],
          "name": "stdout"
        },
        {
          "output_type": "stream",
          "text": [
            "724it [01:33,  7.83it/s]"
          ],
          "name": "stderr"
        },
        {
          "output_type": "stream",
          "text": [
            "2.243354082107544\n",
            "2.249082326889038\n"
          ],
          "name": "stdout"
        },
        {
          "output_type": "stream",
          "text": [
            "726it [01:33,  7.63it/s]"
          ],
          "name": "stderr"
        },
        {
          "output_type": "stream",
          "text": [
            "2.226259231567383\n",
            "2.282630205154419\n"
          ],
          "name": "stdout"
        },
        {
          "output_type": "stream",
          "text": [
            "728it [01:33,  7.78it/s]"
          ],
          "name": "stderr"
        },
        {
          "output_type": "stream",
          "text": [
            "2.221839427947998\n",
            "2.2893731594085693\n"
          ],
          "name": "stdout"
        },
        {
          "output_type": "stream",
          "text": [
            "730it [01:33,  7.80it/s]"
          ],
          "name": "stderr"
        },
        {
          "output_type": "stream",
          "text": [
            "2.297941207885742\n",
            "2.21122670173645\n"
          ],
          "name": "stdout"
        },
        {
          "output_type": "stream",
          "text": [
            "732it [01:34,  7.71it/s]"
          ],
          "name": "stderr"
        },
        {
          "output_type": "stream",
          "text": [
            "2.1615707874298096\n",
            "2.172473430633545\n"
          ],
          "name": "stdout"
        },
        {
          "output_type": "stream",
          "text": [
            "734it [01:34,  7.51it/s]"
          ],
          "name": "stderr"
        },
        {
          "output_type": "stream",
          "text": [
            "2.2472407817840576\n",
            "2.1901485919952393\n"
          ],
          "name": "stdout"
        },
        {
          "output_type": "stream",
          "text": [
            "736it [01:34,  7.62it/s]"
          ],
          "name": "stderr"
        },
        {
          "output_type": "stream",
          "text": [
            "2.182584285736084\n",
            "2.3042142391204834\n"
          ],
          "name": "stdout"
        },
        {
          "output_type": "stream",
          "text": [
            "738it [01:34,  7.83it/s]"
          ],
          "name": "stderr"
        },
        {
          "output_type": "stream",
          "text": [
            "2.201676607131958\n",
            "2.222593069076538\n"
          ],
          "name": "stdout"
        },
        {
          "output_type": "stream",
          "text": [
            "740it [01:35,  7.89it/s]"
          ],
          "name": "stderr"
        },
        {
          "output_type": "stream",
          "text": [
            "2.252420425415039\n",
            "2.218592405319214\n"
          ],
          "name": "stdout"
        },
        {
          "output_type": "stream",
          "text": [
            "742it [01:35,  7.70it/s]"
          ],
          "name": "stderr"
        },
        {
          "output_type": "stream",
          "text": [
            "2.1866860389709473\n",
            "2.2261385917663574\n"
          ],
          "name": "stdout"
        },
        {
          "output_type": "stream",
          "text": [
            "744it [01:35,  7.78it/s]"
          ],
          "name": "stderr"
        },
        {
          "output_type": "stream",
          "text": [
            "2.251857280731201\n",
            "2.18837833404541\n"
          ],
          "name": "stdout"
        },
        {
          "output_type": "stream",
          "text": [
            "746it [01:35,  7.67it/s]"
          ],
          "name": "stderr"
        },
        {
          "output_type": "stream",
          "text": [
            "2.216722249984741\n",
            "2.2595770359039307\n"
          ],
          "name": "stdout"
        },
        {
          "output_type": "stream",
          "text": [
            "748it [01:36,  7.79it/s]"
          ],
          "name": "stderr"
        },
        {
          "output_type": "stream",
          "text": [
            "2.1938788890838623\n",
            "2.1956217288970947\n"
          ],
          "name": "stdout"
        },
        {
          "output_type": "stream",
          "text": [
            "750it [01:36,  7.72it/s]"
          ],
          "name": "stderr"
        },
        {
          "output_type": "stream",
          "text": [
            "2.4738495349884033\n",
            "2.3119325637817383\n"
          ],
          "name": "stdout"
        },
        {
          "output_type": "stream",
          "text": [
            "752it [01:36,  7.74it/s]"
          ],
          "name": "stderr"
        },
        {
          "output_type": "stream",
          "text": [
            "2.2233734130859375\n",
            "2.3085169792175293\n"
          ],
          "name": "stdout"
        },
        {
          "output_type": "stream",
          "text": [
            "754it [01:36,  7.82it/s]"
          ],
          "name": "stderr"
        },
        {
          "output_type": "stream",
          "text": [
            "2.2927820682525635\n",
            "2.1957051753997803\n"
          ],
          "name": "stdout"
        },
        {
          "output_type": "stream",
          "text": [
            "756it [01:37,  7.81it/s]"
          ],
          "name": "stderr"
        },
        {
          "output_type": "stream",
          "text": [
            "2.2134146690368652\n",
            "2.279778242111206\n"
          ],
          "name": "stdout"
        },
        {
          "output_type": "stream",
          "text": [
            "758it [01:37,  7.71it/s]"
          ],
          "name": "stderr"
        },
        {
          "output_type": "stream",
          "text": [
            "2.2147860527038574\n",
            "2.294180393218994\n"
          ],
          "name": "stdout"
        },
        {
          "output_type": "stream",
          "text": [
            "760it [01:37,  7.84it/s]"
          ],
          "name": "stderr"
        },
        {
          "output_type": "stream",
          "text": [
            "2.2352373600006104\n",
            "2.319791793823242\n"
          ],
          "name": "stdout"
        },
        {
          "output_type": "stream",
          "text": [
            "762it [01:37,  7.85it/s]"
          ],
          "name": "stderr"
        },
        {
          "output_type": "stream",
          "text": [
            "2.28454852104187\n",
            "2.2876229286193848\n"
          ],
          "name": "stdout"
        },
        {
          "output_type": "stream",
          "text": [
            "764it [01:38,  7.83it/s]"
          ],
          "name": "stderr"
        },
        {
          "output_type": "stream",
          "text": [
            "2.251366138458252\n",
            "2.175313949584961\n"
          ],
          "name": "stdout"
        },
        {
          "output_type": "stream",
          "text": [
            "766it [01:38,  7.80it/s]"
          ],
          "name": "stderr"
        },
        {
          "output_type": "stream",
          "text": [
            "2.2709922790527344\n",
            "2.2237236499786377\n"
          ],
          "name": "stdout"
        },
        {
          "output_type": "stream",
          "text": [
            "768it [01:38,  7.80it/s]"
          ],
          "name": "stderr"
        },
        {
          "output_type": "stream",
          "text": [
            "2.218369245529175\n",
            "2.19657301902771\n"
          ],
          "name": "stdout"
        },
        {
          "output_type": "stream",
          "text": [
            "770it [01:38,  7.84it/s]"
          ],
          "name": "stderr"
        },
        {
          "output_type": "stream",
          "text": [
            "2.250466823577881\n",
            "2.1846022605895996\n"
          ],
          "name": "stdout"
        },
        {
          "output_type": "stream",
          "text": [
            "772it [01:39,  7.83it/s]"
          ],
          "name": "stderr"
        },
        {
          "output_type": "stream",
          "text": [
            "2.175100803375244\n",
            "2.1629369258880615\n"
          ],
          "name": "stdout"
        },
        {
          "output_type": "stream",
          "text": [
            "774it [01:39,  7.72it/s]"
          ],
          "name": "stderr"
        },
        {
          "output_type": "stream",
          "text": [
            "2.174163341522217\n",
            "2.219994306564331\n"
          ],
          "name": "stdout"
        },
        {
          "output_type": "stream",
          "text": [
            "776it [01:39,  7.78it/s]"
          ],
          "name": "stderr"
        },
        {
          "output_type": "stream",
          "text": [
            "2.2463085651397705\n",
            "2.2094109058380127\n"
          ],
          "name": "stdout"
        },
        {
          "output_type": "stream",
          "text": [
            "778it [01:39,  7.82it/s]"
          ],
          "name": "stderr"
        },
        {
          "output_type": "stream",
          "text": [
            "2.223250389099121\n",
            "2.2016754150390625\n"
          ],
          "name": "stdout"
        },
        {
          "output_type": "stream",
          "text": [
            "780it [01:40,  7.81it/s]"
          ],
          "name": "stderr"
        },
        {
          "output_type": "stream",
          "text": [
            "2.1372809410095215\n",
            "2.1372528076171875\n"
          ],
          "name": "stdout"
        },
        {
          "output_type": "stream",
          "text": [
            "782it [01:40,  7.72it/s]"
          ],
          "name": "stderr"
        },
        {
          "output_type": "stream",
          "text": [
            "2.1723077297210693\n",
            "2.20065975189209\n"
          ],
          "name": "stdout"
        },
        {
          "output_type": "stream",
          "text": [
            "784it [01:40,  7.82it/s]"
          ],
          "name": "stderr"
        },
        {
          "output_type": "stream",
          "text": [
            "2.2589337825775146\n",
            "2.2148237228393555\n"
          ],
          "name": "stdout"
        },
        {
          "output_type": "stream",
          "text": [
            "786it [01:41,  7.83it/s]"
          ],
          "name": "stderr"
        },
        {
          "output_type": "stream",
          "text": [
            "2.235182523727417\n",
            "2.2106730937957764\n"
          ],
          "name": "stdout"
        },
        {
          "output_type": "stream",
          "text": [
            "788it [01:41,  7.79it/s]"
          ],
          "name": "stderr"
        },
        {
          "output_type": "stream",
          "text": [
            "2.17218017578125\n",
            "2.260009288787842\n"
          ],
          "name": "stdout"
        },
        {
          "output_type": "stream",
          "text": [
            "790it [01:41,  7.69it/s]"
          ],
          "name": "stderr"
        },
        {
          "output_type": "stream",
          "text": [
            "2.2567546367645264\n",
            "2.1626596450805664\n"
          ],
          "name": "stdout"
        },
        {
          "output_type": "stream",
          "text": [
            "792it [01:41,  7.81it/s]"
          ],
          "name": "stderr"
        },
        {
          "output_type": "stream",
          "text": [
            "2.2091004848480225\n",
            "2.171719789505005\n"
          ],
          "name": "stdout"
        },
        {
          "output_type": "stream",
          "text": [
            "794it [01:42,  7.80it/s]"
          ],
          "name": "stderr"
        },
        {
          "output_type": "stream",
          "text": [
            "2.173349142074585\n",
            "2.2105820178985596\n"
          ],
          "name": "stdout"
        },
        {
          "output_type": "stream",
          "text": [
            "796it [01:42,  7.65it/s]"
          ],
          "name": "stderr"
        },
        {
          "output_type": "stream",
          "text": [
            "2.2326302528381348\n",
            "2.2237372398376465\n"
          ],
          "name": "stdout"
        },
        {
          "output_type": "stream",
          "text": [
            "798it [01:42,  7.71it/s]"
          ],
          "name": "stderr"
        },
        {
          "output_type": "stream",
          "text": [
            "2.161541223526001\n",
            "2.188509702682495\n"
          ],
          "name": "stdout"
        },
        {
          "output_type": "stream",
          "text": [
            "800it [01:42,  7.67it/s]"
          ],
          "name": "stderr"
        },
        {
          "output_type": "stream",
          "text": [
            "2.163393497467041\n",
            "2.204350471496582\n"
          ],
          "name": "stdout"
        },
        {
          "output_type": "stream",
          "text": [
            "802it [01:43,  7.73it/s]"
          ],
          "name": "stderr"
        },
        {
          "output_type": "stream",
          "text": [
            "2.2059757709503174\n",
            "2.182143211364746\n"
          ],
          "name": "stdout"
        },
        {
          "output_type": "stream",
          "text": [
            "804it [01:43,  7.64it/s]"
          ],
          "name": "stderr"
        },
        {
          "output_type": "stream",
          "text": [
            "2.181370973587036\n",
            "2.242055892944336\n"
          ],
          "name": "stdout"
        },
        {
          "output_type": "stream",
          "text": [
            "806it [01:43,  7.74it/s]"
          ],
          "name": "stderr"
        },
        {
          "output_type": "stream",
          "text": [
            "2.1679065227508545\n",
            "2.2141923904418945\n"
          ],
          "name": "stdout"
        },
        {
          "output_type": "stream",
          "text": [
            "808it [01:43,  7.78it/s]"
          ],
          "name": "stderr"
        },
        {
          "output_type": "stream",
          "text": [
            "2.233031749725342\n",
            "2.131510019302368\n"
          ],
          "name": "stdout"
        },
        {
          "output_type": "stream",
          "text": [
            "810it [01:44,  7.81it/s]"
          ],
          "name": "stderr"
        },
        {
          "output_type": "stream",
          "text": [
            "2.221938371658325\n",
            "2.2241153717041016\n"
          ],
          "name": "stdout"
        },
        {
          "output_type": "stream",
          "text": [
            "812it [01:44,  7.54it/s]"
          ],
          "name": "stderr"
        },
        {
          "output_type": "stream",
          "text": [
            "2.3148438930511475\n",
            "2.1645431518554688\n"
          ],
          "name": "stdout"
        },
        {
          "output_type": "stream",
          "text": [
            "814it [01:44,  7.51it/s]"
          ],
          "name": "stderr"
        },
        {
          "output_type": "stream",
          "text": [
            "2.1929731369018555\n",
            "2.182791233062744\n"
          ],
          "name": "stdout"
        },
        {
          "output_type": "stream",
          "text": [
            "816it [01:44,  7.65it/s]"
          ],
          "name": "stderr"
        },
        {
          "output_type": "stream",
          "text": [
            "2.195645570755005\n",
            "2.2745373249053955\n"
          ],
          "name": "stdout"
        },
        {
          "output_type": "stream",
          "text": [
            "818it [01:45,  7.63it/s]"
          ],
          "name": "stderr"
        },
        {
          "output_type": "stream",
          "text": [
            "2.1907544136047363\n",
            "2.1953866481781006\n"
          ],
          "name": "stdout"
        },
        {
          "output_type": "stream",
          "text": [
            "820it [01:45,  7.64it/s]"
          ],
          "name": "stderr"
        },
        {
          "output_type": "stream",
          "text": [
            "2.1020750999450684\n",
            "2.240644931793213\n"
          ],
          "name": "stdout"
        },
        {
          "output_type": "stream",
          "text": [
            "822it [01:45,  7.74it/s]"
          ],
          "name": "stderr"
        },
        {
          "output_type": "stream",
          "text": [
            "2.1626458168029785\n",
            "2.223787784576416\n"
          ],
          "name": "stdout"
        },
        {
          "output_type": "stream",
          "text": [
            "824it [01:45,  7.61it/s]"
          ],
          "name": "stderr"
        },
        {
          "output_type": "stream",
          "text": [
            "2.1449451446533203\n",
            "2.264620780944824\n"
          ],
          "name": "stdout"
        },
        {
          "output_type": "stream",
          "text": [
            "826it [01:46,  7.67it/s]"
          ],
          "name": "stderr"
        },
        {
          "output_type": "stream",
          "text": [
            "2.206526279449463\n",
            "2.2331342697143555\n"
          ],
          "name": "stdout"
        },
        {
          "output_type": "stream",
          "text": [
            "828it [01:46,  7.63it/s]"
          ],
          "name": "stderr"
        },
        {
          "output_type": "stream",
          "text": [
            "2.2540719509124756\n",
            "2.1847598552703857\n"
          ],
          "name": "stdout"
        },
        {
          "output_type": "stream",
          "text": [
            "830it [01:46,  7.69it/s]"
          ],
          "name": "stderr"
        },
        {
          "output_type": "stream",
          "text": [
            "2.2066569328308105\n",
            "2.1302428245544434\n"
          ],
          "name": "stdout"
        },
        {
          "output_type": "stream",
          "text": [
            "832it [01:46,  7.76it/s]"
          ],
          "name": "stderr"
        },
        {
          "output_type": "stream",
          "text": [
            "2.239625930786133\n",
            "2.165184497833252\n"
          ],
          "name": "stdout"
        },
        {
          "output_type": "stream",
          "text": [
            "834it [01:47,  7.65it/s]"
          ],
          "name": "stderr"
        },
        {
          "output_type": "stream",
          "text": [
            "2.1834282875061035\n",
            "2.1537680625915527\n"
          ],
          "name": "stdout"
        },
        {
          "output_type": "stream",
          "text": [
            "836it [01:47,  7.66it/s]"
          ],
          "name": "stderr"
        },
        {
          "output_type": "stream",
          "text": [
            "2.182682514190674\n",
            "2.1438841819763184\n"
          ],
          "name": "stdout"
        },
        {
          "output_type": "stream",
          "text": [
            "838it [01:47,  7.74it/s]"
          ],
          "name": "stderr"
        },
        {
          "output_type": "stream",
          "text": [
            "2.1089463233947754\n",
            "2.1349949836730957\n"
          ],
          "name": "stdout"
        },
        {
          "output_type": "stream",
          "text": [
            "840it [01:48,  7.86it/s]"
          ],
          "name": "stderr"
        },
        {
          "output_type": "stream",
          "text": [
            "2.1903076171875\n",
            "2.2793917655944824\n"
          ],
          "name": "stdout"
        },
        {
          "output_type": "stream",
          "text": [
            "842it [01:48,  7.85it/s]"
          ],
          "name": "stderr"
        },
        {
          "output_type": "stream",
          "text": [
            "2.377448797225952\n",
            "2.3558809757232666\n"
          ],
          "name": "stdout"
        },
        {
          "output_type": "stream",
          "text": [
            "844it [01:48,  7.80it/s]"
          ],
          "name": "stderr"
        },
        {
          "output_type": "stream",
          "text": [
            "2.3106868267059326\n",
            "2.296778678894043\n"
          ],
          "name": "stdout"
        },
        {
          "output_type": "stream",
          "text": [
            "846it [01:48,  7.69it/s]"
          ],
          "name": "stderr"
        },
        {
          "output_type": "stream",
          "text": [
            "2.2083845138549805\n",
            "2.201554298400879\n"
          ],
          "name": "stdout"
        },
        {
          "output_type": "stream",
          "text": [
            "848it [01:49,  7.78it/s]"
          ],
          "name": "stderr"
        },
        {
          "output_type": "stream",
          "text": [
            "2.15701961517334\n",
            "2.1805660724639893\n"
          ],
          "name": "stdout"
        },
        {
          "output_type": "stream",
          "text": [
            "850it [01:49,  7.78it/s]"
          ],
          "name": "stderr"
        },
        {
          "output_type": "stream",
          "text": [
            "2.143573760986328\n",
            "2.1061716079711914\n"
          ],
          "name": "stdout"
        },
        {
          "output_type": "stream",
          "text": [
            "852it [01:49,  7.75it/s]"
          ],
          "name": "stderr"
        },
        {
          "output_type": "stream",
          "text": [
            "2.18192720413208\n",
            "2.1193227767944336\n"
          ],
          "name": "stdout"
        },
        {
          "output_type": "stream",
          "text": [
            "854it [01:49,  7.79it/s]"
          ],
          "name": "stderr"
        },
        {
          "output_type": "stream",
          "text": [
            "2.1523118019104004\n",
            "2.1187167167663574\n"
          ],
          "name": "stdout"
        },
        {
          "output_type": "stream",
          "text": [
            "856it [01:50,  7.83it/s]"
          ],
          "name": "stderr"
        },
        {
          "output_type": "stream",
          "text": [
            "2.1969001293182373\n",
            "2.172996759414673\n"
          ],
          "name": "stdout"
        },
        {
          "output_type": "stream",
          "text": [
            "858it [01:50,  7.69it/s]"
          ],
          "name": "stderr"
        },
        {
          "output_type": "stream",
          "text": [
            "2.1447761058807373\n",
            "2.1631691455841064\n"
          ],
          "name": "stdout"
        },
        {
          "output_type": "stream",
          "text": [
            "860it [01:50,  7.73it/s]"
          ],
          "name": "stderr"
        },
        {
          "output_type": "stream",
          "text": [
            "2.2015058994293213\n",
            "2.1230733394622803\n"
          ],
          "name": "stdout"
        },
        {
          "output_type": "stream",
          "text": [
            "862it [01:50,  7.84it/s]"
          ],
          "name": "stderr"
        },
        {
          "output_type": "stream",
          "text": [
            "2.2109322547912598\n",
            "2.2163729667663574\n"
          ],
          "name": "stdout"
        },
        {
          "output_type": "stream",
          "text": [
            "864it [01:51,  7.89it/s]"
          ],
          "name": "stderr"
        },
        {
          "output_type": "stream",
          "text": [
            "2.255403518676758\n",
            "2.267810106277466\n"
          ],
          "name": "stdout"
        },
        {
          "output_type": "stream",
          "text": [
            "866it [01:51,  7.79it/s]"
          ],
          "name": "stderr"
        },
        {
          "output_type": "stream",
          "text": [
            "2.1714088916778564\n",
            "2.1869356632232666\n"
          ],
          "name": "stdout"
        },
        {
          "output_type": "stream",
          "text": [
            "868it [01:51,  7.77it/s]"
          ],
          "name": "stderr"
        },
        {
          "output_type": "stream",
          "text": [
            "2.1278743743896484\n",
            "2.135209560394287\n"
          ],
          "name": "stdout"
        },
        {
          "output_type": "stream",
          "text": [
            "870it [01:51,  7.79it/s]"
          ],
          "name": "stderr"
        },
        {
          "output_type": "stream",
          "text": [
            "2.182056188583374\n",
            "2.198157548904419\n"
          ],
          "name": "stdout"
        },
        {
          "output_type": "stream",
          "text": [
            "872it [01:52,  7.83it/s]"
          ],
          "name": "stderr"
        },
        {
          "output_type": "stream",
          "text": [
            "2.1749565601348877\n",
            "2.187455177307129\n"
          ],
          "name": "stdout"
        },
        {
          "output_type": "stream",
          "text": [
            "874it [01:52,  7.85it/s]"
          ],
          "name": "stderr"
        },
        {
          "output_type": "stream",
          "text": [
            "2.1315085887908936\n",
            "2.1423392295837402\n"
          ],
          "name": "stdout"
        },
        {
          "output_type": "stream",
          "text": [
            "876it [01:52,  7.76it/s]"
          ],
          "name": "stderr"
        },
        {
          "output_type": "stream",
          "text": [
            "2.1403868198394775\n",
            "2.1525676250457764\n"
          ],
          "name": "stdout"
        },
        {
          "output_type": "stream",
          "text": [
            "878it [01:52,  7.60it/s]"
          ],
          "name": "stderr"
        },
        {
          "output_type": "stream",
          "text": [
            "2.1288485527038574\n",
            "2.2353134155273438\n"
          ],
          "name": "stdout"
        },
        {
          "output_type": "stream",
          "text": [
            "880it [01:53,  7.72it/s]"
          ],
          "name": "stderr"
        },
        {
          "output_type": "stream",
          "text": [
            "2.253757953643799\n",
            "2.183420181274414\n"
          ],
          "name": "stdout"
        },
        {
          "output_type": "stream",
          "text": [
            "882it [01:53,  7.74it/s]"
          ],
          "name": "stderr"
        },
        {
          "output_type": "stream",
          "text": [
            "2.214533567428589\n",
            "2.2078213691711426\n"
          ],
          "name": "stdout"
        },
        {
          "output_type": "stream",
          "text": [
            "884it [01:53,  7.81it/s]"
          ],
          "name": "stderr"
        },
        {
          "output_type": "stream",
          "text": [
            "2.3015763759613037\n",
            "2.1916449069976807\n"
          ],
          "name": "stdout"
        },
        {
          "output_type": "stream",
          "text": [
            "886it [01:53,  7.88it/s]"
          ],
          "name": "stderr"
        },
        {
          "output_type": "stream",
          "text": [
            "2.2434637546539307\n",
            "2.227041244506836\n"
          ],
          "name": "stdout"
        },
        {
          "output_type": "stream",
          "text": [
            "888it [01:54,  7.83it/s]"
          ],
          "name": "stderr"
        },
        {
          "output_type": "stream",
          "text": [
            "2.2686450481414795\n",
            "2.1701674461364746\n"
          ],
          "name": "stdout"
        },
        {
          "output_type": "stream",
          "text": [
            "890it [01:54,  7.73it/s]"
          ],
          "name": "stderr"
        },
        {
          "output_type": "stream",
          "text": [
            "2.114243268966675\n",
            "2.2336835861206055\n"
          ],
          "name": "stdout"
        },
        {
          "output_type": "stream",
          "text": [
            "892it [01:54,  7.71it/s]"
          ],
          "name": "stderr"
        },
        {
          "output_type": "stream",
          "text": [
            "2.2421271800994873\n",
            "2.1508052349090576\n"
          ],
          "name": "stdout"
        },
        {
          "output_type": "stream",
          "text": [
            "894it [01:55,  7.63it/s]"
          ],
          "name": "stderr"
        },
        {
          "output_type": "stream",
          "text": [
            "2.158262014389038\n",
            "2.183605194091797\n"
          ],
          "name": "stdout"
        },
        {
          "output_type": "stream",
          "text": [
            "896it [01:55,  7.74it/s]"
          ],
          "name": "stderr"
        },
        {
          "output_type": "stream",
          "text": [
            "2.2878103256225586\n",
            "2.1894960403442383\n"
          ],
          "name": "stdout"
        },
        {
          "output_type": "stream",
          "text": [
            "898it [01:55,  7.63it/s]"
          ],
          "name": "stderr"
        },
        {
          "output_type": "stream",
          "text": [
            "2.1963372230529785\n",
            "2.2153196334838867\n"
          ],
          "name": "stdout"
        },
        {
          "output_type": "stream",
          "text": [
            "900it [01:55,  7.76it/s]"
          ],
          "name": "stderr"
        },
        {
          "output_type": "stream",
          "text": [
            "2.2077279090881348\n",
            "2.135110378265381\n"
          ],
          "name": "stdout"
        },
        {
          "output_type": "stream",
          "text": [
            "902it [01:56,  7.88it/s]"
          ],
          "name": "stderr"
        },
        {
          "output_type": "stream",
          "text": [
            "2.1064939498901367\n",
            "2.181699514389038\n"
          ],
          "name": "stdout"
        },
        {
          "output_type": "stream",
          "text": [
            "904it [01:56,  7.82it/s]"
          ],
          "name": "stderr"
        },
        {
          "output_type": "stream",
          "text": [
            "2.1730129718780518\n",
            "2.161850690841675\n"
          ],
          "name": "stdout"
        },
        {
          "output_type": "stream",
          "text": [
            "906it [01:56,  7.71it/s]"
          ],
          "name": "stderr"
        },
        {
          "output_type": "stream",
          "text": [
            "2.2156949043273926\n",
            "2.179746389389038\n"
          ],
          "name": "stdout"
        },
        {
          "output_type": "stream",
          "text": [
            "908it [01:56,  7.76it/s]"
          ],
          "name": "stderr"
        },
        {
          "output_type": "stream",
          "text": [
            "2.1411855220794678\n",
            "2.186833143234253\n"
          ],
          "name": "stdout"
        },
        {
          "output_type": "stream",
          "text": [
            "910it [01:57,  7.90it/s]"
          ],
          "name": "stderr"
        },
        {
          "output_type": "stream",
          "text": [
            "2.1666195392608643\n",
            "2.1043431758880615\n"
          ],
          "name": "stdout"
        },
        {
          "output_type": "stream",
          "text": [
            "912it [01:57,  7.84it/s]"
          ],
          "name": "stderr"
        },
        {
          "output_type": "stream",
          "text": [
            "2.1950652599334717\n",
            "2.1657602787017822\n"
          ],
          "name": "stdout"
        },
        {
          "output_type": "stream",
          "text": [
            "914it [01:57,  7.79it/s]"
          ],
          "name": "stderr"
        },
        {
          "output_type": "stream",
          "text": [
            "2.2279880046844482\n",
            "2.1815783977508545\n"
          ],
          "name": "stdout"
        },
        {
          "output_type": "stream",
          "text": [
            "916it [01:57,  7.83it/s]"
          ],
          "name": "stderr"
        },
        {
          "output_type": "stream",
          "text": [
            "2.2570230960845947\n",
            "2.217320680618286\n"
          ],
          "name": "stdout"
        },
        {
          "output_type": "stream",
          "text": [
            "918it [01:58,  7.79it/s]"
          ],
          "name": "stderr"
        },
        {
          "output_type": "stream",
          "text": [
            "2.1684906482696533\n",
            "2.146411657333374\n"
          ],
          "name": "stdout"
        },
        {
          "output_type": "stream",
          "text": [
            "920it [01:58,  7.65it/s]"
          ],
          "name": "stderr"
        },
        {
          "output_type": "stream",
          "text": [
            "2.057363510131836\n",
            "2.1254639625549316\n"
          ],
          "name": "stdout"
        },
        {
          "output_type": "stream",
          "text": [
            "922it [01:58,  7.63it/s]"
          ],
          "name": "stderr"
        },
        {
          "output_type": "stream",
          "text": [
            "2.136977434158325\n",
            "2.129805564880371\n"
          ],
          "name": "stdout"
        },
        {
          "output_type": "stream",
          "text": [
            "924it [01:58,  7.73it/s]"
          ],
          "name": "stderr"
        },
        {
          "output_type": "stream",
          "text": [
            "2.245502233505249\n",
            "2.209683895111084\n"
          ],
          "name": "stdout"
        },
        {
          "output_type": "stream",
          "text": [
            "926it [01:59,  7.73it/s]"
          ],
          "name": "stderr"
        },
        {
          "output_type": "stream",
          "text": [
            "2.257993698120117\n",
            "2.2115073204040527\n"
          ],
          "name": "stdout"
        },
        {
          "output_type": "stream",
          "text": [
            "928it [01:59,  7.57it/s]"
          ],
          "name": "stderr"
        },
        {
          "output_type": "stream",
          "text": [
            "2.12157940864563\n",
            "2.0863771438598633\n"
          ],
          "name": "stdout"
        },
        {
          "output_type": "stream",
          "text": [
            "930it [01:59,  7.64it/s]"
          ],
          "name": "stderr"
        },
        {
          "output_type": "stream",
          "text": [
            "2.1038405895233154\n",
            "2.1410040855407715\n"
          ],
          "name": "stdout"
        },
        {
          "output_type": "stream",
          "text": [
            "932it [01:59,  7.65it/s]"
          ],
          "name": "stderr"
        },
        {
          "output_type": "stream",
          "text": [
            "2.1324386596679688\n",
            "2.1894452571868896\n"
          ],
          "name": "stdout"
        },
        {
          "output_type": "stream",
          "text": [
            "934it [02:00,  7.74it/s]"
          ],
          "name": "stderr"
        },
        {
          "output_type": "stream",
          "text": [
            "2.0903520584106445\n",
            "2.095784902572632\n"
          ],
          "name": "stdout"
        },
        {
          "output_type": "stream",
          "text": [
            "936it [02:00,  7.81it/s]"
          ],
          "name": "stderr"
        },
        {
          "output_type": "stream",
          "text": [
            "2.064976692199707\n",
            "2.1095588207244873\n"
          ],
          "name": "stdout"
        },
        {
          "output_type": "stream",
          "text": [
            "938it [02:00,  7.74it/s]"
          ],
          "name": "stderr"
        },
        {
          "output_type": "stream",
          "text": [
            "2.1219441890716553\n",
            "2.0995585918426514\n"
          ],
          "name": "stdout"
        },
        {
          "output_type": "stream",
          "text": [
            "940it [02:00,  7.76it/s]"
          ],
          "name": "stderr"
        },
        {
          "output_type": "stream",
          "text": [
            "2.0889713764190674\n",
            "2.1465582847595215\n"
          ],
          "name": "stdout"
        },
        {
          "output_type": "stream",
          "text": [
            "942it [02:01,  7.78it/s]"
          ],
          "name": "stderr"
        },
        {
          "output_type": "stream",
          "text": [
            "2.1825907230377197\n",
            "2.113391876220703\n"
          ],
          "name": "stdout"
        },
        {
          "output_type": "stream",
          "text": [
            "944it [02:01,  7.78it/s]"
          ],
          "name": "stderr"
        },
        {
          "output_type": "stream",
          "text": [
            "2.204533815383911\n",
            "2.182138204574585\n"
          ],
          "name": "stdout"
        },
        {
          "output_type": "stream",
          "text": [
            "946it [02:01,  7.75it/s]"
          ],
          "name": "stderr"
        },
        {
          "output_type": "stream",
          "text": [
            "2.2242329120635986\n",
            "2.194375991821289\n"
          ],
          "name": "stdout"
        },
        {
          "output_type": "stream",
          "text": [
            "948it [02:01,  7.82it/s]"
          ],
          "name": "stderr"
        },
        {
          "output_type": "stream",
          "text": [
            "2.2817530632019043\n",
            "2.284985065460205\n"
          ],
          "name": "stdout"
        },
        {
          "output_type": "stream",
          "text": [
            "950it [02:02,  7.82it/s]"
          ],
          "name": "stderr"
        },
        {
          "output_type": "stream",
          "text": [
            "2.2539570331573486\n",
            "2.1177239418029785\n"
          ],
          "name": "stdout"
        },
        {
          "output_type": "stream",
          "text": [
            "952it [02:02,  7.69it/s]"
          ],
          "name": "stderr"
        },
        {
          "output_type": "stream",
          "text": [
            "2.0743961334228516\n",
            "2.130986213684082\n"
          ],
          "name": "stdout"
        },
        {
          "output_type": "stream",
          "text": [
            "954it [02:02,  7.52it/s]"
          ],
          "name": "stderr"
        },
        {
          "output_type": "stream",
          "text": [
            "2.138274908065796\n",
            "2.134674310684204\n"
          ],
          "name": "stdout"
        },
        {
          "output_type": "stream",
          "text": [
            "956it [02:03,  7.67it/s]"
          ],
          "name": "stderr"
        },
        {
          "output_type": "stream",
          "text": [
            "2.15413761138916\n",
            "2.231854200363159\n"
          ],
          "name": "stdout"
        },
        {
          "output_type": "stream",
          "text": [
            "958it [02:03,  7.70it/s]"
          ],
          "name": "stderr"
        },
        {
          "output_type": "stream",
          "text": [
            "2.1047470569610596\n",
            "2.155438184738159\n"
          ],
          "name": "stdout"
        },
        {
          "output_type": "stream",
          "text": [
            "960it [02:03,  7.79it/s]"
          ],
          "name": "stderr"
        },
        {
          "output_type": "stream",
          "text": [
            "2.1745200157165527\n",
            "2.190608501434326\n"
          ],
          "name": "stdout"
        },
        {
          "output_type": "stream",
          "text": [
            "962it [02:03,  7.75it/s]"
          ],
          "name": "stderr"
        },
        {
          "output_type": "stream",
          "text": [
            "2.1709206104278564\n",
            "2.15610408782959\n"
          ],
          "name": "stdout"
        },
        {
          "output_type": "stream",
          "text": [
            "964it [02:04,  7.74it/s]"
          ],
          "name": "stderr"
        },
        {
          "output_type": "stream",
          "text": [
            "2.0661725997924805\n",
            "2.1784019470214844\n"
          ],
          "name": "stdout"
        },
        {
          "output_type": "stream",
          "text": [
            "966it [02:04,  7.80it/s]"
          ],
          "name": "stderr"
        },
        {
          "output_type": "stream",
          "text": [
            "2.187633991241455\n",
            "2.1677072048187256\n"
          ],
          "name": "stdout"
        },
        {
          "output_type": "stream",
          "text": [
            "968it [02:04,  7.86it/s]"
          ],
          "name": "stderr"
        },
        {
          "output_type": "stream",
          "text": [
            "2.205608606338501\n",
            "2.172517776489258\n"
          ],
          "name": "stdout"
        },
        {
          "output_type": "stream",
          "text": [
            "970it [02:04,  7.78it/s]"
          ],
          "name": "stderr"
        },
        {
          "output_type": "stream",
          "text": [
            "2.179014205932617\n",
            "2.084304094314575\n"
          ],
          "name": "stdout"
        },
        {
          "output_type": "stream",
          "text": [
            "972it [02:05,  7.69it/s]"
          ],
          "name": "stderr"
        },
        {
          "output_type": "stream",
          "text": [
            "2.2092959880828857\n",
            "2.1129822731018066\n"
          ],
          "name": "stdout"
        },
        {
          "output_type": "stream",
          "text": [
            "974it [02:05,  7.66it/s]"
          ],
          "name": "stderr"
        },
        {
          "output_type": "stream",
          "text": [
            "2.1658973693847656\n",
            "2.0795838832855225\n"
          ],
          "name": "stdout"
        },
        {
          "output_type": "stream",
          "text": [
            "976it [02:05,  7.69it/s]"
          ],
          "name": "stderr"
        },
        {
          "output_type": "stream",
          "text": [
            "2.1636388301849365\n",
            "2.2125484943389893\n"
          ],
          "name": "stdout"
        },
        {
          "output_type": "stream",
          "text": [
            "978it [02:05,  7.78it/s]"
          ],
          "name": "stderr"
        },
        {
          "output_type": "stream",
          "text": [
            "2.2075068950653076\n",
            "2.2301440238952637\n"
          ],
          "name": "stdout"
        },
        {
          "output_type": "stream",
          "text": [
            "980it [02:06,  7.79it/s]"
          ],
          "name": "stderr"
        },
        {
          "output_type": "stream",
          "text": [
            "2.086556911468506\n",
            "2.09264874458313\n"
          ],
          "name": "stdout"
        },
        {
          "output_type": "stream",
          "text": [
            "982it [02:06,  7.78it/s]"
          ],
          "name": "stderr"
        },
        {
          "output_type": "stream",
          "text": [
            "2.0637903213500977\n",
            "2.127781867980957\n"
          ],
          "name": "stdout"
        },
        {
          "output_type": "stream",
          "text": [
            "984it [02:06,  7.56it/s]"
          ],
          "name": "stderr"
        },
        {
          "output_type": "stream",
          "text": [
            "2.1630172729492188\n",
            "2.132450580596924\n"
          ],
          "name": "stdout"
        },
        {
          "output_type": "stream",
          "text": [
            "986it [02:06,  7.67it/s]"
          ],
          "name": "stderr"
        },
        {
          "output_type": "stream",
          "text": [
            "2.082200288772583\n",
            "2.1592729091644287\n"
          ],
          "name": "stdout"
        },
        {
          "output_type": "stream",
          "text": [
            "988it [02:07,  7.76it/s]"
          ],
          "name": "stderr"
        },
        {
          "output_type": "stream",
          "text": [
            "2.155170440673828\n",
            "2.1106622219085693\n"
          ],
          "name": "stdout"
        },
        {
          "output_type": "stream",
          "text": [
            "990it [02:07,  7.78it/s]"
          ],
          "name": "stderr"
        },
        {
          "output_type": "stream",
          "text": [
            "2.102048397064209\n",
            "2.1090352535247803\n"
          ],
          "name": "stdout"
        },
        {
          "output_type": "stream",
          "text": [
            "992it [02:07,  7.73it/s]"
          ],
          "name": "stderr"
        },
        {
          "output_type": "stream",
          "text": [
            "2.1635777950286865\n",
            "2.208179235458374\n"
          ],
          "name": "stdout"
        },
        {
          "output_type": "stream",
          "text": [
            "994it [02:07,  7.79it/s]"
          ],
          "name": "stderr"
        },
        {
          "output_type": "stream",
          "text": [
            "2.112652063369751\n",
            "2.0942986011505127\n"
          ],
          "name": "stdout"
        },
        {
          "output_type": "stream",
          "text": [
            "996it [02:08,  7.69it/s]"
          ],
          "name": "stderr"
        },
        {
          "output_type": "stream",
          "text": [
            "2.218576431274414\n",
            "2.162116050720215\n"
          ],
          "name": "stdout"
        },
        {
          "output_type": "stream",
          "text": [
            "998it [02:08,  7.77it/s]"
          ],
          "name": "stderr"
        },
        {
          "output_type": "stream",
          "text": [
            "2.245013952255249\n",
            "2.203134536743164\n"
          ],
          "name": "stdout"
        },
        {
          "output_type": "stream",
          "text": [
            "1000it [02:08,  7.62it/s]"
          ],
          "name": "stderr"
        },
        {
          "output_type": "stream",
          "text": [
            "2.1187093257904053\n",
            "2.1083576679229736\n"
          ],
          "name": "stdout"
        },
        {
          "output_type": "stream",
          "text": [
            "1002it [02:08,  7.71it/s]"
          ],
          "name": "stderr"
        },
        {
          "output_type": "stream",
          "text": [
            "2.1385579109191895\n",
            "2.086937189102173\n"
          ],
          "name": "stdout"
        },
        {
          "output_type": "stream",
          "text": [
            "1004it [02:09,  7.70it/s]"
          ],
          "name": "stderr"
        },
        {
          "output_type": "stream",
          "text": [
            "2.072550058364868\n",
            "2.1477208137512207\n"
          ],
          "name": "stdout"
        },
        {
          "output_type": "stream",
          "text": [
            "1006it [02:09,  7.63it/s]"
          ],
          "name": "stderr"
        },
        {
          "output_type": "stream",
          "text": [
            "2.1098031997680664\n",
            "2.113835334777832\n"
          ],
          "name": "stdout"
        },
        {
          "output_type": "stream",
          "text": [
            "1008it [02:09,  7.54it/s]"
          ],
          "name": "stderr"
        },
        {
          "output_type": "stream",
          "text": [
            "2.11875581741333\n",
            "2.221808671951294\n"
          ],
          "name": "stdout"
        },
        {
          "output_type": "stream",
          "text": [
            "1010it [02:10,  7.62it/s]"
          ],
          "name": "stderr"
        },
        {
          "output_type": "stream",
          "text": [
            "2.0706331729888916\n",
            "2.123162031173706\n"
          ],
          "name": "stdout"
        },
        {
          "output_type": "stream",
          "text": [
            "1012it [02:10,  7.72it/s]"
          ],
          "name": "stderr"
        },
        {
          "output_type": "stream",
          "text": [
            "2.1593477725982666\n",
            "2.1457254886627197\n"
          ],
          "name": "stdout"
        },
        {
          "output_type": "stream",
          "text": [
            "1014it [02:10,  7.85it/s]"
          ],
          "name": "stderr"
        },
        {
          "output_type": "stream",
          "text": [
            "2.1498477458953857\n",
            "2.101914167404175\n"
          ],
          "name": "stdout"
        },
        {
          "output_type": "stream",
          "text": [
            "1016it [02:10,  7.76it/s]"
          ],
          "name": "stderr"
        },
        {
          "output_type": "stream",
          "text": [
            "2.1508781909942627\n",
            "2.140308141708374\n"
          ],
          "name": "stdout"
        },
        {
          "output_type": "stream",
          "text": [
            "1018it [02:11,  7.80it/s]"
          ],
          "name": "stderr"
        },
        {
          "output_type": "stream",
          "text": [
            "2.080620527267456\n",
            "2.102651834487915\n"
          ],
          "name": "stdout"
        },
        {
          "output_type": "stream",
          "text": [
            "1020it [02:11,  7.66it/s]"
          ],
          "name": "stderr"
        },
        {
          "output_type": "stream",
          "text": [
            "2.181096076965332\n",
            "2.1325876712799072\n"
          ],
          "name": "stdout"
        },
        {
          "output_type": "stream",
          "text": [
            "1022it [02:11,  7.77it/s]"
          ],
          "name": "stderr"
        },
        {
          "output_type": "stream",
          "text": [
            "2.1221935749053955\n",
            "2.043242931365967\n"
          ],
          "name": "stdout"
        },
        {
          "output_type": "stream",
          "text": [
            "1024it [02:11,  7.76it/s]"
          ],
          "name": "stderr"
        },
        {
          "output_type": "stream",
          "text": [
            "2.1509459018707275\n",
            "2.235313892364502\n"
          ],
          "name": "stdout"
        },
        {
          "output_type": "stream",
          "text": [
            "1026it [02:12,  7.86it/s]"
          ],
          "name": "stderr"
        },
        {
          "output_type": "stream",
          "text": [
            "2.124673843383789\n",
            "2.1511764526367188\n"
          ],
          "name": "stdout"
        },
        {
          "output_type": "stream",
          "text": [
            "1028it [02:12,  7.93it/s]"
          ],
          "name": "stderr"
        },
        {
          "output_type": "stream",
          "text": [
            "2.113476037979126\n",
            "2.0948336124420166\n"
          ],
          "name": "stdout"
        },
        {
          "output_type": "stream",
          "text": [
            "1030it [02:12,  7.84it/s]"
          ],
          "name": "stderr"
        },
        {
          "output_type": "stream",
          "text": [
            "2.170889139175415\n",
            "2.086791515350342\n"
          ],
          "name": "stdout"
        },
        {
          "output_type": "stream",
          "text": [
            "1032it [02:12,  7.52it/s]"
          ],
          "name": "stderr"
        },
        {
          "output_type": "stream",
          "text": [
            "2.1652653217315674\n",
            "2.1235928535461426\n"
          ],
          "name": "stdout"
        },
        {
          "output_type": "stream",
          "text": [
            "1034it [02:13,  7.73it/s]"
          ],
          "name": "stderr"
        },
        {
          "output_type": "stream",
          "text": [
            "2.0883500576019287\n",
            "2.0549328327178955\n"
          ],
          "name": "stdout"
        },
        {
          "output_type": "stream",
          "text": [
            "1036it [02:13,  7.83it/s]"
          ],
          "name": "stderr"
        },
        {
          "output_type": "stream",
          "text": [
            "2.117894411087036\n",
            "2.241647481918335\n"
          ],
          "name": "stdout"
        },
        {
          "output_type": "stream",
          "text": [
            "1038it [02:13,  7.84it/s]"
          ],
          "name": "stderr"
        },
        {
          "output_type": "stream",
          "text": [
            "2.074841022491455\n",
            "2.0509514808654785\n"
          ],
          "name": "stdout"
        },
        {
          "output_type": "stream",
          "text": [
            "1040it [02:13,  7.71it/s]"
          ],
          "name": "stderr"
        },
        {
          "output_type": "stream",
          "text": [
            "2.1772077083587646\n",
            "2.164205551147461\n"
          ],
          "name": "stdout"
        },
        {
          "output_type": "stream",
          "text": [
            "1042it [02:14,  7.70it/s]"
          ],
          "name": "stderr"
        },
        {
          "output_type": "stream",
          "text": [
            "2.1694464683532715\n",
            "2.083875894546509\n"
          ],
          "name": "stdout"
        },
        {
          "output_type": "stream",
          "text": [
            "1044it [02:14,  7.64it/s]"
          ],
          "name": "stderr"
        },
        {
          "output_type": "stream",
          "text": [
            "2.2439165115356445\n",
            "2.1104085445404053\n"
          ],
          "name": "stdout"
        },
        {
          "output_type": "stream",
          "text": [
            "1046it [02:14,  7.71it/s]"
          ],
          "name": "stderr"
        },
        {
          "output_type": "stream",
          "text": [
            "2.0871691703796387\n",
            "2.172654390335083\n"
          ],
          "name": "stdout"
        },
        {
          "output_type": "stream",
          "text": [
            "1048it [02:14,  7.67it/s]"
          ],
          "name": "stderr"
        },
        {
          "output_type": "stream",
          "text": [
            "2.0835635662078857\n",
            "2.1004140377044678\n"
          ],
          "name": "stdout"
        },
        {
          "output_type": "stream",
          "text": [
            "1050it [02:15,  7.63it/s]"
          ],
          "name": "stderr"
        },
        {
          "output_type": "stream",
          "text": [
            "2.110013484954834\n",
            "2.1545512676239014\n"
          ],
          "name": "stdout"
        },
        {
          "output_type": "stream",
          "text": [
            "1052it [02:15,  7.38it/s]"
          ],
          "name": "stderr"
        },
        {
          "output_type": "stream",
          "text": [
            "2.163184404373169\n",
            "2.1272692680358887\n"
          ],
          "name": "stdout"
        },
        {
          "output_type": "stream",
          "text": [
            "1054it [02:15,  7.43it/s]"
          ],
          "name": "stderr"
        },
        {
          "output_type": "stream",
          "text": [
            "2.0998265743255615\n",
            "2.0712382793426514\n"
          ],
          "name": "stdout"
        },
        {
          "output_type": "stream",
          "text": [
            "1056it [02:16,  7.60it/s]"
          ],
          "name": "stderr"
        },
        {
          "output_type": "stream",
          "text": [
            "2.1100809574127197\n",
            "2.2259483337402344\n"
          ],
          "name": "stdout"
        },
        {
          "output_type": "stream",
          "text": [
            "1058it [02:16,  7.75it/s]"
          ],
          "name": "stderr"
        },
        {
          "output_type": "stream",
          "text": [
            "2.1241984367370605\n",
            "2.113696813583374\n"
          ],
          "name": "stdout"
        },
        {
          "output_type": "stream",
          "text": [
            "1060it [02:16,  7.76it/s]"
          ],
          "name": "stderr"
        },
        {
          "output_type": "stream",
          "text": [
            "2.140117645263672\n",
            "2.153538227081299\n"
          ],
          "name": "stdout"
        },
        {
          "output_type": "stream",
          "text": [
            "1062it [02:16,  7.62it/s]"
          ],
          "name": "stderr"
        },
        {
          "output_type": "stream",
          "text": [
            "2.0099551677703857\n",
            "2.126753091812134\n"
          ],
          "name": "stdout"
        },
        {
          "output_type": "stream",
          "text": [
            "1064it [02:17,  7.51it/s]"
          ],
          "name": "stderr"
        },
        {
          "output_type": "stream",
          "text": [
            "2.1948986053466797\n",
            "2.179560422897339\n"
          ],
          "name": "stdout"
        },
        {
          "output_type": "stream",
          "text": [
            "1066it [02:17,  7.52it/s]"
          ],
          "name": "stderr"
        },
        {
          "output_type": "stream",
          "text": [
            "2.135672092437744\n",
            "2.0951192378997803\n"
          ],
          "name": "stdout"
        },
        {
          "output_type": "stream",
          "text": [
            "1068it [02:17,  7.52it/s]"
          ],
          "name": "stderr"
        },
        {
          "output_type": "stream",
          "text": [
            "2.0796151161193848\n",
            "2.093555450439453\n"
          ],
          "name": "stdout"
        },
        {
          "output_type": "stream",
          "text": [
            "1070it [02:17,  7.46it/s]"
          ],
          "name": "stderr"
        },
        {
          "output_type": "stream",
          "text": [
            "2.052100419998169\n",
            "2.0733139514923096\n"
          ],
          "name": "stdout"
        },
        {
          "output_type": "stream",
          "text": [
            "1072it [02:18,  7.58it/s]"
          ],
          "name": "stderr"
        },
        {
          "output_type": "stream",
          "text": [
            "2.0801827907562256\n",
            "2.1775619983673096\n"
          ],
          "name": "stdout"
        },
        {
          "output_type": "stream",
          "text": [
            "1074it [02:18,  7.61it/s]"
          ],
          "name": "stderr"
        },
        {
          "output_type": "stream",
          "text": [
            "2.1138522624969482\n",
            "2.123823642730713\n"
          ],
          "name": "stdout"
        },
        {
          "output_type": "stream",
          "text": [
            "1076it [02:18,  7.52it/s]"
          ],
          "name": "stderr"
        },
        {
          "output_type": "stream",
          "text": [
            "2.1137452125549316\n",
            "2.0868139266967773\n"
          ],
          "name": "stdout"
        },
        {
          "output_type": "stream",
          "text": [
            "1078it [02:18,  7.51it/s]"
          ],
          "name": "stderr"
        },
        {
          "output_type": "stream",
          "text": [
            "2.0974514484405518\n",
            "2.0911831855773926\n"
          ],
          "name": "stdout"
        },
        {
          "output_type": "stream",
          "text": [
            "1080it [02:19,  7.55it/s]"
          ],
          "name": "stderr"
        },
        {
          "output_type": "stream",
          "text": [
            "2.0878984928131104\n",
            "2.1352384090423584\n"
          ],
          "name": "stdout"
        },
        {
          "output_type": "stream",
          "text": [
            "1082it [02:19,  7.66it/s]"
          ],
          "name": "stderr"
        },
        {
          "output_type": "stream",
          "text": [
            "2.1594526767730713\n",
            "2.1272411346435547\n"
          ],
          "name": "stdout"
        },
        {
          "output_type": "stream",
          "text": [
            "1084it [02:19,  7.59it/s]"
          ],
          "name": "stderr"
        },
        {
          "output_type": "stream",
          "text": [
            "2.091264486312866\n",
            "2.0794591903686523\n"
          ],
          "name": "stdout"
        },
        {
          "output_type": "stream",
          "text": [
            "1086it [02:19,  7.53it/s]"
          ],
          "name": "stderr"
        },
        {
          "output_type": "stream",
          "text": [
            "2.059744358062744\n",
            "2.0974221229553223\n"
          ],
          "name": "stdout"
        },
        {
          "output_type": "stream",
          "text": [
            "1088it [02:20,  7.62it/s]"
          ],
          "name": "stderr"
        },
        {
          "output_type": "stream",
          "text": [
            "2.115497350692749\n",
            "2.0983448028564453\n"
          ],
          "name": "stdout"
        },
        {
          "output_type": "stream",
          "text": [
            "1090it [02:20,  7.75it/s]"
          ],
          "name": "stderr"
        },
        {
          "output_type": "stream",
          "text": [
            "2.0799176692962646\n",
            "2.1380228996276855\n"
          ],
          "name": "stdout"
        },
        {
          "output_type": "stream",
          "text": [
            "1092it [02:20,  7.75it/s]"
          ],
          "name": "stderr"
        },
        {
          "output_type": "stream",
          "text": [
            "2.072572946548462\n",
            "2.1037018299102783\n"
          ],
          "name": "stdout"
        },
        {
          "output_type": "stream",
          "text": [
            "1094it [02:21,  7.68it/s]"
          ],
          "name": "stderr"
        },
        {
          "output_type": "stream",
          "text": [
            "2.152761936187744\n",
            "2.0845370292663574\n"
          ],
          "name": "stdout"
        },
        {
          "output_type": "stream",
          "text": [
            "1096it [02:21,  7.67it/s]"
          ],
          "name": "stderr"
        },
        {
          "output_type": "stream",
          "text": [
            "2.042404890060425\n",
            "2.1081485748291016\n"
          ],
          "name": "stdout"
        },
        {
          "output_type": "stream",
          "text": [
            "1098it [02:21,  7.76it/s]"
          ],
          "name": "stderr"
        },
        {
          "output_type": "stream",
          "text": [
            "2.0898170471191406\n",
            "2.1778392791748047\n"
          ],
          "name": "stdout"
        },
        {
          "output_type": "stream",
          "text": [
            "1100it [02:21,  7.81it/s]"
          ],
          "name": "stderr"
        },
        {
          "output_type": "stream",
          "text": [
            "2.1626381874084473\n",
            "2.1664514541625977\n"
          ],
          "name": "stdout"
        },
        {
          "output_type": "stream",
          "text": [
            "1102it [02:22,  7.68it/s]"
          ],
          "name": "stderr"
        },
        {
          "output_type": "stream",
          "text": [
            "2.101823568344116\n",
            "2.071183681488037\n"
          ],
          "name": "stdout"
        },
        {
          "output_type": "stream",
          "text": [
            "1104it [02:22,  7.75it/s]"
          ],
          "name": "stderr"
        },
        {
          "output_type": "stream",
          "text": [
            "2.1177000999450684\n",
            "2.092120409011841\n"
          ],
          "name": "stdout"
        },
        {
          "output_type": "stream",
          "text": [
            "1106it [02:22,  7.78it/s]"
          ],
          "name": "stderr"
        },
        {
          "output_type": "stream",
          "text": [
            "2.009307861328125\n",
            "2.2161848545074463\n"
          ],
          "name": "stdout"
        },
        {
          "output_type": "stream",
          "text": [
            "1108it [02:22,  7.61it/s]"
          ],
          "name": "stderr"
        },
        {
          "output_type": "stream",
          "text": [
            "2.2903835773468018\n",
            "2.1172702312469482\n"
          ],
          "name": "stdout"
        },
        {
          "output_type": "stream",
          "text": [
            "1110it [02:23,  7.68it/s]"
          ],
          "name": "stderr"
        },
        {
          "output_type": "stream",
          "text": [
            "2.3117659091949463\n",
            "2.1929562091827393\n"
          ],
          "name": "stdout"
        },
        {
          "output_type": "stream",
          "text": [
            "1112it [02:23,  7.67it/s]"
          ],
          "name": "stderr"
        },
        {
          "output_type": "stream",
          "text": [
            "2.2400081157684326\n",
            "2.279008388519287\n"
          ],
          "name": "stdout"
        },
        {
          "output_type": "stream",
          "text": [
            "1114it [02:23,  7.75it/s]"
          ],
          "name": "stderr"
        },
        {
          "output_type": "stream",
          "text": [
            "2.1074788570404053\n",
            "2.1208949089050293\n"
          ],
          "name": "stdout"
        },
        {
          "output_type": "stream",
          "text": [
            "1116it [02:23,  7.68it/s]"
          ],
          "name": "stderr"
        },
        {
          "output_type": "stream",
          "text": [
            "2.1327714920043945\n",
            "2.12268328666687\n"
          ],
          "name": "stdout"
        },
        {
          "output_type": "stream",
          "text": [
            "1118it [02:24,  7.65it/s]"
          ],
          "name": "stderr"
        },
        {
          "output_type": "stream",
          "text": [
            "2.172774076461792\n",
            "2.1232190132141113\n"
          ],
          "name": "stdout"
        },
        {
          "output_type": "stream",
          "text": [
            "1120it [02:24,  7.66it/s]"
          ],
          "name": "stderr"
        },
        {
          "output_type": "stream",
          "text": [
            "2.086902618408203\n",
            "2.165219306945801\n"
          ],
          "name": "stdout"
        },
        {
          "output_type": "stream",
          "text": [
            "1122it [02:24,  7.77it/s]"
          ],
          "name": "stderr"
        },
        {
          "output_type": "stream",
          "text": [
            "2.0369863510131836\n",
            "2.116013765335083\n"
          ],
          "name": "stdout"
        },
        {
          "output_type": "stream",
          "text": [
            "1124it [02:24,  7.64it/s]"
          ],
          "name": "stderr"
        },
        {
          "output_type": "stream",
          "text": [
            "2.0950565338134766\n",
            "2.1511592864990234\n"
          ],
          "name": "stdout"
        },
        {
          "output_type": "stream",
          "text": [
            "1126it [02:25,  7.75it/s]"
          ],
          "name": "stderr"
        },
        {
          "output_type": "stream",
          "text": [
            "2.114670991897583\n",
            "2.1113967895507812\n"
          ],
          "name": "stdout"
        },
        {
          "output_type": "stream",
          "text": [
            "1128it [02:25,  7.66it/s]"
          ],
          "name": "stderr"
        },
        {
          "output_type": "stream",
          "text": [
            "2.1065523624420166\n",
            "2.048644781112671\n"
          ],
          "name": "stdout"
        },
        {
          "output_type": "stream",
          "text": [
            "1130it [02:25,  7.76it/s]"
          ],
          "name": "stderr"
        },
        {
          "output_type": "stream",
          "text": [
            "2.039405107498169\n",
            "2.0611157417297363\n"
          ],
          "name": "stdout"
        },
        {
          "output_type": "stream",
          "text": [
            "1132it [02:25,  7.54it/s]"
          ],
          "name": "stderr"
        },
        {
          "output_type": "stream",
          "text": [
            "2.070646286010742\n",
            "2.015946388244629\n"
          ],
          "name": "stdout"
        },
        {
          "output_type": "stream",
          "text": [
            "1134it [02:26,  7.66it/s]"
          ],
          "name": "stderr"
        },
        {
          "output_type": "stream",
          "text": [
            "2.144141912460327\n",
            "2.0968902111053467\n"
          ],
          "name": "stdout"
        },
        {
          "output_type": "stream",
          "text": [
            "1136it [02:26,  7.80it/s]"
          ],
          "name": "stderr"
        },
        {
          "output_type": "stream",
          "text": [
            "2.111785411834717\n",
            "2.068129777908325\n"
          ],
          "name": "stdout"
        },
        {
          "output_type": "stream",
          "text": [
            "1138it [02:26,  7.73it/s]"
          ],
          "name": "stderr"
        },
        {
          "output_type": "stream",
          "text": [
            "2.1319823265075684\n",
            "2.067613124847412\n"
          ],
          "name": "stdout"
        },
        {
          "output_type": "stream",
          "text": [
            "1140it [02:26,  7.64it/s]"
          ],
          "name": "stderr"
        },
        {
          "output_type": "stream",
          "text": [
            "2.1083569526672363\n",
            "2.1278059482574463\n"
          ],
          "name": "stdout"
        },
        {
          "output_type": "stream",
          "text": [
            "1142it [02:27,  7.76it/s]"
          ],
          "name": "stderr"
        },
        {
          "output_type": "stream",
          "text": [
            "2.1082513332366943\n",
            "2.1144485473632812\n"
          ],
          "name": "stdout"
        },
        {
          "output_type": "stream",
          "text": [
            "1144it [02:27,  7.85it/s]"
          ],
          "name": "stderr"
        },
        {
          "output_type": "stream",
          "text": [
            "2.196575403213501\n",
            "2.0842182636260986\n"
          ],
          "name": "stdout"
        },
        {
          "output_type": "stream",
          "text": [
            "1146it [02:27,  7.83it/s]"
          ],
          "name": "stderr"
        },
        {
          "output_type": "stream",
          "text": [
            "2.14874267578125\n",
            "2.152480363845825\n"
          ],
          "name": "stdout"
        },
        {
          "output_type": "stream",
          "text": [
            "1148it [02:28,  7.68it/s]"
          ],
          "name": "stderr"
        },
        {
          "output_type": "stream",
          "text": [
            "2.1819984912872314\n",
            "2.0713868141174316\n"
          ],
          "name": "stdout"
        },
        {
          "output_type": "stream",
          "text": [
            "1150it [02:28,  7.70it/s]"
          ],
          "name": "stderr"
        },
        {
          "output_type": "stream",
          "text": [
            "1.9947503805160522\n",
            "2.119183301925659\n"
          ],
          "name": "stdout"
        },
        {
          "output_type": "stream",
          "text": [
            "1152it [02:28,  7.66it/s]"
          ],
          "name": "stderr"
        },
        {
          "output_type": "stream",
          "text": [
            "2.1119332313537598\n",
            "2.10211443901062\n"
          ],
          "name": "stdout"
        },
        {
          "output_type": "stream",
          "text": [
            "1154it [02:28,  7.75it/s]"
          ],
          "name": "stderr"
        },
        {
          "output_type": "stream",
          "text": [
            "2.1389474868774414\n",
            "2.030992269515991\n"
          ],
          "name": "stdout"
        },
        {
          "output_type": "stream",
          "text": [
            "1156it [02:29,  7.73it/s]"
          ],
          "name": "stderr"
        },
        {
          "output_type": "stream",
          "text": [
            "2.014056444168091\n",
            "2.072397470474243\n"
          ],
          "name": "stdout"
        },
        {
          "output_type": "stream",
          "text": [
            "1158it [02:29,  7.63it/s]"
          ],
          "name": "stderr"
        },
        {
          "output_type": "stream",
          "text": [
            "2.0727131366729736\n",
            "2.0626540184020996\n"
          ],
          "name": "stdout"
        },
        {
          "output_type": "stream",
          "text": [
            "1160it [02:29,  7.67it/s]"
          ],
          "name": "stderr"
        },
        {
          "output_type": "stream",
          "text": [
            "2.1103410720825195\n",
            "2.1146135330200195\n"
          ],
          "name": "stdout"
        },
        {
          "output_type": "stream",
          "text": [
            "1162it [02:29,  7.78it/s]"
          ],
          "name": "stderr"
        },
        {
          "output_type": "stream",
          "text": [
            "2.2147436141967773\n",
            "2.1681575775146484\n"
          ],
          "name": "stdout"
        },
        {
          "output_type": "stream",
          "text": [
            "1164it [02:30,  7.78it/s]"
          ],
          "name": "stderr"
        },
        {
          "output_type": "stream",
          "text": [
            "2.124735116958618\n",
            "2.0898194313049316\n"
          ],
          "name": "stdout"
        },
        {
          "output_type": "stream",
          "text": [
            "1166it [02:30,  7.76it/s]"
          ],
          "name": "stderr"
        },
        {
          "output_type": "stream",
          "text": [
            "2.0337984561920166\n",
            "2.022387981414795\n"
          ],
          "name": "stdout"
        },
        {
          "output_type": "stream",
          "text": [
            "1168it [02:30,  7.79it/s]"
          ],
          "name": "stderr"
        },
        {
          "output_type": "stream",
          "text": [
            "2.0406835079193115\n",
            "2.0496277809143066\n"
          ],
          "name": "stdout"
        },
        {
          "output_type": "stream",
          "text": [
            "1170it [02:30,  7.81it/s]"
          ],
          "name": "stderr"
        },
        {
          "output_type": "stream",
          "text": [
            "2.1822288036346436\n",
            "2.191225290298462\n"
          ],
          "name": "stdout"
        },
        {
          "output_type": "stream",
          "text": [
            "1172it [02:31,  7.71it/s]"
          ],
          "name": "stderr"
        },
        {
          "output_type": "stream",
          "text": [
            "2.093987226486206\n",
            "2.101024627685547\n"
          ],
          "name": "stdout"
        },
        {
          "output_type": "stream",
          "text": [
            "1174it [02:31,  7.66it/s]"
          ],
          "name": "stderr"
        },
        {
          "output_type": "stream",
          "text": [
            "2.065854072570801\n",
            "2.1059446334838867\n"
          ],
          "name": "stdout"
        },
        {
          "output_type": "stream",
          "text": [
            "1176it [02:31,  7.80it/s]"
          ],
          "name": "stderr"
        },
        {
          "output_type": "stream",
          "text": [
            "2.210482358932495\n",
            "2.155670166015625\n"
          ],
          "name": "stdout"
        },
        {
          "output_type": "stream",
          "text": [
            "1178it [02:31,  7.82it/s]"
          ],
          "name": "stderr"
        },
        {
          "output_type": "stream",
          "text": [
            "2.100038528442383\n",
            "2.087489366531372\n"
          ],
          "name": "stdout"
        },
        {
          "output_type": "stream",
          "text": [
            "1180it [02:32,  7.82it/s]"
          ],
          "name": "stderr"
        },
        {
          "output_type": "stream",
          "text": [
            "2.0397534370422363\n",
            "2.163954496383667\n"
          ],
          "name": "stdout"
        },
        {
          "output_type": "stream",
          "text": [
            "1182it [02:32,  7.88it/s]"
          ],
          "name": "stderr"
        },
        {
          "output_type": "stream",
          "text": [
            "1.9987541437149048\n",
            "2.0960357189178467\n"
          ],
          "name": "stdout"
        },
        {
          "output_type": "stream",
          "text": [
            "1184it [02:32,  7.76it/s]"
          ],
          "name": "stderr"
        },
        {
          "output_type": "stream",
          "text": [
            "2.1333751678466797\n",
            "2.0456697940826416\n"
          ],
          "name": "stdout"
        },
        {
          "output_type": "stream",
          "text": [
            "1186it [02:32,  7.75it/s]"
          ],
          "name": "stderr"
        },
        {
          "output_type": "stream",
          "text": [
            "2.042973518371582\n",
            "2.0615365505218506\n"
          ],
          "name": "stdout"
        },
        {
          "output_type": "stream",
          "text": [
            "1188it [02:33,  7.73it/s]"
          ],
          "name": "stderr"
        },
        {
          "output_type": "stream",
          "text": [
            "2.014711380004883\n",
            "2.089691400527954\n"
          ],
          "name": "stdout"
        },
        {
          "output_type": "stream",
          "text": [
            "1190it [02:33,  7.85it/s]"
          ],
          "name": "stderr"
        },
        {
          "output_type": "stream",
          "text": [
            "2.0546388626098633\n",
            "2.242840051651001\n"
          ],
          "name": "stdout"
        },
        {
          "output_type": "stream",
          "text": [
            "1192it [02:33,  7.89it/s]"
          ],
          "name": "stderr"
        },
        {
          "output_type": "stream",
          "text": [
            "2.132019281387329\n",
            "1.9685373306274414\n"
          ],
          "name": "stdout"
        },
        {
          "output_type": "stream",
          "text": [
            "1194it [02:33,  7.78it/s]"
          ],
          "name": "stderr"
        },
        {
          "output_type": "stream",
          "text": [
            "2.079922676086426\n",
            "2.1294784545898438\n"
          ],
          "name": "stdout"
        },
        {
          "output_type": "stream",
          "text": [
            "1196it [02:34,  7.73it/s]"
          ],
          "name": "stderr"
        },
        {
          "output_type": "stream",
          "text": [
            "2.1183676719665527\n",
            "2.034658432006836\n"
          ],
          "name": "stdout"
        },
        {
          "output_type": "stream",
          "text": [
            "1198it [02:34,  7.75it/s]"
          ],
          "name": "stderr"
        },
        {
          "output_type": "stream",
          "text": [
            "2.0749237537384033\n",
            "2.2126221656799316\n"
          ],
          "name": "stdout"
        },
        {
          "output_type": "stream",
          "text": [
            "1200it [02:34,  7.85it/s]"
          ],
          "name": "stderr"
        },
        {
          "output_type": "stream",
          "text": [
            "2.077138900756836\n",
            "2.1649248600006104\n"
          ],
          "name": "stdout"
        },
        {
          "output_type": "stream",
          "text": [
            "1202it [02:34,  7.86it/s]"
          ],
          "name": "stderr"
        },
        {
          "output_type": "stream",
          "text": [
            "2.1772568225860596\n",
            "2.1057522296905518\n"
          ],
          "name": "stdout"
        },
        {
          "output_type": "stream",
          "text": [
            "1204it [02:35,  7.74it/s]"
          ],
          "name": "stderr"
        },
        {
          "output_type": "stream",
          "text": [
            "2.1923153400421143\n",
            "2.2261343002319336\n"
          ],
          "name": "stdout"
        },
        {
          "output_type": "stream",
          "text": [
            "1206it [02:35,  7.73it/s]"
          ],
          "name": "stderr"
        },
        {
          "output_type": "stream",
          "text": [
            "2.159149408340454\n",
            "2.1404619216918945\n"
          ],
          "name": "stdout"
        },
        {
          "output_type": "stream",
          "text": [
            "1208it [02:35,  7.78it/s]"
          ],
          "name": "stderr"
        },
        {
          "output_type": "stream",
          "text": [
            "2.1473090648651123\n",
            "2.0741491317749023\n"
          ],
          "name": "stdout"
        },
        {
          "output_type": "stream",
          "text": [
            "1210it [02:36,  7.68it/s]"
          ],
          "name": "stderr"
        },
        {
          "output_type": "stream",
          "text": [
            "2.0904502868652344\n",
            "2.0204267501831055\n"
          ],
          "name": "stdout"
        },
        {
          "output_type": "stream",
          "text": [
            "1212it [02:36,  7.62it/s]"
          ],
          "name": "stderr"
        },
        {
          "output_type": "stream",
          "text": [
            "2.0096383094787598\n",
            "2.006761312484741\n"
          ],
          "name": "stdout"
        },
        {
          "output_type": "stream",
          "text": [
            "1214it [02:36,  7.72it/s]"
          ],
          "name": "stderr"
        },
        {
          "output_type": "stream",
          "text": [
            "2.088846206665039\n",
            "2.098870038986206\n"
          ],
          "name": "stdout"
        },
        {
          "output_type": "stream",
          "text": [
            "1216it [02:36,  7.72it/s]"
          ],
          "name": "stderr"
        },
        {
          "output_type": "stream",
          "text": [
            "2.0406949520111084\n",
            "2.1261188983917236\n"
          ],
          "name": "stdout"
        },
        {
          "output_type": "stream",
          "text": [
            "1218it [02:37,  7.74it/s]"
          ],
          "name": "stderr"
        },
        {
          "output_type": "stream",
          "text": [
            "2.0097544193267822\n",
            "2.0609190464019775\n"
          ],
          "name": "stdout"
        },
        {
          "output_type": "stream",
          "text": [
            "1220it [02:37,  7.84it/s]"
          ],
          "name": "stderr"
        },
        {
          "output_type": "stream",
          "text": [
            "2.0588133335113525\n",
            "2.04174542427063\n"
          ],
          "name": "stdout"
        },
        {
          "output_type": "stream",
          "text": [
            "1222it [02:37,  7.93it/s]"
          ],
          "name": "stderr"
        },
        {
          "output_type": "stream",
          "text": [
            "2.0297915935516357\n",
            "2.1198954582214355\n"
          ],
          "name": "stdout"
        },
        {
          "output_type": "stream",
          "text": [
            "1224it [02:37,  7.95it/s]"
          ],
          "name": "stderr"
        },
        {
          "output_type": "stream",
          "text": [
            "2.1362409591674805\n",
            "2.205376148223877\n"
          ],
          "name": "stdout"
        },
        {
          "output_type": "stream",
          "text": [
            "1226it [02:38,  7.85it/s]"
          ],
          "name": "stderr"
        },
        {
          "output_type": "stream",
          "text": [
            "2.1179311275482178\n",
            "2.1123592853546143\n"
          ],
          "name": "stdout"
        },
        {
          "output_type": "stream",
          "text": [
            "1228it [02:38,  7.76it/s]"
          ],
          "name": "stderr"
        },
        {
          "output_type": "stream",
          "text": [
            "2.167792797088623\n",
            "2.0781147480010986\n"
          ],
          "name": "stdout"
        },
        {
          "output_type": "stream",
          "text": [
            "1230it [02:38,  7.83it/s]"
          ],
          "name": "stderr"
        },
        {
          "output_type": "stream",
          "text": [
            "2.120846748352051\n",
            "2.3012290000915527\n"
          ],
          "name": "stdout"
        },
        {
          "output_type": "stream",
          "text": [
            "1232it [02:38,  7.81it/s]"
          ],
          "name": "stderr"
        },
        {
          "output_type": "stream",
          "text": [
            "2.236300468444824\n",
            "2.1649491786956787\n"
          ],
          "name": "stdout"
        },
        {
          "output_type": "stream",
          "text": [
            "1234it [02:39,  7.71it/s]"
          ],
          "name": "stderr"
        },
        {
          "output_type": "stream",
          "text": [
            "2.224555015563965\n",
            "2.1016626358032227\n"
          ],
          "name": "stdout"
        },
        {
          "output_type": "stream",
          "text": [
            "1236it [02:39,  7.79it/s]"
          ],
          "name": "stderr"
        },
        {
          "output_type": "stream",
          "text": [
            "2.1051926612854004\n",
            "2.1225714683532715\n"
          ],
          "name": "stdout"
        },
        {
          "output_type": "stream",
          "text": [
            "1238it [02:39,  7.81it/s]"
          ],
          "name": "stderr"
        },
        {
          "output_type": "stream",
          "text": [
            "2.161766767501831\n",
            "2.132838487625122\n"
          ],
          "name": "stdout"
        },
        {
          "output_type": "stream",
          "text": [
            "1240it [02:39,  7.76it/s]"
          ],
          "name": "stderr"
        },
        {
          "output_type": "stream",
          "text": [
            "2.113184928894043\n",
            "2.153700113296509\n"
          ],
          "name": "stdout"
        },
        {
          "output_type": "stream",
          "text": [
            "1242it [02:40,  7.70it/s]"
          ],
          "name": "stderr"
        },
        {
          "output_type": "stream",
          "text": [
            "2.1010055541992188\n",
            "2.078314781188965\n"
          ],
          "name": "stdout"
        },
        {
          "output_type": "stream",
          "text": [
            "1244it [02:40,  7.82it/s]"
          ],
          "name": "stderr"
        },
        {
          "output_type": "stream",
          "text": [
            "2.139639377593994\n",
            "2.062615156173706\n"
          ],
          "name": "stdout"
        },
        {
          "output_type": "stream",
          "text": [
            "1246it [02:40,  7.87it/s]"
          ],
          "name": "stderr"
        },
        {
          "output_type": "stream",
          "text": [
            "2.1248724460601807\n",
            "2.0659339427948\n"
          ],
          "name": "stdout"
        },
        {
          "output_type": "stream",
          "text": [
            "1248it [02:40,  7.80it/s]"
          ],
          "name": "stderr"
        },
        {
          "output_type": "stream",
          "text": [
            "2.020055055618286\n",
            "2.1230239868164062\n"
          ],
          "name": "stdout"
        },
        {
          "output_type": "stream",
          "text": [
            "1250it [02:41,  7.70it/s]"
          ],
          "name": "stderr"
        },
        {
          "output_type": "stream",
          "text": [
            "2.0547640323638916\n",
            "2.080859661102295\n"
          ],
          "name": "stdout"
        },
        {
          "output_type": "stream",
          "text": [
            "1252it [02:41,  7.62it/s]"
          ],
          "name": "stderr"
        },
        {
          "output_type": "stream",
          "text": [
            "2.0578596591949463\n",
            "2.1432132720947266\n"
          ],
          "name": "stdout"
        },
        {
          "output_type": "stream",
          "text": [
            "1254it [02:41,  7.69it/s]"
          ],
          "name": "stderr"
        },
        {
          "output_type": "stream",
          "text": [
            "2.016807794570923\n",
            "2.0829553604125977\n"
          ],
          "name": "stdout"
        },
        {
          "output_type": "stream",
          "text": [
            "1256it [02:41,  7.77it/s]"
          ],
          "name": "stderr"
        },
        {
          "output_type": "stream",
          "text": [
            "2.0646824836730957\n",
            "2.0543315410614014\n"
          ],
          "name": "stdout"
        },
        {
          "output_type": "stream",
          "text": [
            "1258it [02:42,  7.71it/s]"
          ],
          "name": "stderr"
        },
        {
          "output_type": "stream",
          "text": [
            "2.0488038063049316\n",
            "2.019475221633911\n"
          ],
          "name": "stdout"
        },
        {
          "output_type": "stream",
          "text": [
            "1260it [02:42,  7.75it/s]"
          ],
          "name": "stderr"
        },
        {
          "output_type": "stream",
          "text": [
            "2.0368642807006836\n",
            "2.092046022415161\n"
          ],
          "name": "stdout"
        },
        {
          "output_type": "stream",
          "text": [
            "1262it [02:42,  7.70it/s]"
          ],
          "name": "stderr"
        },
        {
          "output_type": "stream",
          "text": [
            "2.0613057613372803\n",
            "2.0528290271759033\n"
          ],
          "name": "stdout"
        },
        {
          "output_type": "stream",
          "text": [
            "1264it [02:42,  7.79it/s]"
          ],
          "name": "stderr"
        },
        {
          "output_type": "stream",
          "text": [
            "2.099367141723633\n",
            "2.1068835258483887\n"
          ],
          "name": "stdout"
        },
        {
          "output_type": "stream",
          "text": [
            "1266it [02:43,  7.74it/s]"
          ],
          "name": "stderr"
        },
        {
          "output_type": "stream",
          "text": [
            "2.0901341438293457\n",
            "2.1219866275787354\n"
          ],
          "name": "stdout"
        },
        {
          "output_type": "stream",
          "text": [
            "1268it [02:43,  7.80it/s]"
          ],
          "name": "stderr"
        },
        {
          "output_type": "stream",
          "text": [
            "2.0386860370635986\n",
            "2.1465964317321777\n"
          ],
          "name": "stdout"
        },
        {
          "output_type": "stream",
          "text": [
            "1270it [02:43,  7.82it/s]"
          ],
          "name": "stderr"
        },
        {
          "output_type": "stream",
          "text": [
            "2.064976453781128\n",
            "2.0894370079040527\n"
          ],
          "name": "stdout"
        },
        {
          "output_type": "stream",
          "text": [
            "1272it [02:43,  7.90it/s]"
          ],
          "name": "stderr"
        },
        {
          "output_type": "stream",
          "text": [
            "2.19234561920166\n",
            "2.145536184310913\n"
          ],
          "name": "stdout"
        },
        {
          "output_type": "stream",
          "text": [
            "1274it [02:44,  7.78it/s]"
          ],
          "name": "stderr"
        },
        {
          "output_type": "stream",
          "text": [
            "2.0312979221343994\n",
            "1.9819892644882202\n"
          ],
          "name": "stdout"
        },
        {
          "output_type": "stream",
          "text": [
            "1276it [02:44,  7.52it/s]"
          ],
          "name": "stderr"
        },
        {
          "output_type": "stream",
          "text": [
            "2.094723701477051\n",
            "2.083077907562256\n"
          ],
          "name": "stdout"
        },
        {
          "output_type": "stream",
          "text": [
            "1278it [02:44,  7.72it/s]"
          ],
          "name": "stderr"
        },
        {
          "output_type": "stream",
          "text": [
            "2.0646746158599854\n",
            "2.0732085704803467\n"
          ],
          "name": "stdout"
        },
        {
          "output_type": "stream",
          "text": [
            "1280it [02:45,  7.80it/s]"
          ],
          "name": "stderr"
        },
        {
          "output_type": "stream",
          "text": [
            "2.164494037628174\n",
            "2.079721689224243\n"
          ],
          "name": "stdout"
        },
        {
          "output_type": "stream",
          "text": [
            "1282it [02:45,  7.78it/s]"
          ],
          "name": "stderr"
        },
        {
          "output_type": "stream",
          "text": [
            "2.0984010696411133\n",
            "2.0598084926605225\n"
          ],
          "name": "stdout"
        },
        {
          "output_type": "stream",
          "text": [
            "1284it [02:45,  7.70it/s]"
          ],
          "name": "stderr"
        },
        {
          "output_type": "stream",
          "text": [
            "2.0757997035980225\n",
            "2.0549302101135254\n"
          ],
          "name": "stdout"
        },
        {
          "output_type": "stream",
          "text": [
            "1286it [02:45,  7.74it/s]"
          ],
          "name": "stderr"
        },
        {
          "output_type": "stream",
          "text": [
            "2.107816457748413\n",
            "2.083595037460327\n"
          ],
          "name": "stdout"
        },
        {
          "output_type": "stream",
          "text": [
            "1288it [02:46,  7.74it/s]"
          ],
          "name": "stderr"
        },
        {
          "output_type": "stream",
          "text": [
            "2.0879082679748535\n",
            "2.067605495452881\n"
          ],
          "name": "stdout"
        },
        {
          "output_type": "stream",
          "text": [
            "1290it [02:46,  7.67it/s]"
          ],
          "name": "stderr"
        },
        {
          "output_type": "stream",
          "text": [
            "2.1746890544891357\n",
            "2.144960403442383\n"
          ],
          "name": "stdout"
        },
        {
          "output_type": "stream",
          "text": [
            "1292it [02:46,  7.49it/s]"
          ],
          "name": "stderr"
        },
        {
          "output_type": "stream",
          "text": [
            "2.0681076049804688\n",
            "2.101505756378174\n"
          ],
          "name": "stdout"
        },
        {
          "output_type": "stream",
          "text": [
            "1294it [02:46,  7.60it/s]"
          ],
          "name": "stderr"
        },
        {
          "output_type": "stream",
          "text": [
            "2.137167453765869\n",
            "2.0946176052093506\n"
          ],
          "name": "stdout"
        },
        {
          "output_type": "stream",
          "text": [
            "1296it [02:47,  7.72it/s]"
          ],
          "name": "stderr"
        },
        {
          "output_type": "stream",
          "text": [
            "2.1869897842407227\n",
            "2.262613534927368\n"
          ],
          "name": "stdout"
        },
        {
          "output_type": "stream",
          "text": [
            "1298it [02:47,  7.65it/s]"
          ],
          "name": "stderr"
        },
        {
          "output_type": "stream",
          "text": [
            "2.225184917449951\n",
            "2.147003412246704\n"
          ],
          "name": "stdout"
        },
        {
          "output_type": "stream",
          "text": [
            "1300it [02:47,  7.75it/s]"
          ],
          "name": "stderr"
        },
        {
          "output_type": "stream",
          "text": [
            "2.105132579803467\n",
            "2.0784006118774414\n"
          ],
          "name": "stdout"
        },
        {
          "output_type": "stream",
          "text": [
            "1302it [02:47,  7.76it/s]"
          ],
          "name": "stderr"
        },
        {
          "output_type": "stream",
          "text": [
            "2.1607985496520996\n",
            "2.0899627208709717\n"
          ],
          "name": "stdout"
        },
        {
          "output_type": "stream",
          "text": [
            "1304it [02:48,  7.56it/s]"
          ],
          "name": "stderr"
        },
        {
          "output_type": "stream",
          "text": [
            "2.1059987545013428\n",
            "2.0940041542053223\n"
          ],
          "name": "stdout"
        },
        {
          "output_type": "stream",
          "text": [
            "1306it [02:48,  7.51it/s]"
          ],
          "name": "stderr"
        },
        {
          "output_type": "stream",
          "text": [
            "2.1040098667144775\n",
            "2.1746294498443604\n"
          ],
          "name": "stdout"
        },
        {
          "output_type": "stream",
          "text": [
            "1308it [02:48,  7.55it/s]"
          ],
          "name": "stderr"
        },
        {
          "output_type": "stream",
          "text": [
            "2.0735697746276855\n",
            "2.0933361053466797\n"
          ],
          "name": "stdout"
        },
        {
          "output_type": "stream",
          "text": [
            "1310it [02:48,  7.61it/s]"
          ],
          "name": "stderr"
        },
        {
          "output_type": "stream",
          "text": [
            "2.1349844932556152\n",
            "2.1198174953460693\n"
          ],
          "name": "stdout"
        },
        {
          "output_type": "stream",
          "text": [
            "1312it [02:49,  7.49it/s]"
          ],
          "name": "stderr"
        },
        {
          "output_type": "stream",
          "text": [
            "2.146026849746704\n",
            "2.158247709274292\n"
          ],
          "name": "stdout"
        },
        {
          "output_type": "stream",
          "text": [
            "1314it [02:49,  7.60it/s]"
          ],
          "name": "stderr"
        },
        {
          "output_type": "stream",
          "text": [
            "2.0738680362701416\n",
            "2.1430139541625977\n"
          ],
          "name": "stdout"
        },
        {
          "output_type": "stream",
          "text": [
            "1316it [02:49,  7.67it/s]"
          ],
          "name": "stderr"
        },
        {
          "output_type": "stream",
          "text": [
            "2.017524003982544\n",
            "2.0717532634735107\n"
          ],
          "name": "stdout"
        },
        {
          "output_type": "stream",
          "text": [
            "1318it [02:50,  7.79it/s]"
          ],
          "name": "stderr"
        },
        {
          "output_type": "stream",
          "text": [
            "2.0066606998443604\n",
            "2.105130910873413\n"
          ],
          "name": "stdout"
        },
        {
          "output_type": "stream",
          "text": [
            "1320it [02:50,  7.70it/s]"
          ],
          "name": "stderr"
        },
        {
          "output_type": "stream",
          "text": [
            "2.040286064147949\n",
            "2.00994610786438\n"
          ],
          "name": "stdout"
        },
        {
          "output_type": "stream",
          "text": [
            "1322it [02:50,  7.77it/s]"
          ],
          "name": "stderr"
        },
        {
          "output_type": "stream",
          "text": [
            "2.1112561225891113\n",
            "2.0475807189941406\n"
          ],
          "name": "stdout"
        },
        {
          "output_type": "stream",
          "text": [
            "1324it [02:50,  7.68it/s]"
          ],
          "name": "stderr"
        },
        {
          "output_type": "stream",
          "text": [
            "2.0178825855255127\n",
            "2.076957941055298\n"
          ],
          "name": "stdout"
        },
        {
          "output_type": "stream",
          "text": [
            "1326it [02:51,  7.73it/s]"
          ],
          "name": "stderr"
        },
        {
          "output_type": "stream",
          "text": [
            "2.0543437004089355\n",
            "2.1056787967681885\n"
          ],
          "name": "stdout"
        },
        {
          "output_type": "stream",
          "text": [
            "1328it [02:51,  7.65it/s]"
          ],
          "name": "stderr"
        },
        {
          "output_type": "stream",
          "text": [
            "2.109194040298462\n",
            "2.1914150714874268\n"
          ],
          "name": "stdout"
        },
        {
          "output_type": "stream",
          "text": [
            "1330it [02:51,  7.66it/s]"
          ],
          "name": "stderr"
        },
        {
          "output_type": "stream",
          "text": [
            "2.0728042125701904\n",
            "2.0364973545074463\n"
          ],
          "name": "stdout"
        },
        {
          "output_type": "stream",
          "text": [
            "1332it [02:51,  7.73it/s]"
          ],
          "name": "stderr"
        },
        {
          "output_type": "stream",
          "text": [
            "2.113645553588867\n",
            "2.1469569206237793\n"
          ],
          "name": "stdout"
        },
        {
          "output_type": "stream",
          "text": [
            "1334it [02:52,  7.62it/s]"
          ],
          "name": "stderr"
        },
        {
          "output_type": "stream",
          "text": [
            "2.062398910522461\n",
            "2.110265016555786\n"
          ],
          "name": "stdout"
        },
        {
          "output_type": "stream",
          "text": [
            "1336it [02:52,  7.55it/s]"
          ],
          "name": "stderr"
        },
        {
          "output_type": "stream",
          "text": [
            "2.048114538192749\n",
            "2.061877727508545\n"
          ],
          "name": "stdout"
        },
        {
          "output_type": "stream",
          "text": [
            "1338it [02:52,  7.72it/s]"
          ],
          "name": "stderr"
        },
        {
          "output_type": "stream",
          "text": [
            "1.9839236736297607\n",
            "2.153010129928589\n"
          ],
          "name": "stdout"
        },
        {
          "output_type": "stream",
          "text": [
            "1340it [02:52,  7.71it/s]"
          ],
          "name": "stderr"
        },
        {
          "output_type": "stream",
          "text": [
            "2.1499438285827637\n",
            "2.0904738903045654\n"
          ],
          "name": "stdout"
        },
        {
          "output_type": "stream",
          "text": [
            "1342it [02:53,  7.79it/s]"
          ],
          "name": "stderr"
        },
        {
          "output_type": "stream",
          "text": [
            "2.206355571746826\n",
            "2.0471575260162354\n"
          ],
          "name": "stdout"
        },
        {
          "output_type": "stream",
          "text": [
            "1344it [02:53,  7.64it/s]"
          ],
          "name": "stderr"
        },
        {
          "output_type": "stream",
          "text": [
            "1.9407867193222046\n",
            "2.043976068496704\n"
          ],
          "name": "stdout"
        },
        {
          "output_type": "stream",
          "text": [
            "1346it [02:53,  7.72it/s]"
          ],
          "name": "stderr"
        },
        {
          "output_type": "stream",
          "text": [
            "2.07940673828125\n",
            "2.0712687969207764\n"
          ],
          "name": "stdout"
        },
        {
          "output_type": "stream",
          "text": [
            "1348it [02:53,  7.68it/s]"
          ],
          "name": "stderr"
        },
        {
          "output_type": "stream",
          "text": [
            "2.121187686920166\n",
            "2.0657083988189697\n"
          ],
          "name": "stdout"
        },
        {
          "output_type": "stream",
          "text": [
            "1350it [02:54,  7.78it/s]"
          ],
          "name": "stderr"
        },
        {
          "output_type": "stream",
          "text": [
            "2.100510835647583\n",
            "2.0498366355895996\n"
          ],
          "name": "stdout"
        },
        {
          "output_type": "stream",
          "text": [
            "1352it [02:54,  7.72it/s]"
          ],
          "name": "stderr"
        },
        {
          "output_type": "stream",
          "text": [
            "2.059979200363159\n",
            "2.0321085453033447\n"
          ],
          "name": "stdout"
        },
        {
          "output_type": "stream",
          "text": [
            "1354it [02:54,  7.84it/s]"
          ],
          "name": "stderr"
        },
        {
          "output_type": "stream",
          "text": [
            "2.111804962158203\n",
            "1.9737646579742432\n"
          ],
          "name": "stdout"
        },
        {
          "output_type": "stream",
          "text": [
            "1356it [02:54,  7.88it/s]"
          ],
          "name": "stderr"
        },
        {
          "output_type": "stream",
          "text": [
            "2.0164783000946045\n",
            "2.104060649871826\n"
          ],
          "name": "stdout"
        },
        {
          "output_type": "stream",
          "text": [
            "1358it [02:55,  7.83it/s]"
          ],
          "name": "stderr"
        },
        {
          "output_type": "stream",
          "text": [
            "2.0998013019561768\n",
            "2.1757726669311523\n"
          ],
          "name": "stdout"
        },
        {
          "output_type": "stream",
          "text": [
            "1360it [02:55,  7.78it/s]"
          ],
          "name": "stderr"
        },
        {
          "output_type": "stream",
          "text": [
            "2.1295344829559326\n",
            "2.145312786102295\n"
          ],
          "name": "stdout"
        },
        {
          "output_type": "stream",
          "text": [
            "1362it [02:55,  7.81it/s]"
          ],
          "name": "stderr"
        },
        {
          "output_type": "stream",
          "text": [
            "2.1514015197753906\n",
            "2.0813419818878174\n"
          ],
          "name": "stdout"
        },
        {
          "output_type": "stream",
          "text": [
            "1364it [02:55,  7.80it/s]"
          ],
          "name": "stderr"
        },
        {
          "output_type": "stream",
          "text": [
            "2.040015697479248\n",
            "2.108948230743408\n"
          ],
          "name": "stdout"
        },
        {
          "output_type": "stream",
          "text": [
            "1366it [02:56,  7.81it/s]"
          ],
          "name": "stderr"
        },
        {
          "output_type": "stream",
          "text": [
            "2.004939556121826\n",
            "2.046689748764038\n"
          ],
          "name": "stdout"
        },
        {
          "output_type": "stream",
          "text": [
            "1368it [02:56,  7.70it/s]"
          ],
          "name": "stderr"
        },
        {
          "output_type": "stream",
          "text": [
            "2.1456265449523926\n",
            "2.197951316833496\n"
          ],
          "name": "stdout"
        },
        {
          "output_type": "stream",
          "text": [
            "1370it [02:56,  7.55it/s]"
          ],
          "name": "stderr"
        },
        {
          "output_type": "stream",
          "text": [
            "2.135277032852173\n",
            "2.145733594894409\n"
          ],
          "name": "stdout"
        },
        {
          "output_type": "stream",
          "text": [
            "1372it [02:57,  7.55it/s]"
          ],
          "name": "stderr"
        },
        {
          "output_type": "stream",
          "text": [
            "2.1446268558502197\n",
            "2.0406155586242676\n"
          ],
          "name": "stdout"
        },
        {
          "output_type": "stream",
          "text": [
            "1374it [02:57,  7.59it/s]"
          ],
          "name": "stderr"
        },
        {
          "output_type": "stream",
          "text": [
            "2.076274871826172\n",
            "2.037382125854492\n"
          ],
          "name": "stdout"
        },
        {
          "output_type": "stream",
          "text": [
            "1376it [02:57,  7.57it/s]"
          ],
          "name": "stderr"
        },
        {
          "output_type": "stream",
          "text": [
            "2.0043790340423584\n",
            "2.1409292221069336\n"
          ],
          "name": "stdout"
        },
        {
          "output_type": "stream",
          "text": [
            "1378it [02:57,  7.56it/s]"
          ],
          "name": "stderr"
        },
        {
          "output_type": "stream",
          "text": [
            "2.1797521114349365\n",
            "2.048539161682129\n"
          ],
          "name": "stdout"
        },
        {
          "output_type": "stream",
          "text": [
            "1380it [02:58,  7.61it/s]"
          ],
          "name": "stderr"
        },
        {
          "output_type": "stream",
          "text": [
            "2.0735020637512207\n",
            "2.090258836746216\n"
          ],
          "name": "stdout"
        },
        {
          "output_type": "stream",
          "text": [
            "1382it [02:58,  7.52it/s]"
          ],
          "name": "stderr"
        },
        {
          "output_type": "stream",
          "text": [
            "2.0401439666748047\n",
            "2.0032644271850586\n"
          ],
          "name": "stdout"
        },
        {
          "output_type": "stream",
          "text": [
            "1384it [02:58,  7.58it/s]"
          ],
          "name": "stderr"
        },
        {
          "output_type": "stream",
          "text": [
            "1.993478536605835\n",
            "2.004316806793213\n"
          ],
          "name": "stdout"
        },
        {
          "output_type": "stream",
          "text": [
            "1386it [02:58,  7.63it/s]"
          ],
          "name": "stderr"
        },
        {
          "output_type": "stream",
          "text": [
            "2.0688729286193848\n",
            "2.1065306663513184\n"
          ],
          "name": "stdout"
        },
        {
          "output_type": "stream",
          "text": [
            "1388it [02:59,  7.56it/s]"
          ],
          "name": "stderr"
        },
        {
          "output_type": "stream",
          "text": [
            "2.0683047771453857\n",
            "2.1322665214538574\n"
          ],
          "name": "stdout"
        },
        {
          "output_type": "stream",
          "text": [
            "1390it [02:59,  7.35it/s]"
          ],
          "name": "stderr"
        },
        {
          "output_type": "stream",
          "text": [
            "2.127060651779175\n",
            "2.0900559425354004\n"
          ],
          "name": "stdout"
        },
        {
          "output_type": "stream",
          "text": [
            "1392it [02:59,  7.53it/s]"
          ],
          "name": "stderr"
        },
        {
          "output_type": "stream",
          "text": [
            "2.0164029598236084\n",
            "2.053143262863159\n"
          ],
          "name": "stdout"
        },
        {
          "output_type": "stream",
          "text": [
            "1394it [02:59,  7.48it/s]"
          ],
          "name": "stderr"
        },
        {
          "output_type": "stream",
          "text": [
            "2.087278366088867\n",
            "2.1671152114868164\n"
          ],
          "name": "stdout"
        },
        {
          "output_type": "stream",
          "text": [
            "1396it [03:00,  7.55it/s]"
          ],
          "name": "stderr"
        },
        {
          "output_type": "stream",
          "text": [
            "1.9928079843521118\n",
            "2.088392496109009\n"
          ],
          "name": "stdout"
        },
        {
          "output_type": "stream",
          "text": [
            "1398it [03:00,  7.46it/s]"
          ],
          "name": "stderr"
        },
        {
          "output_type": "stream",
          "text": [
            "2.0675625801086426\n",
            "2.061680793762207\n"
          ],
          "name": "stdout"
        },
        {
          "output_type": "stream",
          "text": [
            "1400it [03:00,  7.57it/s]"
          ],
          "name": "stderr"
        },
        {
          "output_type": "stream",
          "text": [
            "2.1151742935180664\n",
            "2.0600597858428955\n"
          ],
          "name": "stdout"
        },
        {
          "output_type": "stream",
          "text": [
            "1402it [03:01,  7.53it/s]"
          ],
          "name": "stderr"
        },
        {
          "output_type": "stream",
          "text": [
            "1.972559928894043\n",
            "2.169664144515991\n"
          ],
          "name": "stdout"
        },
        {
          "output_type": "stream",
          "text": [
            "1404it [03:01,  7.58it/s]"
          ],
          "name": "stderr"
        },
        {
          "output_type": "stream",
          "text": [
            "2.109278440475464\n",
            "2.1155812740325928\n"
          ],
          "name": "stdout"
        },
        {
          "output_type": "stream",
          "text": [
            "1406it [03:01,  7.52it/s]"
          ],
          "name": "stderr"
        },
        {
          "output_type": "stream",
          "text": [
            "2.0874650478363037\n",
            "2.0512285232543945\n"
          ],
          "name": "stdout"
        },
        {
          "output_type": "stream",
          "text": [
            "1408it [03:01,  7.45it/s]"
          ],
          "name": "stderr"
        },
        {
          "output_type": "stream",
          "text": [
            "2.004732131958008\n",
            "2.035184860229492\n"
          ],
          "name": "stdout"
        },
        {
          "output_type": "stream",
          "text": [
            "1410it [03:02,  7.57it/s]"
          ],
          "name": "stderr"
        },
        {
          "output_type": "stream",
          "text": [
            "2.0636703968048096\n",
            "2.0691111087799072\n"
          ],
          "name": "stdout"
        },
        {
          "output_type": "stream",
          "text": [
            "1412it [03:02,  7.54it/s]"
          ],
          "name": "stderr"
        },
        {
          "output_type": "stream",
          "text": [
            "2.167795419692993\n",
            "2.070171594619751\n"
          ],
          "name": "stdout"
        },
        {
          "output_type": "stream",
          "text": [
            "1414it [03:02,  7.59it/s]"
          ],
          "name": "stderr"
        },
        {
          "output_type": "stream",
          "text": [
            "2.1424388885498047\n",
            "2.003532886505127\n"
          ],
          "name": "stdout"
        },
        {
          "output_type": "stream",
          "text": [
            "1416it [03:02,  7.74it/s]"
          ],
          "name": "stderr"
        },
        {
          "output_type": "stream",
          "text": [
            "2.181907892227173\n",
            "1.967655897140503\n"
          ],
          "name": "stdout"
        },
        {
          "output_type": "stream",
          "text": [
            "1418it [03:03,  7.77it/s]"
          ],
          "name": "stderr"
        },
        {
          "output_type": "stream",
          "text": [
            "2.060777425765991\n",
            "2.124415636062622\n"
          ],
          "name": "stdout"
        },
        {
          "output_type": "stream",
          "text": [
            "1420it [03:03,  7.77it/s]"
          ],
          "name": "stderr"
        },
        {
          "output_type": "stream",
          "text": [
            "2.1083383560180664\n",
            "2.0879106521606445\n"
          ],
          "name": "stdout"
        },
        {
          "output_type": "stream",
          "text": [
            "1422it [03:03,  7.70it/s]"
          ],
          "name": "stderr"
        },
        {
          "output_type": "stream",
          "text": [
            "2.1023552417755127\n",
            "2.0346248149871826\n"
          ],
          "name": "stdout"
        },
        {
          "output_type": "stream",
          "text": [
            "1424it [03:03,  7.76it/s]"
          ],
          "name": "stderr"
        },
        {
          "output_type": "stream",
          "text": [
            "2.18977689743042\n",
            "1.980282187461853\n"
          ],
          "name": "stdout"
        },
        {
          "output_type": "stream",
          "text": [
            "1426it [03:04,  7.82it/s]"
          ],
          "name": "stderr"
        },
        {
          "output_type": "stream",
          "text": [
            "2.070516347885132\n",
            "2.0502607822418213\n"
          ],
          "name": "stdout"
        },
        {
          "output_type": "stream",
          "text": [
            "1428it [03:04,  7.76it/s]"
          ],
          "name": "stderr"
        },
        {
          "output_type": "stream",
          "text": [
            "2.098372459411621\n",
            "2.0959110260009766\n"
          ],
          "name": "stdout"
        },
        {
          "output_type": "stream",
          "text": [
            "1430it [03:04,  7.76it/s]"
          ],
          "name": "stderr"
        },
        {
          "output_type": "stream",
          "text": [
            "2.049729347229004\n",
            "2.125115394592285\n"
          ],
          "name": "stdout"
        },
        {
          "output_type": "stream",
          "text": [
            "1432it [03:04,  7.81it/s]"
          ],
          "name": "stderr"
        },
        {
          "output_type": "stream",
          "text": [
            "2.0713651180267334\n",
            "2.0288517475128174\n"
          ],
          "name": "stdout"
        },
        {
          "output_type": "stream",
          "text": [
            "1434it [03:05,  7.78it/s]"
          ],
          "name": "stderr"
        },
        {
          "output_type": "stream",
          "text": [
            "2.006624460220337\n",
            "1.9976904392242432\n"
          ],
          "name": "stdout"
        },
        {
          "output_type": "stream",
          "text": [
            "1436it [03:05,  7.72it/s]"
          ],
          "name": "stderr"
        },
        {
          "output_type": "stream",
          "text": [
            "2.144981622695923\n",
            "2.0268852710723877\n"
          ],
          "name": "stdout"
        },
        {
          "output_type": "stream",
          "text": [
            "1438it [03:05,  7.78it/s]"
          ],
          "name": "stderr"
        },
        {
          "output_type": "stream",
          "text": [
            "1.9557156562805176\n",
            "2.007568359375\n"
          ],
          "name": "stdout"
        },
        {
          "output_type": "stream",
          "text": [
            "1440it [03:05,  7.73it/s]"
          ],
          "name": "stderr"
        },
        {
          "output_type": "stream",
          "text": [
            "2.1291325092315674\n",
            "2.0367822647094727\n"
          ],
          "name": "stdout"
        },
        {
          "output_type": "stream",
          "text": [
            "1442it [03:06,  7.79it/s]"
          ],
          "name": "stderr"
        },
        {
          "output_type": "stream",
          "text": [
            "2.16044545173645\n",
            "2.076521158218384\n"
          ],
          "name": "stdout"
        },
        {
          "output_type": "stream",
          "text": [
            "1444it [03:06,  7.66it/s]"
          ],
          "name": "stderr"
        },
        {
          "output_type": "stream",
          "text": [
            "2.0838260650634766\n",
            "1.9777030944824219\n"
          ],
          "name": "stdout"
        },
        {
          "output_type": "stream",
          "text": [
            "1446it [03:06,  7.75it/s]"
          ],
          "name": "stderr"
        },
        {
          "output_type": "stream",
          "text": [
            "2.088230609893799\n",
            "2.035388946533203\n"
          ],
          "name": "stdout"
        },
        {
          "output_type": "stream",
          "text": [
            "1448it [03:07,  7.59it/s]"
          ],
          "name": "stderr"
        },
        {
          "output_type": "stream",
          "text": [
            "2.1070635318756104\n",
            "2.0195090770721436\n"
          ],
          "name": "stdout"
        },
        {
          "output_type": "stream",
          "text": [
            "1450it [03:07,  7.57it/s]"
          ],
          "name": "stderr"
        },
        {
          "output_type": "stream",
          "text": [
            "2.061502456665039\n",
            "2.0486607551574707\n"
          ],
          "name": "stdout"
        },
        {
          "output_type": "stream",
          "text": [
            "1452it [03:07,  7.61it/s]"
          ],
          "name": "stderr"
        },
        {
          "output_type": "stream",
          "text": [
            "2.0187952518463135\n",
            "2.1293766498565674\n"
          ],
          "name": "stdout"
        },
        {
          "output_type": "stream",
          "text": [
            "1454it [03:07,  7.75it/s]"
          ],
          "name": "stderr"
        },
        {
          "output_type": "stream",
          "text": [
            "2.0733280181884766\n",
            "2.0649192333221436\n"
          ],
          "name": "stdout"
        },
        {
          "output_type": "stream",
          "text": [
            "1456it [03:08,  7.82it/s]"
          ],
          "name": "stderr"
        },
        {
          "output_type": "stream",
          "text": [
            "2.111693859100342\n",
            "2.099212884902954\n"
          ],
          "name": "stdout"
        },
        {
          "output_type": "stream",
          "text": [
            "1458it [03:08,  7.73it/s]"
          ],
          "name": "stderr"
        },
        {
          "output_type": "stream",
          "text": [
            "2.106679677963257\n",
            "2.108907461166382\n"
          ],
          "name": "stdout"
        },
        {
          "output_type": "stream",
          "text": [
            "1460it [03:08,  7.66it/s]"
          ],
          "name": "stderr"
        },
        {
          "output_type": "stream",
          "text": [
            "2.055891752243042\n",
            "2.067192316055298\n"
          ],
          "name": "stdout"
        },
        {
          "output_type": "stream",
          "text": [
            "1462it [03:08,  7.56it/s]"
          ],
          "name": "stderr"
        },
        {
          "output_type": "stream",
          "text": [
            "2.0734148025512695\n",
            "2.0405404567718506\n"
          ],
          "name": "stdout"
        },
        {
          "output_type": "stream",
          "text": [
            "1464it [03:09,  7.68it/s]"
          ],
          "name": "stderr"
        },
        {
          "output_type": "stream",
          "text": [
            "2.091156005859375\n",
            "2.0281858444213867\n"
          ],
          "name": "stdout"
        },
        {
          "output_type": "stream",
          "text": [
            "1466it [03:09,  7.76it/s]"
          ],
          "name": "stderr"
        },
        {
          "output_type": "stream",
          "text": [
            "2.02301025390625\n",
            "2.067523717880249\n"
          ],
          "name": "stdout"
        },
        {
          "output_type": "stream",
          "text": [
            "1468it [03:09,  7.67it/s]"
          ],
          "name": "stderr"
        },
        {
          "output_type": "stream",
          "text": [
            "2.1052186489105225\n",
            "2.0107784271240234\n"
          ],
          "name": "stdout"
        },
        {
          "output_type": "stream",
          "text": [
            "1470it [03:09,  7.72it/s]"
          ],
          "name": "stderr"
        },
        {
          "output_type": "stream",
          "text": [
            "2.0466251373291016\n",
            "2.051866054534912\n"
          ],
          "name": "stdout"
        },
        {
          "output_type": "stream",
          "text": [
            "1472it [03:10,  7.67it/s]"
          ],
          "name": "stderr"
        },
        {
          "output_type": "stream",
          "text": [
            "2.126329183578491\n",
            "2.0982394218444824\n"
          ],
          "name": "stdout"
        },
        {
          "output_type": "stream",
          "text": [
            "1474it [03:10,  7.71it/s]"
          ],
          "name": "stderr"
        },
        {
          "output_type": "stream",
          "text": [
            "2.131469249725342\n",
            "2.1110246181488037\n"
          ],
          "name": "stdout"
        },
        {
          "output_type": "stream",
          "text": [
            "1476it [03:10,  7.68it/s]"
          ],
          "name": "stderr"
        },
        {
          "output_type": "stream",
          "text": [
            "2.0323784351348877\n",
            "2.0329971313476562\n"
          ],
          "name": "stdout"
        },
        {
          "output_type": "stream",
          "text": [
            "1478it [03:10,  7.74it/s]"
          ],
          "name": "stderr"
        },
        {
          "output_type": "stream",
          "text": [
            "2.013251304626465\n",
            "2.052050828933716\n"
          ],
          "name": "stdout"
        },
        {
          "output_type": "stream",
          "text": [
            "1480it [03:11,  7.81it/s]"
          ],
          "name": "stderr"
        },
        {
          "output_type": "stream",
          "text": [
            "2.074925661087036\n",
            "2.0140721797943115\n"
          ],
          "name": "stdout"
        },
        {
          "output_type": "stream",
          "text": [
            "1482it [03:11,  7.82it/s]"
          ],
          "name": "stderr"
        },
        {
          "output_type": "stream",
          "text": [
            "2.0824368000030518\n",
            "2.1235601902008057\n"
          ],
          "name": "stdout"
        },
        {
          "output_type": "stream",
          "text": [
            "1484it [03:11,  7.59it/s]"
          ],
          "name": "stderr"
        },
        {
          "output_type": "stream",
          "text": [
            "2.1479949951171875\n",
            "1.9962841272354126\n"
          ],
          "name": "stdout"
        },
        {
          "output_type": "stream",
          "text": [
            "1486it [03:11,  7.69it/s]"
          ],
          "name": "stderr"
        },
        {
          "output_type": "stream",
          "text": [
            "2.06010103225708\n",
            "1.9738976955413818\n"
          ],
          "name": "stdout"
        },
        {
          "output_type": "stream",
          "text": [
            "1488it [03:12,  7.68it/s]"
          ],
          "name": "stderr"
        },
        {
          "output_type": "stream",
          "text": [
            "2.021151065826416\n",
            "1.9689409732818604\n"
          ],
          "name": "stdout"
        },
        {
          "output_type": "stream",
          "text": [
            "1490it [03:12,  7.74it/s]"
          ],
          "name": "stderr"
        },
        {
          "output_type": "stream",
          "text": [
            "2.0265164375305176\n",
            "1.989010214805603\n"
          ],
          "name": "stdout"
        },
        {
          "output_type": "stream",
          "text": [
            "1492it [03:12,  7.71it/s]"
          ],
          "name": "stderr"
        },
        {
          "output_type": "stream",
          "text": [
            "1.918713092803955\n",
            "2.1259500980377197\n"
          ],
          "name": "stdout"
        },
        {
          "output_type": "stream",
          "text": [
            "1494it [03:13,  7.75it/s]"
          ],
          "name": "stderr"
        },
        {
          "output_type": "stream",
          "text": [
            "2.05366587638855\n",
            "2.1044585704803467\n"
          ],
          "name": "stdout"
        },
        {
          "output_type": "stream",
          "text": [
            "1496it [03:13,  7.63it/s]"
          ],
          "name": "stderr"
        },
        {
          "output_type": "stream",
          "text": [
            "2.304466485977173\n",
            "2.1646652221679688\n"
          ],
          "name": "stdout"
        },
        {
          "output_type": "stream",
          "text": [
            "1498it [03:13,  7.81it/s]"
          ],
          "name": "stderr"
        },
        {
          "output_type": "stream",
          "text": [
            "2.048861026763916\n",
            "2.009345293045044\n"
          ],
          "name": "stdout"
        },
        {
          "output_type": "stream",
          "text": [
            "1500it [03:13,  7.76it/s]"
          ],
          "name": "stderr"
        },
        {
          "output_type": "stream",
          "text": [
            "2.105929136276245\n",
            "2.0692126750946045\n"
          ],
          "name": "stdout"
        },
        {
          "output_type": "stream",
          "text": [
            "1502it [03:14,  7.82it/s]"
          ],
          "name": "stderr"
        },
        {
          "output_type": "stream",
          "text": [
            "2.084162473678589\n",
            "2.0108728408813477\n"
          ],
          "name": "stdout"
        },
        {
          "output_type": "stream",
          "text": [
            "1504it [03:14,  7.77it/s]"
          ],
          "name": "stderr"
        },
        {
          "output_type": "stream",
          "text": [
            "1.9163511991500854\n",
            "1.9703736305236816\n"
          ],
          "name": "stdout"
        },
        {
          "output_type": "stream",
          "text": [
            "1506it [03:14,  7.78it/s]"
          ],
          "name": "stderr"
        },
        {
          "output_type": "stream",
          "text": [
            "2.0562891960144043\n",
            "2.0347371101379395\n"
          ],
          "name": "stdout"
        },
        {
          "output_type": "stream",
          "text": [
            "1508it [03:14,  7.66it/s]"
          ],
          "name": "stderr"
        },
        {
          "output_type": "stream",
          "text": [
            "2.0774412155151367\n",
            "2.03277587890625\n"
          ],
          "name": "stdout"
        },
        {
          "output_type": "stream",
          "text": [
            "1510it [03:15,  7.72it/s]"
          ],
          "name": "stderr"
        },
        {
          "output_type": "stream",
          "text": [
            "2.0905258655548096\n",
            "2.136408805847168\n"
          ],
          "name": "stdout"
        },
        {
          "output_type": "stream",
          "text": [
            "1512it [03:15,  7.73it/s]"
          ],
          "name": "stderr"
        },
        {
          "output_type": "stream",
          "text": [
            "2.1623551845550537\n",
            "2.1993374824523926\n"
          ],
          "name": "stdout"
        },
        {
          "output_type": "stream",
          "text": [
            "1514it [03:15,  7.68it/s]"
          ],
          "name": "stderr"
        },
        {
          "output_type": "stream",
          "text": [
            "2.0119361877441406\n",
            "2.0297629833221436\n"
          ],
          "name": "stdout"
        },
        {
          "output_type": "stream",
          "text": [
            "1516it [03:15,  7.74it/s]"
          ],
          "name": "stderr"
        },
        {
          "output_type": "stream",
          "text": [
            "2.0258970260620117\n",
            "2.1323184967041016\n"
          ],
          "name": "stdout"
        },
        {
          "output_type": "stream",
          "text": [
            "1518it [03:16,  6.63it/s]"
          ],
          "name": "stderr"
        },
        {
          "output_type": "stream",
          "text": [
            "2.0350401401519775\n",
            "2.140871524810791\n"
          ],
          "name": "stdout"
        },
        {
          "output_type": "stream",
          "text": [
            "1520it [03:16,  6.44it/s]"
          ],
          "name": "stderr"
        },
        {
          "output_type": "stream",
          "text": [
            "2.0611090660095215\n",
            "2.030693292617798\n"
          ],
          "name": "stdout"
        },
        {
          "output_type": "stream",
          "text": [
            "1522it [03:16,  6.99it/s]"
          ],
          "name": "stderr"
        },
        {
          "output_type": "stream",
          "text": [
            "1.9889757633209229\n",
            "2.029642105102539\n"
          ],
          "name": "stdout"
        },
        {
          "output_type": "stream",
          "text": [
            "1524it [03:17,  7.36it/s]"
          ],
          "name": "stderr"
        },
        {
          "output_type": "stream",
          "text": [
            "2.045668363571167\n",
            "2.04245662689209\n"
          ],
          "name": "stdout"
        },
        {
          "output_type": "stream",
          "text": [
            "1526it [03:17,  7.34it/s]"
          ],
          "name": "stderr"
        },
        {
          "output_type": "stream",
          "text": [
            "2.1686627864837646\n",
            "2.1127471923828125\n"
          ],
          "name": "stdout"
        },
        {
          "output_type": "stream",
          "text": [
            "1528it [03:17,  7.58it/s]"
          ],
          "name": "stderr"
        },
        {
          "output_type": "stream",
          "text": [
            "2.145026445388794\n",
            "2.0494470596313477\n"
          ],
          "name": "stdout"
        },
        {
          "output_type": "stream",
          "text": [
            "1530it [03:17,  7.67it/s]"
          ],
          "name": "stderr"
        },
        {
          "output_type": "stream",
          "text": [
            "2.0175344944000244\n",
            "2.0515353679656982\n"
          ],
          "name": "stdout"
        },
        {
          "output_type": "stream",
          "text": [
            "1532it [03:18,  7.79it/s]"
          ],
          "name": "stderr"
        },
        {
          "output_type": "stream",
          "text": [
            "1.9745248556137085\n",
            "2.054588794708252\n"
          ],
          "name": "stdout"
        },
        {
          "output_type": "stream",
          "text": [
            "1534it [03:18,  7.86it/s]"
          ],
          "name": "stderr"
        },
        {
          "output_type": "stream",
          "text": [
            "2.0711727142333984\n",
            "2.004269599914551\n"
          ],
          "name": "stdout"
        },
        {
          "output_type": "stream",
          "text": [
            "1536it [03:18,  7.70it/s]"
          ],
          "name": "stderr"
        },
        {
          "output_type": "stream",
          "text": [
            "2.0004982948303223\n",
            "2.084613561630249\n"
          ],
          "name": "stdout"
        },
        {
          "output_type": "stream",
          "text": [
            "1538it [03:18,  7.60it/s]"
          ],
          "name": "stderr"
        },
        {
          "output_type": "stream",
          "text": [
            "2.058779001235962\n",
            "2.0202927589416504\n"
          ],
          "name": "stdout"
        },
        {
          "output_type": "stream",
          "text": [
            "1540it [03:19,  7.69it/s]"
          ],
          "name": "stderr"
        },
        {
          "output_type": "stream",
          "text": [
            "2.1490700244903564\n",
            "2.0707602500915527\n"
          ],
          "name": "stdout"
        },
        {
          "output_type": "stream",
          "text": [
            "1542it [03:19,  7.72it/s]"
          ],
          "name": "stderr"
        },
        {
          "output_type": "stream",
          "text": [
            "2.0441107749938965\n",
            "2.0275015830993652\n"
          ],
          "name": "stdout"
        },
        {
          "output_type": "stream",
          "text": [
            "1544it [03:19,  7.66it/s]"
          ],
          "name": "stderr"
        },
        {
          "output_type": "stream",
          "text": [
            "1.9740246534347534\n",
            "2.062988519668579\n"
          ],
          "name": "stdout"
        },
        {
          "output_type": "stream",
          "text": [
            "1546it [03:19,  7.65it/s]"
          ],
          "name": "stderr"
        },
        {
          "output_type": "stream",
          "text": [
            "2.0517988204956055\n",
            "2.164886713027954\n"
          ],
          "name": "stdout"
        },
        {
          "output_type": "stream",
          "text": [
            "1548it [03:20,  7.57it/s]"
          ],
          "name": "stderr"
        },
        {
          "output_type": "stream",
          "text": [
            "2.035783290863037\n",
            "2.017620801925659\n"
          ],
          "name": "stdout"
        },
        {
          "output_type": "stream",
          "text": [
            "1550it [03:20,  7.71it/s]"
          ],
          "name": "stderr"
        },
        {
          "output_type": "stream",
          "text": [
            "2.0440545082092285\n",
            "2.0757462978363037\n"
          ],
          "name": "stdout"
        },
        {
          "output_type": "stream",
          "text": [
            "1552it [03:20,  7.66it/s]"
          ],
          "name": "stderr"
        },
        {
          "output_type": "stream",
          "text": [
            "2.1053969860076904\n",
            "2.104466199874878\n"
          ],
          "name": "stdout"
        },
        {
          "output_type": "stream",
          "text": [
            "1554it [03:20,  7.67it/s]"
          ],
          "name": "stderr"
        },
        {
          "output_type": "stream",
          "text": [
            "2.0195846557617188\n",
            "2.0837695598602295\n"
          ],
          "name": "stdout"
        },
        {
          "output_type": "stream",
          "text": [
            "1556it [03:21,  7.73it/s]"
          ],
          "name": "stderr"
        },
        {
          "output_type": "stream",
          "text": [
            "2.0053210258483887\n",
            "2.051738977432251\n"
          ],
          "name": "stdout"
        },
        {
          "output_type": "stream",
          "text": [
            "1558it [03:21,  7.62it/s]"
          ],
          "name": "stderr"
        },
        {
          "output_type": "stream",
          "text": [
            "2.106909990310669\n",
            "2.036611557006836\n"
          ],
          "name": "stdout"
        },
        {
          "output_type": "stream",
          "text": [
            "1560it [03:21,  7.64it/s]"
          ],
          "name": "stderr"
        },
        {
          "output_type": "stream",
          "text": [
            "2.0724058151245117\n",
            "2.040357828140259\n"
          ],
          "name": "stdout"
        },
        {
          "output_type": "stream",
          "text": [
            "1562it [03:21,  7.68it/s]"
          ],
          "name": "stderr"
        },
        {
          "output_type": "stream",
          "text": [
            "2.0225884914398193\n",
            "2.0111379623413086\n"
          ],
          "name": "stdout"
        },
        {
          "output_type": "stream",
          "text": [
            "1564it [03:22,  7.71it/s]"
          ],
          "name": "stderr"
        },
        {
          "output_type": "stream",
          "text": [
            "2.0800368785858154\n",
            "2.061568260192871\n"
          ],
          "name": "stdout"
        },
        {
          "output_type": "stream",
          "text": [
            "1566it [03:22,  7.71it/s]"
          ],
          "name": "stderr"
        },
        {
          "output_type": "stream",
          "text": [
            "2.138749122619629\n",
            "2.0356929302215576\n"
          ],
          "name": "stdout"
        },
        {
          "output_type": "stream",
          "text": [
            "1568it [03:22,  7.68it/s]"
          ],
          "name": "stderr"
        },
        {
          "output_type": "stream",
          "text": [
            "1.953629493713379\n",
            "2.1071596145629883\n"
          ],
          "name": "stdout"
        },
        {
          "output_type": "stream",
          "text": [
            "1570it [03:23,  7.49it/s]"
          ],
          "name": "stderr"
        },
        {
          "output_type": "stream",
          "text": [
            "2.0131144523620605\n",
            "2.0828301906585693\n"
          ],
          "name": "stdout"
        },
        {
          "output_type": "stream",
          "text": [
            "1572it [03:23,  7.56it/s]"
          ],
          "name": "stderr"
        },
        {
          "output_type": "stream",
          "text": [
            "2.0637333393096924\n",
            "2.092912197113037\n"
          ],
          "name": "stdout"
        },
        {
          "output_type": "stream",
          "text": [
            "1574it [03:23,  7.73it/s]"
          ],
          "name": "stderr"
        },
        {
          "output_type": "stream",
          "text": [
            "2.1476824283599854\n",
            "1.993802785873413\n"
          ],
          "name": "stdout"
        },
        {
          "output_type": "stream",
          "text": [
            "1576it [03:23,  7.61it/s]"
          ],
          "name": "stderr"
        },
        {
          "output_type": "stream",
          "text": [
            "2.0811731815338135\n",
            "2.064211130142212\n"
          ],
          "name": "stdout"
        },
        {
          "output_type": "stream",
          "text": [
            "1578it [03:24,  7.70it/s]"
          ],
          "name": "stderr"
        },
        {
          "output_type": "stream",
          "text": [
            "1.9631472826004028\n",
            "1.9915388822555542\n"
          ],
          "name": "stdout"
        },
        {
          "output_type": "stream",
          "text": [
            "1580it [03:24,  7.58it/s]"
          ],
          "name": "stderr"
        },
        {
          "output_type": "stream",
          "text": [
            "2.0360724925994873\n",
            "2.1294105052948\n"
          ],
          "name": "stdout"
        },
        {
          "output_type": "stream",
          "text": [
            "1582it [03:24,  7.72it/s]"
          ],
          "name": "stderr"
        },
        {
          "output_type": "stream",
          "text": [
            "2.1601576805114746\n",
            "2.0982348918914795\n"
          ],
          "name": "stdout"
        },
        {
          "output_type": "stream",
          "text": [
            "1584it [03:24,  7.71it/s]"
          ],
          "name": "stderr"
        },
        {
          "output_type": "stream",
          "text": [
            "2.122089385986328\n",
            "2.049907922744751\n"
          ],
          "name": "stdout"
        },
        {
          "output_type": "stream",
          "text": [
            "1586it [03:25,  7.68it/s]"
          ],
          "name": "stderr"
        },
        {
          "output_type": "stream",
          "text": [
            "2.0089941024780273\n",
            "2.0780670642852783\n"
          ],
          "name": "stdout"
        },
        {
          "output_type": "stream",
          "text": [
            "1588it [03:25,  7.71it/s]"
          ],
          "name": "stderr"
        },
        {
          "output_type": "stream",
          "text": [
            "2.0673086643218994\n",
            "2.0454676151275635\n"
          ],
          "name": "stdout"
        },
        {
          "output_type": "stream",
          "text": [
            "1590it [03:25,  7.72it/s]"
          ],
          "name": "stderr"
        },
        {
          "output_type": "stream",
          "text": [
            "2.011746883392334\n",
            "2.0329458713531494\n"
          ],
          "name": "stdout"
        },
        {
          "output_type": "stream",
          "text": [
            "1592it [03:25,  7.58it/s]"
          ],
          "name": "stderr"
        },
        {
          "output_type": "stream",
          "text": [
            "2.0380051136016846\n",
            "1.97249174118042\n"
          ],
          "name": "stdout"
        },
        {
          "output_type": "stream",
          "text": [
            "1594it [03:26,  7.68it/s]"
          ],
          "name": "stderr"
        },
        {
          "output_type": "stream",
          "text": [
            "2.033048152923584\n",
            "2.0550312995910645\n"
          ],
          "name": "stdout"
        },
        {
          "output_type": "stream",
          "text": [
            "1596it [03:26,  7.77it/s]"
          ],
          "name": "stderr"
        },
        {
          "output_type": "stream",
          "text": [
            "2.073941946029663\n",
            "2.0540740489959717\n"
          ],
          "name": "stdout"
        },
        {
          "output_type": "stream",
          "text": [
            "1598it [03:26,  7.81it/s]"
          ],
          "name": "stderr"
        },
        {
          "output_type": "stream",
          "text": [
            "2.0720322132110596\n",
            "2.1403281688690186\n"
          ],
          "name": "stdout"
        },
        {
          "output_type": "stream",
          "text": [
            "1600it [03:26,  7.80it/s]"
          ],
          "name": "stderr"
        },
        {
          "output_type": "stream",
          "text": [
            "2.1725668907165527\n",
            "2.11521315574646\n"
          ],
          "name": "stdout"
        },
        {
          "output_type": "stream",
          "text": [
            "1602it [03:27,  7.74it/s]"
          ],
          "name": "stderr"
        },
        {
          "output_type": "stream",
          "text": [
            "2.1824214458465576\n",
            "1.9990187883377075\n"
          ],
          "name": "stdout"
        },
        {
          "output_type": "stream",
          "text": [
            "1604it [03:27,  7.79it/s]"
          ],
          "name": "stderr"
        },
        {
          "output_type": "stream",
          "text": [
            "2.064605712890625\n",
            "2.051821708679199\n"
          ],
          "name": "stdout"
        },
        {
          "output_type": "stream",
          "text": [
            "1606it [03:27,  7.73it/s]"
          ],
          "name": "stderr"
        },
        {
          "output_type": "stream",
          "text": [
            "2.0640175342559814\n",
            "2.0192747116088867\n"
          ],
          "name": "stdout"
        },
        {
          "output_type": "stream",
          "text": [
            "1608it [03:27,  7.74it/s]"
          ],
          "name": "stderr"
        },
        {
          "output_type": "stream",
          "text": [
            "2.085911989212036\n",
            "2.11019229888916\n"
          ],
          "name": "stdout"
        },
        {
          "output_type": "stream",
          "text": [
            "1610it [03:28,  7.78it/s]"
          ],
          "name": "stderr"
        },
        {
          "output_type": "stream",
          "text": [
            "2.1642818450927734\n",
            "2.0526535511016846\n"
          ],
          "name": "stdout"
        },
        {
          "output_type": "stream",
          "text": [
            "1612it [03:28,  7.75it/s]"
          ],
          "name": "stderr"
        },
        {
          "output_type": "stream",
          "text": [
            "2.169271230697632\n",
            "2.0935091972351074\n"
          ],
          "name": "stdout"
        },
        {
          "output_type": "stream",
          "text": [
            "1614it [03:28,  7.85it/s]"
          ],
          "name": "stderr"
        },
        {
          "output_type": "stream",
          "text": [
            "1.9744306802749634\n",
            "2.117027521133423\n"
          ],
          "name": "stdout"
        },
        {
          "output_type": "stream",
          "text": [
            "1616it [03:28,  7.78it/s]"
          ],
          "name": "stderr"
        },
        {
          "output_type": "stream",
          "text": [
            "2.110297679901123\n",
            "2.0076379776000977\n"
          ],
          "name": "stdout"
        },
        {
          "output_type": "stream",
          "text": [
            "1618it [03:29,  7.73it/s]"
          ],
          "name": "stderr"
        },
        {
          "output_type": "stream",
          "text": [
            "2.0675458908081055\n",
            "2.0581367015838623\n"
          ],
          "name": "stdout"
        },
        {
          "output_type": "stream",
          "text": [
            "1620it [03:29,  7.59it/s]"
          ],
          "name": "stderr"
        },
        {
          "output_type": "stream",
          "text": [
            "2.0807104110717773\n",
            "1.9994845390319824\n"
          ],
          "name": "stdout"
        },
        {
          "output_type": "stream",
          "text": [
            "1622it [03:29,  7.67it/s]"
          ],
          "name": "stderr"
        },
        {
          "output_type": "stream",
          "text": [
            "2.089827299118042\n",
            "2.105400800704956\n"
          ],
          "name": "stdout"
        },
        {
          "output_type": "stream",
          "text": [
            "1624it [03:30,  7.80it/s]"
          ],
          "name": "stderr"
        },
        {
          "output_type": "stream",
          "text": [
            "2.177480697631836\n",
            "2.1312756538391113\n"
          ],
          "name": "stdout"
        },
        {
          "output_type": "stream",
          "text": [
            "1626it [03:30,  7.80it/s]"
          ],
          "name": "stderr"
        },
        {
          "output_type": "stream",
          "text": [
            "2.090662717819214\n",
            "2.086937665939331\n"
          ],
          "name": "stdout"
        },
        {
          "output_type": "stream",
          "text": [
            "1628it [03:30,  7.90it/s]"
          ],
          "name": "stderr"
        },
        {
          "output_type": "stream",
          "text": [
            "2.0736820697784424\n",
            "2.088688611984253\n"
          ],
          "name": "stdout"
        },
        {
          "output_type": "stream",
          "text": [
            "1630it [03:30,  7.70it/s]"
          ],
          "name": "stderr"
        },
        {
          "output_type": "stream",
          "text": [
            "2.0582919120788574\n",
            "2.1005313396453857\n"
          ],
          "name": "stdout"
        },
        {
          "output_type": "stream",
          "text": [
            "1632it [03:31,  7.73it/s]"
          ],
          "name": "stderr"
        },
        {
          "output_type": "stream",
          "text": [
            "2.1463358402252197\n",
            "2.095104217529297\n"
          ],
          "name": "stdout"
        },
        {
          "output_type": "stream",
          "text": [
            "1634it [03:31,  7.77it/s]"
          ],
          "name": "stderr"
        },
        {
          "output_type": "stream",
          "text": [
            "2.03816294670105\n",
            "1.996334195137024\n"
          ],
          "name": "stdout"
        },
        {
          "output_type": "stream",
          "text": [
            "1636it [03:31,  7.86it/s]"
          ],
          "name": "stderr"
        },
        {
          "output_type": "stream",
          "text": [
            "2.04669451713562\n",
            "2.017026662826538\n"
          ],
          "name": "stdout"
        },
        {
          "output_type": "stream",
          "text": [
            "1638it [03:31,  7.76it/s]"
          ],
          "name": "stderr"
        },
        {
          "output_type": "stream",
          "text": [
            "1.9816113710403442\n",
            "1.9396333694458008\n"
          ],
          "name": "stdout"
        },
        {
          "output_type": "stream",
          "text": [
            "1640it [03:32,  7.85it/s]"
          ],
          "name": "stderr"
        },
        {
          "output_type": "stream",
          "text": [
            "2.0134952068328857\n",
            "2.053440809249878\n"
          ],
          "name": "stdout"
        },
        {
          "output_type": "stream",
          "text": [
            "1642it [03:32,  7.79it/s]"
          ],
          "name": "stderr"
        },
        {
          "output_type": "stream",
          "text": [
            "2.0192692279815674\n",
            "2.0721511840820312\n"
          ],
          "name": "stdout"
        },
        {
          "output_type": "stream",
          "text": [
            "1644it [03:32,  7.75it/s]"
          ],
          "name": "stderr"
        },
        {
          "output_type": "stream",
          "text": [
            "2.0484249591827393\n",
            "1.9833433628082275\n"
          ],
          "name": "stdout"
        },
        {
          "output_type": "stream",
          "text": [
            "1646it [03:32,  7.66it/s]"
          ],
          "name": "stderr"
        },
        {
          "output_type": "stream",
          "text": [
            "2.0590996742248535\n",
            "1.9922986030578613\n"
          ],
          "name": "stdout"
        },
        {
          "output_type": "stream",
          "text": [
            "1648it [03:33,  7.79it/s]"
          ],
          "name": "stderr"
        },
        {
          "output_type": "stream",
          "text": [
            "2.0678822994232178\n",
            "2.1381607055664062\n"
          ],
          "name": "stdout"
        },
        {
          "output_type": "stream",
          "text": [
            "1650it [03:33,  7.66it/s]"
          ],
          "name": "stderr"
        },
        {
          "output_type": "stream",
          "text": [
            "2.084581136703491\n",
            "2.08801531791687\n"
          ],
          "name": "stdout"
        },
        {
          "output_type": "stream",
          "text": [
            "1652it [03:33,  7.57it/s]"
          ],
          "name": "stderr"
        },
        {
          "output_type": "stream",
          "text": [
            "2.100271224975586\n",
            "2.0201103687286377\n"
          ],
          "name": "stdout"
        },
        {
          "output_type": "stream",
          "text": [
            "1654it [03:33,  7.50it/s]"
          ],
          "name": "stderr"
        },
        {
          "output_type": "stream",
          "text": [
            "2.0788822174072266\n",
            "2.077530860900879\n"
          ],
          "name": "stdout"
        },
        {
          "output_type": "stream",
          "text": [
            "1656it [03:34,  7.60it/s]"
          ],
          "name": "stderr"
        },
        {
          "output_type": "stream",
          "text": [
            "2.065635919570923\n",
            "2.0380313396453857\n"
          ],
          "name": "stdout"
        },
        {
          "output_type": "stream",
          "text": [
            "1658it [03:34,  7.68it/s]"
          ],
          "name": "stderr"
        },
        {
          "output_type": "stream",
          "text": [
            "2.0610733032226562\n",
            "2.037813186645508\n"
          ],
          "name": "stdout"
        },
        {
          "output_type": "stream",
          "text": [
            "1660it [03:34,  7.79it/s]"
          ],
          "name": "stderr"
        },
        {
          "output_type": "stream",
          "text": [
            "2.000916004180908\n",
            "2.059748888015747\n"
          ],
          "name": "stdout"
        },
        {
          "output_type": "stream",
          "text": [
            "1662it [03:34,  7.67it/s]"
          ],
          "name": "stderr"
        },
        {
          "output_type": "stream",
          "text": [
            "2.026597499847412\n",
            "1.9795756340026855\n"
          ],
          "name": "stdout"
        },
        {
          "output_type": "stream",
          "text": [
            "1664it [03:35,  7.62it/s]"
          ],
          "name": "stderr"
        },
        {
          "output_type": "stream",
          "text": [
            "2.001833915710449\n",
            "2.067721366882324\n"
          ],
          "name": "stdout"
        },
        {
          "output_type": "stream",
          "text": [
            "1666it [03:35,  7.56it/s]"
          ],
          "name": "stderr"
        },
        {
          "output_type": "stream",
          "text": [
            "2.0622000694274902\n",
            "1.959672212600708\n"
          ],
          "name": "stdout"
        },
        {
          "output_type": "stream",
          "text": [
            "1668it [03:35,  7.45it/s]"
          ],
          "name": "stderr"
        },
        {
          "output_type": "stream",
          "text": [
            "2.0805306434631348\n",
            "2.0537965297698975\n"
          ],
          "name": "stdout"
        },
        {
          "output_type": "stream",
          "text": [
            "1670it [03:36,  7.53it/s]"
          ],
          "name": "stderr"
        },
        {
          "output_type": "stream",
          "text": [
            "2.039578914642334\n",
            "2.0765841007232666\n"
          ],
          "name": "stdout"
        },
        {
          "output_type": "stream",
          "text": [
            "1672it [03:36,  7.62it/s]"
          ],
          "name": "stderr"
        },
        {
          "output_type": "stream",
          "text": [
            "2.085400104522705\n",
            "2.0812437534332275\n"
          ],
          "name": "stdout"
        },
        {
          "output_type": "stream",
          "text": [
            "1674it [03:36,  7.62it/s]"
          ],
          "name": "stderr"
        },
        {
          "output_type": "stream",
          "text": [
            "2.0820412635803223\n",
            "2.0453481674194336\n"
          ],
          "name": "stdout"
        },
        {
          "output_type": "stream",
          "text": [
            "1676it [03:36,  7.60it/s]"
          ],
          "name": "stderr"
        },
        {
          "output_type": "stream",
          "text": [
            "2.1188857555389404\n",
            "2.108166456222534\n"
          ],
          "name": "stdout"
        },
        {
          "output_type": "stream",
          "text": [
            "1678it [03:37,  7.60it/s]"
          ],
          "name": "stderr"
        },
        {
          "output_type": "stream",
          "text": [
            "2.191171407699585\n",
            "2.065979242324829\n"
          ],
          "name": "stdout"
        },
        {
          "output_type": "stream",
          "text": [
            "1680it [03:37,  7.64it/s]"
          ],
          "name": "stderr"
        },
        {
          "output_type": "stream",
          "text": [
            "2.140855073928833\n",
            "2.0362539291381836\n"
          ],
          "name": "stdout"
        },
        {
          "output_type": "stream",
          "text": [
            "1682it [03:37,  7.66it/s]"
          ],
          "name": "stderr"
        },
        {
          "output_type": "stream",
          "text": [
            "2.032695770263672\n",
            "2.0493052005767822\n"
          ],
          "name": "stdout"
        },
        {
          "output_type": "stream",
          "text": [
            "1684it [03:37,  7.64it/s]"
          ],
          "name": "stderr"
        },
        {
          "output_type": "stream",
          "text": [
            "2.0235774517059326\n",
            "2.0378775596618652\n"
          ],
          "name": "stdout"
        },
        {
          "output_type": "stream",
          "text": [
            "1686it [03:38,  7.28it/s]"
          ],
          "name": "stderr"
        },
        {
          "output_type": "stream",
          "text": [
            "1.9788209199905396\n",
            "2.08186936378479\n"
          ],
          "name": "stdout"
        },
        {
          "output_type": "stream",
          "text": [
            "1688it [03:38,  7.32it/s]"
          ],
          "name": "stderr"
        },
        {
          "output_type": "stream",
          "text": [
            "2.0865321159362793\n",
            "2.062314748764038\n"
          ],
          "name": "stdout"
        },
        {
          "output_type": "stream",
          "text": [
            "1690it [03:38,  7.47it/s]"
          ],
          "name": "stderr"
        },
        {
          "output_type": "stream",
          "text": [
            "2.1123733520507812\n",
            "2.0743229389190674\n"
          ],
          "name": "stdout"
        },
        {
          "output_type": "stream",
          "text": [
            "1692it [03:38,  7.35it/s]"
          ],
          "name": "stderr"
        },
        {
          "output_type": "stream",
          "text": [
            "2.083587408065796\n",
            "2.0335116386413574\n"
          ],
          "name": "stdout"
        },
        {
          "output_type": "stream",
          "text": [
            "1694it [03:39,  7.51it/s]"
          ],
          "name": "stderr"
        },
        {
          "output_type": "stream",
          "text": [
            "2.078768491744995\n",
            "1.9877673387527466\n"
          ],
          "name": "stdout"
        },
        {
          "output_type": "stream",
          "text": [
            "1696it [03:39,  7.55it/s]"
          ],
          "name": "stderr"
        },
        {
          "output_type": "stream",
          "text": [
            "2.0654399394989014\n",
            "2.1244120597839355\n"
          ],
          "name": "stdout"
        },
        {
          "output_type": "stream",
          "text": [
            "1698it [03:39,  7.43it/s]"
          ],
          "name": "stderr"
        },
        {
          "output_type": "stream",
          "text": [
            "2.0504040718078613\n",
            "1.9793037176132202\n"
          ],
          "name": "stdout"
        },
        {
          "output_type": "stream",
          "text": [
            "1700it [03:40,  7.40it/s]"
          ],
          "name": "stderr"
        },
        {
          "output_type": "stream",
          "text": [
            "2.041935443878174\n",
            "2.024139404296875\n"
          ],
          "name": "stdout"
        },
        {
          "output_type": "stream",
          "text": [
            "1702it [03:40,  7.52it/s]"
          ],
          "name": "stderr"
        },
        {
          "output_type": "stream",
          "text": [
            "2.0641634464263916\n",
            "2.069829225540161\n"
          ],
          "name": "stdout"
        },
        {
          "output_type": "stream",
          "text": [
            "1704it [03:40,  7.52it/s]"
          ],
          "name": "stderr"
        },
        {
          "output_type": "stream",
          "text": [
            "2.0188353061676025\n",
            "2.0630569458007812\n"
          ],
          "name": "stdout"
        },
        {
          "output_type": "stream",
          "text": [
            "1706it [03:40,  7.58it/s]"
          ],
          "name": "stderr"
        },
        {
          "output_type": "stream",
          "text": [
            "2.1361403465270996\n",
            "2.1142313480377197\n"
          ],
          "name": "stdout"
        },
        {
          "output_type": "stream",
          "text": [
            "1708it [03:41,  7.61it/s]"
          ],
          "name": "stderr"
        },
        {
          "output_type": "stream",
          "text": [
            "2.082547664642334\n",
            "2.053187847137451\n"
          ],
          "name": "stdout"
        },
        {
          "output_type": "stream",
          "text": [
            "1710it [03:41,  7.67it/s]"
          ],
          "name": "stderr"
        },
        {
          "output_type": "stream",
          "text": [
            "2.035620927810669\n",
            "1.9999679327011108\n"
          ],
          "name": "stdout"
        },
        {
          "output_type": "stream",
          "text": [
            "1712it [03:41,  7.66it/s]"
          ],
          "name": "stderr"
        },
        {
          "output_type": "stream",
          "text": [
            "2.0519375801086426\n",
            "1.999148964881897\n"
          ],
          "name": "stdout"
        },
        {
          "output_type": "stream",
          "text": [
            "1714it [03:41,  7.74it/s]"
          ],
          "name": "stderr"
        },
        {
          "output_type": "stream",
          "text": [
            "1.9834238290786743\n",
            "2.065803289413452\n"
          ],
          "name": "stdout"
        },
        {
          "output_type": "stream",
          "text": [
            "1716it [03:42,  7.66it/s]"
          ],
          "name": "stderr"
        },
        {
          "output_type": "stream",
          "text": [
            "2.0135178565979004\n",
            "2.0010018348693848\n"
          ],
          "name": "stdout"
        },
        {
          "output_type": "stream",
          "text": [
            "1718it [03:42,  7.70it/s]"
          ],
          "name": "stderr"
        },
        {
          "output_type": "stream",
          "text": [
            "1.9823368787765503\n",
            "2.038754940032959\n"
          ],
          "name": "stdout"
        },
        {
          "output_type": "stream",
          "text": [
            "1720it [03:42,  7.70it/s]"
          ],
          "name": "stderr"
        },
        {
          "output_type": "stream",
          "text": [
            "2.115675687789917\n",
            "2.041764259338379\n"
          ],
          "name": "stdout"
        },
        {
          "output_type": "stream",
          "text": [
            "1722it [03:42,  7.70it/s]"
          ],
          "name": "stderr"
        },
        {
          "output_type": "stream",
          "text": [
            "2.077824354171753\n",
            "2.0870072841644287\n"
          ],
          "name": "stdout"
        },
        {
          "output_type": "stream",
          "text": [
            "1724it [03:43,  7.64it/s]"
          ],
          "name": "stderr"
        },
        {
          "output_type": "stream",
          "text": [
            "2.058896541595459\n",
            "2.0282411575317383\n"
          ],
          "name": "stdout"
        },
        {
          "output_type": "stream",
          "text": [
            "1726it [03:43,  7.72it/s]"
          ],
          "name": "stderr"
        },
        {
          "output_type": "stream",
          "text": [
            "2.0137057304382324\n",
            "2.0793654918670654\n"
          ],
          "name": "stdout"
        },
        {
          "output_type": "stream",
          "text": [
            "1728it [03:43,  7.76it/s]"
          ],
          "name": "stderr"
        },
        {
          "output_type": "stream",
          "text": [
            "2.0225436687469482\n",
            "2.0349130630493164\n"
          ],
          "name": "stdout"
        },
        {
          "output_type": "stream",
          "text": [
            "1730it [03:43,  7.62it/s]"
          ],
          "name": "stderr"
        },
        {
          "output_type": "stream",
          "text": [
            "2.0610604286193848\n",
            "2.010009288787842\n"
          ],
          "name": "stdout"
        },
        {
          "output_type": "stream",
          "text": [
            "1732it [03:44,  7.68it/s]"
          ],
          "name": "stderr"
        },
        {
          "output_type": "stream",
          "text": [
            "1.986386775970459\n",
            "1.999820351600647\n"
          ],
          "name": "stdout"
        },
        {
          "output_type": "stream",
          "text": [
            "1734it [03:44,  7.75it/s]"
          ],
          "name": "stderr"
        },
        {
          "output_type": "stream",
          "text": [
            "2.043579339981079\n",
            "2.034919261932373\n"
          ],
          "name": "stdout"
        },
        {
          "output_type": "stream",
          "text": [
            "1736it [03:44,  7.76it/s]"
          ],
          "name": "stderr"
        },
        {
          "output_type": "stream",
          "text": [
            "2.0214710235595703\n",
            "2.005364418029785\n"
          ],
          "name": "stdout"
        },
        {
          "output_type": "stream",
          "text": [
            "1738it [03:45,  7.44it/s]"
          ],
          "name": "stderr"
        },
        {
          "output_type": "stream",
          "text": [
            "2.1243691444396973\n",
            "2.1989448070526123\n"
          ],
          "name": "stdout"
        },
        {
          "output_type": "stream",
          "text": [
            "1740it [03:45,  7.61it/s]"
          ],
          "name": "stderr"
        },
        {
          "output_type": "stream",
          "text": [
            "2.0730011463165283\n",
            "2.038121223449707\n"
          ],
          "name": "stdout"
        },
        {
          "output_type": "stream",
          "text": [
            "1742it [03:45,  7.70it/s]"
          ],
          "name": "stderr"
        },
        {
          "output_type": "stream",
          "text": [
            "1.9535884857177734\n",
            "2.0500600337982178\n"
          ],
          "name": "stdout"
        },
        {
          "output_type": "stream",
          "text": [
            "1744it [03:45,  7.83it/s]"
          ],
          "name": "stderr"
        },
        {
          "output_type": "stream",
          "text": [
            "2.088169574737549\n",
            "2.0126454830169678\n"
          ],
          "name": "stdout"
        },
        {
          "output_type": "stream",
          "text": [
            "1746it [03:46,  7.75it/s]"
          ],
          "name": "stderr"
        },
        {
          "output_type": "stream",
          "text": [
            "1.9663963317871094\n",
            "1.9898673295974731\n"
          ],
          "name": "stdout"
        },
        {
          "output_type": "stream",
          "text": [
            "1748it [03:46,  7.83it/s]"
          ],
          "name": "stderr"
        },
        {
          "output_type": "stream",
          "text": [
            "2.0214896202087402\n",
            "1.8559242486953735\n"
          ],
          "name": "stdout"
        },
        {
          "output_type": "stream",
          "text": [
            "1750it [03:46,  7.78it/s]"
          ],
          "name": "stderr"
        },
        {
          "output_type": "stream",
          "text": [
            "1.9295052289962769\n",
            "2.0145795345306396\n"
          ],
          "name": "stdout"
        },
        {
          "output_type": "stream",
          "text": [
            "1752it [03:46,  7.80it/s]"
          ],
          "name": "stderr"
        },
        {
          "output_type": "stream",
          "text": [
            "2.0913705825805664\n",
            "2.1035513877868652\n"
          ],
          "name": "stdout"
        },
        {
          "output_type": "stream",
          "text": [
            "1754it [03:47,  7.70it/s]"
          ],
          "name": "stderr"
        },
        {
          "output_type": "stream",
          "text": [
            "2.1727137565612793\n",
            "2.1262025833129883\n"
          ],
          "name": "stdout"
        },
        {
          "output_type": "stream",
          "text": [
            "1756it [03:47,  7.81it/s]"
          ],
          "name": "stderr"
        },
        {
          "output_type": "stream",
          "text": [
            "2.010648727416992\n",
            "2.0309898853302\n"
          ],
          "name": "stdout"
        },
        {
          "output_type": "stream",
          "text": [
            "1758it [03:47,  7.83it/s]"
          ],
          "name": "stderr"
        },
        {
          "output_type": "stream",
          "text": [
            "2.1090049743652344\n",
            "2.0608551502227783\n"
          ],
          "name": "stdout"
        },
        {
          "output_type": "stream",
          "text": [
            "1760it [03:47,  7.81it/s]"
          ],
          "name": "stderr"
        },
        {
          "output_type": "stream",
          "text": [
            "1.9480500221252441\n",
            "2.068563938140869\n"
          ],
          "name": "stdout"
        },
        {
          "output_type": "stream",
          "text": [
            "1762it [03:48,  7.73it/s]"
          ],
          "name": "stderr"
        },
        {
          "output_type": "stream",
          "text": [
            "2.0345492362976074\n",
            "2.0553085803985596\n"
          ],
          "name": "stdout"
        },
        {
          "output_type": "stream",
          "text": [
            "1764it [03:48,  7.56it/s]"
          ],
          "name": "stderr"
        },
        {
          "output_type": "stream",
          "text": [
            "1.953916072845459\n",
            "1.9672943353652954\n"
          ],
          "name": "stdout"
        },
        {
          "output_type": "stream",
          "text": [
            "1766it [03:48,  7.57it/s]"
          ],
          "name": "stderr"
        },
        {
          "output_type": "stream",
          "text": [
            "1.9964638948440552\n",
            "1.9507384300231934\n"
          ],
          "name": "stdout"
        },
        {
          "output_type": "stream",
          "text": [
            "1768it [03:48,  7.64it/s]"
          ],
          "name": "stderr"
        },
        {
          "output_type": "stream",
          "text": [
            "1.9780805110931396\n",
            "2.065380811691284\n"
          ],
          "name": "stdout"
        },
        {
          "output_type": "stream",
          "text": [
            "1770it [03:49,  7.58it/s]"
          ],
          "name": "stderr"
        },
        {
          "output_type": "stream",
          "text": [
            "2.0294172763824463\n",
            "2.023482322692871\n"
          ],
          "name": "stdout"
        },
        {
          "output_type": "stream",
          "text": [
            "1772it [03:49,  7.77it/s]"
          ],
          "name": "stderr"
        },
        {
          "output_type": "stream",
          "text": [
            "1.9348820447921753\n",
            "2.036363124847412\n"
          ],
          "name": "stdout"
        },
        {
          "output_type": "stream",
          "text": [
            "1774it [03:49,  7.83it/s]"
          ],
          "name": "stderr"
        },
        {
          "output_type": "stream",
          "text": [
            "2.0971193313598633\n",
            "2.069894790649414\n"
          ],
          "name": "stdout"
        },
        {
          "output_type": "stream",
          "text": [
            "1776it [03:49,  7.88it/s]"
          ],
          "name": "stderr"
        },
        {
          "output_type": "stream",
          "text": [
            "2.03463077545166\n",
            "2.054468870162964\n"
          ],
          "name": "stdout"
        },
        {
          "output_type": "stream",
          "text": [
            "1778it [03:50,  7.71it/s]"
          ],
          "name": "stderr"
        },
        {
          "output_type": "stream",
          "text": [
            "2.1279664039611816\n",
            "2.0541672706604004\n"
          ],
          "name": "stdout"
        },
        {
          "output_type": "stream",
          "text": [
            "1780it [03:50,  7.80it/s]"
          ],
          "name": "stderr"
        },
        {
          "output_type": "stream",
          "text": [
            "2.0650577545166016\n",
            "2.0200798511505127\n"
          ],
          "name": "stdout"
        },
        {
          "output_type": "stream",
          "text": [
            "1782it [03:50,  7.75it/s]"
          ],
          "name": "stderr"
        },
        {
          "output_type": "stream",
          "text": [
            "1.9374929666519165\n",
            "1.9435086250305176\n"
          ],
          "name": "stdout"
        },
        {
          "output_type": "stream",
          "text": [
            "1784it [03:50,  7.85it/s]"
          ],
          "name": "stderr"
        },
        {
          "output_type": "stream",
          "text": [
            "1.9586691856384277\n",
            "1.9561575651168823\n"
          ],
          "name": "stdout"
        },
        {
          "output_type": "stream",
          "text": [
            "1786it [03:51,  7.60it/s]"
          ],
          "name": "stderr"
        },
        {
          "output_type": "stream",
          "text": [
            "2.0661323070526123\n",
            "2.0217487812042236\n"
          ],
          "name": "stdout"
        },
        {
          "output_type": "stream",
          "text": [
            "1788it [03:51,  7.68it/s]"
          ],
          "name": "stderr"
        },
        {
          "output_type": "stream",
          "text": [
            "2.031477451324463\n",
            "2.012360095977783\n"
          ],
          "name": "stdout"
        },
        {
          "output_type": "stream",
          "text": [
            "1790it [03:51,  7.75it/s]"
          ],
          "name": "stderr"
        },
        {
          "output_type": "stream",
          "text": [
            "1.9243906736373901\n",
            "1.9596154689788818\n"
          ],
          "name": "stdout"
        },
        {
          "output_type": "stream",
          "text": [
            "1792it [03:52,  7.72it/s]"
          ],
          "name": "stderr"
        },
        {
          "output_type": "stream",
          "text": [
            "2.0504865646362305\n",
            "2.1085574626922607\n"
          ],
          "name": "stdout"
        },
        {
          "output_type": "stream",
          "text": [
            "1794it [03:52,  7.64it/s]"
          ],
          "name": "stderr"
        },
        {
          "output_type": "stream",
          "text": [
            "2.019319772720337\n",
            "2.0341336727142334\n"
          ],
          "name": "stdout"
        },
        {
          "output_type": "stream",
          "text": [
            "1796it [03:52,  7.74it/s]"
          ],
          "name": "stderr"
        },
        {
          "output_type": "stream",
          "text": [
            "2.054927110671997\n",
            "1.9985023736953735\n"
          ],
          "name": "stdout"
        },
        {
          "output_type": "stream",
          "text": [
            "1798it [03:52,  7.79it/s]"
          ],
          "name": "stderr"
        },
        {
          "output_type": "stream",
          "text": [
            "1.9551037549972534\n",
            "1.9479271173477173\n"
          ],
          "name": "stdout"
        },
        {
          "output_type": "stream",
          "text": [
            "1800it [03:53,  7.77it/s]"
          ],
          "name": "stderr"
        },
        {
          "output_type": "stream",
          "text": [
            "2.030884265899658\n",
            "2.04382586479187\n"
          ],
          "name": "stdout"
        },
        {
          "output_type": "stream",
          "text": [
            "1802it [03:53,  7.75it/s]"
          ],
          "name": "stderr"
        },
        {
          "output_type": "stream",
          "text": [
            "2.073647975921631\n",
            "1.9975417852401733\n"
          ],
          "name": "stdout"
        },
        {
          "output_type": "stream",
          "text": [
            "1804it [03:53,  7.70it/s]"
          ],
          "name": "stderr"
        },
        {
          "output_type": "stream",
          "text": [
            "1.9349799156188965\n",
            "2.0235393047332764\n"
          ],
          "name": "stdout"
        },
        {
          "output_type": "stream",
          "text": [
            "1806it [03:53,  7.77it/s]"
          ],
          "name": "stderr"
        },
        {
          "output_type": "stream",
          "text": [
            "2.0357463359832764\n",
            "1.9987049102783203\n"
          ],
          "name": "stdout"
        },
        {
          "output_type": "stream",
          "text": [
            "1808it [03:54,  7.78it/s]"
          ],
          "name": "stderr"
        },
        {
          "output_type": "stream",
          "text": [
            "2.130488872528076\n",
            "2.113107442855835\n"
          ],
          "name": "stdout"
        },
        {
          "output_type": "stream",
          "text": [
            "1810it [03:54,  7.66it/s]"
          ],
          "name": "stderr"
        },
        {
          "output_type": "stream",
          "text": [
            "2.0593302249908447\n",
            "2.0069940090179443\n"
          ],
          "name": "stdout"
        },
        {
          "output_type": "stream",
          "text": [
            "1812it [03:54,  7.74it/s]"
          ],
          "name": "stderr"
        },
        {
          "output_type": "stream",
          "text": [
            "1.992939829826355\n",
            "1.9580068588256836\n"
          ],
          "name": "stdout"
        },
        {
          "output_type": "stream",
          "text": [
            "1814it [03:54,  7.70it/s]"
          ],
          "name": "stderr"
        },
        {
          "output_type": "stream",
          "text": [
            "2.0075411796569824\n",
            "1.9386396408081055\n"
          ],
          "name": "stdout"
        },
        {
          "output_type": "stream",
          "text": [
            "1816it [03:55,  7.73it/s]"
          ],
          "name": "stderr"
        },
        {
          "output_type": "stream",
          "text": [
            "1.9505434036254883\n",
            "1.9832069873809814\n"
          ],
          "name": "stdout"
        },
        {
          "output_type": "stream",
          "text": [
            "1818it [03:55,  7.81it/s]"
          ],
          "name": "stderr"
        },
        {
          "output_type": "stream",
          "text": [
            "2.0072011947631836\n",
            "2.0711936950683594\n"
          ],
          "name": "stdout"
        },
        {
          "output_type": "stream",
          "text": [
            "1820it [03:55,  7.83it/s]"
          ],
          "name": "stderr"
        },
        {
          "output_type": "stream",
          "text": [
            "1.9662232398986816\n",
            "1.9640111923217773\n"
          ],
          "name": "stdout"
        },
        {
          "output_type": "stream",
          "text": [
            "1822it [03:55,  7.89it/s]"
          ],
          "name": "stderr"
        },
        {
          "output_type": "stream",
          "text": [
            "1.9818859100341797\n",
            "1.9975916147232056\n"
          ],
          "name": "stdout"
        },
        {
          "output_type": "stream",
          "text": [
            "1824it [03:56,  7.74it/s]"
          ],
          "name": "stderr"
        },
        {
          "output_type": "stream",
          "text": [
            "2.162935256958008\n",
            "2.0400753021240234\n"
          ],
          "name": "stdout"
        },
        {
          "output_type": "stream",
          "text": [
            "1826it [03:56,  7.70it/s]"
          ],
          "name": "stderr"
        },
        {
          "output_type": "stream",
          "text": [
            "2.0289084911346436\n",
            "2.1042494773864746\n"
          ],
          "name": "stdout"
        },
        {
          "output_type": "stream",
          "text": [
            "1828it [03:56,  7.81it/s]"
          ],
          "name": "stderr"
        },
        {
          "output_type": "stream",
          "text": [
            "2.0398902893066406\n",
            "2.0045549869537354\n"
          ],
          "name": "stdout"
        },
        {
          "output_type": "stream",
          "text": [
            "1830it [03:56,  7.73it/s]"
          ],
          "name": "stderr"
        },
        {
          "output_type": "stream",
          "text": [
            "1.9418083429336548\n",
            "2.252859592437744\n"
          ],
          "name": "stdout"
        },
        {
          "output_type": "stream",
          "text": [
            "1832it [03:57,  7.69it/s]"
          ],
          "name": "stderr"
        },
        {
          "output_type": "stream",
          "text": [
            "1.979752779006958\n",
            "2.015554666519165\n"
          ],
          "name": "stdout"
        },
        {
          "output_type": "stream",
          "text": [
            "1834it [03:57,  7.78it/s]"
          ],
          "name": "stderr"
        },
        {
          "output_type": "stream",
          "text": [
            "1.9583511352539062\n",
            "2.069474697113037\n"
          ],
          "name": "stdout"
        },
        {
          "output_type": "stream",
          "text": [
            "1836it [03:57,  7.79it/s]"
          ],
          "name": "stderr"
        },
        {
          "output_type": "stream",
          "text": [
            "2.107111930847168\n",
            "2.0849549770355225\n"
          ],
          "name": "stdout"
        },
        {
          "output_type": "stream",
          "text": [
            "1838it [03:57,  7.78it/s]"
          ],
          "name": "stderr"
        },
        {
          "output_type": "stream",
          "text": [
            "2.081098794937134\n",
            "2.0800678730010986\n"
          ],
          "name": "stdout"
        },
        {
          "output_type": "stream",
          "text": [
            "1840it [03:58,  7.67it/s]"
          ],
          "name": "stderr"
        },
        {
          "output_type": "stream",
          "text": [
            "2.059098720550537\n",
            "2.0989766120910645\n"
          ],
          "name": "stdout"
        },
        {
          "output_type": "stream",
          "text": [
            "1842it [03:58,  7.57it/s]"
          ],
          "name": "stderr"
        },
        {
          "output_type": "stream",
          "text": [
            "1.9727476835250854\n",
            "1.998674988746643\n"
          ],
          "name": "stdout"
        },
        {
          "output_type": "stream",
          "text": [
            "1844it [03:58,  7.65it/s]"
          ],
          "name": "stderr"
        },
        {
          "output_type": "stream",
          "text": [
            "2.0699517726898193\n",
            "2.124436855316162\n"
          ],
          "name": "stdout"
        },
        {
          "output_type": "stream",
          "text": [
            "1846it [03:58,  7.76it/s]"
          ],
          "name": "stderr"
        },
        {
          "output_type": "stream",
          "text": [
            "2.0488173961639404\n",
            "2.0130531787872314\n"
          ],
          "name": "stdout"
        },
        {
          "output_type": "stream",
          "text": [
            "1848it [03:59,  7.62it/s]"
          ],
          "name": "stderr"
        },
        {
          "output_type": "stream",
          "text": [
            "2.0127017498016357\n",
            "1.9706560373306274\n"
          ],
          "name": "stdout"
        },
        {
          "output_type": "stream",
          "text": [
            "1850it [03:59,  7.49it/s]"
          ],
          "name": "stderr"
        },
        {
          "output_type": "stream",
          "text": [
            "2.128107786178589\n",
            "2.0825860500335693\n"
          ],
          "name": "stdout"
        },
        {
          "output_type": "stream",
          "text": [
            "1852it [03:59,  7.73it/s]"
          ],
          "name": "stderr"
        },
        {
          "output_type": "stream",
          "text": [
            "2.070279598236084\n",
            "1.9955087900161743\n"
          ],
          "name": "stdout"
        },
        {
          "output_type": "stream",
          "text": [
            "1854it [04:00,  7.81it/s]"
          ],
          "name": "stderr"
        },
        {
          "output_type": "stream",
          "text": [
            "1.9820195436477661\n",
            "1.9532722234725952\n"
          ],
          "name": "stdout"
        },
        {
          "output_type": "stream",
          "text": [
            "1856it [04:00,  7.71it/s]"
          ],
          "name": "stderr"
        },
        {
          "output_type": "stream",
          "text": [
            "2.016000747680664\n",
            "1.9520769119262695\n"
          ],
          "name": "stdout"
        },
        {
          "output_type": "stream",
          "text": [
            "1858it [04:00,  7.83it/s]"
          ],
          "name": "stderr"
        },
        {
          "output_type": "stream",
          "text": [
            "1.873801350593567\n",
            "1.9414591789245605\n"
          ],
          "name": "stdout"
        },
        {
          "output_type": "stream",
          "text": [
            "1860it [04:00,  7.89it/s]"
          ],
          "name": "stderr"
        },
        {
          "output_type": "stream",
          "text": [
            "1.9827076196670532\n",
            "1.978069543838501\n"
          ],
          "name": "stdout"
        },
        {
          "output_type": "stream",
          "text": [
            "1862it [04:01,  7.79it/s]"
          ],
          "name": "stderr"
        },
        {
          "output_type": "stream",
          "text": [
            "2.130960464477539\n",
            "2.058079481124878\n"
          ],
          "name": "stdout"
        },
        {
          "output_type": "stream",
          "text": [
            "1864it [04:01,  7.75it/s]"
          ],
          "name": "stderr"
        },
        {
          "output_type": "stream",
          "text": [
            "1.978074073791504\n",
            "2.0948359966278076\n"
          ],
          "name": "stdout"
        },
        {
          "output_type": "stream",
          "text": [
            "1866it [04:01,  7.74it/s]"
          ],
          "name": "stderr"
        },
        {
          "output_type": "stream",
          "text": [
            "2.0050017833709717\n",
            "2.0145955085754395\n"
          ],
          "name": "stdout"
        },
        {
          "output_type": "stream",
          "text": [
            "1868it [04:01,  7.71it/s]"
          ],
          "name": "stderr"
        },
        {
          "output_type": "stream",
          "text": [
            "2.1373794078826904\n",
            "2.0493741035461426\n"
          ],
          "name": "stdout"
        },
        {
          "output_type": "stream",
          "text": [
            "1870it [04:02,  7.75it/s]"
          ],
          "name": "stderr"
        },
        {
          "output_type": "stream",
          "text": [
            "2.033306360244751\n",
            "2.0136868953704834\n"
          ],
          "name": "stdout"
        },
        {
          "output_type": "stream",
          "text": [
            "1872it [04:02,  7.60it/s]"
          ],
          "name": "stderr"
        },
        {
          "output_type": "stream",
          "text": [
            "2.04251766204834\n",
            "2.0755584239959717\n"
          ],
          "name": "stdout"
        },
        {
          "output_type": "stream",
          "text": [
            "1874it [04:02,  7.70it/s]"
          ],
          "name": "stderr"
        },
        {
          "output_type": "stream",
          "text": [
            "2.047203302383423\n",
            "2.0565624237060547\n"
          ],
          "name": "stdout"
        },
        {
          "output_type": "stream",
          "text": [
            "1876it [04:02,  7.72it/s]"
          ],
          "name": "stderr"
        },
        {
          "output_type": "stream",
          "text": [
            "1.990424633026123\n",
            "1.991357445716858\n"
          ],
          "name": "stdout"
        },
        {
          "output_type": "stream",
          "text": [
            "1878it [04:03,  7.73it/s]"
          ],
          "name": "stderr"
        },
        {
          "output_type": "stream",
          "text": [
            "2.002608060836792\n",
            "2.045010566711426\n"
          ],
          "name": "stdout"
        },
        {
          "output_type": "stream",
          "text": [
            "1880it [04:03,  7.65it/s]"
          ],
          "name": "stderr"
        },
        {
          "output_type": "stream",
          "text": [
            "2.0678658485412598\n",
            "2.0521788597106934\n"
          ],
          "name": "stdout"
        },
        {
          "output_type": "stream",
          "text": [
            "1882it [04:03,  7.78it/s]"
          ],
          "name": "stderr"
        },
        {
          "output_type": "stream",
          "text": [
            "2.074951648712158\n",
            "1.9946683645248413\n"
          ],
          "name": "stdout"
        },
        {
          "output_type": "stream",
          "text": [
            "1884it [04:03,  7.78it/s]"
          ],
          "name": "stderr"
        },
        {
          "output_type": "stream",
          "text": [
            "2.03007435798645\n",
            "2.0051848888397217\n"
          ],
          "name": "stdout"
        },
        {
          "output_type": "stream",
          "text": [
            "1886it [04:04,  7.78it/s]"
          ],
          "name": "stderr"
        },
        {
          "output_type": "stream",
          "text": [
            "1.9805736541748047\n",
            "1.971659779548645\n"
          ],
          "name": "stdout"
        },
        {
          "output_type": "stream",
          "text": [
            "1888it [04:04,  7.76it/s]"
          ],
          "name": "stderr"
        },
        {
          "output_type": "stream",
          "text": [
            "2.0234568119049072\n",
            "2.007392406463623\n"
          ],
          "name": "stdout"
        },
        {
          "output_type": "stream",
          "text": [
            "1890it [04:04,  7.79it/s]"
          ],
          "name": "stderr"
        },
        {
          "output_type": "stream",
          "text": [
            "1.9488468170166016\n",
            "1.9962241649627686\n"
          ],
          "name": "stdout"
        },
        {
          "output_type": "stream",
          "text": [
            "1892it [04:04,  7.85it/s]"
          ],
          "name": "stderr"
        },
        {
          "output_type": "stream",
          "text": [
            "1.9499505758285522\n",
            "2.082463264465332\n"
          ],
          "name": "stdout"
        },
        {
          "output_type": "stream",
          "text": [
            "1894it [04:05,  7.68it/s]"
          ],
          "name": "stderr"
        },
        {
          "output_type": "stream",
          "text": [
            "1.9661861658096313\n",
            "1.9885326623916626\n"
          ],
          "name": "stdout"
        },
        {
          "output_type": "stream",
          "text": [
            "1896it [04:05,  7.70it/s]"
          ],
          "name": "stderr"
        },
        {
          "output_type": "stream",
          "text": [
            "2.0838510990142822\n",
            "2.0495030879974365\n"
          ],
          "name": "stdout"
        },
        {
          "output_type": "stream",
          "text": [
            "1898it [04:05,  7.73it/s]"
          ],
          "name": "stderr"
        },
        {
          "output_type": "stream",
          "text": [
            "2.0364301204681396\n",
            "2.000976085662842\n"
          ],
          "name": "stdout"
        },
        {
          "output_type": "stream",
          "text": [
            "1900it [04:05,  7.80it/s]"
          ],
          "name": "stderr"
        },
        {
          "output_type": "stream",
          "text": [
            "1.988937258720398\n",
            "2.07806134223938\n"
          ],
          "name": "stdout"
        },
        {
          "output_type": "stream",
          "text": [
            "1902it [04:06,  7.71it/s]"
          ],
          "name": "stderr"
        },
        {
          "output_type": "stream",
          "text": [
            "2.0092790126800537\n",
            "2.0424487590789795\n"
          ],
          "name": "stdout"
        },
        {
          "output_type": "stream",
          "text": [
            "1904it [04:06,  7.60it/s]"
          ],
          "name": "stderr"
        },
        {
          "output_type": "stream",
          "text": [
            "1.9802500009536743\n",
            "1.927229881286621\n"
          ],
          "name": "stdout"
        },
        {
          "output_type": "stream",
          "text": [
            "1906it [04:06,  7.72it/s]"
          ],
          "name": "stderr"
        },
        {
          "output_type": "stream",
          "text": [
            "2.028801918029785\n",
            "2.044952869415283\n"
          ],
          "name": "stdout"
        },
        {
          "output_type": "stream",
          "text": [
            "1908it [04:07,  7.76it/s]"
          ],
          "name": "stderr"
        },
        {
          "output_type": "stream",
          "text": [
            "2.014108657836914\n",
            "2.0627200603485107\n"
          ],
          "name": "stdout"
        },
        {
          "output_type": "stream",
          "text": [
            "1910it [04:07,  7.73it/s]"
          ],
          "name": "stderr"
        },
        {
          "output_type": "stream",
          "text": [
            "2.0956623554229736\n",
            "2.1433215141296387\n"
          ],
          "name": "stdout"
        },
        {
          "output_type": "stream",
          "text": [
            "1912it [04:07,  7.81it/s]"
          ],
          "name": "stderr"
        },
        {
          "output_type": "stream",
          "text": [
            "2.0707623958587646\n",
            "1.9874794483184814\n"
          ],
          "name": "stdout"
        },
        {
          "output_type": "stream",
          "text": [
            "1914it [04:07,  7.87it/s]"
          ],
          "name": "stderr"
        },
        {
          "output_type": "stream",
          "text": [
            "2.032560348510742\n",
            "2.067659854888916\n"
          ],
          "name": "stdout"
        },
        {
          "output_type": "stream",
          "text": [
            "1916it [04:08,  7.76it/s]"
          ],
          "name": "stderr"
        },
        {
          "output_type": "stream",
          "text": [
            "2.0771782398223877\n",
            "1.9360138177871704\n"
          ],
          "name": "stdout"
        },
        {
          "output_type": "stream",
          "text": [
            "1918it [04:08,  7.68it/s]"
          ],
          "name": "stderr"
        },
        {
          "output_type": "stream",
          "text": [
            "1.9762229919433594\n",
            "2.027290105819702\n"
          ],
          "name": "stdout"
        },
        {
          "output_type": "stream",
          "text": [
            "1920it [04:08,  7.77it/s]"
          ],
          "name": "stderr"
        },
        {
          "output_type": "stream",
          "text": [
            "1.9224687814712524\n",
            "1.9172630310058594\n"
          ],
          "name": "stdout"
        },
        {
          "output_type": "stream",
          "text": [
            "1922it [04:08,  7.57it/s]"
          ],
          "name": "stderr"
        },
        {
          "output_type": "stream",
          "text": [
            "1.9489179849624634\n",
            "1.9917126893997192\n"
          ],
          "name": "stdout"
        },
        {
          "output_type": "stream",
          "text": [
            "1924it [04:09,  7.69it/s]"
          ],
          "name": "stderr"
        },
        {
          "output_type": "stream",
          "text": [
            "2.1209473609924316\n",
            "2.218478202819824\n"
          ],
          "name": "stdout"
        },
        {
          "output_type": "stream",
          "text": [
            "1926it [04:09,  7.61it/s]"
          ],
          "name": "stderr"
        },
        {
          "output_type": "stream",
          "text": [
            "2.0641534328460693\n",
            "1.9709839820861816\n"
          ],
          "name": "stdout"
        },
        {
          "output_type": "stream",
          "text": [
            "1928it [04:09,  7.70it/s]"
          ],
          "name": "stderr"
        },
        {
          "output_type": "stream",
          "text": [
            "2.031975269317627\n",
            "2.0160796642303467\n"
          ],
          "name": "stdout"
        },
        {
          "output_type": "stream",
          "text": [
            "1930it [04:09,  7.73it/s]"
          ],
          "name": "stderr"
        },
        {
          "output_type": "stream",
          "text": [
            "2.1225333213806152\n",
            "2.025163173675537\n"
          ],
          "name": "stdout"
        },
        {
          "output_type": "stream",
          "text": [
            "1932it [04:10,  7.75it/s]"
          ],
          "name": "stderr"
        },
        {
          "output_type": "stream",
          "text": [
            "1.99863862991333\n",
            "2.0077266693115234\n"
          ],
          "name": "stdout"
        },
        {
          "output_type": "stream",
          "text": [
            "1934it [04:10,  7.63it/s]"
          ],
          "name": "stderr"
        },
        {
          "output_type": "stream",
          "text": [
            "1.9667469263076782\n",
            "2.045891523361206\n"
          ],
          "name": "stdout"
        },
        {
          "output_type": "stream",
          "text": [
            "1936it [04:10,  7.65it/s]"
          ],
          "name": "stderr"
        },
        {
          "output_type": "stream",
          "text": [
            "1.9529169797897339\n",
            "2.058683156967163\n"
          ],
          "name": "stdout"
        },
        {
          "output_type": "stream",
          "text": [
            "1938it [04:10,  7.74it/s]"
          ],
          "name": "stderr"
        },
        {
          "output_type": "stream",
          "text": [
            "2.0998237133026123\n",
            "1.9358776807785034\n"
          ],
          "name": "stdout"
        },
        {
          "output_type": "stream",
          "text": [
            "1940it [04:11,  7.65it/s]"
          ],
          "name": "stderr"
        },
        {
          "output_type": "stream",
          "text": [
            "2.0537328720092773\n",
            "2.0016589164733887\n"
          ],
          "name": "stdout"
        },
        {
          "output_type": "stream",
          "text": [
            "1942it [04:11,  7.70it/s]"
          ],
          "name": "stderr"
        },
        {
          "output_type": "stream",
          "text": [
            "2.0173966884613037\n",
            "2.0761544704437256\n"
          ],
          "name": "stdout"
        },
        {
          "output_type": "stream",
          "text": [
            "1944it [04:11,  7.87it/s]"
          ],
          "name": "stderr"
        },
        {
          "output_type": "stream",
          "text": [
            "2.079939126968384\n",
            "1.9230045080184937\n"
          ],
          "name": "stdout"
        },
        {
          "output_type": "stream",
          "text": [
            "1946it [04:11,  7.92it/s]"
          ],
          "name": "stderr"
        },
        {
          "output_type": "stream",
          "text": [
            "2.0249829292297363\n",
            "1.9694124460220337\n"
          ],
          "name": "stdout"
        },
        {
          "output_type": "stream",
          "text": [
            "1948it [04:12,  7.73it/s]"
          ],
          "name": "stderr"
        },
        {
          "output_type": "stream",
          "text": [
            "2.0900065898895264\n",
            "1.9836866855621338\n"
          ],
          "name": "stdout"
        },
        {
          "output_type": "stream",
          "text": [
            "1950it [04:12,  7.67it/s]"
          ],
          "name": "stderr"
        },
        {
          "output_type": "stream",
          "text": [
            "2.062134265899658\n",
            "1.9269288778305054\n"
          ],
          "name": "stdout"
        },
        {
          "output_type": "stream",
          "text": [
            "1952it [04:12,  7.71it/s]"
          ],
          "name": "stderr"
        },
        {
          "output_type": "stream",
          "text": [
            "2.040825605392456\n",
            "2.035407543182373\n"
          ],
          "name": "stdout"
        },
        {
          "output_type": "stream",
          "text": [
            "1954it [04:12,  7.80it/s]"
          ],
          "name": "stderr"
        },
        {
          "output_type": "stream",
          "text": [
            "2.070390462875366\n",
            "2.1076531410217285\n"
          ],
          "name": "stdout"
        },
        {
          "output_type": "stream",
          "text": [
            "1956it [04:13,  7.70it/s]"
          ],
          "name": "stderr"
        },
        {
          "output_type": "stream",
          "text": [
            "1.9867215156555176\n",
            "1.9653517007827759\n"
          ],
          "name": "stdout"
        },
        {
          "output_type": "stream",
          "text": [
            "1958it [04:13,  7.26it/s]"
          ],
          "name": "stderr"
        },
        {
          "output_type": "stream",
          "text": [
            "1.9857920408248901\n",
            "2.066739082336426\n"
          ],
          "name": "stdout"
        },
        {
          "output_type": "stream",
          "text": [
            "1960it [04:13,  7.27it/s]"
          ],
          "name": "stderr"
        },
        {
          "output_type": "stream",
          "text": [
            "1.9882451295852661\n",
            "1.991958737373352\n"
          ],
          "name": "stdout"
        },
        {
          "output_type": "stream",
          "text": [
            "1962it [04:14,  7.51it/s]"
          ],
          "name": "stderr"
        },
        {
          "output_type": "stream",
          "text": [
            "2.1471619606018066\n",
            "2.2381014823913574\n"
          ],
          "name": "stdout"
        },
        {
          "output_type": "stream",
          "text": [
            "1964it [04:14,  7.63it/s]"
          ],
          "name": "stderr"
        },
        {
          "output_type": "stream",
          "text": [
            "2.0214662551879883\n",
            "1.918192744255066\n"
          ],
          "name": "stdout"
        },
        {
          "output_type": "stream",
          "text": [
            "1966it [04:14,  7.52it/s]"
          ],
          "name": "stderr"
        },
        {
          "output_type": "stream",
          "text": [
            "2.010004997253418\n",
            "1.9708503484725952\n"
          ],
          "name": "stdout"
        },
        {
          "output_type": "stream",
          "text": [
            "1968it [04:14,  7.56it/s]"
          ],
          "name": "stderr"
        },
        {
          "output_type": "stream",
          "text": [
            "1.9625133275985718\n",
            "1.9595818519592285\n"
          ],
          "name": "stdout"
        },
        {
          "output_type": "stream",
          "text": [
            "1970it [04:15,  7.39it/s]"
          ],
          "name": "stderr"
        },
        {
          "output_type": "stream",
          "text": [
            "2.030381917953491\n",
            "1.9361156225204468\n"
          ],
          "name": "stdout"
        },
        {
          "output_type": "stream",
          "text": [
            "1972it [04:15,  7.38it/s]"
          ],
          "name": "stderr"
        },
        {
          "output_type": "stream",
          "text": [
            "2.004542827606201\n",
            "2.0593912601470947\n"
          ],
          "name": "stdout"
        },
        {
          "output_type": "stream",
          "text": [
            "1974it [04:15,  7.48it/s]"
          ],
          "name": "stderr"
        },
        {
          "output_type": "stream",
          "text": [
            "1.9944851398468018\n",
            "2.0766866207122803\n"
          ],
          "name": "stdout"
        },
        {
          "output_type": "stream",
          "text": [
            "1976it [04:15,  7.53it/s]"
          ],
          "name": "stderr"
        },
        {
          "output_type": "stream",
          "text": [
            "2.238471031188965\n",
            "2.0501656532287598\n"
          ],
          "name": "stdout"
        },
        {
          "output_type": "stream",
          "text": [
            "1978it [04:16,  7.57it/s]"
          ],
          "name": "stderr"
        },
        {
          "output_type": "stream",
          "text": [
            "2.0451083183288574\n",
            "1.9776500463485718\n"
          ],
          "name": "stdout"
        },
        {
          "output_type": "stream",
          "text": [
            "1980it [04:16,  7.34it/s]"
          ],
          "name": "stderr"
        },
        {
          "output_type": "stream",
          "text": [
            "1.9782609939575195\n",
            "2.0401930809020996\n"
          ],
          "name": "stdout"
        },
        {
          "output_type": "stream",
          "text": [
            "1982it [04:16,  7.48it/s]"
          ],
          "name": "stderr"
        },
        {
          "output_type": "stream",
          "text": [
            "2.0822670459747314\n",
            "2.029304027557373\n"
          ],
          "name": "stdout"
        },
        {
          "output_type": "stream",
          "text": [
            "1984it [04:16,  7.51it/s]"
          ],
          "name": "stderr"
        },
        {
          "output_type": "stream",
          "text": [
            "2.0026328563690186\n",
            "2.0208239555358887\n"
          ],
          "name": "stdout"
        },
        {
          "output_type": "stream",
          "text": [
            "1986it [04:17,  7.52it/s]"
          ],
          "name": "stderr"
        },
        {
          "output_type": "stream",
          "text": [
            "2.0550594329833984\n",
            "2.017451286315918\n"
          ],
          "name": "stdout"
        },
        {
          "output_type": "stream",
          "text": [
            "1988it [04:17,  7.46it/s]"
          ],
          "name": "stderr"
        },
        {
          "output_type": "stream",
          "text": [
            "1.9842478036880493\n",
            "2.003958225250244\n"
          ],
          "name": "stdout"
        },
        {
          "output_type": "stream",
          "text": [
            "1990it [04:17,  7.50it/s]"
          ],
          "name": "stderr"
        },
        {
          "output_type": "stream",
          "text": [
            "2.09244441986084\n",
            "2.0153229236602783\n"
          ],
          "name": "stdout"
        },
        {
          "output_type": "stream",
          "text": [
            "1992it [04:18,  7.59it/s]"
          ],
          "name": "stderr"
        },
        {
          "output_type": "stream",
          "text": [
            "2.0198020935058594\n",
            "1.9944958686828613\n"
          ],
          "name": "stdout"
        },
        {
          "output_type": "stream",
          "text": [
            "1994it [04:18,  7.61it/s]"
          ],
          "name": "stderr"
        },
        {
          "output_type": "stream",
          "text": [
            "1.9217802286148071\n",
            "2.0636065006256104\n"
          ],
          "name": "stdout"
        },
        {
          "output_type": "stream",
          "text": [
            "1996it [04:18,  7.57it/s]"
          ],
          "name": "stderr"
        },
        {
          "output_type": "stream",
          "text": [
            "1.980302095413208\n",
            "1.949157953262329\n"
          ],
          "name": "stdout"
        },
        {
          "output_type": "stream",
          "text": [
            "1998it [04:18,  7.57it/s]"
          ],
          "name": "stderr"
        },
        {
          "output_type": "stream",
          "text": [
            "2.0797994136810303\n",
            "1.9876965284347534\n"
          ],
          "name": "stdout"
        },
        {
          "output_type": "stream",
          "text": [
            "2000it [04:19,  7.43it/s]"
          ],
          "name": "stderr"
        },
        {
          "output_type": "stream",
          "text": [
            "2.0976650714874268\n",
            "2.0243589878082275\n"
          ],
          "name": "stdout"
        },
        {
          "output_type": "stream",
          "text": [
            "2002it [04:19,  7.40it/s]"
          ],
          "name": "stderr"
        },
        {
          "output_type": "stream",
          "text": [
            "1.992456078529358\n",
            "1.8884392976760864\n"
          ],
          "name": "stdout"
        },
        {
          "output_type": "stream",
          "text": [
            "2004it [04:19,  7.44it/s]"
          ],
          "name": "stderr"
        },
        {
          "output_type": "stream",
          "text": [
            "1.9968355894088745\n",
            "1.9957358837127686\n"
          ],
          "name": "stdout"
        },
        {
          "output_type": "stream",
          "text": [
            "2006it [04:19,  7.52it/s]"
          ],
          "name": "stderr"
        },
        {
          "output_type": "stream",
          "text": [
            "1.9802173376083374\n",
            "1.956031084060669\n"
          ],
          "name": "stdout"
        },
        {
          "output_type": "stream",
          "text": [
            "2008it [04:20,  7.52it/s]"
          ],
          "name": "stderr"
        },
        {
          "output_type": "stream",
          "text": [
            "1.9956079721450806\n",
            "2.0285580158233643\n"
          ],
          "name": "stdout"
        },
        {
          "output_type": "stream",
          "text": [
            "2010it [04:20,  7.56it/s]"
          ],
          "name": "stderr"
        },
        {
          "output_type": "stream",
          "text": [
            "2.003242254257202\n",
            "1.9708876609802246\n"
          ],
          "name": "stdout"
        },
        {
          "output_type": "stream",
          "text": [
            "2012it [04:20,  7.52it/s]"
          ],
          "name": "stderr"
        },
        {
          "output_type": "stream",
          "text": [
            "1.9894624948501587\n",
            "1.9290826320648193\n"
          ],
          "name": "stdout"
        },
        {
          "output_type": "stream",
          "text": [
            "2014it [04:20,  7.63it/s]"
          ],
          "name": "stderr"
        },
        {
          "output_type": "stream",
          "text": [
            "1.9004863500595093\n",
            "1.9325186014175415\n"
          ],
          "name": "stdout"
        },
        {
          "output_type": "stream",
          "text": [
            "2016it [04:21,  7.63it/s]"
          ],
          "name": "stderr"
        },
        {
          "output_type": "stream",
          "text": [
            "2.012611150741577\n",
            "2.0350749492645264\n"
          ],
          "name": "stdout"
        },
        {
          "output_type": "stream",
          "text": [
            "2018it [04:21,  7.52it/s]"
          ],
          "name": "stderr"
        },
        {
          "output_type": "stream",
          "text": [
            "2.0657522678375244\n",
            "2.1537539958953857\n"
          ],
          "name": "stdout"
        },
        {
          "output_type": "stream",
          "text": [
            "2020it [04:21,  7.61it/s]"
          ],
          "name": "stderr"
        },
        {
          "output_type": "stream",
          "text": [
            "2.046654462814331\n",
            "2.0126430988311768\n"
          ],
          "name": "stdout"
        },
        {
          "output_type": "stream",
          "text": [
            "2022it [04:22,  7.45it/s]"
          ],
          "name": "stderr"
        },
        {
          "output_type": "stream",
          "text": [
            "2.0060296058654785\n",
            "2.0353124141693115\n"
          ],
          "name": "stdout"
        },
        {
          "output_type": "stream",
          "text": [
            "2024it [04:22,  7.51it/s]"
          ],
          "name": "stderr"
        },
        {
          "output_type": "stream",
          "text": [
            "1.9665056467056274\n",
            "1.9826602935791016\n"
          ],
          "name": "stdout"
        },
        {
          "output_type": "stream",
          "text": [
            "2026it [04:22,  7.43it/s]"
          ],
          "name": "stderr"
        },
        {
          "output_type": "stream",
          "text": [
            "2.037553071975708\n",
            "1.9022669792175293\n"
          ],
          "name": "stdout"
        },
        {
          "output_type": "stream",
          "text": [
            "2028it [04:22,  7.52it/s]"
          ],
          "name": "stderr"
        },
        {
          "output_type": "stream",
          "text": [
            "1.9987704753875732\n",
            "1.9418326616287231\n"
          ],
          "name": "stdout"
        },
        {
          "output_type": "stream",
          "text": [
            "2030it [04:23,  7.55it/s]"
          ],
          "name": "stderr"
        },
        {
          "output_type": "stream",
          "text": [
            "2.023719072341919\n",
            "1.9223296642303467\n"
          ],
          "name": "stdout"
        },
        {
          "output_type": "stream",
          "text": [
            "2032it [04:23,  7.43it/s]"
          ],
          "name": "stderr"
        },
        {
          "output_type": "stream",
          "text": [
            "1.990482211112976\n",
            "1.972912073135376\n"
          ],
          "name": "stdout"
        },
        {
          "output_type": "stream",
          "text": [
            "2034it [04:23,  7.19it/s]"
          ],
          "name": "stderr"
        },
        {
          "output_type": "stream",
          "text": [
            "2.0354034900665283\n",
            "2.037041664123535\n"
          ],
          "name": "stdout"
        },
        {
          "output_type": "stream",
          "text": [
            "2036it [04:23,  7.37it/s]"
          ],
          "name": "stderr"
        },
        {
          "output_type": "stream",
          "text": [
            "2.045499324798584\n",
            "2.000164747238159\n"
          ],
          "name": "stdout"
        },
        {
          "output_type": "stream",
          "text": [
            "2038it [04:24,  7.51it/s]"
          ],
          "name": "stderr"
        },
        {
          "output_type": "stream",
          "text": [
            "1.9562461376190186\n",
            "1.9597547054290771\n"
          ],
          "name": "stdout"
        },
        {
          "output_type": "stream",
          "text": [
            "2040it [04:24,  7.59it/s]"
          ],
          "name": "stderr"
        },
        {
          "output_type": "stream",
          "text": [
            "2.0295088291168213\n",
            "2.1013503074645996\n"
          ],
          "name": "stdout"
        },
        {
          "output_type": "stream",
          "text": [
            "2042it [04:24,  7.55it/s]"
          ],
          "name": "stderr"
        },
        {
          "output_type": "stream",
          "text": [
            "1.965878963470459\n",
            "1.8957253694534302\n"
          ],
          "name": "stdout"
        },
        {
          "output_type": "stream",
          "text": [
            "2044it [04:24,  7.64it/s]"
          ],
          "name": "stderr"
        },
        {
          "output_type": "stream",
          "text": [
            "2.0798983573913574\n",
            "1.9697290658950806\n"
          ],
          "name": "stdout"
        },
        {
          "output_type": "stream",
          "text": [
            "2046it [04:25,  7.65it/s]"
          ],
          "name": "stderr"
        },
        {
          "output_type": "stream",
          "text": [
            "1.959824562072754\n",
            "2.005897045135498\n"
          ],
          "name": "stdout"
        },
        {
          "output_type": "stream",
          "text": [
            "2048it [04:25,  7.74it/s]"
          ],
          "name": "stderr"
        },
        {
          "output_type": "stream",
          "text": [
            "1.9824345111846924\n",
            "2.015599489212036\n"
          ],
          "name": "stdout"
        },
        {
          "output_type": "stream",
          "text": [
            "2050it [04:25,  7.72it/s]"
          ],
          "name": "stderr"
        },
        {
          "output_type": "stream",
          "text": [
            "2.019104242324829\n",
            "2.0244555473327637\n"
          ],
          "name": "stdout"
        },
        {
          "output_type": "stream",
          "text": [
            "2052it [04:26,  7.73it/s]"
          ],
          "name": "stderr"
        },
        {
          "output_type": "stream",
          "text": [
            "2.1146364212036133\n",
            "1.9655367136001587\n"
          ],
          "name": "stdout"
        },
        {
          "output_type": "stream",
          "text": [
            "2054it [04:26,  7.73it/s]"
          ],
          "name": "stderr"
        },
        {
          "output_type": "stream",
          "text": [
            "1.966956615447998\n",
            "2.0521047115325928\n"
          ],
          "name": "stdout"
        },
        {
          "output_type": "stream",
          "text": [
            "2056it [04:26,  7.59it/s]"
          ],
          "name": "stderr"
        },
        {
          "output_type": "stream",
          "text": [
            "2.00395131111145\n",
            "2.069852828979492\n"
          ],
          "name": "stdout"
        },
        {
          "output_type": "stream",
          "text": [
            "2058it [04:26,  7.70it/s]"
          ],
          "name": "stderr"
        },
        {
          "output_type": "stream",
          "text": [
            "1.991896629333496\n",
            "2.0220208168029785\n"
          ],
          "name": "stdout"
        },
        {
          "output_type": "stream",
          "text": [
            "2060it [04:27,  7.70it/s]"
          ],
          "name": "stderr"
        },
        {
          "output_type": "stream",
          "text": [
            "1.9854506254196167\n",
            "1.9972186088562012\n"
          ],
          "name": "stdout"
        },
        {
          "output_type": "stream",
          "text": [
            "2062it [04:27,  7.73it/s]"
          ],
          "name": "stderr"
        },
        {
          "output_type": "stream",
          "text": [
            "1.9937704801559448\n",
            "1.9693478345870972\n"
          ],
          "name": "stdout"
        },
        {
          "output_type": "stream",
          "text": [
            "2064it [04:27,  7.69it/s]"
          ],
          "name": "stderr"
        },
        {
          "output_type": "stream",
          "text": [
            "2.154397487640381\n",
            "1.9781166315078735\n"
          ],
          "name": "stdout"
        },
        {
          "output_type": "stream",
          "text": [
            "2066it [04:27,  7.69it/s]"
          ],
          "name": "stderr"
        },
        {
          "output_type": "stream",
          "text": [
            "2.0647714138031006\n",
            "2.0112576484680176\n"
          ],
          "name": "stdout"
        },
        {
          "output_type": "stream",
          "text": [
            "2068it [04:28,  7.76it/s]"
          ],
          "name": "stderr"
        },
        {
          "output_type": "stream",
          "text": [
            "1.9753007888793945\n",
            "2.0678040981292725\n"
          ],
          "name": "stdout"
        },
        {
          "output_type": "stream",
          "text": [
            "2070it [04:28,  7.77it/s]"
          ],
          "name": "stderr"
        },
        {
          "output_type": "stream",
          "text": [
            "1.9817306995391846\n",
            "2.0055689811706543\n"
          ],
          "name": "stdout"
        },
        {
          "output_type": "stream",
          "text": [
            "2072it [04:28,  7.71it/s]"
          ],
          "name": "stderr"
        },
        {
          "output_type": "stream",
          "text": [
            "2.0602307319641113\n",
            "1.9302009344100952\n"
          ],
          "name": "stdout"
        },
        {
          "output_type": "stream",
          "text": [
            "2074it [04:28,  7.73it/s]"
          ],
          "name": "stderr"
        },
        {
          "output_type": "stream",
          "text": [
            "2.0027008056640625\n",
            "2.1215739250183105\n"
          ],
          "name": "stdout"
        },
        {
          "output_type": "stream",
          "text": [
            "2076it [04:29,  7.65it/s]"
          ],
          "name": "stderr"
        },
        {
          "output_type": "stream",
          "text": [
            "2.0111985206604004\n",
            "1.9923946857452393\n"
          ],
          "name": "stdout"
        },
        {
          "output_type": "stream",
          "text": [
            "2078it [04:29,  7.40it/s]"
          ],
          "name": "stderr"
        },
        {
          "output_type": "stream",
          "text": [
            "1.968558430671692\n",
            "1.9798364639282227\n"
          ],
          "name": "stdout"
        },
        {
          "output_type": "stream",
          "text": [
            "2080it [04:29,  7.49it/s]"
          ],
          "name": "stderr"
        },
        {
          "output_type": "stream",
          "text": [
            "1.9842511415481567\n",
            "2.057920217514038\n"
          ],
          "name": "stdout"
        },
        {
          "output_type": "stream",
          "text": [
            "2082it [04:29,  7.69it/s]"
          ],
          "name": "stderr"
        },
        {
          "output_type": "stream",
          "text": [
            "1.9481035470962524\n",
            "1.9813185930252075\n"
          ],
          "name": "stdout"
        },
        {
          "output_type": "stream",
          "text": [
            "2084it [04:30,  7.65it/s]"
          ],
          "name": "stderr"
        },
        {
          "output_type": "stream",
          "text": [
            "1.9425268173217773\n",
            "2.019317626953125\n"
          ],
          "name": "stdout"
        },
        {
          "output_type": "stream",
          "text": [
            "2086it [04:30,  7.78it/s]"
          ],
          "name": "stderr"
        },
        {
          "output_type": "stream",
          "text": [
            "2.100818634033203\n",
            "2.0463361740112305\n"
          ],
          "name": "stdout"
        },
        {
          "output_type": "stream",
          "text": [
            "2088it [04:30,  7.76it/s]"
          ],
          "name": "stderr"
        },
        {
          "output_type": "stream",
          "text": [
            "2.040572166442871\n",
            "1.9360829591751099\n"
          ],
          "name": "stdout"
        },
        {
          "output_type": "stream",
          "text": [
            "2090it [04:30,  7.79it/s]"
          ],
          "name": "stderr"
        },
        {
          "output_type": "stream",
          "text": [
            "1.9628373384475708\n",
            "1.9483563899993896\n"
          ],
          "name": "stdout"
        },
        {
          "output_type": "stream",
          "text": [
            "2092it [04:31,  7.73it/s]"
          ],
          "name": "stderr"
        },
        {
          "output_type": "stream",
          "text": [
            "1.9659206867218018\n",
            "2.068234920501709\n"
          ],
          "name": "stdout"
        },
        {
          "output_type": "stream",
          "text": [
            "2094it [04:31,  7.71it/s]"
          ],
          "name": "stderr"
        },
        {
          "output_type": "stream",
          "text": [
            "2.049656629562378\n",
            "1.9969053268432617\n"
          ],
          "name": "stdout"
        },
        {
          "output_type": "stream",
          "text": [
            "2096it [04:31,  7.73it/s]"
          ],
          "name": "stderr"
        },
        {
          "output_type": "stream",
          "text": [
            "1.9992085695266724\n",
            "1.9594796895980835\n"
          ],
          "name": "stdout"
        },
        {
          "output_type": "stream",
          "text": [
            "2098it [04:32,  7.75it/s]"
          ],
          "name": "stderr"
        },
        {
          "output_type": "stream",
          "text": [
            "2.050847053527832\n",
            "2.052778959274292\n"
          ],
          "name": "stdout"
        },
        {
          "output_type": "stream",
          "text": [
            "2100it [04:32,  7.72it/s]"
          ],
          "name": "stderr"
        },
        {
          "output_type": "stream",
          "text": [
            "2.0394113063812256\n",
            "1.951967716217041\n"
          ],
          "name": "stdout"
        },
        {
          "output_type": "stream",
          "text": [
            "2102it [04:32,  7.75it/s]"
          ],
          "name": "stderr"
        },
        {
          "output_type": "stream",
          "text": [
            "1.9866915941238403\n",
            "2.0219128131866455\n"
          ],
          "name": "stdout"
        },
        {
          "output_type": "stream",
          "text": [
            "2104it [04:32,  7.65it/s]"
          ],
          "name": "stderr"
        },
        {
          "output_type": "stream",
          "text": [
            "1.9392707347869873\n",
            "1.8990297317504883\n"
          ],
          "name": "stdout"
        },
        {
          "output_type": "stream",
          "text": [
            "2106it [04:33,  7.68it/s]"
          ],
          "name": "stderr"
        },
        {
          "output_type": "stream",
          "text": [
            "1.9402281045913696\n",
            "2.012600898742676\n"
          ],
          "name": "stdout"
        },
        {
          "output_type": "stream",
          "text": [
            "2108it [04:33,  7.80it/s]"
          ],
          "name": "stderr"
        },
        {
          "output_type": "stream",
          "text": [
            "2.1149158477783203\n",
            "2.0163183212280273\n"
          ],
          "name": "stdout"
        },
        {
          "output_type": "stream",
          "text": [
            "2110it [04:33,  7.78it/s]"
          ],
          "name": "stderr"
        },
        {
          "output_type": "stream",
          "text": [
            "2.00728178024292\n",
            "2.0113272666931152\n"
          ],
          "name": "stdout"
        },
        {
          "output_type": "stream",
          "text": [
            "2112it [04:33,  7.85it/s]"
          ],
          "name": "stderr"
        },
        {
          "output_type": "stream",
          "text": [
            "2.0657551288604736\n",
            "2.000109910964966\n"
          ],
          "name": "stdout"
        },
        {
          "output_type": "stream",
          "text": [
            "2114it [04:34,  7.92it/s]"
          ],
          "name": "stderr"
        },
        {
          "output_type": "stream",
          "text": [
            "1.9204386472702026\n",
            "2.0404560565948486\n"
          ],
          "name": "stdout"
        },
        {
          "output_type": "stream",
          "text": [
            "2116it [04:34,  7.78it/s]"
          ],
          "name": "stderr"
        },
        {
          "output_type": "stream",
          "text": [
            "1.8846286535263062\n",
            "2.038893938064575\n"
          ],
          "name": "stdout"
        },
        {
          "output_type": "stream",
          "text": [
            "2118it [04:34,  7.79it/s]"
          ],
          "name": "stderr"
        },
        {
          "output_type": "stream",
          "text": [
            "1.9900484085083008\n",
            "2.0262413024902344\n"
          ],
          "name": "stdout"
        },
        {
          "output_type": "stream",
          "text": [
            "2120it [04:34,  7.77it/s]"
          ],
          "name": "stderr"
        },
        {
          "output_type": "stream",
          "text": [
            "1.9893373250961304\n",
            "1.964889645576477\n"
          ],
          "name": "stdout"
        },
        {
          "output_type": "stream",
          "text": [
            "2122it [04:35,  7.82it/s]"
          ],
          "name": "stderr"
        },
        {
          "output_type": "stream",
          "text": [
            "1.960356593132019\n",
            "2.0228419303894043\n"
          ],
          "name": "stdout"
        },
        {
          "output_type": "stream",
          "text": [
            "2124it [04:35,  7.83it/s]"
          ],
          "name": "stderr"
        },
        {
          "output_type": "stream",
          "text": [
            "1.9912993907928467\n",
            "2.0467371940612793\n"
          ],
          "name": "stdout"
        },
        {
          "output_type": "stream",
          "text": [
            "2126it [04:35,  7.78it/s]"
          ],
          "name": "stderr"
        },
        {
          "output_type": "stream",
          "text": [
            "1.9762039184570312\n",
            "1.881882667541504\n"
          ],
          "name": "stdout"
        },
        {
          "output_type": "stream",
          "text": [
            "2128it [04:35,  7.75it/s]"
          ],
          "name": "stderr"
        },
        {
          "output_type": "stream",
          "text": [
            "1.9946304559707642\n",
            "2.0146238803863525\n"
          ],
          "name": "stdout"
        },
        {
          "output_type": "stream",
          "text": [
            "2130it [04:36,  7.79it/s]"
          ],
          "name": "stderr"
        },
        {
          "output_type": "stream",
          "text": [
            "1.9727823734283447\n",
            "1.933695912361145\n"
          ],
          "name": "stdout"
        },
        {
          "output_type": "stream",
          "text": [
            "2132it [04:36,  7.66it/s]"
          ],
          "name": "stderr"
        },
        {
          "output_type": "stream",
          "text": [
            "1.9109547138214111\n",
            "1.979742169380188\n"
          ],
          "name": "stdout"
        },
        {
          "output_type": "stream",
          "text": [
            "2134it [04:36,  7.64it/s]"
          ],
          "name": "stderr"
        },
        {
          "output_type": "stream",
          "text": [
            "1.9349431991577148\n",
            "1.910244345664978\n"
          ],
          "name": "stdout"
        },
        {
          "output_type": "stream",
          "text": [
            "2136it [04:36,  7.67it/s]"
          ],
          "name": "stderr"
        },
        {
          "output_type": "stream",
          "text": [
            "1.887792944908142\n",
            "1.9293453693389893\n"
          ],
          "name": "stdout"
        },
        {
          "output_type": "stream",
          "text": [
            "2138it [04:37,  7.72it/s]"
          ],
          "name": "stderr"
        },
        {
          "output_type": "stream",
          "text": [
            "2.1395668983459473\n",
            "2.153623342514038\n"
          ],
          "name": "stdout"
        },
        {
          "output_type": "stream",
          "text": [
            "2140it [04:37,  7.79it/s]"
          ],
          "name": "stderr"
        },
        {
          "output_type": "stream",
          "text": [
            "2.1931371688842773\n",
            "1.9360225200653076\n"
          ],
          "name": "stdout"
        },
        {
          "output_type": "stream",
          "text": [
            "2142it [04:37,  7.74it/s]"
          ],
          "name": "stderr"
        },
        {
          "output_type": "stream",
          "text": [
            "2.04004168510437\n",
            "2.025074005126953\n"
          ],
          "name": "stdout"
        },
        {
          "output_type": "stream",
          "text": [
            "2144it [04:37,  7.81it/s]"
          ],
          "name": "stderr"
        },
        {
          "output_type": "stream",
          "text": [
            "2.042590856552124\n",
            "1.971498966217041\n"
          ],
          "name": "stdout"
        },
        {
          "output_type": "stream",
          "text": [
            "2146it [04:38,  7.79it/s]"
          ],
          "name": "stderr"
        },
        {
          "output_type": "stream",
          "text": [
            "2.0832293033599854\n",
            "1.943172812461853\n"
          ],
          "name": "stdout"
        },
        {
          "output_type": "stream",
          "text": [
            "2148it [04:38,  7.75it/s]"
          ],
          "name": "stderr"
        },
        {
          "output_type": "stream",
          "text": [
            "1.9549601078033447\n",
            "1.9904218912124634\n"
          ],
          "name": "stdout"
        },
        {
          "output_type": "stream",
          "text": [
            "2150it [04:38,  7.71it/s]"
          ],
          "name": "stderr"
        },
        {
          "output_type": "stream",
          "text": [
            "1.9890787601470947\n",
            "2.094588041305542\n"
          ],
          "name": "stdout"
        },
        {
          "output_type": "stream",
          "text": [
            "2152it [04:39,  7.80it/s]"
          ],
          "name": "stderr"
        },
        {
          "output_type": "stream",
          "text": [
            "2.0181174278259277\n",
            "1.9507150650024414\n"
          ],
          "name": "stdout"
        },
        {
          "output_type": "stream",
          "text": [
            "2154it [04:39,  7.76it/s]"
          ],
          "name": "stderr"
        },
        {
          "output_type": "stream",
          "text": [
            "2.051546573638916\n",
            "2.123856544494629\n"
          ],
          "name": "stdout"
        },
        {
          "output_type": "stream",
          "text": [
            "2156it [04:39,  7.83it/s]"
          ],
          "name": "stderr"
        },
        {
          "output_type": "stream",
          "text": [
            "2.074885368347168\n",
            "2.0531933307647705\n"
          ],
          "name": "stdout"
        },
        {
          "output_type": "stream",
          "text": [
            "2158it [04:39,  7.40it/s]"
          ],
          "name": "stderr"
        },
        {
          "output_type": "stream",
          "text": [
            "2.092315912246704\n",
            "1.9923876523971558\n"
          ],
          "name": "stdout"
        },
        {
          "output_type": "stream",
          "text": [
            "2160it [04:40,  7.64it/s]"
          ],
          "name": "stderr"
        },
        {
          "output_type": "stream",
          "text": [
            "2.0561325550079346\n",
            "1.9756652116775513\n"
          ],
          "name": "stdout"
        },
        {
          "output_type": "stream",
          "text": [
            "2162it [04:40,  7.75it/s]"
          ],
          "name": "stderr"
        },
        {
          "output_type": "stream",
          "text": [
            "2.043088674545288\n",
            "2.0143861770629883\n"
          ],
          "name": "stdout"
        },
        {
          "output_type": "stream",
          "text": [
            "2164it [04:40,  7.78it/s]"
          ],
          "name": "stderr"
        },
        {
          "output_type": "stream",
          "text": [
            "1.9504443407058716\n",
            "1.916500449180603\n"
          ],
          "name": "stdout"
        },
        {
          "output_type": "stream",
          "text": [
            "2166it [04:40,  7.72it/s]"
          ],
          "name": "stderr"
        },
        {
          "output_type": "stream",
          "text": [
            "1.9618439674377441\n",
            "1.9302130937576294\n"
          ],
          "name": "stdout"
        },
        {
          "output_type": "stream",
          "text": [
            "2168it [04:41,  7.66it/s]"
          ],
          "name": "stderr"
        },
        {
          "output_type": "stream",
          "text": [
            "1.9305082559585571\n",
            "1.9026209115982056\n"
          ],
          "name": "stdout"
        },
        {
          "output_type": "stream",
          "text": [
            "2170it [04:41,  7.69it/s]"
          ],
          "name": "stderr"
        },
        {
          "output_type": "stream",
          "text": [
            "1.973654866218567\n",
            "1.95182204246521\n"
          ],
          "name": "stdout"
        },
        {
          "output_type": "stream",
          "text": [
            "2172it [04:41,  7.68it/s]"
          ],
          "name": "stderr"
        },
        {
          "output_type": "stream",
          "text": [
            "1.963148832321167\n",
            "2.0373122692108154\n"
          ],
          "name": "stdout"
        },
        {
          "output_type": "stream",
          "text": [
            "2174it [04:41,  7.44it/s]"
          ],
          "name": "stderr"
        },
        {
          "output_type": "stream",
          "text": [
            "1.9838858842849731\n",
            "1.9048956632614136\n"
          ],
          "name": "stdout"
        },
        {
          "output_type": "stream",
          "text": [
            "2176it [04:42,  7.67it/s]"
          ],
          "name": "stderr"
        },
        {
          "output_type": "stream",
          "text": [
            "1.9806547164916992\n",
            "1.958147644996643\n"
          ],
          "name": "stdout"
        },
        {
          "output_type": "stream",
          "text": [
            "2178it [04:42,  7.69it/s]"
          ],
          "name": "stderr"
        },
        {
          "output_type": "stream",
          "text": [
            "2.0018656253814697\n",
            "2.020019054412842\n"
          ],
          "name": "stdout"
        },
        {
          "output_type": "stream",
          "text": [
            "2180it [04:42,  7.56it/s]"
          ],
          "name": "stderr"
        },
        {
          "output_type": "stream",
          "text": [
            "1.9531118869781494\n",
            "1.998605489730835\n"
          ],
          "name": "stdout"
        },
        {
          "output_type": "stream",
          "text": [
            "2182it [04:42,  7.60it/s]"
          ],
          "name": "stderr"
        },
        {
          "output_type": "stream",
          "text": [
            "2.0842840671539307\n",
            "2.0532383918762207\n"
          ],
          "name": "stdout"
        },
        {
          "output_type": "stream",
          "text": [
            "2184it [04:43,  7.71it/s]"
          ],
          "name": "stderr"
        },
        {
          "output_type": "stream",
          "text": [
            "1.990798830986023\n",
            "1.9383997917175293\n"
          ],
          "name": "stdout"
        },
        {
          "output_type": "stream",
          "text": [
            "2186it [04:43,  7.59it/s]"
          ],
          "name": "stderr"
        },
        {
          "output_type": "stream",
          "text": [
            "2.029905319213867\n",
            "2.0073513984680176\n"
          ],
          "name": "stdout"
        },
        {
          "output_type": "stream",
          "text": [
            "2188it [04:43,  7.63it/s]"
          ],
          "name": "stderr"
        },
        {
          "output_type": "stream",
          "text": [
            "2.011843681335449\n",
            "1.938896656036377\n"
          ],
          "name": "stdout"
        },
        {
          "output_type": "stream",
          "text": [
            "2190it [04:43,  7.60it/s]"
          ],
          "name": "stderr"
        },
        {
          "output_type": "stream",
          "text": [
            "1.9633532762527466\n",
            "2.0033249855041504\n"
          ],
          "name": "stdout"
        },
        {
          "output_type": "stream",
          "text": [
            "2192it [04:44,  7.69it/s]"
          ],
          "name": "stderr"
        },
        {
          "output_type": "stream",
          "text": [
            "2.028843641281128\n",
            "2.0296106338500977\n"
          ],
          "name": "stdout"
        },
        {
          "output_type": "stream",
          "text": [
            "2194it [04:44,  7.72it/s]"
          ],
          "name": "stderr"
        },
        {
          "output_type": "stream",
          "text": [
            "1.9821146726608276\n",
            "1.9516427516937256\n"
          ],
          "name": "stdout"
        },
        {
          "output_type": "stream",
          "text": [
            "2196it [04:44,  7.75it/s]"
          ],
          "name": "stderr"
        },
        {
          "output_type": "stream",
          "text": [
            "2.0067787170410156\n",
            "1.9292054176330566\n"
          ],
          "name": "stdout"
        },
        {
          "output_type": "stream",
          "text": [
            "2198it [04:45,  7.66it/s]"
          ],
          "name": "stderr"
        },
        {
          "output_type": "stream",
          "text": [
            "2.0526657104492188\n",
            "2.0534253120422363\n"
          ],
          "name": "stdout"
        },
        {
          "output_type": "stream",
          "text": [
            "2200it [04:45,  7.38it/s]"
          ],
          "name": "stderr"
        },
        {
          "output_type": "stream",
          "text": [
            "2.040041446685791\n",
            "2.11667537689209\n"
          ],
          "name": "stdout"
        },
        {
          "output_type": "stream",
          "text": [
            "2202it [04:45,  7.51it/s]"
          ],
          "name": "stderr"
        },
        {
          "output_type": "stream",
          "text": [
            "2.014896869659424\n",
            "2.071226119995117\n"
          ],
          "name": "stdout"
        },
        {
          "output_type": "stream",
          "text": [
            "2204it [04:45,  7.60it/s]"
          ],
          "name": "stderr"
        },
        {
          "output_type": "stream",
          "text": [
            "2.0008230209350586\n",
            "2.0782034397125244\n"
          ],
          "name": "stdout"
        },
        {
          "output_type": "stream",
          "text": [
            "2206it [04:46,  7.73it/s]"
          ],
          "name": "stderr"
        },
        {
          "output_type": "stream",
          "text": [
            "1.9738962650299072\n",
            "1.999206781387329\n"
          ],
          "name": "stdout"
        },
        {
          "output_type": "stream",
          "text": [
            "2208it [04:46,  7.78it/s]"
          ],
          "name": "stderr"
        },
        {
          "output_type": "stream",
          "text": [
            "1.987464427947998\n",
            "1.961747407913208\n"
          ],
          "name": "stdout"
        },
        {
          "output_type": "stream",
          "text": [
            "2210it [04:46,  7.71it/s]"
          ],
          "name": "stderr"
        },
        {
          "output_type": "stream",
          "text": [
            "1.9889777898788452\n",
            "1.9848743677139282\n"
          ],
          "name": "stdout"
        },
        {
          "output_type": "stream",
          "text": [
            "2212it [04:46,  7.73it/s]"
          ],
          "name": "stderr"
        },
        {
          "output_type": "stream",
          "text": [
            "2.0534114837646484\n",
            "1.9727259874343872\n"
          ],
          "name": "stdout"
        },
        {
          "output_type": "stream",
          "text": [
            "2214it [04:47,  7.75it/s]"
          ],
          "name": "stderr"
        },
        {
          "output_type": "stream",
          "text": [
            "1.9523593187332153\n",
            "1.8920234441757202\n"
          ],
          "name": "stdout"
        },
        {
          "output_type": "stream",
          "text": [
            "2216it [04:47,  7.76it/s]"
          ],
          "name": "stderr"
        },
        {
          "output_type": "stream",
          "text": [
            "1.9955968856811523\n",
            "1.8851490020751953\n"
          ],
          "name": "stdout"
        },
        {
          "output_type": "stream",
          "text": [
            "2218it [04:47,  7.85it/s]"
          ],
          "name": "stderr"
        },
        {
          "output_type": "stream",
          "text": [
            "2.00272798538208\n",
            "1.9367587566375732\n"
          ],
          "name": "stdout"
        },
        {
          "output_type": "stream",
          "text": [
            "2220it [04:47,  7.83it/s]"
          ],
          "name": "stderr"
        },
        {
          "output_type": "stream",
          "text": [
            "1.9974533319473267\n",
            "1.9257619380950928\n"
          ],
          "name": "stdout"
        },
        {
          "output_type": "stream",
          "text": [
            "2222it [04:48,  7.88it/s]"
          ],
          "name": "stderr"
        },
        {
          "output_type": "stream",
          "text": [
            "2.035372257232666\n",
            "1.941360354423523\n"
          ],
          "name": "stdout"
        },
        {
          "output_type": "stream",
          "text": [
            "2224it [04:48,  7.73it/s]"
          ],
          "name": "stderr"
        },
        {
          "output_type": "stream",
          "text": [
            "1.9448575973510742\n",
            "2.0785624980926514\n"
          ],
          "name": "stdout"
        },
        {
          "output_type": "stream",
          "text": [
            "2226it [04:48,  7.77it/s]"
          ],
          "name": "stderr"
        },
        {
          "output_type": "stream",
          "text": [
            "2.0806028842926025\n",
            "2.10387921333313\n"
          ],
          "name": "stdout"
        },
        {
          "output_type": "stream",
          "text": [
            "2228it [04:48,  7.73it/s]"
          ],
          "name": "stderr"
        },
        {
          "output_type": "stream",
          "text": [
            "1.9923099279403687\n",
            "1.9673950672149658\n"
          ],
          "name": "stdout"
        },
        {
          "output_type": "stream",
          "text": [
            "2230it [04:49,  7.74it/s]"
          ],
          "name": "stderr"
        },
        {
          "output_type": "stream",
          "text": [
            "1.966929316520691\n",
            "2.024243116378784\n"
          ],
          "name": "stdout"
        },
        {
          "output_type": "stream",
          "text": [
            "2232it [04:49,  7.76it/s]"
          ],
          "name": "stderr"
        },
        {
          "output_type": "stream",
          "text": [
            "2.00882625579834\n",
            "2.0098536014556885\n"
          ],
          "name": "stdout"
        },
        {
          "output_type": "stream",
          "text": [
            "2234it [04:49,  7.85it/s]"
          ],
          "name": "stderr"
        },
        {
          "output_type": "stream",
          "text": [
            "2.002046585083008\n",
            "2.0758538246154785\n"
          ],
          "name": "stdout"
        },
        {
          "output_type": "stream",
          "text": [
            "2236it [04:49,  7.81it/s]"
          ],
          "name": "stderr"
        },
        {
          "output_type": "stream",
          "text": [
            "1.9286705255508423\n",
            "2.0467679500579834\n"
          ],
          "name": "stdout"
        },
        {
          "output_type": "stream",
          "text": [
            "2238it [04:50,  7.80it/s]"
          ],
          "name": "stderr"
        },
        {
          "output_type": "stream",
          "text": [
            "2.01737380027771\n",
            "1.9010357856750488\n"
          ],
          "name": "stdout"
        },
        {
          "output_type": "stream",
          "text": [
            "2240it [04:50,  7.85it/s]"
          ],
          "name": "stderr"
        },
        {
          "output_type": "stream",
          "text": [
            "1.8745001554489136\n",
            "1.9850002527236938\n"
          ],
          "name": "stdout"
        },
        {
          "output_type": "stream",
          "text": [
            "2242it [04:50,  7.44it/s]"
          ],
          "name": "stderr"
        },
        {
          "output_type": "stream",
          "text": [
            "2.094038486480713\n",
            "2.0591611862182617\n"
          ],
          "name": "stdout"
        },
        {
          "output_type": "stream",
          "text": [
            "2244it [04:50,  7.53it/s]"
          ],
          "name": "stderr"
        },
        {
          "output_type": "stream",
          "text": [
            "2.0538582801818848\n",
            "1.9932628870010376\n"
          ],
          "name": "stdout"
        },
        {
          "output_type": "stream",
          "text": [
            "2246it [04:51,  7.65it/s]"
          ],
          "name": "stderr"
        },
        {
          "output_type": "stream",
          "text": [
            "1.9940056800842285\n",
            "1.9652609825134277\n"
          ],
          "name": "stdout"
        },
        {
          "output_type": "stream",
          "text": [
            "2248it [04:51,  7.74it/s]"
          ],
          "name": "stderr"
        },
        {
          "output_type": "stream",
          "text": [
            "1.974813461303711\n",
            "2.0470149517059326\n"
          ],
          "name": "stdout"
        },
        {
          "output_type": "stream",
          "text": [
            "2250it [04:51,  7.82it/s]"
          ],
          "name": "stderr"
        },
        {
          "output_type": "stream",
          "text": [
            "1.9709099531173706\n",
            "1.9997496604919434\n"
          ],
          "name": "stdout"
        },
        {
          "output_type": "stream",
          "text": [
            "2252it [04:52,  7.51it/s]"
          ],
          "name": "stderr"
        },
        {
          "output_type": "stream",
          "text": [
            "2.0657737255096436\n",
            "1.9641278982162476\n"
          ],
          "name": "stdout"
        },
        {
          "output_type": "stream",
          "text": [
            "2254it [04:52,  7.62it/s]"
          ],
          "name": "stderr"
        },
        {
          "output_type": "stream",
          "text": [
            "1.9593775272369385\n",
            "1.9877488613128662\n"
          ],
          "name": "stdout"
        },
        {
          "output_type": "stream",
          "text": [
            "2256it [04:52,  7.71it/s]"
          ],
          "name": "stderr"
        },
        {
          "output_type": "stream",
          "text": [
            "2.0284059047698975\n",
            "2.040449619293213\n"
          ],
          "name": "stdout"
        },
        {
          "output_type": "stream",
          "text": [
            "2258it [04:52,  7.79it/s]"
          ],
          "name": "stderr"
        },
        {
          "output_type": "stream",
          "text": [
            "1.9810956716537476\n",
            "1.983947992324829\n"
          ],
          "name": "stdout"
        },
        {
          "output_type": "stream",
          "text": [
            "2260it [04:53,  7.72it/s]"
          ],
          "name": "stderr"
        },
        {
          "output_type": "stream",
          "text": [
            "1.8940404653549194\n",
            "2.0045738220214844\n"
          ],
          "name": "stdout"
        },
        {
          "output_type": "stream",
          "text": [
            "2262it [04:53,  7.75it/s]"
          ],
          "name": "stderr"
        },
        {
          "output_type": "stream",
          "text": [
            "1.8766955137252808\n",
            "1.9833166599273682\n"
          ],
          "name": "stdout"
        },
        {
          "output_type": "stream",
          "text": [
            "2264it [04:53,  7.67it/s]"
          ],
          "name": "stderr"
        },
        {
          "output_type": "stream",
          "text": [
            "1.9159786701202393\n",
            "1.9391900300979614\n"
          ],
          "name": "stdout"
        },
        {
          "output_type": "stream",
          "text": [
            "2266it [04:53,  7.57it/s]"
          ],
          "name": "stderr"
        },
        {
          "output_type": "stream",
          "text": [
            "1.9661948680877686\n",
            "2.0023438930511475\n"
          ],
          "name": "stdout"
        },
        {
          "output_type": "stream",
          "text": [
            "2268it [04:54,  7.55it/s]"
          ],
          "name": "stderr"
        },
        {
          "output_type": "stream",
          "text": [
            "2.02913761138916\n",
            "2.1479594707489014\n"
          ],
          "name": "stdout"
        },
        {
          "output_type": "stream",
          "text": [
            "2270it [04:54,  7.61it/s]"
          ],
          "name": "stderr"
        },
        {
          "output_type": "stream",
          "text": [
            "2.00612211227417\n",
            "1.9182847738265991\n"
          ],
          "name": "stdout"
        },
        {
          "output_type": "stream",
          "text": [
            "2272it [04:54,  7.60it/s]"
          ],
          "name": "stderr"
        },
        {
          "output_type": "stream",
          "text": [
            "1.8999755382537842\n",
            "2.0687851905822754\n"
          ],
          "name": "stdout"
        },
        {
          "output_type": "stream",
          "text": [
            "2274it [04:54,  7.62it/s]"
          ],
          "name": "stderr"
        },
        {
          "output_type": "stream",
          "text": [
            "2.0604686737060547\n",
            "2.1051623821258545\n"
          ],
          "name": "stdout"
        },
        {
          "output_type": "stream",
          "text": [
            "2276it [04:55,  7.59it/s]"
          ],
          "name": "stderr"
        },
        {
          "output_type": "stream",
          "text": [
            "2.056466817855835\n",
            "2.049112558364868\n"
          ],
          "name": "stdout"
        },
        {
          "output_type": "stream",
          "text": [
            "2278it [04:55,  7.61it/s]"
          ],
          "name": "stderr"
        },
        {
          "output_type": "stream",
          "text": [
            "2.035893201828003\n",
            "2.0449843406677246\n"
          ],
          "name": "stdout"
        },
        {
          "output_type": "stream",
          "text": [
            "2280it [04:55,  7.68it/s]"
          ],
          "name": "stderr"
        },
        {
          "output_type": "stream",
          "text": [
            "2.1023740768432617\n",
            "2.0854971408843994\n"
          ],
          "name": "stdout"
        },
        {
          "output_type": "stream",
          "text": [
            "2282it [04:55,  7.69it/s]"
          ],
          "name": "stderr"
        },
        {
          "output_type": "stream",
          "text": [
            "1.97713041305542\n",
            "2.071505546569824\n"
          ],
          "name": "stdout"
        },
        {
          "output_type": "stream",
          "text": [
            "2284it [04:56,  7.74it/s]"
          ],
          "name": "stderr"
        },
        {
          "output_type": "stream",
          "text": [
            "2.05072021484375\n",
            "2.078489303588867\n"
          ],
          "name": "stdout"
        },
        {
          "output_type": "stream",
          "text": [
            "2286it [04:56,  7.73it/s]"
          ],
          "name": "stderr"
        },
        {
          "output_type": "stream",
          "text": [
            "1.847740650177002\n",
            "1.9584134817123413\n"
          ],
          "name": "stdout"
        },
        {
          "output_type": "stream",
          "text": [
            "2288it [04:56,  7.64it/s]"
          ],
          "name": "stderr"
        },
        {
          "output_type": "stream",
          "text": [
            "1.991381287574768\n",
            "2.0325675010681152\n"
          ],
          "name": "stdout"
        },
        {
          "output_type": "stream",
          "text": [
            "2290it [04:56,  7.60it/s]"
          ],
          "name": "stderr"
        },
        {
          "output_type": "stream",
          "text": [
            "1.986223578453064\n",
            "2.093259572982788\n"
          ],
          "name": "stdout"
        },
        {
          "output_type": "stream",
          "text": [
            "2292it [04:57,  7.68it/s]"
          ],
          "name": "stderr"
        },
        {
          "output_type": "stream",
          "text": [
            "1.9805694818496704\n",
            "2.000157117843628\n"
          ],
          "name": "stdout"
        },
        {
          "output_type": "stream",
          "text": [
            "2294it [04:57,  7.61it/s]"
          ],
          "name": "stderr"
        },
        {
          "output_type": "stream",
          "text": [
            "1.9504526853561401\n",
            "1.960248589515686\n"
          ],
          "name": "stdout"
        },
        {
          "output_type": "stream",
          "text": [
            "2296it [04:57,  7.64it/s]"
          ],
          "name": "stderr"
        },
        {
          "output_type": "stream",
          "text": [
            "2.008680582046509\n",
            "1.9463591575622559\n"
          ],
          "name": "stdout"
        },
        {
          "output_type": "stream",
          "text": [
            "2298it [04:58,  7.60it/s]"
          ],
          "name": "stderr"
        },
        {
          "output_type": "stream",
          "text": [
            "2.026824712753296\n",
            "1.9999568462371826\n"
          ],
          "name": "stdout"
        },
        {
          "output_type": "stream",
          "text": [
            "2300it [04:58,  7.74it/s]"
          ],
          "name": "stderr"
        },
        {
          "output_type": "stream",
          "text": [
            "2.0537796020507812\n",
            "2.0845515727996826\n"
          ],
          "name": "stdout"
        },
        {
          "output_type": "stream",
          "text": [
            "2302it [04:58,  7.67it/s]"
          ],
          "name": "stderr"
        },
        {
          "output_type": "stream",
          "text": [
            "1.975812315940857\n",
            "2.061305046081543\n"
          ],
          "name": "stdout"
        },
        {
          "output_type": "stream",
          "text": [
            "2304it [04:58,  7.68it/s]"
          ],
          "name": "stderr"
        },
        {
          "output_type": "stream",
          "text": [
            "1.8659087419509888\n",
            "1.8653744459152222\n"
          ],
          "name": "stdout"
        },
        {
          "output_type": "stream",
          "text": [
            "2306it [04:59,  7.57it/s]"
          ],
          "name": "stderr"
        },
        {
          "output_type": "stream",
          "text": [
            "2.0202980041503906\n",
            "2.0047459602355957\n"
          ],
          "name": "stdout"
        },
        {
          "output_type": "stream",
          "text": [
            "2308it [04:59,  7.63it/s]"
          ],
          "name": "stderr"
        },
        {
          "output_type": "stream",
          "text": [
            "2.0890252590179443\n",
            "2.0185964107513428\n"
          ],
          "name": "stdout"
        },
        {
          "output_type": "stream",
          "text": [
            "2310it [04:59,  7.50it/s]"
          ],
          "name": "stderr"
        },
        {
          "output_type": "stream",
          "text": [
            "1.8642302751541138\n",
            "1.8452941179275513\n"
          ],
          "name": "stdout"
        },
        {
          "output_type": "stream",
          "text": [
            "2312it [04:59,  7.61it/s]"
          ],
          "name": "stderr"
        },
        {
          "output_type": "stream",
          "text": [
            "1.9495587348937988\n",
            "1.9661140441894531\n"
          ],
          "name": "stdout"
        },
        {
          "output_type": "stream",
          "text": [
            "2314it [05:00,  7.64it/s]"
          ],
          "name": "stderr"
        },
        {
          "output_type": "stream",
          "text": [
            "1.990682601928711\n",
            "2.145033836364746\n"
          ],
          "name": "stdout"
        },
        {
          "output_type": "stream",
          "text": [
            "2316it [05:00,  7.60it/s]"
          ],
          "name": "stderr"
        },
        {
          "output_type": "stream",
          "text": [
            "1.901255488395691\n",
            "1.9432921409606934\n"
          ],
          "name": "stdout"
        },
        {
          "output_type": "stream",
          "text": [
            "2318it [05:00,  7.59it/s]"
          ],
          "name": "stderr"
        },
        {
          "output_type": "stream",
          "text": [
            "2.003911018371582\n",
            "2.013671875\n"
          ],
          "name": "stdout"
        },
        {
          "output_type": "stream",
          "text": [
            "2320it [05:00,  7.37it/s]"
          ],
          "name": "stderr"
        },
        {
          "output_type": "stream",
          "text": [
            "1.9169294834136963\n",
            "1.9582595825195312\n"
          ],
          "name": "stdout"
        },
        {
          "output_type": "stream",
          "text": [
            "2322it [05:01,  7.42it/s]"
          ],
          "name": "stderr"
        },
        {
          "output_type": "stream",
          "text": [
            "1.9834191799163818\n",
            "1.9367079734802246\n"
          ],
          "name": "stdout"
        },
        {
          "output_type": "stream",
          "text": [
            "2324it [05:01,  7.59it/s]"
          ],
          "name": "stderr"
        },
        {
          "output_type": "stream",
          "text": [
            "2.0100324153900146\n",
            "1.9824442863464355\n"
          ],
          "name": "stdout"
        },
        {
          "output_type": "stream",
          "text": [
            "2326it [05:01,  7.62it/s]"
          ],
          "name": "stderr"
        },
        {
          "output_type": "stream",
          "text": [
            "1.9432474374771118\n",
            "1.973084807395935\n"
          ],
          "name": "stdout"
        },
        {
          "output_type": "stream",
          "text": [
            "2328it [05:01,  7.74it/s]"
          ],
          "name": "stderr"
        },
        {
          "output_type": "stream",
          "text": [
            "2.048490285873413\n",
            "2.0237772464752197\n"
          ],
          "name": "stdout"
        },
        {
          "output_type": "stream",
          "text": [
            "2330it [05:02,  7.53it/s]"
          ],
          "name": "stderr"
        },
        {
          "output_type": "stream",
          "text": [
            "1.9992948770523071\n",
            "1.9237689971923828\n"
          ],
          "name": "stdout"
        },
        {
          "output_type": "stream",
          "text": [
            "2332it [05:02,  7.60it/s]"
          ],
          "name": "stderr"
        },
        {
          "output_type": "stream",
          "text": [
            "1.9987088441848755\n",
            "2.0139224529266357\n"
          ],
          "name": "stdout"
        },
        {
          "output_type": "stream",
          "text": [
            "2334it [05:02,  7.65it/s]"
          ],
          "name": "stderr"
        },
        {
          "output_type": "stream",
          "text": [
            "1.948934555053711\n",
            "2.0458991527557373\n"
          ],
          "name": "stdout"
        },
        {
          "output_type": "stream",
          "text": [
            "2336it [05:03,  7.62it/s]"
          ],
          "name": "stderr"
        },
        {
          "output_type": "stream",
          "text": [
            "1.9639064073562622\n",
            "1.970122218132019\n"
          ],
          "name": "stdout"
        },
        {
          "output_type": "stream",
          "text": [
            "2338it [05:03,  7.63it/s]"
          ],
          "name": "stderr"
        },
        {
          "output_type": "stream",
          "text": [
            "1.952414870262146\n",
            "2.017280340194702\n"
          ],
          "name": "stdout"
        },
        {
          "output_type": "stream",
          "text": [
            "2340it [05:03,  7.60it/s]"
          ],
          "name": "stderr"
        },
        {
          "output_type": "stream",
          "text": [
            "1.972124457359314\n",
            "2.08329439163208\n"
          ],
          "name": "stdout"
        },
        {
          "output_type": "stream",
          "text": [
            "2342it [05:03,  7.65it/s]"
          ],
          "name": "stderr"
        },
        {
          "output_type": "stream",
          "text": [
            "1.92267906665802\n",
            "1.960583209991455\n"
          ],
          "name": "stdout"
        },
        {
          "output_type": "stream",
          "text": [
            "2344it [05:04,  7.67it/s]"
          ],
          "name": "stderr"
        },
        {
          "output_type": "stream",
          "text": [
            "1.956790566444397\n",
            "2.043990135192871\n"
          ],
          "name": "stdout"
        },
        {
          "output_type": "stream",
          "text": [
            "2346it [05:04,  7.74it/s]"
          ],
          "name": "stderr"
        },
        {
          "output_type": "stream",
          "text": [
            "2.0571303367614746\n",
            "1.9416093826293945\n"
          ],
          "name": "stdout"
        },
        {
          "output_type": "stream",
          "text": [
            "2348it [05:04,  7.71it/s]"
          ],
          "name": "stderr"
        },
        {
          "output_type": "stream",
          "text": [
            "1.9154595136642456\n",
            "1.894733190536499\n"
          ],
          "name": "stdout"
        },
        {
          "output_type": "stream",
          "text": [
            "2350it [05:04,  7.67it/s]"
          ],
          "name": "stderr"
        },
        {
          "output_type": "stream",
          "text": [
            "1.9207409620285034\n",
            "1.854432225227356\n"
          ],
          "name": "stdout"
        },
        {
          "output_type": "stream",
          "text": [
            "2352it [05:05,  7.63it/s]"
          ],
          "name": "stderr"
        },
        {
          "output_type": "stream",
          "text": [
            "1.988839864730835\n",
            "1.9493310451507568\n"
          ],
          "name": "stdout"
        },
        {
          "output_type": "stream",
          "text": [
            "2354it [05:05,  7.72it/s]"
          ],
          "name": "stderr"
        },
        {
          "output_type": "stream",
          "text": [
            "2.035264492034912\n",
            "1.95167875289917\n"
          ],
          "name": "stdout"
        },
        {
          "output_type": "stream",
          "text": [
            "2356it [05:05,  7.81it/s]"
          ],
          "name": "stderr"
        },
        {
          "output_type": "stream",
          "text": [
            "1.9306086301803589\n",
            "2.0213820934295654\n"
          ],
          "name": "stdout"
        },
        {
          "output_type": "stream",
          "text": [
            "2358it [05:05,  7.79it/s]"
          ],
          "name": "stderr"
        },
        {
          "output_type": "stream",
          "text": [
            "2.06032657623291\n",
            "1.9721438884735107\n"
          ],
          "name": "stdout"
        },
        {
          "output_type": "stream",
          "text": [
            "2360it [05:06,  7.68it/s]"
          ],
          "name": "stderr"
        },
        {
          "output_type": "stream",
          "text": [
            "1.8980337381362915\n",
            "1.9132039546966553\n"
          ],
          "name": "stdout"
        },
        {
          "output_type": "stream",
          "text": [
            "2362it [05:06,  7.72it/s]"
          ],
          "name": "stderr"
        },
        {
          "output_type": "stream",
          "text": [
            "2.069794178009033\n",
            "2.096931219100952\n"
          ],
          "name": "stdout"
        },
        {
          "output_type": "stream",
          "text": [
            "2364it [05:06,  7.78it/s]"
          ],
          "name": "stderr"
        },
        {
          "output_type": "stream",
          "text": [
            "2.0918450355529785\n",
            "1.951982855796814\n"
          ],
          "name": "stdout"
        },
        {
          "output_type": "stream",
          "text": [
            "2366it [05:06,  7.67it/s]"
          ],
          "name": "stderr"
        },
        {
          "output_type": "stream",
          "text": [
            "2.0643858909606934\n",
            "2.0546915531158447\n"
          ],
          "name": "stdout"
        },
        {
          "output_type": "stream",
          "text": [
            "2368it [05:07,  7.73it/s]"
          ],
          "name": "stderr"
        },
        {
          "output_type": "stream",
          "text": [
            "1.94810152053833\n",
            "2.0749270915985107\n"
          ],
          "name": "stdout"
        },
        {
          "output_type": "stream",
          "text": [
            "2370it [05:07,  7.78it/s]"
          ],
          "name": "stderr"
        },
        {
          "output_type": "stream",
          "text": [
            "2.0132503509521484\n",
            "1.8578345775604248\n"
          ],
          "name": "stdout"
        },
        {
          "output_type": "stream",
          "text": [
            "2372it [05:07,  7.84it/s]"
          ],
          "name": "stderr"
        },
        {
          "output_type": "stream",
          "text": [
            "1.920636773109436\n",
            "1.9480913877487183\n"
          ],
          "name": "stdout"
        },
        {
          "output_type": "stream",
          "text": [
            "2374it [05:07,  7.86it/s]"
          ],
          "name": "stderr"
        },
        {
          "output_type": "stream",
          "text": [
            "1.967370867729187\n",
            "1.9105898141860962\n"
          ],
          "name": "stdout"
        },
        {
          "output_type": "stream",
          "text": [
            "2376it [05:08,  7.66it/s]"
          ],
          "name": "stderr"
        },
        {
          "output_type": "stream",
          "text": [
            "1.9511845111846924\n",
            "2.084872007369995\n"
          ],
          "name": "stdout"
        },
        {
          "output_type": "stream",
          "text": [
            "2378it [05:08,  7.79it/s]"
          ],
          "name": "stderr"
        },
        {
          "output_type": "stream",
          "text": [
            "2.110273599624634\n",
            "2.0423684120178223\n"
          ],
          "name": "stdout"
        },
        {
          "output_type": "stream",
          "text": [
            "2380it [05:08,  7.81it/s]"
          ],
          "name": "stderr"
        },
        {
          "output_type": "stream",
          "text": [
            "2.029972553253174\n",
            "2.0385732650756836\n"
          ],
          "name": "stdout"
        },
        {
          "output_type": "stream",
          "text": [
            "2382it [05:09,  7.84it/s]"
          ],
          "name": "stderr"
        },
        {
          "output_type": "stream",
          "text": [
            "1.9454759359359741\n",
            "2.0341737270355225\n"
          ],
          "name": "stdout"
        },
        {
          "output_type": "stream",
          "text": [
            "2384it [05:09,  7.73it/s]"
          ],
          "name": "stderr"
        },
        {
          "output_type": "stream",
          "text": [
            "1.950952172279358\n",
            "2.009768486022949\n"
          ],
          "name": "stdout"
        },
        {
          "output_type": "stream",
          "text": [
            "2386it [05:09,  7.63it/s]"
          ],
          "name": "stderr"
        },
        {
          "output_type": "stream",
          "text": [
            "1.941970705986023\n",
            "1.947140097618103\n"
          ],
          "name": "stdout"
        },
        {
          "output_type": "stream",
          "text": [
            "2388it [05:09,  7.70it/s]"
          ],
          "name": "stderr"
        },
        {
          "output_type": "stream",
          "text": [
            "2.038674831390381\n",
            "1.9500832557678223\n"
          ],
          "name": "stdout"
        },
        {
          "output_type": "stream",
          "text": [
            "2390it [05:10,  7.74it/s]"
          ],
          "name": "stderr"
        },
        {
          "output_type": "stream",
          "text": [
            "1.8848111629486084\n",
            "1.9705489873886108\n"
          ],
          "name": "stdout"
        },
        {
          "output_type": "stream",
          "text": [
            "2392it [05:10,  7.74it/s]"
          ],
          "name": "stderr"
        },
        {
          "output_type": "stream",
          "text": [
            "1.9888190031051636\n",
            "2.103963613510132\n"
          ],
          "name": "stdout"
        },
        {
          "output_type": "stream",
          "text": [
            "2394it [05:10,  7.74it/s]"
          ],
          "name": "stderr"
        },
        {
          "output_type": "stream",
          "text": [
            "2.0112342834472656\n",
            "1.9050644636154175\n"
          ],
          "name": "stdout"
        },
        {
          "output_type": "stream",
          "text": [
            "2396it [05:10,  7.65it/s]"
          ],
          "name": "stderr"
        },
        {
          "output_type": "stream",
          "text": [
            "2.0220158100128174\n",
            "2.0027918815612793\n"
          ],
          "name": "stdout"
        },
        {
          "output_type": "stream",
          "text": [
            "2398it [05:11,  7.79it/s]"
          ],
          "name": "stderr"
        },
        {
          "output_type": "stream",
          "text": [
            "2.003257989883423\n",
            "1.9510884284973145\n"
          ],
          "name": "stdout"
        },
        {
          "output_type": "stream",
          "text": [
            "2400it [05:11,  7.55it/s]"
          ],
          "name": "stderr"
        },
        {
          "output_type": "stream",
          "text": [
            "2.0565719604492188\n",
            "1.966626763343811\n"
          ],
          "name": "stdout"
        },
        {
          "output_type": "stream",
          "text": [
            "2402it [05:11,  7.69it/s]"
          ],
          "name": "stderr"
        },
        {
          "output_type": "stream",
          "text": [
            "1.9688588380813599\n",
            "2.021174907684326\n"
          ],
          "name": "stdout"
        },
        {
          "output_type": "stream",
          "text": [
            "2404it [05:11,  7.73it/s]"
          ],
          "name": "stderr"
        },
        {
          "output_type": "stream",
          "text": [
            "1.9257313013076782\n",
            "1.880285382270813\n"
          ],
          "name": "stdout"
        },
        {
          "output_type": "stream",
          "text": [
            "2406it [05:12,  7.56it/s]"
          ],
          "name": "stderr"
        },
        {
          "output_type": "stream",
          "text": [
            "1.9737937450408936\n",
            "1.8865517377853394\n"
          ],
          "name": "stdout"
        },
        {
          "output_type": "stream",
          "text": [
            "2408it [05:12,  7.55it/s]"
          ],
          "name": "stderr"
        },
        {
          "output_type": "stream",
          "text": [
            "2.027920961380005\n",
            "2.013943672180176\n"
          ],
          "name": "stdout"
        },
        {
          "output_type": "stream",
          "text": [
            "2410it [05:12,  7.59it/s]"
          ],
          "name": "stderr"
        },
        {
          "output_type": "stream",
          "text": [
            "1.9494332075119019\n",
            "1.9711931943893433\n"
          ],
          "name": "stdout"
        },
        {
          "output_type": "stream",
          "text": [
            "2412it [05:12,  7.73it/s]"
          ],
          "name": "stderr"
        },
        {
          "output_type": "stream",
          "text": [
            "2.0350341796875\n",
            "2.0230157375335693\n"
          ],
          "name": "stdout"
        },
        {
          "output_type": "stream",
          "text": [
            "2414it [05:13,  7.62it/s]"
          ],
          "name": "stderr"
        },
        {
          "output_type": "stream",
          "text": [
            "1.9549793004989624\n",
            "2.0089855194091797\n"
          ],
          "name": "stdout"
        },
        {
          "output_type": "stream",
          "text": [
            "2416it [05:13,  7.77it/s]"
          ],
          "name": "stderr"
        },
        {
          "output_type": "stream",
          "text": [
            "2.03885817527771\n",
            "1.9639865159988403\n"
          ],
          "name": "stdout"
        },
        {
          "output_type": "stream",
          "text": [
            "2418it [05:13,  7.84it/s]"
          ],
          "name": "stderr"
        },
        {
          "output_type": "stream",
          "text": [
            "2.0095794200897217\n",
            "2.0246613025665283\n"
          ],
          "name": "stdout"
        },
        {
          "output_type": "stream",
          "text": [
            "2420it [05:13,  7.82it/s]"
          ],
          "name": "stderr"
        },
        {
          "output_type": "stream",
          "text": [
            "1.9801239967346191\n",
            "2.0203158855438232\n"
          ],
          "name": "stdout"
        },
        {
          "output_type": "stream",
          "text": [
            "2422it [05:14,  7.75it/s]"
          ],
          "name": "stderr"
        },
        {
          "output_type": "stream",
          "text": [
            "2.0187292098999023\n",
            "1.9557493925094604\n"
          ],
          "name": "stdout"
        },
        {
          "output_type": "stream",
          "text": [
            "2424it [05:14,  7.85it/s]"
          ],
          "name": "stderr"
        },
        {
          "output_type": "stream",
          "text": [
            "2.1481378078460693\n",
            "2.101337194442749\n"
          ],
          "name": "stdout"
        },
        {
          "output_type": "stream",
          "text": [
            "2426it [05:14,  7.86it/s]"
          ],
          "name": "stderr"
        },
        {
          "output_type": "stream",
          "text": [
            "1.9314794540405273\n",
            "1.928104281425476\n"
          ],
          "name": "stdout"
        },
        {
          "output_type": "stream",
          "text": [
            "2428it [05:14,  7.77it/s]"
          ],
          "name": "stderr"
        },
        {
          "output_type": "stream",
          "text": [
            "1.8927243947982788\n",
            "1.9604072570800781\n"
          ],
          "name": "stdout"
        },
        {
          "output_type": "stream",
          "text": [
            "2430it [05:15,  7.58it/s]"
          ],
          "name": "stderr"
        },
        {
          "output_type": "stream",
          "text": [
            "1.9954357147216797\n",
            "1.9630075693130493\n"
          ],
          "name": "stdout"
        },
        {
          "output_type": "stream",
          "text": [
            "2432it [05:15,  7.76it/s]"
          ],
          "name": "stderr"
        },
        {
          "output_type": "stream",
          "text": [
            "2.054600477218628\n",
            "1.9987682104110718\n"
          ],
          "name": "stdout"
        },
        {
          "output_type": "stream",
          "text": [
            "2434it [05:15,  7.84it/s]"
          ],
          "name": "stderr"
        },
        {
          "output_type": "stream",
          "text": [
            "1.9703339338302612\n",
            "2.027799606323242\n"
          ],
          "name": "stdout"
        },
        {
          "output_type": "stream",
          "text": [
            "2436it [05:16,  7.91it/s]"
          ],
          "name": "stderr"
        },
        {
          "output_type": "stream",
          "text": [
            "2.008415937423706\n",
            "1.9230353832244873\n"
          ],
          "name": "stdout"
        },
        {
          "output_type": "stream",
          "text": [
            "2438it [05:16,  7.77it/s]"
          ],
          "name": "stderr"
        },
        {
          "output_type": "stream",
          "text": [
            "1.9909380674362183\n",
            "1.9904879331588745\n"
          ],
          "name": "stdout"
        },
        {
          "output_type": "stream",
          "text": [
            "2440it [05:16,  7.79it/s]"
          ],
          "name": "stderr"
        },
        {
          "output_type": "stream",
          "text": [
            "2.004178047180176\n",
            "2.073011875152588\n"
          ],
          "name": "stdout"
        },
        {
          "output_type": "stream",
          "text": [
            "2442it [05:16,  7.69it/s]"
          ],
          "name": "stderr"
        },
        {
          "output_type": "stream",
          "text": [
            "2.1229898929595947\n",
            "2.039747953414917\n"
          ],
          "name": "stdout"
        },
        {
          "output_type": "stream",
          "text": [
            "2444it [05:17,  7.72it/s]"
          ],
          "name": "stderr"
        },
        {
          "output_type": "stream",
          "text": [
            "2.0564002990722656\n",
            "1.94930100440979\n"
          ],
          "name": "stdout"
        },
        {
          "output_type": "stream",
          "text": [
            "2446it [05:17,  7.63it/s]"
          ],
          "name": "stderr"
        },
        {
          "output_type": "stream",
          "text": [
            "2.085071563720703\n",
            "2.102367639541626\n"
          ],
          "name": "stdout"
        },
        {
          "output_type": "stream",
          "text": [
            "2448it [05:17,  7.78it/s]"
          ],
          "name": "stderr"
        },
        {
          "output_type": "stream",
          "text": [
            "2.0506327152252197\n",
            "1.9965585470199585\n"
          ],
          "name": "stdout"
        },
        {
          "output_type": "stream",
          "text": [
            "2450it [05:17,  7.83it/s]"
          ],
          "name": "stderr"
        },
        {
          "output_type": "stream",
          "text": [
            "2.0445923805236816\n",
            "2.0079376697540283\n"
          ],
          "name": "stdout"
        },
        {
          "output_type": "stream",
          "text": [
            "2452it [05:18,  7.74it/s]"
          ],
          "name": "stderr"
        },
        {
          "output_type": "stream",
          "text": [
            "1.9560112953186035\n",
            "1.993472695350647\n"
          ],
          "name": "stdout"
        },
        {
          "output_type": "stream",
          "text": [
            "2454it [05:18,  7.68it/s]"
          ],
          "name": "stderr"
        },
        {
          "output_type": "stream",
          "text": [
            "1.916879653930664\n",
            "1.9466825723648071\n"
          ],
          "name": "stdout"
        },
        {
          "output_type": "stream",
          "text": [
            "2456it [05:18,  7.66it/s]"
          ],
          "name": "stderr"
        },
        {
          "output_type": "stream",
          "text": [
            "1.9974606037139893\n",
            "1.9102251529693604\n"
          ],
          "name": "stdout"
        },
        {
          "output_type": "stream",
          "text": [
            "2458it [05:18,  7.66it/s]"
          ],
          "name": "stderr"
        },
        {
          "output_type": "stream",
          "text": [
            "1.9516956806182861\n",
            "1.9746718406677246\n"
          ],
          "name": "stdout"
        },
        {
          "output_type": "stream",
          "text": [
            "2460it [05:19,  7.66it/s]"
          ],
          "name": "stderr"
        },
        {
          "output_type": "stream",
          "text": [
            "1.9756137132644653\n",
            "1.9609895944595337\n"
          ],
          "name": "stdout"
        },
        {
          "output_type": "stream",
          "text": [
            "2462it [05:19,  7.61it/s]"
          ],
          "name": "stderr"
        },
        {
          "output_type": "stream",
          "text": [
            "2.000906229019165\n",
            "1.9492515325546265\n"
          ],
          "name": "stdout"
        },
        {
          "output_type": "stream",
          "text": [
            "2464it [05:19,  7.61it/s]"
          ],
          "name": "stderr"
        },
        {
          "output_type": "stream",
          "text": [
            "2.010755777359009\n",
            "2.022650957107544\n"
          ],
          "name": "stdout"
        },
        {
          "output_type": "stream",
          "text": [
            "2466it [05:19,  7.67it/s]"
          ],
          "name": "stderr"
        },
        {
          "output_type": "stream",
          "text": [
            "1.9882898330688477\n",
            "1.9869327545166016\n"
          ],
          "name": "stdout"
        },
        {
          "output_type": "stream",
          "text": [
            "2468it [05:20,  7.75it/s]"
          ],
          "name": "stderr"
        },
        {
          "output_type": "stream",
          "text": [
            "1.965089201927185\n",
            "1.9325435161590576\n"
          ],
          "name": "stdout"
        },
        {
          "output_type": "stream",
          "text": [
            "2470it [05:20,  7.72it/s]"
          ],
          "name": "stderr"
        },
        {
          "output_type": "stream",
          "text": [
            "1.9984654188156128\n",
            "1.978175163269043\n"
          ],
          "name": "stdout"
        },
        {
          "output_type": "stream",
          "text": [
            "2472it [05:20,  7.83it/s]"
          ],
          "name": "stderr"
        },
        {
          "output_type": "stream",
          "text": [
            "2.027017831802368\n",
            "1.977310299873352\n"
          ],
          "name": "stdout"
        },
        {
          "output_type": "stream",
          "text": [
            "2474it [05:20,  7.88it/s]"
          ],
          "name": "stderr"
        },
        {
          "output_type": "stream",
          "text": [
            "1.9690252542495728\n",
            "1.9983166456222534\n"
          ],
          "name": "stdout"
        },
        {
          "output_type": "stream",
          "text": [
            "2476it [05:21,  7.78it/s]"
          ],
          "name": "stderr"
        },
        {
          "output_type": "stream",
          "text": [
            "1.942837119102478\n",
            "1.9730513095855713\n"
          ],
          "name": "stdout"
        },
        {
          "output_type": "stream",
          "text": [
            "2478it [05:21,  7.65it/s]"
          ],
          "name": "stderr"
        },
        {
          "output_type": "stream",
          "text": [
            "1.9914363622665405\n",
            "1.9986482858657837\n"
          ],
          "name": "stdout"
        },
        {
          "output_type": "stream",
          "text": [
            "2480it [05:21,  7.61it/s]"
          ],
          "name": "stderr"
        },
        {
          "output_type": "stream",
          "text": [
            "1.9423267841339111\n",
            "2.0190412998199463\n"
          ],
          "name": "stdout"
        },
        {
          "output_type": "stream",
          "text": [
            "2482it [05:22,  7.56it/s]"
          ],
          "name": "stderr"
        },
        {
          "output_type": "stream",
          "text": [
            "1.9353128671646118\n",
            "1.973588228225708\n"
          ],
          "name": "stdout"
        },
        {
          "output_type": "stream",
          "text": [
            "2484it [05:22,  7.65it/s]"
          ],
          "name": "stderr"
        },
        {
          "output_type": "stream",
          "text": [
            "2.0003106594085693\n",
            "2.032851457595825\n"
          ],
          "name": "stdout"
        },
        {
          "output_type": "stream",
          "text": [
            "2486it [05:22,  7.64it/s]"
          ],
          "name": "stderr"
        },
        {
          "output_type": "stream",
          "text": [
            "1.997516393661499\n",
            "1.9865190982818604\n"
          ],
          "name": "stdout"
        },
        {
          "output_type": "stream",
          "text": [
            "2488it [05:22,  7.73it/s]"
          ],
          "name": "stderr"
        },
        {
          "output_type": "stream",
          "text": [
            "1.9526572227478027\n",
            "1.9550734758377075\n"
          ],
          "name": "stdout"
        },
        {
          "output_type": "stream",
          "text": [
            "2490it [05:23,  7.71it/s]"
          ],
          "name": "stderr"
        },
        {
          "output_type": "stream",
          "text": [
            "1.9883724451065063\n",
            "1.9431252479553223\n"
          ],
          "name": "stdout"
        },
        {
          "output_type": "stream",
          "text": [
            "2492it [05:23,  7.61it/s]"
          ],
          "name": "stderr"
        },
        {
          "output_type": "stream",
          "text": [
            "2.0069243907928467\n",
            "1.9495571851730347\n"
          ],
          "name": "stdout"
        },
        {
          "output_type": "stream",
          "text": [
            "2494it [05:23,  7.69it/s]"
          ],
          "name": "stderr"
        },
        {
          "output_type": "stream",
          "text": [
            "1.8810144662857056\n",
            "1.8777121305465698\n"
          ],
          "name": "stdout"
        },
        {
          "output_type": "stream",
          "text": [
            "2496it [05:23,  7.80it/s]"
          ],
          "name": "stderr"
        },
        {
          "output_type": "stream",
          "text": [
            "1.9241511821746826\n",
            "1.924044132232666\n"
          ],
          "name": "stdout"
        },
        {
          "output_type": "stream",
          "text": [
            "2498it [05:24,  7.80it/s]"
          ],
          "name": "stderr"
        },
        {
          "output_type": "stream",
          "text": [
            "1.9244798421859741\n",
            "1.9797512292861938\n"
          ],
          "name": "stdout"
        },
        {
          "output_type": "stream",
          "text": [
            "2500it [05:24,  7.56it/s]"
          ],
          "name": "stderr"
        },
        {
          "output_type": "stream",
          "text": [
            "1.8279380798339844\n",
            "1.9652714729309082\n"
          ],
          "name": "stdout"
        },
        {
          "output_type": "stream",
          "text": [
            "2502it [05:24,  7.61it/s]"
          ],
          "name": "stderr"
        },
        {
          "output_type": "stream",
          "text": [
            "1.893100619316101\n",
            "1.9074273109436035\n"
          ],
          "name": "stdout"
        },
        {
          "output_type": "stream",
          "text": [
            "2504it [05:24,  7.67it/s]"
          ],
          "name": "stderr"
        },
        {
          "output_type": "stream",
          "text": [
            "1.8872721195220947\n",
            "2.0227763652801514\n"
          ],
          "name": "stdout"
        },
        {
          "output_type": "stream",
          "text": [
            "2506it [05:25,  7.85it/s]"
          ],
          "name": "stderr"
        },
        {
          "output_type": "stream",
          "text": [
            "2.0174379348754883\n",
            "1.9636249542236328\n"
          ],
          "name": "stdout"
        },
        {
          "output_type": "stream",
          "text": [
            "2508it [05:25,  7.74it/s]"
          ],
          "name": "stderr"
        },
        {
          "output_type": "stream",
          "text": [
            "2.0378315448760986\n",
            "1.8362951278686523\n"
          ],
          "name": "stdout"
        },
        {
          "output_type": "stream",
          "text": [
            "2510it [05:25,  7.66it/s]"
          ],
          "name": "stderr"
        },
        {
          "output_type": "stream",
          "text": [
            "2.0340774059295654\n",
            "2.0198490619659424\n"
          ],
          "name": "stdout"
        },
        {
          "output_type": "stream",
          "text": [
            "2512it [05:25,  7.70it/s]"
          ],
          "name": "stderr"
        },
        {
          "output_type": "stream",
          "text": [
            "1.9742450714111328\n",
            "2.040040969848633\n"
          ],
          "name": "stdout"
        },
        {
          "output_type": "stream",
          "text": [
            "2514it [05:26,  7.80it/s]"
          ],
          "name": "stderr"
        },
        {
          "output_type": "stream",
          "text": [
            "2.0281667709350586\n",
            "2.017901659011841\n"
          ],
          "name": "stdout"
        },
        {
          "output_type": "stream",
          "text": [
            "2516it [05:26,  7.75it/s]"
          ],
          "name": "stderr"
        },
        {
          "output_type": "stream",
          "text": [
            "1.9225257635116577\n",
            "1.9711241722106934\n"
          ],
          "name": "stdout"
        },
        {
          "output_type": "stream",
          "text": [
            "2518it [05:26,  7.78it/s]"
          ],
          "name": "stderr"
        },
        {
          "output_type": "stream",
          "text": [
            "2.056152105331421\n",
            "2.0272605419158936\n"
          ],
          "name": "stdout"
        },
        {
          "output_type": "stream",
          "text": [
            "2520it [05:26,  7.73it/s]"
          ],
          "name": "stderr"
        },
        {
          "output_type": "stream",
          "text": [
            "1.9480360746383667\n",
            "1.9068503379821777\n"
          ],
          "name": "stdout"
        },
        {
          "output_type": "stream",
          "text": [
            "2522it [05:27,  7.79it/s]"
          ],
          "name": "stderr"
        },
        {
          "output_type": "stream",
          "text": [
            "1.9946961402893066\n",
            "1.919828176498413\n"
          ],
          "name": "stdout"
        },
        {
          "output_type": "stream",
          "text": [
            "2524it [05:27,  7.71it/s]"
          ],
          "name": "stderr"
        },
        {
          "output_type": "stream",
          "text": [
            "1.9507609605789185\n",
            "1.9974027872085571\n"
          ],
          "name": "stdout"
        },
        {
          "output_type": "stream",
          "text": [
            "2526it [05:27,  7.81it/s]"
          ],
          "name": "stderr"
        },
        {
          "output_type": "stream",
          "text": [
            "1.8938630819320679\n",
            "1.9906373023986816\n"
          ],
          "name": "stdout"
        },
        {
          "output_type": "stream",
          "text": [
            "2528it [05:27,  7.75it/s]"
          ],
          "name": "stderr"
        },
        {
          "output_type": "stream",
          "text": [
            "1.9923866987228394\n",
            "2.0156028270721436\n"
          ],
          "name": "stdout"
        },
        {
          "output_type": "stream",
          "text": [
            "2530it [05:28,  7.73it/s]"
          ],
          "name": "stderr"
        },
        {
          "output_type": "stream",
          "text": [
            "1.851817011833191\n",
            "1.9782880544662476\n"
          ],
          "name": "stdout"
        },
        {
          "output_type": "stream",
          "text": [
            "2532it [05:28,  7.72it/s]"
          ],
          "name": "stderr"
        },
        {
          "output_type": "stream",
          "text": [
            "1.9823304414749146\n",
            "1.9246931076049805\n"
          ],
          "name": "stdout"
        },
        {
          "output_type": "stream",
          "text": [
            "2534it [05:28,  7.78it/s]"
          ],
          "name": "stderr"
        },
        {
          "output_type": "stream",
          "text": [
            "1.9796738624572754\n",
            "1.9694288969039917\n"
          ],
          "name": "stdout"
        },
        {
          "output_type": "stream",
          "text": [
            "2536it [05:29,  7.73it/s]"
          ],
          "name": "stderr"
        },
        {
          "output_type": "stream",
          "text": [
            "1.9981478452682495\n",
            "1.9536194801330566\n"
          ],
          "name": "stdout"
        },
        {
          "output_type": "stream",
          "text": [
            "2538it [05:29,  7.69it/s]"
          ],
          "name": "stderr"
        },
        {
          "output_type": "stream",
          "text": [
            "2.050008535385132\n",
            "1.9761552810668945\n"
          ],
          "name": "stdout"
        },
        {
          "output_type": "stream",
          "text": [
            "2540it [05:29,  7.74it/s]"
          ],
          "name": "stderr"
        },
        {
          "output_type": "stream",
          "text": [
            "2.1206347942352295\n",
            "1.9615886211395264\n"
          ],
          "name": "stdout"
        },
        {
          "output_type": "stream",
          "text": [
            "2542it [05:29,  7.69it/s]"
          ],
          "name": "stderr"
        },
        {
          "output_type": "stream",
          "text": [
            "2.14578914642334\n",
            "2.035710334777832\n"
          ],
          "name": "stdout"
        },
        {
          "output_type": "stream",
          "text": [
            "2544it [05:30,  7.72it/s]"
          ],
          "name": "stderr"
        },
        {
          "output_type": "stream",
          "text": [
            "2.150512218475342\n",
            "2.0535740852355957\n"
          ],
          "name": "stdout"
        },
        {
          "output_type": "stream",
          "text": [
            "2546it [05:30,  7.77it/s]"
          ],
          "name": "stderr"
        },
        {
          "output_type": "stream",
          "text": [
            "1.8795627355575562\n",
            "1.9197328090667725\n"
          ],
          "name": "stdout"
        },
        {
          "output_type": "stream",
          "text": [
            "2548it [05:30,  7.63it/s]"
          ],
          "name": "stderr"
        },
        {
          "output_type": "stream",
          "text": [
            "1.9250842332839966\n",
            "1.9619898796081543\n"
          ],
          "name": "stdout"
        },
        {
          "output_type": "stream",
          "text": [
            "2550it [05:30,  7.73it/s]"
          ],
          "name": "stderr"
        },
        {
          "output_type": "stream",
          "text": [
            "1.9167499542236328\n",
            "1.8845218420028687\n"
          ],
          "name": "stdout"
        },
        {
          "output_type": "stream",
          "text": [
            "2552it [05:31,  7.76it/s]"
          ],
          "name": "stderr"
        },
        {
          "output_type": "stream",
          "text": [
            "1.9982717037200928\n",
            "2.0694386959075928\n"
          ],
          "name": "stdout"
        },
        {
          "output_type": "stream",
          "text": [
            "2554it [05:31,  7.68it/s]"
          ],
          "name": "stderr"
        },
        {
          "output_type": "stream",
          "text": [
            "1.9839316606521606\n",
            "1.9789066314697266\n"
          ],
          "name": "stdout"
        },
        {
          "output_type": "stream",
          "text": [
            "2556it [05:31,  7.64it/s]"
          ],
          "name": "stderr"
        },
        {
          "output_type": "stream",
          "text": [
            "1.8873547315597534\n",
            "2.08144211769104\n"
          ],
          "name": "stdout"
        },
        {
          "output_type": "stream",
          "text": [
            "2558it [05:31,  7.65it/s]"
          ],
          "name": "stderr"
        },
        {
          "output_type": "stream",
          "text": [
            "1.9897152185440063\n",
            "1.982496738433838\n"
          ],
          "name": "stdout"
        },
        {
          "output_type": "stream",
          "text": [
            "2560it [05:32,  7.44it/s]"
          ],
          "name": "stderr"
        },
        {
          "output_type": "stream",
          "text": [
            "1.9680722951889038\n",
            "1.989876389503479\n"
          ],
          "name": "stdout"
        },
        {
          "output_type": "stream",
          "text": [
            "2562it [05:32,  7.54it/s]"
          ],
          "name": "stderr"
        },
        {
          "output_type": "stream",
          "text": [
            "1.95327889919281\n",
            "1.9814783334732056\n"
          ],
          "name": "stdout"
        },
        {
          "output_type": "stream",
          "text": [
            "2564it [05:32,  7.64it/s]"
          ],
          "name": "stderr"
        },
        {
          "output_type": "stream",
          "text": [
            "2.0218265056610107\n",
            "1.9615998268127441\n"
          ],
          "name": "stdout"
        },
        {
          "output_type": "stream",
          "text": [
            "2566it [05:32,  7.76it/s]"
          ],
          "name": "stderr"
        },
        {
          "output_type": "stream",
          "text": [
            "1.9425461292266846\n",
            "1.9178677797317505\n"
          ],
          "name": "stdout"
        },
        {
          "output_type": "stream",
          "text": [
            "2568it [05:33,  7.67it/s]"
          ],
          "name": "stderr"
        },
        {
          "output_type": "stream",
          "text": [
            "1.9863656759262085\n",
            "1.970567226409912\n"
          ],
          "name": "stdout"
        },
        {
          "output_type": "stream",
          "text": [
            "2570it [05:33,  7.71it/s]"
          ],
          "name": "stderr"
        },
        {
          "output_type": "stream",
          "text": [
            "1.9911326169967651\n",
            "2.001854419708252\n"
          ],
          "name": "stdout"
        },
        {
          "output_type": "stream",
          "text": [
            "2572it [05:33,  7.78it/s]"
          ],
          "name": "stderr"
        },
        {
          "output_type": "stream",
          "text": [
            "2.033829689025879\n",
            "1.9682669639587402\n"
          ],
          "name": "stdout"
        },
        {
          "output_type": "stream",
          "text": [
            "2574it [05:33,  7.78it/s]"
          ],
          "name": "stderr"
        },
        {
          "output_type": "stream",
          "text": [
            "1.9935722351074219\n",
            "1.944502353668213\n"
          ],
          "name": "stdout"
        },
        {
          "output_type": "stream",
          "text": [
            "2576it [05:34,  7.70it/s]"
          ],
          "name": "stderr"
        },
        {
          "output_type": "stream",
          "text": [
            "2.0315585136413574\n",
            "1.897273063659668\n"
          ],
          "name": "stdout"
        },
        {
          "output_type": "stream",
          "text": [
            "2578it [05:34,  7.50it/s]"
          ],
          "name": "stderr"
        },
        {
          "output_type": "stream",
          "text": [
            "1.8844866752624512\n",
            "1.910678505897522\n"
          ],
          "name": "stdout"
        },
        {
          "output_type": "stream",
          "text": [
            "2580it [05:34,  7.61it/s]"
          ],
          "name": "stderr"
        },
        {
          "output_type": "stream",
          "text": [
            "2.0128273963928223\n",
            "1.9701151847839355\n"
          ],
          "name": "stdout"
        },
        {
          "output_type": "stream",
          "text": [
            "2582it [05:35,  7.68it/s]"
          ],
          "name": "stderr"
        },
        {
          "output_type": "stream",
          "text": [
            "1.9389779567718506\n",
            "1.917772889137268\n"
          ],
          "name": "stdout"
        },
        {
          "output_type": "stream",
          "text": [
            "2584it [05:35,  7.71it/s]"
          ],
          "name": "stderr"
        },
        {
          "output_type": "stream",
          "text": [
            "1.9399738311767578\n",
            "2.0298869609832764\n"
          ],
          "name": "stdout"
        },
        {
          "output_type": "stream",
          "text": [
            "2586it [05:35,  7.59it/s]"
          ],
          "name": "stderr"
        },
        {
          "output_type": "stream",
          "text": [
            "1.984785556793213\n",
            "1.8728963136672974\n"
          ],
          "name": "stdout"
        },
        {
          "output_type": "stream",
          "text": [
            "2588it [05:35,  7.57it/s]"
          ],
          "name": "stderr"
        },
        {
          "output_type": "stream",
          "text": [
            "2.0273027420043945\n",
            "1.9649899005889893\n"
          ],
          "name": "stdout"
        },
        {
          "output_type": "stream",
          "text": [
            "2590it [05:36,  7.73it/s]"
          ],
          "name": "stderr"
        },
        {
          "output_type": "stream",
          "text": [
            "2.0155460834503174\n",
            "2.126943826675415\n"
          ],
          "name": "stdout"
        },
        {
          "output_type": "stream",
          "text": [
            "2592it [05:36,  7.78it/s]"
          ],
          "name": "stderr"
        },
        {
          "output_type": "stream",
          "text": [
            "1.9084142446517944\n",
            "1.8941750526428223\n"
          ],
          "name": "stdout"
        },
        {
          "output_type": "stream",
          "text": [
            "2594it [05:36,  7.71it/s]"
          ],
          "name": "stderr"
        },
        {
          "output_type": "stream",
          "text": [
            "1.926039457321167\n",
            "1.8748512268066406\n"
          ],
          "name": "stdout"
        },
        {
          "output_type": "stream",
          "text": [
            "2596it [05:36,  7.81it/s]"
          ],
          "name": "stderr"
        },
        {
          "output_type": "stream",
          "text": [
            "2.0029735565185547\n",
            "1.9624443054199219\n"
          ],
          "name": "stdout"
        },
        {
          "output_type": "stream",
          "text": [
            "2598it [05:37,  7.85it/s]"
          ],
          "name": "stderr"
        },
        {
          "output_type": "stream",
          "text": [
            "1.956247091293335\n",
            "1.9288570880889893\n"
          ],
          "name": "stdout"
        },
        {
          "output_type": "stream",
          "text": [
            "2600it [05:37,  7.75it/s]"
          ],
          "name": "stderr"
        },
        {
          "output_type": "stream",
          "text": [
            "1.9535964727401733\n",
            "1.9334211349487305\n"
          ],
          "name": "stdout"
        },
        {
          "output_type": "stream",
          "text": [
            "2602it [05:37,  7.66it/s]"
          ],
          "name": "stderr"
        },
        {
          "output_type": "stream",
          "text": [
            "1.9693505764007568\n",
            "1.9070078134536743\n"
          ],
          "name": "stdout"
        },
        {
          "output_type": "stream",
          "text": [
            "2604it [05:37,  7.78it/s]"
          ],
          "name": "stderr"
        },
        {
          "output_type": "stream",
          "text": [
            "1.8907275199890137\n",
            "2.007431745529175\n"
          ],
          "name": "stdout"
        },
        {
          "output_type": "stream",
          "text": [
            "2606it [05:38,  7.91it/s]"
          ],
          "name": "stderr"
        },
        {
          "output_type": "stream",
          "text": [
            "1.9679830074310303\n",
            "1.9337620735168457\n"
          ],
          "name": "stdout"
        },
        {
          "output_type": "stream",
          "text": [
            "2608it [05:38,  7.89it/s]"
          ],
          "name": "stderr"
        },
        {
          "output_type": "stream",
          "text": [
            "1.9604722261428833\n",
            "1.9046833515167236\n"
          ],
          "name": "stdout"
        },
        {
          "output_type": "stream",
          "text": [
            "2610it [05:38,  7.75it/s]"
          ],
          "name": "stderr"
        },
        {
          "output_type": "stream",
          "text": [
            "1.8708478212356567\n",
            "1.9249365329742432\n"
          ],
          "name": "stdout"
        },
        {
          "output_type": "stream",
          "text": [
            "2612it [05:38,  7.74it/s]"
          ],
          "name": "stderr"
        },
        {
          "output_type": "stream",
          "text": [
            "2.06299090385437\n",
            "1.9074363708496094\n"
          ],
          "name": "stdout"
        },
        {
          "output_type": "stream",
          "text": [
            "2614it [05:39,  7.77it/s]"
          ],
          "name": "stderr"
        },
        {
          "output_type": "stream",
          "text": [
            "1.9032541513442993\n",
            "1.9552993774414062\n"
          ],
          "name": "stdout"
        },
        {
          "output_type": "stream",
          "text": [
            "2616it [05:39,  7.76it/s]"
          ],
          "name": "stderr"
        },
        {
          "output_type": "stream",
          "text": [
            "1.9240175485610962\n",
            "2.0241854190826416\n"
          ],
          "name": "stdout"
        },
        {
          "output_type": "stream",
          "text": [
            "2618it [05:39,  7.75it/s]"
          ],
          "name": "stderr"
        },
        {
          "output_type": "stream",
          "text": [
            "1.9258017539978027\n",
            "1.9663890600204468\n"
          ],
          "name": "stdout"
        },
        {
          "output_type": "stream",
          "text": [
            "2620it [05:39,  7.78it/s]"
          ],
          "name": "stderr"
        },
        {
          "output_type": "stream",
          "text": [
            "1.9730699062347412\n",
            "1.9657379388809204\n"
          ],
          "name": "stdout"
        },
        {
          "output_type": "stream",
          "text": [
            "2622it [05:40,  7.65it/s]"
          ],
          "name": "stderr"
        },
        {
          "output_type": "stream",
          "text": [
            "1.912739634513855\n",
            "2.0046510696411133\n"
          ],
          "name": "stdout"
        },
        {
          "output_type": "stream",
          "text": [
            "2624it [05:40,  7.74it/s]"
          ],
          "name": "stderr"
        },
        {
          "output_type": "stream",
          "text": [
            "2.0656728744506836\n",
            "1.963896632194519\n"
          ],
          "name": "stdout"
        },
        {
          "output_type": "stream",
          "text": [
            "2626it [05:40,  7.73it/s]"
          ],
          "name": "stderr"
        },
        {
          "output_type": "stream",
          "text": [
            "1.886008620262146\n",
            "2.0493836402893066\n"
          ],
          "name": "stdout"
        },
        {
          "output_type": "stream",
          "text": [
            "2628it [05:40,  7.72it/s]"
          ],
          "name": "stderr"
        },
        {
          "output_type": "stream",
          "text": [
            "2.0076558589935303\n",
            "1.9544193744659424\n"
          ],
          "name": "stdout"
        },
        {
          "output_type": "stream",
          "text": [
            "2630it [05:41,  7.70it/s]"
          ],
          "name": "stderr"
        },
        {
          "output_type": "stream",
          "text": [
            "1.9963148832321167\n",
            "1.9853827953338623\n"
          ],
          "name": "stdout"
        },
        {
          "output_type": "stream",
          "text": [
            "2632it [05:41,  7.77it/s]"
          ],
          "name": "stderr"
        },
        {
          "output_type": "stream",
          "text": [
            "2.0546510219573975\n",
            "2.1033248901367188\n"
          ],
          "name": "stdout"
        },
        {
          "output_type": "stream",
          "text": [
            "2634it [05:41,  7.59it/s]"
          ],
          "name": "stderr"
        },
        {
          "output_type": "stream",
          "text": [
            "2.0967721939086914\n",
            "1.9559978246688843\n"
          ],
          "name": "stdout"
        },
        {
          "output_type": "stream",
          "text": [
            "2636it [05:41,  7.73it/s]"
          ],
          "name": "stderr"
        },
        {
          "output_type": "stream",
          "text": [
            "1.9462388753890991\n",
            "1.9499281644821167\n"
          ],
          "name": "stdout"
        },
        {
          "output_type": "stream",
          "text": [
            "2638it [05:42,  7.59it/s]"
          ],
          "name": "stderr"
        },
        {
          "output_type": "stream",
          "text": [
            "2.0220165252685547\n",
            "1.876180648803711\n"
          ],
          "name": "stdout"
        },
        {
          "output_type": "stream",
          "text": [
            "2640it [05:42,  7.71it/s]"
          ],
          "name": "stderr"
        },
        {
          "output_type": "stream",
          "text": [
            "1.9721364974975586\n",
            "2.102224826812744\n"
          ],
          "name": "stdout"
        },
        {
          "output_type": "stream",
          "text": [
            "2642it [05:42,  7.70it/s]"
          ],
          "name": "stderr"
        },
        {
          "output_type": "stream",
          "text": [
            "1.828761339187622\n",
            "1.9237726926803589\n"
          ],
          "name": "stdout"
        },
        {
          "output_type": "stream",
          "text": [
            "2644it [05:43,  7.69it/s]"
          ],
          "name": "stderr"
        },
        {
          "output_type": "stream",
          "text": [
            "1.9685367345809937\n",
            "1.8854671716690063\n"
          ],
          "name": "stdout"
        },
        {
          "output_type": "stream",
          "text": [
            "2646it [05:43,  7.66it/s]"
          ],
          "name": "stderr"
        },
        {
          "output_type": "stream",
          "text": [
            "1.8593401908874512\n",
            "1.934714674949646\n"
          ],
          "name": "stdout"
        },
        {
          "output_type": "stream",
          "text": [
            "2648it [05:43,  7.69it/s]"
          ],
          "name": "stderr"
        },
        {
          "output_type": "stream",
          "text": [
            "1.896283745765686\n",
            "1.8781994581222534\n"
          ],
          "name": "stdout"
        },
        {
          "output_type": "stream",
          "text": [
            "2650it [05:43,  7.77it/s]"
          ],
          "name": "stderr"
        },
        {
          "output_type": "stream",
          "text": [
            "1.8698464632034302\n",
            "1.9191224575042725\n"
          ],
          "name": "stdout"
        },
        {
          "output_type": "stream",
          "text": [
            "2652it [05:44,  7.82it/s]"
          ],
          "name": "stderr"
        },
        {
          "output_type": "stream",
          "text": [
            "1.9532599449157715\n",
            "1.9241576194763184\n"
          ],
          "name": "stdout"
        },
        {
          "output_type": "stream",
          "text": [
            "2654it [05:44,  7.72it/s]"
          ],
          "name": "stderr"
        },
        {
          "output_type": "stream",
          "text": [
            "2.0347681045532227\n",
            "2.0980632305145264\n"
          ],
          "name": "stdout"
        },
        {
          "output_type": "stream",
          "text": [
            "2656it [05:44,  7.65it/s]"
          ],
          "name": "stderr"
        },
        {
          "output_type": "stream",
          "text": [
            "1.9062916040420532\n",
            "2.0315651893615723\n"
          ],
          "name": "stdout"
        },
        {
          "output_type": "stream",
          "text": [
            "2658it [05:44,  7.76it/s]"
          ],
          "name": "stderr"
        },
        {
          "output_type": "stream",
          "text": [
            "1.9951974153518677\n",
            "1.9482084512710571\n"
          ],
          "name": "stdout"
        },
        {
          "output_type": "stream",
          "text": [
            "2660it [05:45,  7.76it/s]"
          ],
          "name": "stderr"
        },
        {
          "output_type": "stream",
          "text": [
            "1.9664915800094604\n",
            "1.813720703125\n"
          ],
          "name": "stdout"
        },
        {
          "output_type": "stream",
          "text": [
            "2662it [05:45,  7.57it/s]"
          ],
          "name": "stderr"
        },
        {
          "output_type": "stream",
          "text": [
            "1.9478816986083984\n",
            "2.00366473197937\n"
          ],
          "name": "stdout"
        },
        {
          "output_type": "stream",
          "text": [
            "2664it [05:45,  7.54it/s]"
          ],
          "name": "stderr"
        },
        {
          "output_type": "stream",
          "text": [
            "2.0047473907470703\n",
            "1.9714146852493286\n"
          ],
          "name": "stdout"
        },
        {
          "output_type": "stream",
          "text": [
            "2666it [05:45,  7.71it/s]"
          ],
          "name": "stderr"
        },
        {
          "output_type": "stream",
          "text": [
            "1.9018560647964478\n",
            "1.9429304599761963\n"
          ],
          "name": "stdout"
        },
        {
          "output_type": "stream",
          "text": [
            "2668it [05:46,  7.71it/s]"
          ],
          "name": "stderr"
        },
        {
          "output_type": "stream",
          "text": [
            "1.912703514099121\n",
            "1.9181755781173706\n"
          ],
          "name": "stdout"
        },
        {
          "output_type": "stream",
          "text": [
            "2670it [05:46,  7.75it/s]"
          ],
          "name": "stderr"
        },
        {
          "output_type": "stream",
          "text": [
            "2.0004851818084717\n",
            "1.917386531829834\n"
          ],
          "name": "stdout"
        },
        {
          "output_type": "stream",
          "text": [
            "2672it [05:46,  7.64it/s]"
          ],
          "name": "stderr"
        },
        {
          "output_type": "stream",
          "text": [
            "1.931931495666504\n",
            "1.891333818435669\n"
          ],
          "name": "stdout"
        },
        {
          "output_type": "stream",
          "text": [
            "2674it [05:46,  7.65it/s]"
          ],
          "name": "stderr"
        },
        {
          "output_type": "stream",
          "text": [
            "1.8616021871566772\n",
            "2.0125555992126465\n"
          ],
          "name": "stdout"
        },
        {
          "output_type": "stream",
          "text": [
            "2676it [05:47,  7.73it/s]"
          ],
          "name": "stderr"
        },
        {
          "output_type": "stream",
          "text": [
            "2.1489059925079346\n",
            "2.0189454555511475\n"
          ],
          "name": "stdout"
        },
        {
          "output_type": "stream",
          "text": [
            "2678it [05:47,  7.66it/s]"
          ],
          "name": "stderr"
        },
        {
          "output_type": "stream",
          "text": [
            "1.9896653890609741\n",
            "2.0144786834716797\n"
          ],
          "name": "stdout"
        },
        {
          "output_type": "stream",
          "text": [
            "2680it [05:47,  7.61it/s]"
          ],
          "name": "stderr"
        },
        {
          "output_type": "stream",
          "text": [
            "1.9678142070770264\n",
            "1.9583439826965332\n"
          ],
          "name": "stdout"
        },
        {
          "output_type": "stream",
          "text": [
            "2682it [05:48,  7.66it/s]"
          ],
          "name": "stderr"
        },
        {
          "output_type": "stream",
          "text": [
            "2.026343822479248\n",
            "2.070181131362915\n"
          ],
          "name": "stdout"
        },
        {
          "output_type": "stream",
          "text": [
            "2684it [05:48,  7.63it/s]"
          ],
          "name": "stderr"
        },
        {
          "output_type": "stream",
          "text": [
            "1.9563509225845337\n",
            "1.9732310771942139\n"
          ],
          "name": "stdout"
        },
        {
          "output_type": "stream",
          "text": [
            "2686it [05:48,  7.71it/s]"
          ],
          "name": "stderr"
        },
        {
          "output_type": "stream",
          "text": [
            "1.9786593914031982\n",
            "2.0423262119293213\n"
          ],
          "name": "stdout"
        },
        {
          "output_type": "stream",
          "text": [
            "2688it [05:48,  7.68it/s]"
          ],
          "name": "stderr"
        },
        {
          "output_type": "stream",
          "text": [
            "1.9758081436157227\n",
            "2.020653486251831\n"
          ],
          "name": "stdout"
        },
        {
          "output_type": "stream",
          "text": [
            "2690it [05:49,  7.77it/s]"
          ],
          "name": "stderr"
        },
        {
          "output_type": "stream",
          "text": [
            "1.9774285554885864\n",
            "2.1030447483062744\n"
          ],
          "name": "stdout"
        },
        {
          "output_type": "stream",
          "text": [
            "2692it [05:49,  7.73it/s]"
          ],
          "name": "stderr"
        },
        {
          "output_type": "stream",
          "text": [
            "2.0122056007385254\n",
            "2.0982141494750977\n"
          ],
          "name": "stdout"
        },
        {
          "output_type": "stream",
          "text": [
            "2694it [05:49,  7.79it/s]"
          ],
          "name": "stderr"
        },
        {
          "output_type": "stream",
          "text": [
            "1.9834613800048828\n",
            "2.032533884048462\n"
          ],
          "name": "stdout"
        },
        {
          "output_type": "stream",
          "text": [
            "2696it [05:49,  7.75it/s]"
          ],
          "name": "stderr"
        },
        {
          "output_type": "stream",
          "text": [
            "2.0335099697113037\n",
            "2.036069393157959\n"
          ],
          "name": "stdout"
        },
        {
          "output_type": "stream",
          "text": [
            "2698it [05:50,  7.80it/s]"
          ],
          "name": "stderr"
        },
        {
          "output_type": "stream",
          "text": [
            "2.005828857421875\n",
            "2.035945415496826\n"
          ],
          "name": "stdout"
        },
        {
          "output_type": "stream",
          "text": [
            "2700it [05:50,  7.68it/s]"
          ],
          "name": "stderr"
        },
        {
          "output_type": "stream",
          "text": [
            "2.0104973316192627\n",
            "1.892788290977478\n"
          ],
          "name": "stdout"
        },
        {
          "output_type": "stream",
          "text": [
            "2702it [05:50,  7.72it/s]"
          ],
          "name": "stderr"
        },
        {
          "output_type": "stream",
          "text": [
            "2.03092622756958\n",
            "1.9787462949752808\n"
          ],
          "name": "stdout"
        },
        {
          "output_type": "stream",
          "text": [
            "2704it [05:50,  7.67it/s]"
          ],
          "name": "stderr"
        },
        {
          "output_type": "stream",
          "text": [
            "1.9011324644088745\n",
            "1.9763537645339966\n"
          ],
          "name": "stdout"
        },
        {
          "output_type": "stream",
          "text": [
            "2706it [05:51,  7.78it/s]"
          ],
          "name": "stderr"
        },
        {
          "output_type": "stream",
          "text": [
            "2.002901554107666\n",
            "1.9838056564331055\n"
          ],
          "name": "stdout"
        },
        {
          "output_type": "stream",
          "text": [
            "2708it [05:51,  7.71it/s]"
          ],
          "name": "stderr"
        },
        {
          "output_type": "stream",
          "text": [
            "2.05767822265625\n",
            "2.0954360961914062\n"
          ],
          "name": "stdout"
        },
        {
          "output_type": "stream",
          "text": [
            "2710it [05:51,  7.73it/s]"
          ],
          "name": "stderr"
        },
        {
          "output_type": "stream",
          "text": [
            "2.0155131816864014\n",
            "2.097841262817383\n"
          ],
          "name": "stdout"
        },
        {
          "output_type": "stream",
          "text": [
            "2712it [05:51,  7.68it/s]"
          ],
          "name": "stderr"
        },
        {
          "output_type": "stream",
          "text": [
            "2.1000943183898926\n",
            "2.0041937828063965\n"
          ],
          "name": "stdout"
        },
        {
          "output_type": "stream",
          "text": [
            "2714it [05:52,  7.63it/s]"
          ],
          "name": "stderr"
        },
        {
          "output_type": "stream",
          "text": [
            "1.9890310764312744\n",
            "1.9911646842956543\n"
          ],
          "name": "stdout"
        },
        {
          "output_type": "stream",
          "text": [
            "2716it [05:52,  7.64it/s]"
          ],
          "name": "stderr"
        },
        {
          "output_type": "stream",
          "text": [
            "1.9874340295791626\n",
            "1.8735684156417847\n"
          ],
          "name": "stdout"
        },
        {
          "output_type": "stream",
          "text": [
            "2718it [05:52,  7.54it/s]"
          ],
          "name": "stderr"
        },
        {
          "output_type": "stream",
          "text": [
            "1.9469646215438843\n",
            "1.9879695177078247\n"
          ],
          "name": "stdout"
        },
        {
          "output_type": "stream",
          "text": [
            "2720it [05:52,  7.66it/s]"
          ],
          "name": "stderr"
        },
        {
          "output_type": "stream",
          "text": [
            "2.116018056869507\n",
            "2.035071611404419\n"
          ],
          "name": "stdout"
        },
        {
          "output_type": "stream",
          "text": [
            "2722it [05:53,  7.53it/s]"
          ],
          "name": "stderr"
        },
        {
          "output_type": "stream",
          "text": [
            "1.8354015350341797\n",
            "2.0910096168518066\n"
          ],
          "name": "stdout"
        },
        {
          "output_type": "stream",
          "text": [
            "2724it [05:53,  7.54it/s]"
          ],
          "name": "stderr"
        },
        {
          "output_type": "stream",
          "text": [
            "2.013582229614258\n",
            "1.9598957300186157\n"
          ],
          "name": "stdout"
        },
        {
          "output_type": "stream",
          "text": [
            "2726it [05:53,  7.57it/s]"
          ],
          "name": "stderr"
        },
        {
          "output_type": "stream",
          "text": [
            "2.0383243560791016\n",
            "1.9617382287979126\n"
          ],
          "name": "stdout"
        },
        {
          "output_type": "stream",
          "text": [
            "2728it [05:53,  7.70it/s]"
          ],
          "name": "stderr"
        },
        {
          "output_type": "stream",
          "text": [
            "1.9376205205917358\n",
            "1.9798312187194824\n"
          ],
          "name": "stdout"
        },
        {
          "output_type": "stream",
          "text": [
            "2730it [05:54,  7.71it/s]"
          ],
          "name": "stderr"
        },
        {
          "output_type": "stream",
          "text": [
            "2.007599115371704\n",
            "1.9827752113342285\n"
          ],
          "name": "stdout"
        },
        {
          "output_type": "stream",
          "text": [
            "2732it [05:54,  7.67it/s]"
          ],
          "name": "stderr"
        },
        {
          "output_type": "stream",
          "text": [
            "1.9470205307006836\n",
            "1.9466021060943604\n"
          ],
          "name": "stdout"
        },
        {
          "output_type": "stream",
          "text": [
            "2734it [05:54,  7.64it/s]"
          ],
          "name": "stderr"
        },
        {
          "output_type": "stream",
          "text": [
            "1.9721370935440063\n",
            "2.025822162628174\n"
          ],
          "name": "stdout"
        },
        {
          "output_type": "stream",
          "text": [
            "2736it [05:55,  7.72it/s]"
          ],
          "name": "stderr"
        },
        {
          "output_type": "stream",
          "text": [
            "1.8720464706420898\n",
            "1.8198184967041016\n"
          ],
          "name": "stdout"
        },
        {
          "output_type": "stream",
          "text": [
            "2738it [05:55,  7.73it/s]"
          ],
          "name": "stderr"
        },
        {
          "output_type": "stream",
          "text": [
            "1.978643774986267\n",
            "2.018754720687866\n"
          ],
          "name": "stdout"
        },
        {
          "output_type": "stream",
          "text": [
            "2740it [05:55,  7.79it/s]"
          ],
          "name": "stderr"
        },
        {
          "output_type": "stream",
          "text": [
            "1.8820408582687378\n",
            "1.9715142250061035\n"
          ],
          "name": "stdout"
        },
        {
          "output_type": "stream",
          "text": [
            "2742it [05:55,  7.71it/s]"
          ],
          "name": "stderr"
        },
        {
          "output_type": "stream",
          "text": [
            "1.9872716665267944\n",
            "1.9027451276779175\n"
          ],
          "name": "stdout"
        },
        {
          "output_type": "stream",
          "text": [
            "2744it [05:56,  7.66it/s]"
          ],
          "name": "stderr"
        },
        {
          "output_type": "stream",
          "text": [
            "1.960323691368103\n",
            "1.9429558515548706\n"
          ],
          "name": "stdout"
        },
        {
          "output_type": "stream",
          "text": [
            "2746it [05:56,  7.69it/s]"
          ],
          "name": "stderr"
        },
        {
          "output_type": "stream",
          "text": [
            "1.8593685626983643\n",
            "1.8508511781692505\n"
          ],
          "name": "stdout"
        },
        {
          "output_type": "stream",
          "text": [
            "2748it [05:56,  7.80it/s]"
          ],
          "name": "stderr"
        },
        {
          "output_type": "stream",
          "text": [
            "1.8654565811157227\n",
            "1.9345871210098267\n"
          ],
          "name": "stdout"
        },
        {
          "output_type": "stream",
          "text": [
            "2750it [05:56,  7.74it/s]"
          ],
          "name": "stderr"
        },
        {
          "output_type": "stream",
          "text": [
            "1.9191218614578247\n",
            "1.9543673992156982\n"
          ],
          "name": "stdout"
        },
        {
          "output_type": "stream",
          "text": [
            "2752it [05:57,  7.77it/s]"
          ],
          "name": "stderr"
        },
        {
          "output_type": "stream",
          "text": [
            "1.9334208965301514\n",
            "1.973768711090088\n"
          ],
          "name": "stdout"
        },
        {
          "output_type": "stream",
          "text": [
            "2754it [05:57,  7.60it/s]"
          ],
          "name": "stderr"
        },
        {
          "output_type": "stream",
          "text": [
            "1.9453507661819458\n",
            "1.9902560710906982\n"
          ],
          "name": "stdout"
        },
        {
          "output_type": "stream",
          "text": [
            "2756it [05:57,  7.72it/s]"
          ],
          "name": "stderr"
        },
        {
          "output_type": "stream",
          "text": [
            "2.005902051925659\n",
            "1.999165415763855\n"
          ],
          "name": "stdout"
        },
        {
          "output_type": "stream",
          "text": [
            "2758it [05:57,  7.70it/s]"
          ],
          "name": "stderr"
        },
        {
          "output_type": "stream",
          "text": [
            "1.9981683492660522\n",
            "1.9536857604980469\n"
          ],
          "name": "stdout"
        },
        {
          "output_type": "stream",
          "text": [
            "2760it [05:58,  7.76it/s]"
          ],
          "name": "stderr"
        },
        {
          "output_type": "stream",
          "text": [
            "2.0113282203674316\n",
            "1.98465895652771\n"
          ],
          "name": "stdout"
        },
        {
          "output_type": "stream",
          "text": [
            "2762it [05:58,  7.75it/s]"
          ],
          "name": "stderr"
        },
        {
          "output_type": "stream",
          "text": [
            "1.9399429559707642\n",
            "1.9778605699539185\n"
          ],
          "name": "stdout"
        },
        {
          "output_type": "stream",
          "text": [
            "2764it [05:58,  7.75it/s]"
          ],
          "name": "stderr"
        },
        {
          "output_type": "stream",
          "text": [
            "1.9876683950424194\n",
            "2.0706000328063965\n"
          ],
          "name": "stdout"
        },
        {
          "output_type": "stream",
          "text": [
            "2766it [05:58,  7.63it/s]"
          ],
          "name": "stderr"
        },
        {
          "output_type": "stream",
          "text": [
            "2.001286268234253\n",
            "1.9165234565734863\n"
          ],
          "name": "stdout"
        },
        {
          "output_type": "stream",
          "text": [
            "2768it [05:59,  7.60it/s]"
          ],
          "name": "stderr"
        },
        {
          "output_type": "stream",
          "text": [
            "1.8380857706069946\n",
            "1.9238568544387817\n"
          ],
          "name": "stdout"
        },
        {
          "output_type": "stream",
          "text": [
            "2770it [05:59,  7.69it/s]"
          ],
          "name": "stderr"
        },
        {
          "output_type": "stream",
          "text": [
            "1.9224615097045898\n",
            "2.0604522228240967\n"
          ],
          "name": "stdout"
        },
        {
          "output_type": "stream",
          "text": [
            "2772it [05:59,  7.62it/s]"
          ],
          "name": "stderr"
        },
        {
          "output_type": "stream",
          "text": [
            "1.9228708744049072\n",
            "1.991979718208313\n"
          ],
          "name": "stdout"
        },
        {
          "output_type": "stream",
          "text": [
            "2774it [05:59,  7.55it/s]"
          ],
          "name": "stderr"
        },
        {
          "output_type": "stream",
          "text": [
            "1.935727596282959\n",
            "1.9561268091201782\n"
          ],
          "name": "stdout"
        },
        {
          "output_type": "stream",
          "text": [
            "2776it [06:00,  7.58it/s]"
          ],
          "name": "stderr"
        },
        {
          "output_type": "stream",
          "text": [
            "1.8930238485336304\n",
            "1.9128977060317993\n"
          ],
          "name": "stdout"
        },
        {
          "output_type": "stream",
          "text": [
            "2778it [06:00,  7.76it/s]"
          ],
          "name": "stderr"
        },
        {
          "output_type": "stream",
          "text": [
            "1.927385687828064\n",
            "1.8840601444244385\n"
          ],
          "name": "stdout"
        },
        {
          "output_type": "stream",
          "text": [
            "2780it [06:00,  7.75it/s]"
          ],
          "name": "stderr"
        },
        {
          "output_type": "stream",
          "text": [
            "1.9985597133636475\n",
            "1.9993294477462769\n"
          ],
          "name": "stdout"
        },
        {
          "output_type": "stream",
          "text": [
            "2782it [06:01,  7.72it/s]"
          ],
          "name": "stderr"
        },
        {
          "output_type": "stream",
          "text": [
            "2.036226272583008\n",
            "2.0067710876464844\n"
          ],
          "name": "stdout"
        },
        {
          "output_type": "stream",
          "text": [
            "2784it [06:01,  7.66it/s]"
          ],
          "name": "stderr"
        },
        {
          "output_type": "stream",
          "text": [
            "1.9486349821090698\n",
            "1.9235570430755615\n"
          ],
          "name": "stdout"
        },
        {
          "output_type": "stream",
          "text": [
            "2786it [06:01,  7.62it/s]"
          ],
          "name": "stderr"
        },
        {
          "output_type": "stream",
          "text": [
            "1.924294352531433\n",
            "1.940083622932434\n"
          ],
          "name": "stdout"
        },
        {
          "output_type": "stream",
          "text": [
            "2788it [06:01,  7.67it/s]"
          ],
          "name": "stderr"
        },
        {
          "output_type": "stream",
          "text": [
            "2.017700672149658\n",
            "1.885199785232544\n"
          ],
          "name": "stdout"
        },
        {
          "output_type": "stream",
          "text": [
            "2790it [06:02,  7.72it/s]"
          ],
          "name": "stderr"
        },
        {
          "output_type": "stream",
          "text": [
            "1.9310591220855713\n",
            "1.900881290435791\n"
          ],
          "name": "stdout"
        },
        {
          "output_type": "stream",
          "text": [
            "2792it [06:02,  7.75it/s]"
          ],
          "name": "stderr"
        },
        {
          "output_type": "stream",
          "text": [
            "1.7512387037277222\n",
            "1.9299265146255493\n"
          ],
          "name": "stdout"
        },
        {
          "output_type": "stream",
          "text": [
            "2794it [06:02,  7.76it/s]"
          ],
          "name": "stderr"
        },
        {
          "output_type": "stream",
          "text": [
            "2.055584669113159\n",
            "2.0041635036468506\n"
          ],
          "name": "stdout"
        },
        {
          "output_type": "stream",
          "text": [
            "2796it [06:02,  7.28it/s]"
          ],
          "name": "stderr"
        },
        {
          "output_type": "stream",
          "text": [
            "1.9322242736816406\n",
            "2.0452663898468018\n"
          ],
          "name": "stdout"
        },
        {
          "output_type": "stream",
          "text": [
            "2798it [06:03,  7.59it/s]"
          ],
          "name": "stderr"
        },
        {
          "output_type": "stream",
          "text": [
            "1.9896249771118164\n",
            "1.9715077877044678\n"
          ],
          "name": "stdout"
        },
        {
          "output_type": "stream",
          "text": [
            "2800it [06:03,  7.61it/s]"
          ],
          "name": "stderr"
        },
        {
          "output_type": "stream",
          "text": [
            "1.8970152139663696\n",
            "1.9981833696365356\n"
          ],
          "name": "stdout"
        },
        {
          "output_type": "stream",
          "text": [
            "2802it [06:03,  7.72it/s]"
          ],
          "name": "stderr"
        },
        {
          "output_type": "stream",
          "text": [
            "1.8836033344268799\n",
            "1.8978378772735596\n"
          ],
          "name": "stdout"
        },
        {
          "output_type": "stream",
          "text": [
            "2804it [06:03,  7.29it/s]"
          ],
          "name": "stderr"
        },
        {
          "output_type": "stream",
          "text": [
            "1.9238033294677734\n",
            "1.9199227094650269\n"
          ],
          "name": "stdout"
        },
        {
          "output_type": "stream",
          "text": [
            "2806it [06:04,  7.26it/s]"
          ],
          "name": "stderr"
        },
        {
          "output_type": "stream",
          "text": [
            "2.0609331130981445\n",
            "2.032733201980591\n"
          ],
          "name": "stdout"
        },
        {
          "output_type": "stream",
          "text": [
            "2808it [06:04,  7.55it/s]"
          ],
          "name": "stderr"
        },
        {
          "output_type": "stream",
          "text": [
            "2.014904499053955\n",
            "2.0686895847320557\n"
          ],
          "name": "stdout"
        },
        {
          "output_type": "stream",
          "text": [
            "2810it [06:04,  7.69it/s]"
          ],
          "name": "stderr"
        },
        {
          "output_type": "stream",
          "text": [
            "2.0313079357147217\n",
            "2.0014407634735107\n"
          ],
          "name": "stdout"
        },
        {
          "output_type": "stream",
          "text": [
            "2812it [06:04,  7.74it/s]"
          ],
          "name": "stderr"
        },
        {
          "output_type": "stream",
          "text": [
            "1.937738060951233\n",
            "1.9066818952560425\n"
          ],
          "name": "stdout"
        },
        {
          "output_type": "stream",
          "text": [
            "2814it [06:05,  7.74it/s]"
          ],
          "name": "stderr"
        },
        {
          "output_type": "stream",
          "text": [
            "1.9031835794448853\n",
            "2.0374701023101807\n"
          ],
          "name": "stdout"
        },
        {
          "output_type": "stream",
          "text": [
            "2816it [06:05,  7.68it/s]"
          ],
          "name": "stderr"
        },
        {
          "output_type": "stream",
          "text": [
            "2.0756192207336426\n",
            "1.9795876741409302\n"
          ],
          "name": "stdout"
        },
        {
          "output_type": "stream",
          "text": [
            "2818it [06:05,  7.81it/s]"
          ],
          "name": "stderr"
        },
        {
          "output_type": "stream",
          "text": [
            "1.9637982845306396\n",
            "1.9738517999649048\n"
          ],
          "name": "stdout"
        },
        {
          "output_type": "stream",
          "text": [
            "2820it [06:06,  7.79it/s]"
          ],
          "name": "stderr"
        },
        {
          "output_type": "stream",
          "text": [
            "2.011673927307129\n",
            "1.9444230794906616\n"
          ],
          "name": "stdout"
        },
        {
          "output_type": "stream",
          "text": [
            "2822it [06:06,  7.78it/s]"
          ],
          "name": "stderr"
        },
        {
          "output_type": "stream",
          "text": [
            "1.9240741729736328\n",
            "1.8389699459075928\n"
          ],
          "name": "stdout"
        },
        {
          "output_type": "stream",
          "text": [
            "2824it [06:06,  7.83it/s]"
          ],
          "name": "stderr"
        },
        {
          "output_type": "stream",
          "text": [
            "1.9534214735031128\n",
            "2.0321850776672363\n"
          ],
          "name": "stdout"
        },
        {
          "output_type": "stream",
          "text": [
            "2826it [06:06,  7.84it/s]"
          ],
          "name": "stderr"
        },
        {
          "output_type": "stream",
          "text": [
            "2.195880889892578\n",
            "2.0660033226013184\n"
          ],
          "name": "stdout"
        },
        {
          "output_type": "stream",
          "text": [
            "2828it [06:07,  7.80it/s]"
          ],
          "name": "stderr"
        },
        {
          "output_type": "stream",
          "text": [
            "1.9459949731826782\n",
            "2.068093776702881\n"
          ],
          "name": "stdout"
        },
        {
          "output_type": "stream",
          "text": [
            "2830it [06:07,  7.66it/s]"
          ],
          "name": "stderr"
        },
        {
          "output_type": "stream",
          "text": [
            "1.9441924095153809\n",
            "1.9439890384674072\n"
          ],
          "name": "stdout"
        },
        {
          "output_type": "stream",
          "text": [
            "2832it [06:07,  7.76it/s]"
          ],
          "name": "stderr"
        },
        {
          "output_type": "stream",
          "text": [
            "1.9843271970748901\n",
            "2.074770212173462\n"
          ],
          "name": "stdout"
        },
        {
          "output_type": "stream",
          "text": [
            "2834it [06:07,  7.83it/s]"
          ],
          "name": "stderr"
        },
        {
          "output_type": "stream",
          "text": [
            "1.9922466278076172\n",
            "1.8443297147750854\n"
          ],
          "name": "stdout"
        },
        {
          "output_type": "stream",
          "text": [
            "2836it [06:08,  7.77it/s]"
          ],
          "name": "stderr"
        },
        {
          "output_type": "stream",
          "text": [
            "2.019117593765259\n",
            "1.854677677154541\n"
          ],
          "name": "stdout"
        },
        {
          "output_type": "stream",
          "text": [
            "2838it [06:08,  7.76it/s]"
          ],
          "name": "stderr"
        },
        {
          "output_type": "stream",
          "text": [
            "1.8625913858413696\n",
            "1.9532636404037476\n"
          ],
          "name": "stdout"
        },
        {
          "output_type": "stream",
          "text": [
            "2840it [06:08,  7.74it/s]"
          ],
          "name": "stderr"
        },
        {
          "output_type": "stream",
          "text": [
            "1.9553203582763672\n",
            "1.9655734300613403\n"
          ],
          "name": "stdout"
        },
        {
          "output_type": "stream",
          "text": [
            "2842it [06:08,  7.72it/s]"
          ],
          "name": "stderr"
        },
        {
          "output_type": "stream",
          "text": [
            "2.026296854019165\n",
            "1.899655818939209\n"
          ],
          "name": "stdout"
        },
        {
          "output_type": "stream",
          "text": [
            "2844it [06:09,  7.76it/s]"
          ],
          "name": "stderr"
        },
        {
          "output_type": "stream",
          "text": [
            "1.8660751581192017\n",
            "1.9018832445144653\n"
          ],
          "name": "stdout"
        },
        {
          "output_type": "stream",
          "text": [
            "2846it [06:09,  7.78it/s]"
          ],
          "name": "stderr"
        },
        {
          "output_type": "stream",
          "text": [
            "1.979616641998291\n",
            "1.9473576545715332\n"
          ],
          "name": "stdout"
        },
        {
          "output_type": "stream",
          "text": [
            "2848it [06:09,  7.76it/s]"
          ],
          "name": "stderr"
        },
        {
          "output_type": "stream",
          "text": [
            "1.920655608177185\n",
            "1.9988930225372314\n"
          ],
          "name": "stdout"
        },
        {
          "output_type": "stream",
          "text": [
            "2850it [06:09,  7.76it/s]"
          ],
          "name": "stderr"
        },
        {
          "output_type": "stream",
          "text": [
            "2.125248670578003\n",
            "1.979968547821045\n"
          ],
          "name": "stdout"
        },
        {
          "output_type": "stream",
          "text": [
            "2852it [06:10,  7.78it/s]"
          ],
          "name": "stderr"
        },
        {
          "output_type": "stream",
          "text": [
            "2.034381628036499\n",
            "1.8322783708572388\n"
          ],
          "name": "stdout"
        },
        {
          "output_type": "stream",
          "text": [
            "2854it [06:10,  7.70it/s]"
          ],
          "name": "stderr"
        },
        {
          "output_type": "stream",
          "text": [
            "1.9141708612442017\n",
            "2.066821813583374\n"
          ],
          "name": "stdout"
        },
        {
          "output_type": "stream",
          "text": [
            "2856it [06:10,  7.76it/s]"
          ],
          "name": "stderr"
        },
        {
          "output_type": "stream",
          "text": [
            "2.0004429817199707\n",
            "2.0168042182922363\n"
          ],
          "name": "stdout"
        },
        {
          "output_type": "stream",
          "text": [
            "2858it [06:10,  7.86it/s]"
          ],
          "name": "stderr"
        },
        {
          "output_type": "stream",
          "text": [
            "1.9284515380859375\n",
            "1.9240636825561523\n"
          ],
          "name": "stdout"
        },
        {
          "output_type": "stream",
          "text": [
            "2860it [06:11,  7.75it/s]"
          ],
          "name": "stderr"
        },
        {
          "output_type": "stream",
          "text": [
            "2.0068278312683105\n",
            "2.007485866546631\n"
          ],
          "name": "stdout"
        },
        {
          "output_type": "stream",
          "text": [
            "2862it [06:11,  7.71it/s]"
          ],
          "name": "stderr"
        },
        {
          "output_type": "stream",
          "text": [
            "1.9639464616775513\n",
            "1.889460563659668\n"
          ],
          "name": "stdout"
        },
        {
          "output_type": "stream",
          "text": [
            "2864it [06:11,  7.62it/s]"
          ],
          "name": "stderr"
        },
        {
          "output_type": "stream",
          "text": [
            "2.0196285247802734\n",
            "1.9047783613204956\n"
          ],
          "name": "stdout"
        },
        {
          "output_type": "stream",
          "text": [
            "2866it [06:11,  7.65it/s]"
          ],
          "name": "stderr"
        },
        {
          "output_type": "stream",
          "text": [
            "1.9123828411102295\n",
            "1.9588240385055542\n"
          ],
          "name": "stdout"
        },
        {
          "output_type": "stream",
          "text": [
            "2868it [06:12,  7.70it/s]"
          ],
          "name": "stderr"
        },
        {
          "output_type": "stream",
          "text": [
            "1.8793220520019531\n",
            "2.0374135971069336\n"
          ],
          "name": "stdout"
        },
        {
          "output_type": "stream",
          "text": [
            "2870it [06:12,  7.74it/s]"
          ],
          "name": "stderr"
        },
        {
          "output_type": "stream",
          "text": [
            "1.8500607013702393\n",
            "1.8704625368118286\n"
          ],
          "name": "stdout"
        },
        {
          "output_type": "stream",
          "text": [
            "2872it [06:12,  7.76it/s]"
          ],
          "name": "stderr"
        },
        {
          "output_type": "stream",
          "text": [
            "1.9895398616790771\n",
            "1.8865091800689697\n"
          ],
          "name": "stdout"
        },
        {
          "output_type": "stream",
          "text": [
            "2874it [06:13,  7.55it/s]"
          ],
          "name": "stderr"
        },
        {
          "output_type": "stream",
          "text": [
            "2.0847744941711426\n",
            "2.0513622760772705\n"
          ],
          "name": "stdout"
        },
        {
          "output_type": "stream",
          "text": [
            "2876it [06:13,  7.47it/s]"
          ],
          "name": "stderr"
        },
        {
          "output_type": "stream",
          "text": [
            "1.9728909730911255\n",
            "1.947724461555481\n"
          ],
          "name": "stdout"
        },
        {
          "output_type": "stream",
          "text": [
            "2878it [06:13,  7.69it/s]"
          ],
          "name": "stderr"
        },
        {
          "output_type": "stream",
          "text": [
            "2.0053675174713135\n",
            "2.0146830081939697\n"
          ],
          "name": "stdout"
        },
        {
          "output_type": "stream",
          "text": [
            "2880it [06:13,  7.76it/s]"
          ],
          "name": "stderr"
        },
        {
          "output_type": "stream",
          "text": [
            "1.9698823690414429\n",
            "1.889832615852356\n"
          ],
          "name": "stdout"
        },
        {
          "output_type": "stream",
          "text": [
            "2882it [06:14,  7.60it/s]"
          ],
          "name": "stderr"
        },
        {
          "output_type": "stream",
          "text": [
            "1.9439338445663452\n",
            "1.8723363876342773\n"
          ],
          "name": "stdout"
        },
        {
          "output_type": "stream",
          "text": [
            "2884it [06:14,  7.43it/s]"
          ],
          "name": "stderr"
        },
        {
          "output_type": "stream",
          "text": [
            "2.0618653297424316\n",
            "1.9734755754470825\n"
          ],
          "name": "stdout"
        },
        {
          "output_type": "stream",
          "text": [
            "2886it [06:14,  7.52it/s]"
          ],
          "name": "stderr"
        },
        {
          "output_type": "stream",
          "text": [
            "1.9716405868530273\n",
            "1.976610779762268\n"
          ],
          "name": "stdout"
        },
        {
          "output_type": "stream",
          "text": [
            "2888it [06:14,  7.57it/s]"
          ],
          "name": "stderr"
        },
        {
          "output_type": "stream",
          "text": [
            "1.9635441303253174\n",
            "1.8222016096115112\n"
          ],
          "name": "stdout"
        },
        {
          "output_type": "stream",
          "text": [
            "2890it [06:15,  7.54it/s]"
          ],
          "name": "stderr"
        },
        {
          "output_type": "stream",
          "text": [
            "1.8558034896850586\n",
            "1.920730471611023\n"
          ],
          "name": "stdout"
        },
        {
          "output_type": "stream",
          "text": [
            "2892it [06:15,  7.58it/s]"
          ],
          "name": "stderr"
        },
        {
          "output_type": "stream",
          "text": [
            "1.9950251579284668\n",
            "1.9548689126968384\n"
          ],
          "name": "stdout"
        },
        {
          "output_type": "stream",
          "text": [
            "2894it [06:15,  7.53it/s]"
          ],
          "name": "stderr"
        },
        {
          "output_type": "stream",
          "text": [
            "2.026228189468384\n",
            "1.8809386491775513\n"
          ],
          "name": "stdout"
        },
        {
          "output_type": "stream",
          "text": [
            "2896it [06:15,  7.62it/s]"
          ],
          "name": "stderr"
        },
        {
          "output_type": "stream",
          "text": [
            "1.9981781244277954\n",
            "2.025743246078491\n"
          ],
          "name": "stdout"
        },
        {
          "output_type": "stream",
          "text": [
            "2898it [06:16,  7.61it/s]"
          ],
          "name": "stderr"
        },
        {
          "output_type": "stream",
          "text": [
            "2.0318057537078857\n",
            "1.9341703653335571\n"
          ],
          "name": "stdout"
        },
        {
          "output_type": "stream",
          "text": [
            "2900it [06:16,  7.54it/s]"
          ],
          "name": "stderr"
        },
        {
          "output_type": "stream",
          "text": [
            "2.015306234359741\n",
            "1.974533200263977\n"
          ],
          "name": "stdout"
        },
        {
          "output_type": "stream",
          "text": [
            "2902it [06:16,  7.67it/s]"
          ],
          "name": "stderr"
        },
        {
          "output_type": "stream",
          "text": [
            "1.9451580047607422\n",
            "1.9482837915420532\n"
          ],
          "name": "stdout"
        },
        {
          "output_type": "stream",
          "text": [
            "2904it [06:16,  7.68it/s]"
          ],
          "name": "stderr"
        },
        {
          "output_type": "stream",
          "text": [
            "1.9204860925674438\n",
            "1.8968607187271118\n"
          ],
          "name": "stdout"
        },
        {
          "output_type": "stream",
          "text": [
            "2906it [06:17,  7.55it/s]"
          ],
          "name": "stderr"
        },
        {
          "output_type": "stream",
          "text": [
            "1.9045222997665405\n",
            "1.9859613180160522\n"
          ],
          "name": "stdout"
        },
        {
          "output_type": "stream",
          "text": [
            "2908it [06:17,  7.62it/s]"
          ],
          "name": "stderr"
        },
        {
          "output_type": "stream",
          "text": [
            "1.881592035293579\n",
            "2.017631769180298\n"
          ],
          "name": "stdout"
        },
        {
          "output_type": "stream",
          "text": [
            "2910it [06:17,  7.73it/s]"
          ],
          "name": "stderr"
        },
        {
          "output_type": "stream",
          "text": [
            "1.9226120710372925\n",
            "1.996544361114502\n"
          ],
          "name": "stdout"
        },
        {
          "output_type": "stream",
          "text": [
            "2912it [06:17,  7.78it/s]"
          ],
          "name": "stderr"
        },
        {
          "output_type": "stream",
          "text": [
            "1.9281107187271118\n",
            "1.9746289253234863\n"
          ],
          "name": "stdout"
        },
        {
          "output_type": "stream",
          "text": [
            "2914it [06:18,  7.64it/s]"
          ],
          "name": "stderr"
        },
        {
          "output_type": "stream",
          "text": [
            "1.8852070569992065\n",
            "1.9351580142974854\n"
          ],
          "name": "stdout"
        },
        {
          "output_type": "stream",
          "text": [
            "2916it [06:18,  7.72it/s]"
          ],
          "name": "stderr"
        },
        {
          "output_type": "stream",
          "text": [
            "1.927038311958313\n",
            "1.8854074478149414\n"
          ],
          "name": "stdout"
        },
        {
          "output_type": "stream",
          "text": [
            "2918it [06:18,  7.67it/s]"
          ],
          "name": "stderr"
        },
        {
          "output_type": "stream",
          "text": [
            "1.936737298965454\n",
            "1.8593990802764893\n"
          ],
          "name": "stdout"
        },
        {
          "output_type": "stream",
          "text": [
            "2920it [06:19,  7.75it/s]"
          ],
          "name": "stderr"
        },
        {
          "output_type": "stream",
          "text": [
            "1.9382693767547607\n",
            "1.9242279529571533\n"
          ],
          "name": "stdout"
        },
        {
          "output_type": "stream",
          "text": [
            "2922it [06:19,  7.51it/s]"
          ],
          "name": "stderr"
        },
        {
          "output_type": "stream",
          "text": [
            "1.9679679870605469\n",
            "1.8843728303909302\n"
          ],
          "name": "stdout"
        },
        {
          "output_type": "stream",
          "text": [
            "2924it [06:19,  7.60it/s]"
          ],
          "name": "stderr"
        },
        {
          "output_type": "stream",
          "text": [
            "1.9080201387405396\n",
            "1.9656785726547241\n"
          ],
          "name": "stdout"
        },
        {
          "output_type": "stream",
          "text": [
            "2926it [06:19,  7.63it/s]"
          ],
          "name": "stderr"
        },
        {
          "output_type": "stream",
          "text": [
            "1.9124327898025513\n",
            "1.9717069864273071\n"
          ],
          "name": "stdout"
        },
        {
          "output_type": "stream",
          "text": [
            "2928it [06:20,  7.57it/s]"
          ],
          "name": "stderr"
        },
        {
          "output_type": "stream",
          "text": [
            "1.9465669393539429\n",
            "1.902232050895691\n"
          ],
          "name": "stdout"
        },
        {
          "output_type": "stream",
          "text": [
            "2930it [06:20,  7.63it/s]"
          ],
          "name": "stderr"
        },
        {
          "output_type": "stream",
          "text": [
            "1.9357292652130127\n",
            "2.049032688140869\n"
          ],
          "name": "stdout"
        },
        {
          "output_type": "stream",
          "text": [
            "2932it [06:20,  7.71it/s]"
          ],
          "name": "stderr"
        },
        {
          "output_type": "stream",
          "text": [
            "1.8901158571243286\n",
            "1.9993412494659424\n"
          ],
          "name": "stdout"
        },
        {
          "output_type": "stream",
          "text": [
            "2934it [06:20,  7.80it/s]"
          ],
          "name": "stderr"
        },
        {
          "output_type": "stream",
          "text": [
            "1.9601982831954956\n",
            "2.006460428237915\n"
          ],
          "name": "stdout"
        },
        {
          "output_type": "stream",
          "text": [
            "2936it [06:21,  7.72it/s]"
          ],
          "name": "stderr"
        },
        {
          "output_type": "stream",
          "text": [
            "1.9379687309265137\n",
            "2.102842092514038\n"
          ],
          "name": "stdout"
        },
        {
          "output_type": "stream",
          "text": [
            "2938it [06:21,  7.68it/s]"
          ],
          "name": "stderr"
        },
        {
          "output_type": "stream",
          "text": [
            "2.0030479431152344\n",
            "1.8875625133514404\n"
          ],
          "name": "stdout"
        },
        {
          "output_type": "stream",
          "text": [
            "2940it [06:21,  7.64it/s]"
          ],
          "name": "stderr"
        },
        {
          "output_type": "stream",
          "text": [
            "2.107999801635742\n",
            "2.1645805835723877\n"
          ],
          "name": "stdout"
        },
        {
          "output_type": "stream",
          "text": [
            "2942it [06:21,  7.74it/s]"
          ],
          "name": "stderr"
        },
        {
          "output_type": "stream",
          "text": [
            "2.0560145378112793\n",
            "1.9516351222991943\n"
          ],
          "name": "stdout"
        },
        {
          "output_type": "stream",
          "text": [
            "2944it [06:22,  7.55it/s]"
          ],
          "name": "stderr"
        },
        {
          "output_type": "stream",
          "text": [
            "2.030142068862915\n",
            "1.975359320640564\n"
          ],
          "name": "stdout"
        },
        {
          "output_type": "stream",
          "text": [
            "2946it [06:22,  7.57it/s]"
          ],
          "name": "stderr"
        },
        {
          "output_type": "stream",
          "text": [
            "1.9127683639526367\n",
            "1.9991124868392944\n"
          ],
          "name": "stdout"
        },
        {
          "output_type": "stream",
          "text": [
            "2948it [06:22,  7.69it/s]"
          ],
          "name": "stderr"
        },
        {
          "output_type": "stream",
          "text": [
            "1.9234081506729126\n",
            "2.0151119232177734\n"
          ],
          "name": "stdout"
        },
        {
          "output_type": "stream",
          "text": [
            "2950it [06:22,  7.73it/s]"
          ],
          "name": "stderr"
        },
        {
          "output_type": "stream",
          "text": [
            "1.9680849313735962\n",
            "2.0185327529907227\n"
          ],
          "name": "stdout"
        },
        {
          "output_type": "stream",
          "text": [
            "2952it [06:23,  7.57it/s]"
          ],
          "name": "stderr"
        },
        {
          "output_type": "stream",
          "text": [
            "1.9339380264282227\n",
            "1.9611093997955322\n"
          ],
          "name": "stdout"
        },
        {
          "output_type": "stream",
          "text": [
            "2954it [06:23,  7.76it/s]"
          ],
          "name": "stderr"
        },
        {
          "output_type": "stream",
          "text": [
            "1.969492793083191\n",
            "1.932770848274231\n"
          ],
          "name": "stdout"
        },
        {
          "output_type": "stream",
          "text": [
            "2956it [06:23,  7.83it/s]"
          ],
          "name": "stderr"
        },
        {
          "output_type": "stream",
          "text": [
            "1.9504144191741943\n",
            "1.8319091796875\n"
          ],
          "name": "stdout"
        },
        {
          "output_type": "stream",
          "text": [
            "2958it [06:24,  7.68it/s]"
          ],
          "name": "stderr"
        },
        {
          "output_type": "stream",
          "text": [
            "1.9873191118240356\n",
            "2.0250580310821533\n"
          ],
          "name": "stdout"
        },
        {
          "output_type": "stream",
          "text": [
            "2960it [06:24,  7.43it/s]"
          ],
          "name": "stderr"
        },
        {
          "output_type": "stream",
          "text": [
            "1.8753665685653687\n",
            "1.915759801864624\n"
          ],
          "name": "stdout"
        },
        {
          "output_type": "stream",
          "text": [
            "2962it [06:24,  7.61it/s]"
          ],
          "name": "stderr"
        },
        {
          "output_type": "stream",
          "text": [
            "2.0025877952575684\n",
            "1.9393669366836548\n"
          ],
          "name": "stdout"
        },
        {
          "output_type": "stream",
          "text": [
            "2964it [06:24,  7.79it/s]"
          ],
          "name": "stderr"
        },
        {
          "output_type": "stream",
          "text": [
            "1.8900666236877441\n",
            "1.9865343570709229\n"
          ],
          "name": "stdout"
        },
        {
          "output_type": "stream",
          "text": [
            "2966it [06:25,  7.79it/s]"
          ],
          "name": "stderr"
        },
        {
          "output_type": "stream",
          "text": [
            "1.9348499774932861\n",
            "1.8952373266220093\n"
          ],
          "name": "stdout"
        },
        {
          "output_type": "stream",
          "text": [
            "2968it [06:25,  7.64it/s]"
          ],
          "name": "stderr"
        },
        {
          "output_type": "stream",
          "text": [
            "2.1092684268951416\n",
            "1.9248567819595337\n"
          ],
          "name": "stdout"
        },
        {
          "output_type": "stream",
          "text": [
            "2970it [06:25,  7.64it/s]"
          ],
          "name": "stderr"
        },
        {
          "output_type": "stream",
          "text": [
            "1.9274214506149292\n",
            "1.992489218711853\n"
          ],
          "name": "stdout"
        },
        {
          "output_type": "stream",
          "text": [
            "2972it [06:25,  7.87it/s]"
          ],
          "name": "stderr"
        },
        {
          "output_type": "stream",
          "text": [
            "2.007803201675415\n",
            "1.9359419345855713\n"
          ],
          "name": "stdout"
        },
        {
          "output_type": "stream",
          "text": [
            "2974it [06:26,  7.90it/s]"
          ],
          "name": "stderr"
        },
        {
          "output_type": "stream",
          "text": [
            "1.8562726974487305\n",
            "1.8705902099609375\n"
          ],
          "name": "stdout"
        },
        {
          "output_type": "stream",
          "text": [
            "2976it [06:26,  7.74it/s]"
          ],
          "name": "stderr"
        },
        {
          "output_type": "stream",
          "text": [
            "1.9175196886062622\n",
            "1.9448058605194092\n"
          ],
          "name": "stdout"
        },
        {
          "output_type": "stream",
          "text": [
            "2978it [06:26,  7.82it/s]"
          ],
          "name": "stderr"
        },
        {
          "output_type": "stream",
          "text": [
            "1.9778697490692139\n",
            "2.030211925506592\n"
          ],
          "name": "stdout"
        },
        {
          "output_type": "stream",
          "text": [
            "2980it [06:26,  7.75it/s]"
          ],
          "name": "stderr"
        },
        {
          "output_type": "stream",
          "text": [
            "2.0079891681671143\n",
            "1.929831862449646\n"
          ],
          "name": "stdout"
        },
        {
          "output_type": "stream",
          "text": [
            "2982it [06:27,  7.77it/s]"
          ],
          "name": "stderr"
        },
        {
          "output_type": "stream",
          "text": [
            "1.9094667434692383\n",
            "2.0324487686157227\n"
          ],
          "name": "stdout"
        },
        {
          "output_type": "stream",
          "text": [
            "2984it [06:27,  7.68it/s]"
          ],
          "name": "stderr"
        },
        {
          "output_type": "stream",
          "text": [
            "1.9845448732376099\n",
            "2.0060131549835205\n"
          ],
          "name": "stdout"
        },
        {
          "output_type": "stream",
          "text": [
            "2986it [06:27,  7.77it/s]"
          ],
          "name": "stderr"
        },
        {
          "output_type": "stream",
          "text": [
            "1.9479843378067017\n",
            "1.9677484035491943\n"
          ],
          "name": "stdout"
        },
        {
          "output_type": "stream",
          "text": [
            "2988it [06:27,  7.85it/s]"
          ],
          "name": "stderr"
        },
        {
          "output_type": "stream",
          "text": [
            "1.8566876649856567\n",
            "1.9061388969421387\n"
          ],
          "name": "stdout"
        },
        {
          "output_type": "stream",
          "text": [
            "2990it [06:28,  7.79it/s]"
          ],
          "name": "stderr"
        },
        {
          "output_type": "stream",
          "text": [
            "1.970596432685852\n",
            "1.9266709089279175\n"
          ],
          "name": "stdout"
        },
        {
          "output_type": "stream",
          "text": [
            "2992it [06:28,  7.58it/s]"
          ],
          "name": "stderr"
        },
        {
          "output_type": "stream",
          "text": [
            "1.9999293088912964\n",
            "1.8788365125656128\n"
          ],
          "name": "stdout"
        },
        {
          "output_type": "stream",
          "text": [
            "2994it [06:28,  7.67it/s]"
          ],
          "name": "stderr"
        },
        {
          "output_type": "stream",
          "text": [
            "1.948940396308899\n",
            "1.9899100065231323\n"
          ],
          "name": "stdout"
        },
        {
          "output_type": "stream",
          "text": [
            "2996it [06:28,  7.73it/s]"
          ],
          "name": "stderr"
        },
        {
          "output_type": "stream",
          "text": [
            "1.9268991947174072\n",
            "1.9229323863983154\n"
          ],
          "name": "stdout"
        },
        {
          "output_type": "stream",
          "text": [
            "2998it [06:29,  7.57it/s]"
          ],
          "name": "stderr"
        },
        {
          "output_type": "stream",
          "text": [
            "1.9099836349487305\n",
            "1.9248751401901245\n"
          ],
          "name": "stdout"
        },
        {
          "output_type": "stream",
          "text": [
            "3000it [06:29,  7.61it/s]"
          ],
          "name": "stderr"
        },
        {
          "output_type": "stream",
          "text": [
            "1.922593116760254\n",
            "1.8294426202774048\n"
          ],
          "name": "stdout"
        },
        {
          "output_type": "stream",
          "text": [
            "3002it [06:29,  7.46it/s]"
          ],
          "name": "stderr"
        },
        {
          "output_type": "stream",
          "text": [
            "1.900132656097412\n",
            "1.9053541421890259\n"
          ],
          "name": "stdout"
        },
        {
          "output_type": "stream",
          "text": [
            "3004it [06:30,  7.64it/s]"
          ],
          "name": "stderr"
        },
        {
          "output_type": "stream",
          "text": [
            "1.9670023918151855\n",
            "1.908139705657959\n"
          ],
          "name": "stdout"
        },
        {
          "output_type": "stream",
          "text": [
            "3006it [06:30,  7.58it/s]"
          ],
          "name": "stderr"
        },
        {
          "output_type": "stream",
          "text": [
            "1.9399062395095825\n",
            "1.8091968297958374\n"
          ],
          "name": "stdout"
        },
        {
          "output_type": "stream",
          "text": [
            "3008it [06:30,  7.72it/s]"
          ],
          "name": "stderr"
        },
        {
          "output_type": "stream",
          "text": [
            "1.9679040908813477\n",
            "1.9791390895843506\n"
          ],
          "name": "stdout"
        },
        {
          "output_type": "stream",
          "text": [
            "3010it [06:30,  7.59it/s]"
          ],
          "name": "stderr"
        },
        {
          "output_type": "stream",
          "text": [
            "1.9333347082138062\n",
            "1.9485191106796265\n"
          ],
          "name": "stdout"
        },
        {
          "output_type": "stream",
          "text": [
            "3012it [06:31,  7.71it/s]"
          ],
          "name": "stderr"
        },
        {
          "output_type": "stream",
          "text": [
            "1.8966214656829834\n",
            "1.8472508192062378\n"
          ],
          "name": "stdout"
        },
        {
          "output_type": "stream",
          "text": [
            "3014it [06:31,  7.60it/s]"
          ],
          "name": "stderr"
        },
        {
          "output_type": "stream",
          "text": [
            "1.883633017539978\n",
            "1.977724552154541\n"
          ],
          "name": "stdout"
        },
        {
          "output_type": "stream",
          "text": [
            "3016it [06:31,  7.72it/s]"
          ],
          "name": "stderr"
        },
        {
          "output_type": "stream",
          "text": [
            "1.8949580192565918\n",
            "2.0039055347442627\n"
          ],
          "name": "stdout"
        },
        {
          "output_type": "stream",
          "text": [
            "3018it [06:31,  7.68it/s]"
          ],
          "name": "stderr"
        },
        {
          "output_type": "stream",
          "text": [
            "2.015793561935425\n",
            "2.0467097759246826\n"
          ],
          "name": "stdout"
        },
        {
          "output_type": "stream",
          "text": [
            "3020it [06:32,  7.63it/s]"
          ],
          "name": "stderr"
        },
        {
          "output_type": "stream",
          "text": [
            "2.06095814704895\n",
            "1.9017150402069092\n"
          ],
          "name": "stdout"
        },
        {
          "output_type": "stream",
          "text": [
            "3022it [06:32,  7.55it/s]"
          ],
          "name": "stderr"
        },
        {
          "output_type": "stream",
          "text": [
            "1.9159584045410156\n",
            "1.9057646989822388\n"
          ],
          "name": "stdout"
        },
        {
          "output_type": "stream",
          "text": [
            "3024it [06:32,  7.48it/s]"
          ],
          "name": "stderr"
        },
        {
          "output_type": "stream",
          "text": [
            "1.888453483581543\n",
            "1.8879863023757935\n"
          ],
          "name": "stdout"
        },
        {
          "output_type": "stream",
          "text": [
            "3026it [06:32,  7.65it/s]"
          ],
          "name": "stderr"
        },
        {
          "output_type": "stream",
          "text": [
            "1.9958099126815796\n",
            "1.8836294412612915\n"
          ],
          "name": "stdout"
        },
        {
          "output_type": "stream",
          "text": [
            "3028it [06:33,  7.76it/s]"
          ],
          "name": "stderr"
        },
        {
          "output_type": "stream",
          "text": [
            "1.9832313060760498\n",
            "1.9941436052322388\n"
          ],
          "name": "stdout"
        },
        {
          "output_type": "stream",
          "text": [
            "3030it [06:33,  7.68it/s]"
          ],
          "name": "stderr"
        },
        {
          "output_type": "stream",
          "text": [
            "1.9583121538162231\n",
            "2.007310390472412\n"
          ],
          "name": "stdout"
        },
        {
          "output_type": "stream",
          "text": [
            "3032it [06:33,  7.60it/s]"
          ],
          "name": "stderr"
        },
        {
          "output_type": "stream",
          "text": [
            "1.8394891023635864\n",
            "1.8436107635498047\n"
          ],
          "name": "stdout"
        },
        {
          "output_type": "stream",
          "text": [
            "3034it [06:33,  7.62it/s]"
          ],
          "name": "stderr"
        },
        {
          "output_type": "stream",
          "text": [
            "2.003905773162842\n",
            "1.9043976068496704\n"
          ],
          "name": "stdout"
        },
        {
          "output_type": "stream",
          "text": [
            "3036it [06:34,  7.57it/s]"
          ],
          "name": "stderr"
        },
        {
          "output_type": "stream",
          "text": [
            "1.9301906824111938\n",
            "1.9139961004257202\n"
          ],
          "name": "stdout"
        },
        {
          "output_type": "stream",
          "text": [
            "3038it [06:34,  7.55it/s]"
          ],
          "name": "stderr"
        },
        {
          "output_type": "stream",
          "text": [
            "1.8806418180465698\n",
            "1.9346834421157837\n"
          ],
          "name": "stdout"
        },
        {
          "output_type": "stream",
          "text": [
            "3040it [06:34,  7.53it/s]"
          ],
          "name": "stderr"
        },
        {
          "output_type": "stream",
          "text": [
            "1.9017820358276367\n",
            "1.9412990808486938\n"
          ],
          "name": "stdout"
        },
        {
          "output_type": "stream",
          "text": [
            "3042it [06:34,  7.67it/s]"
          ],
          "name": "stderr"
        },
        {
          "output_type": "stream",
          "text": [
            "2.0209527015686035\n",
            "1.9134974479675293\n"
          ],
          "name": "stdout"
        },
        {
          "output_type": "stream",
          "text": [
            "3044it [06:35,  7.73it/s]"
          ],
          "name": "stderr"
        },
        {
          "output_type": "stream",
          "text": [
            "1.96748685836792\n",
            "1.9477514028549194\n"
          ],
          "name": "stdout"
        },
        {
          "output_type": "stream",
          "text": [
            "3046it [06:35,  7.70it/s]"
          ],
          "name": "stderr"
        },
        {
          "output_type": "stream",
          "text": [
            "1.901581048965454\n",
            "1.930405855178833\n"
          ],
          "name": "stdout"
        },
        {
          "output_type": "stream",
          "text": [
            "3048it [06:35,  7.81it/s]"
          ],
          "name": "stderr"
        },
        {
          "output_type": "stream",
          "text": [
            "1.8167898654937744\n",
            "1.8615165948867798\n"
          ],
          "name": "stdout"
        },
        {
          "output_type": "stream",
          "text": [
            "3050it [06:36,  7.84it/s]"
          ],
          "name": "stderr"
        },
        {
          "output_type": "stream",
          "text": [
            "1.9390939474105835\n",
            "1.9848439693450928\n"
          ],
          "name": "stdout"
        },
        {
          "output_type": "stream",
          "text": [
            "3052it [06:36,  7.73it/s]"
          ],
          "name": "stderr"
        },
        {
          "output_type": "stream",
          "text": [
            "1.8737000226974487\n",
            "1.8845781087875366\n"
          ],
          "name": "stdout"
        },
        {
          "output_type": "stream",
          "text": [
            "3054it [06:36,  7.70it/s]"
          ],
          "name": "stderr"
        },
        {
          "output_type": "stream",
          "text": [
            "1.9818096160888672\n",
            "1.9623146057128906\n"
          ],
          "name": "stdout"
        },
        {
          "output_type": "stream",
          "text": [
            "3056it [06:36,  7.72it/s]"
          ],
          "name": "stderr"
        },
        {
          "output_type": "stream",
          "text": [
            "2.0571954250335693\n",
            "2.006674289703369\n"
          ],
          "name": "stdout"
        },
        {
          "output_type": "stream",
          "text": [
            "3058it [06:37,  7.81it/s]"
          ],
          "name": "stderr"
        },
        {
          "output_type": "stream",
          "text": [
            "1.9597595930099487\n",
            "1.9064528942108154\n"
          ],
          "name": "stdout"
        },
        {
          "output_type": "stream",
          "text": [
            "3060it [06:37,  7.78it/s]"
          ],
          "name": "stderr"
        },
        {
          "output_type": "stream",
          "text": [
            "1.899890661239624\n",
            "1.8896503448486328\n"
          ],
          "name": "stdout"
        },
        {
          "output_type": "stream",
          "text": [
            "3062it [06:37,  7.71it/s]"
          ],
          "name": "stderr"
        },
        {
          "output_type": "stream",
          "text": [
            "1.9479680061340332\n",
            "1.8004605770111084\n"
          ],
          "name": "stdout"
        },
        {
          "output_type": "stream",
          "text": [
            "3064it [06:37,  7.75it/s]"
          ],
          "name": "stderr"
        },
        {
          "output_type": "stream",
          "text": [
            "1.8239009380340576\n",
            "1.960205078125\n"
          ],
          "name": "stdout"
        },
        {
          "output_type": "stream",
          "text": [
            "3066it [06:38,  7.85it/s]"
          ],
          "name": "stderr"
        },
        {
          "output_type": "stream",
          "text": [
            "1.9887267351150513\n",
            "2.0516979694366455\n"
          ],
          "name": "stdout"
        },
        {
          "output_type": "stream",
          "text": [
            "3068it [06:38,  7.65it/s]"
          ],
          "name": "stderr"
        },
        {
          "output_type": "stream",
          "text": [
            "1.9136641025543213\n",
            "2.0120930671691895\n"
          ],
          "name": "stdout"
        },
        {
          "output_type": "stream",
          "text": [
            "3070it [06:38,  7.71it/s]"
          ],
          "name": "stderr"
        },
        {
          "output_type": "stream",
          "text": [
            "1.8639588356018066\n",
            "2.0505495071411133\n"
          ],
          "name": "stdout"
        },
        {
          "output_type": "stream",
          "text": [
            "3072it [06:38,  7.70it/s]"
          ],
          "name": "stderr"
        },
        {
          "output_type": "stream",
          "text": [
            "2.0061275959014893\n",
            "1.9457423686981201\n"
          ],
          "name": "stdout"
        },
        {
          "output_type": "stream",
          "text": [
            "3074it [06:39,  7.81it/s]"
          ],
          "name": "stderr"
        },
        {
          "output_type": "stream",
          "text": [
            "1.8541947603225708\n",
            "1.9402669668197632\n"
          ],
          "name": "stdout"
        },
        {
          "output_type": "stream",
          "text": [
            "3076it [06:39,  7.68it/s]"
          ],
          "name": "stderr"
        },
        {
          "output_type": "stream",
          "text": [
            "1.9396017789840698\n",
            "1.8896722793579102\n"
          ],
          "name": "stdout"
        },
        {
          "output_type": "stream",
          "text": [
            "3078it [06:39,  7.76it/s]"
          ],
          "name": "stderr"
        },
        {
          "output_type": "stream",
          "text": [
            "1.9492493867874146\n",
            "1.9823371171951294\n"
          ],
          "name": "stdout"
        },
        {
          "output_type": "stream",
          "text": [
            "3080it [06:39,  7.70it/s]"
          ],
          "name": "stderr"
        },
        {
          "output_type": "stream",
          "text": [
            "1.9307429790496826\n",
            "1.9648025035858154\n"
          ],
          "name": "stdout"
        },
        {
          "output_type": "stream",
          "text": [
            "3082it [06:40,  7.79it/s]"
          ],
          "name": "stderr"
        },
        {
          "output_type": "stream",
          "text": [
            "1.8998597860336304\n",
            "1.8972455263137817\n"
          ],
          "name": "stdout"
        },
        {
          "output_type": "stream",
          "text": [
            "3084it [06:40,  7.60it/s]"
          ],
          "name": "stderr"
        },
        {
          "output_type": "stream",
          "text": [
            "1.8496010303497314\n",
            "1.9327861070632935\n"
          ],
          "name": "stdout"
        },
        {
          "output_type": "stream",
          "text": [
            "3086it [06:40,  7.73it/s]"
          ],
          "name": "stderr"
        },
        {
          "output_type": "stream",
          "text": [
            "1.891605257987976\n",
            "1.9399648904800415\n"
          ],
          "name": "stdout"
        },
        {
          "output_type": "stream",
          "text": [
            "3088it [06:40,  7.78it/s]"
          ],
          "name": "stderr"
        },
        {
          "output_type": "stream",
          "text": [
            "2.019625425338745\n",
            "1.929539680480957\n"
          ],
          "name": "stdout"
        },
        {
          "output_type": "stream",
          "text": [
            "3090it [06:41,  7.80it/s]"
          ],
          "name": "stderr"
        },
        {
          "output_type": "stream",
          "text": [
            "1.8942158222198486\n",
            "1.9540284872055054\n"
          ],
          "name": "stdout"
        },
        {
          "output_type": "stream",
          "text": [
            "3092it [06:41,  7.66it/s]"
          ],
          "name": "stderr"
        },
        {
          "output_type": "stream",
          "text": [
            "1.96841561794281\n",
            "1.93644118309021\n"
          ],
          "name": "stdout"
        },
        {
          "output_type": "stream",
          "text": [
            "3094it [06:41,  7.75it/s]"
          ],
          "name": "stderr"
        },
        {
          "output_type": "stream",
          "text": [
            "1.9939647912979126\n",
            "1.9929578304290771\n"
          ],
          "name": "stdout"
        },
        {
          "output_type": "stream",
          "text": [
            "3096it [06:41,  7.73it/s]"
          ],
          "name": "stderr"
        },
        {
          "output_type": "stream",
          "text": [
            "2.0243170261383057\n",
            "1.9973394870758057\n"
          ],
          "name": "stdout"
        },
        {
          "output_type": "stream",
          "text": [
            "3098it [06:42,  7.79it/s]"
          ],
          "name": "stderr"
        },
        {
          "output_type": "stream",
          "text": [
            "1.9525392055511475\n",
            "1.9642765522003174\n"
          ],
          "name": "stdout"
        },
        {
          "output_type": "stream",
          "text": [
            "3100it [06:42,  7.60it/s]"
          ],
          "name": "stderr"
        },
        {
          "output_type": "stream",
          "text": [
            "2.0176596641540527\n",
            "2.016009569168091\n"
          ],
          "name": "stdout"
        },
        {
          "output_type": "stream",
          "text": [
            "3102it [06:42,  7.69it/s]"
          ],
          "name": "stderr"
        },
        {
          "output_type": "stream",
          "text": [
            "1.96316659450531\n",
            "2.066551446914673\n"
          ],
          "name": "stdout"
        },
        {
          "output_type": "stream",
          "text": [
            "3104it [06:43,  7.76it/s]"
          ],
          "name": "stderr"
        },
        {
          "output_type": "stream",
          "text": [
            "2.0521657466888428\n",
            "1.9705599546432495\n"
          ],
          "name": "stdout"
        },
        {
          "output_type": "stream",
          "text": [
            "3106it [06:43,  7.68it/s]"
          ],
          "name": "stderr"
        },
        {
          "output_type": "stream",
          "text": [
            "2.0282695293426514\n",
            "1.949013113975525\n"
          ],
          "name": "stdout"
        },
        {
          "output_type": "stream",
          "text": [
            "3108it [06:43,  7.65it/s]"
          ],
          "name": "stderr"
        },
        {
          "output_type": "stream",
          "text": [
            "2.0367982387542725\n",
            "1.9033821821212769\n"
          ],
          "name": "stdout"
        },
        {
          "output_type": "stream",
          "text": [
            "3110it [06:43,  7.70it/s]"
          ],
          "name": "stderr"
        },
        {
          "output_type": "stream",
          "text": [
            "2.1182262897491455\n",
            "2.1168172359466553\n"
          ],
          "name": "stdout"
        },
        {
          "output_type": "stream",
          "text": [
            "3112it [06:44,  7.75it/s]"
          ],
          "name": "stderr"
        },
        {
          "output_type": "stream",
          "text": [
            "2.063563823699951\n",
            "2.0215604305267334\n"
          ],
          "name": "stdout"
        },
        {
          "output_type": "stream",
          "text": [
            "3114it [06:44,  7.70it/s]"
          ],
          "name": "stderr"
        },
        {
          "output_type": "stream",
          "text": [
            "1.9640226364135742\n",
            "1.9948177337646484\n"
          ],
          "name": "stdout"
        },
        {
          "output_type": "stream",
          "text": [
            "3116it [06:44,  7.35it/s]"
          ],
          "name": "stderr"
        },
        {
          "output_type": "stream",
          "text": [
            "1.9348361492156982\n",
            "1.9570847749710083\n"
          ],
          "name": "stdout"
        },
        {
          "output_type": "stream",
          "text": [
            "3118it [06:44,  7.52it/s]"
          ],
          "name": "stderr"
        },
        {
          "output_type": "stream",
          "text": [
            "1.8930898904800415\n",
            "2.025052309036255\n"
          ],
          "name": "stdout"
        },
        {
          "output_type": "stream",
          "text": [
            "3120it [06:45,  7.71it/s]"
          ],
          "name": "stderr"
        },
        {
          "output_type": "stream",
          "text": [
            "1.8801336288452148\n",
            "1.936109185218811\n"
          ],
          "name": "stdout"
        },
        {
          "output_type": "stream",
          "text": [
            "3122it [06:45,  7.68it/s]"
          ],
          "name": "stderr"
        },
        {
          "output_type": "stream",
          "text": [
            "1.928458571434021\n",
            "1.9010465145111084\n"
          ],
          "name": "stdout"
        },
        {
          "output_type": "stream",
          "text": [
            "3124it [06:45,  7.60it/s]"
          ],
          "name": "stderr"
        },
        {
          "output_type": "stream",
          "text": [
            "1.896299958229065\n",
            "1.960677981376648\n"
          ],
          "name": "stdout"
        },
        {
          "output_type": "stream",
          "text": [
            "3126it [06:45,  7.56it/s]"
          ],
          "name": "stderr"
        },
        {
          "output_type": "stream",
          "text": [
            "1.9253216981887817\n",
            "1.9842861890792847\n"
          ],
          "name": "stdout"
        },
        {
          "output_type": "stream",
          "text": [
            "3128it [06:46,  7.66it/s]"
          ],
          "name": "stderr"
        },
        {
          "output_type": "stream",
          "text": [
            "2.0031495094299316\n",
            "1.9401955604553223\n"
          ],
          "name": "stdout"
        },
        {
          "output_type": "stream",
          "text": [
            "3130it [06:46,  7.57it/s]"
          ],
          "name": "stderr"
        },
        {
          "output_type": "stream",
          "text": [
            "1.9049944877624512\n",
            "1.8899112939834595\n"
          ],
          "name": "stdout"
        },
        {
          "output_type": "stream",
          "text": [
            "3132it [06:46,  7.60it/s]"
          ],
          "name": "stderr"
        },
        {
          "output_type": "stream",
          "text": [
            "1.8686461448669434\n",
            "1.954299807548523\n"
          ],
          "name": "stdout"
        },
        {
          "output_type": "stream",
          "text": [
            "3134it [06:46,  7.70it/s]"
          ],
          "name": "stderr"
        },
        {
          "output_type": "stream",
          "text": [
            "1.9510457515716553\n",
            "1.8732243776321411\n"
          ],
          "name": "stdout"
        },
        {
          "output_type": "stream",
          "text": [
            "3136it [06:47,  7.78it/s]"
          ],
          "name": "stderr"
        },
        {
          "output_type": "stream",
          "text": [
            "1.8995277881622314\n",
            "1.9840739965438843\n"
          ],
          "name": "stdout"
        },
        {
          "output_type": "stream",
          "text": [
            "3138it [06:47,  7.63it/s]"
          ],
          "name": "stderr"
        },
        {
          "output_type": "stream",
          "text": [
            "1.924420952796936\n",
            "1.9077790975570679\n"
          ],
          "name": "stdout"
        },
        {
          "output_type": "stream",
          "text": [
            "3140it [06:47,  7.62it/s]"
          ],
          "name": "stderr"
        },
        {
          "output_type": "stream",
          "text": [
            "2.023768424987793\n",
            "1.907694935798645\n"
          ],
          "name": "stdout"
        },
        {
          "output_type": "stream",
          "text": [
            "3142it [06:48,  7.69it/s]"
          ],
          "name": "stderr"
        },
        {
          "output_type": "stream",
          "text": [
            "1.9196865558624268\n",
            "2.048034191131592\n"
          ],
          "name": "stdout"
        },
        {
          "output_type": "stream",
          "text": [
            "3144it [06:48,  7.62it/s]"
          ],
          "name": "stderr"
        },
        {
          "output_type": "stream",
          "text": [
            "2.0650157928466797\n",
            "1.9669146537780762\n"
          ],
          "name": "stdout"
        },
        {
          "output_type": "stream",
          "text": [
            "3146it [06:48,  7.52it/s]"
          ],
          "name": "stderr"
        },
        {
          "output_type": "stream",
          "text": [
            "2.0488545894622803\n",
            "1.8990744352340698\n"
          ],
          "name": "stdout"
        },
        {
          "output_type": "stream",
          "text": [
            "3148it [06:48,  7.66it/s]"
          ],
          "name": "stderr"
        },
        {
          "output_type": "stream",
          "text": [
            "1.8893418312072754\n",
            "1.81734037399292\n"
          ],
          "name": "stdout"
        },
        {
          "output_type": "stream",
          "text": [
            "3150it [06:49,  7.75it/s]"
          ],
          "name": "stderr"
        },
        {
          "output_type": "stream",
          "text": [
            "1.8819338083267212\n",
            "1.8998502492904663\n"
          ],
          "name": "stdout"
        },
        {
          "output_type": "stream",
          "text": [
            "3152it [06:49,  7.75it/s]"
          ],
          "name": "stderr"
        },
        {
          "output_type": "stream",
          "text": [
            "1.9401944875717163\n",
            "2.083059072494507\n"
          ],
          "name": "stdout"
        },
        {
          "output_type": "stream",
          "text": [
            "3154it [06:49,  7.62it/s]"
          ],
          "name": "stderr"
        },
        {
          "output_type": "stream",
          "text": [
            "2.041085720062256\n",
            "1.9666577577590942\n"
          ],
          "name": "stdout"
        },
        {
          "output_type": "stream",
          "text": [
            "3156it [06:49,  7.75it/s]"
          ],
          "name": "stderr"
        },
        {
          "output_type": "stream",
          "text": [
            "1.9361305236816406\n",
            "1.9125152826309204\n"
          ],
          "name": "stdout"
        },
        {
          "output_type": "stream",
          "text": [
            "3158it [06:50,  7.86it/s]"
          ],
          "name": "stderr"
        },
        {
          "output_type": "stream",
          "text": [
            "1.9143118858337402\n",
            "1.9506003856658936\n"
          ],
          "name": "stdout"
        },
        {
          "output_type": "stream",
          "text": [
            "3160it [06:50,  7.84it/s]"
          ],
          "name": "stderr"
        },
        {
          "output_type": "stream",
          "text": [
            "1.9097994565963745\n",
            "1.9656097888946533\n"
          ],
          "name": "stdout"
        },
        {
          "output_type": "stream",
          "text": [
            "3162it [06:50,  7.67it/s]"
          ],
          "name": "stderr"
        },
        {
          "output_type": "stream",
          "text": [
            "1.800655722618103\n",
            "1.8753234148025513\n"
          ],
          "name": "stdout"
        },
        {
          "output_type": "stream",
          "text": [
            "3164it [06:50,  7.72it/s]"
          ],
          "name": "stderr"
        },
        {
          "output_type": "stream",
          "text": [
            "1.9015617370605469\n",
            "1.904054045677185\n"
          ],
          "name": "stdout"
        },
        {
          "output_type": "stream",
          "text": [
            "3166it [06:51,  7.68it/s]"
          ],
          "name": "stderr"
        },
        {
          "output_type": "stream",
          "text": [
            "1.9480139017105103\n",
            "1.9578449726104736\n"
          ],
          "name": "stdout"
        },
        {
          "output_type": "stream",
          "text": [
            "3168it [06:51,  7.70it/s]"
          ],
          "name": "stderr"
        },
        {
          "output_type": "stream",
          "text": [
            "2.12013840675354\n",
            "2.0285019874572754\n"
          ],
          "name": "stdout"
        },
        {
          "output_type": "stream",
          "text": [
            "3170it [06:51,  7.65it/s]"
          ],
          "name": "stderr"
        },
        {
          "output_type": "stream",
          "text": [
            "1.881497859954834\n",
            "1.8969842195510864\n"
          ],
          "name": "stdout"
        },
        {
          "output_type": "stream",
          "text": [
            "3172it [06:51,  7.75it/s]"
          ],
          "name": "stderr"
        },
        {
          "output_type": "stream",
          "text": [
            "1.9980818033218384\n",
            "1.9091531038284302\n"
          ],
          "name": "stdout"
        },
        {
          "output_type": "stream",
          "text": [
            "3174it [06:52,  7.84it/s]"
          ],
          "name": "stderr"
        },
        {
          "output_type": "stream",
          "text": [
            "1.8455666303634644\n",
            "2.0069034099578857\n"
          ],
          "name": "stdout"
        },
        {
          "output_type": "stream",
          "text": [
            "3176it [06:52,  7.69it/s]"
          ],
          "name": "stderr"
        },
        {
          "output_type": "stream",
          "text": [
            "1.9624837636947632\n",
            "2.0062801837921143\n"
          ],
          "name": "stdout"
        },
        {
          "output_type": "stream",
          "text": [
            "3178it [06:52,  7.69it/s]"
          ],
          "name": "stderr"
        },
        {
          "output_type": "stream",
          "text": [
            "2.022914171218872\n",
            "1.9220359325408936\n"
          ],
          "name": "stdout"
        },
        {
          "output_type": "stream",
          "text": [
            "3180it [06:52,  7.74it/s]"
          ],
          "name": "stderr"
        },
        {
          "output_type": "stream",
          "text": [
            "1.9064815044403076\n",
            "1.9522777795791626\n"
          ],
          "name": "stdout"
        },
        {
          "output_type": "stream",
          "text": [
            "3182it [06:53,  7.72it/s]"
          ],
          "name": "stderr"
        },
        {
          "output_type": "stream",
          "text": [
            "2.0847320556640625\n",
            "1.956620693206787\n"
          ],
          "name": "stdout"
        },
        {
          "output_type": "stream",
          "text": [
            "3184it [06:53,  7.71it/s]"
          ],
          "name": "stderr"
        },
        {
          "output_type": "stream",
          "text": [
            "1.9861880540847778\n",
            "1.9288181066513062\n"
          ],
          "name": "stdout"
        },
        {
          "output_type": "stream",
          "text": [
            "3186it [06:53,  7.60it/s]"
          ],
          "name": "stderr"
        },
        {
          "output_type": "stream",
          "text": [
            "1.848414421081543\n",
            "1.9402562379837036\n"
          ],
          "name": "stdout"
        },
        {
          "output_type": "stream",
          "text": [
            "3188it [06:53,  7.68it/s]"
          ],
          "name": "stderr"
        },
        {
          "output_type": "stream",
          "text": [
            "1.9099828004837036\n",
            "1.8005445003509521\n"
          ],
          "name": "stdout"
        },
        {
          "output_type": "stream",
          "text": [
            "3190it [06:54,  7.71it/s]"
          ],
          "name": "stderr"
        },
        {
          "output_type": "stream",
          "text": [
            "1.8920097351074219\n",
            "1.8914216756820679\n"
          ],
          "name": "stdout"
        },
        {
          "output_type": "stream",
          "text": [
            "3192it [06:54,  7.71it/s]"
          ],
          "name": "stderr"
        },
        {
          "output_type": "stream",
          "text": [
            "2.054879665374756\n",
            "1.9529513120651245\n"
          ],
          "name": "stdout"
        },
        {
          "output_type": "stream",
          "text": [
            "3194it [06:54,  7.71it/s]"
          ],
          "name": "stderr"
        },
        {
          "output_type": "stream",
          "text": [
            "2.0329227447509766\n",
            "1.8048251867294312\n"
          ],
          "name": "stdout"
        },
        {
          "output_type": "stream",
          "text": [
            "3196it [06:55,  7.55it/s]"
          ],
          "name": "stderr"
        },
        {
          "output_type": "stream",
          "text": [
            "1.9005398750305176\n",
            "1.9066392183303833\n"
          ],
          "name": "stdout"
        },
        {
          "output_type": "stream",
          "text": [
            "3198it [06:55,  7.65it/s]"
          ],
          "name": "stderr"
        },
        {
          "output_type": "stream",
          "text": [
            "1.8763054609298706\n",
            "1.9559482336044312\n"
          ],
          "name": "stdout"
        },
        {
          "output_type": "stream",
          "text": [
            "3200it [06:55,  7.74it/s]"
          ],
          "name": "stderr"
        },
        {
          "output_type": "stream",
          "text": [
            "1.9310287237167358\n",
            "2.024010181427002\n"
          ],
          "name": "stdout"
        },
        {
          "output_type": "stream",
          "text": [
            "3202it [06:55,  7.68it/s]"
          ],
          "name": "stderr"
        },
        {
          "output_type": "stream",
          "text": [
            "1.879662275314331\n",
            "1.9946041107177734\n"
          ],
          "name": "stdout"
        },
        {
          "output_type": "stream",
          "text": [
            "3204it [06:56,  7.76it/s]"
          ],
          "name": "stderr"
        },
        {
          "output_type": "stream",
          "text": [
            "1.977368950843811\n",
            "2.048768997192383\n"
          ],
          "name": "stdout"
        },
        {
          "output_type": "stream",
          "text": [
            "3206it [06:56,  7.62it/s]"
          ],
          "name": "stderr"
        },
        {
          "output_type": "stream",
          "text": [
            "2.008286476135254\n",
            "2.0805952548980713\n"
          ],
          "name": "stdout"
        },
        {
          "output_type": "stream",
          "text": [
            "3208it [06:56,  7.62it/s]"
          ],
          "name": "stderr"
        },
        {
          "output_type": "stream",
          "text": [
            "1.8714262247085571\n",
            "1.9061603546142578\n"
          ],
          "name": "stdout"
        },
        {
          "output_type": "stream",
          "text": [
            "3210it [06:56,  7.71it/s]"
          ],
          "name": "stderr"
        },
        {
          "output_type": "stream",
          "text": [
            "1.8698943853378296\n",
            "1.8656847476959229\n"
          ],
          "name": "stdout"
        },
        {
          "output_type": "stream",
          "text": [
            "3212it [06:57,  7.76it/s]"
          ],
          "name": "stderr"
        },
        {
          "output_type": "stream",
          "text": [
            "1.8793896436691284\n",
            "1.9093047380447388\n"
          ],
          "name": "stdout"
        },
        {
          "output_type": "stream",
          "text": [
            "3214it [06:57,  7.68it/s]"
          ],
          "name": "stderr"
        },
        {
          "output_type": "stream",
          "text": [
            "1.8486462831497192\n",
            "1.9551604986190796\n"
          ],
          "name": "stdout"
        },
        {
          "output_type": "stream",
          "text": [
            "3216it [06:57,  7.60it/s]"
          ],
          "name": "stderr"
        },
        {
          "output_type": "stream",
          "text": [
            "1.8388592004776\n",
            "2.005303144454956\n"
          ],
          "name": "stdout"
        },
        {
          "output_type": "stream",
          "text": [
            "3218it [06:57,  7.58it/s]"
          ],
          "name": "stderr"
        },
        {
          "output_type": "stream",
          "text": [
            "1.8351041078567505\n",
            "1.8993128538131714\n"
          ],
          "name": "stdout"
        },
        {
          "output_type": "stream",
          "text": [
            "3220it [06:58,  7.71it/s]"
          ],
          "name": "stderr"
        },
        {
          "output_type": "stream",
          "text": [
            "1.825482964515686\n",
            "1.9295308589935303\n"
          ],
          "name": "stdout"
        },
        {
          "output_type": "stream",
          "text": [
            "3222it [06:58,  7.62it/s]"
          ],
          "name": "stderr"
        },
        {
          "output_type": "stream",
          "text": [
            "1.8895841836929321\n",
            "1.8533978462219238\n"
          ],
          "name": "stdout"
        },
        {
          "output_type": "stream",
          "text": [
            "3224it [06:58,  7.64it/s]"
          ],
          "name": "stderr"
        },
        {
          "output_type": "stream",
          "text": [
            "1.8873168230056763\n",
            "1.8987945318222046\n"
          ],
          "name": "stdout"
        },
        {
          "output_type": "stream",
          "text": [
            "3226it [06:58,  7.80it/s]"
          ],
          "name": "stderr"
        },
        {
          "output_type": "stream",
          "text": [
            "1.9114986658096313\n",
            "1.8686364889144897\n"
          ],
          "name": "stdout"
        },
        {
          "output_type": "stream",
          "text": [
            "3228it [06:59,  7.68it/s]"
          ],
          "name": "stderr"
        },
        {
          "output_type": "stream",
          "text": [
            "1.9038779735565186\n",
            "1.8717013597488403\n"
          ],
          "name": "stdout"
        },
        {
          "output_type": "stream",
          "text": [
            "3230it [06:59,  7.66it/s]"
          ],
          "name": "stderr"
        },
        {
          "output_type": "stream",
          "text": [
            "1.9615675210952759\n",
            "1.9102749824523926\n"
          ],
          "name": "stdout"
        },
        {
          "output_type": "stream",
          "text": [
            "3232it [06:59,  7.61it/s]"
          ],
          "name": "stderr"
        },
        {
          "output_type": "stream",
          "text": [
            "2.0968050956726074\n",
            "2.1508665084838867\n"
          ],
          "name": "stdout"
        },
        {
          "output_type": "stream",
          "text": [
            "3234it [06:59,  7.64it/s]"
          ],
          "name": "stderr"
        },
        {
          "output_type": "stream",
          "text": [
            "1.9884464740753174\n",
            "1.970563530921936\n"
          ],
          "name": "stdout"
        },
        {
          "output_type": "stream",
          "text": [
            "3236it [07:00,  7.57it/s]"
          ],
          "name": "stderr"
        },
        {
          "output_type": "stream",
          "text": [
            "1.9717298746109009\n",
            "1.9123177528381348\n"
          ],
          "name": "stdout"
        },
        {
          "output_type": "stream",
          "text": [
            "3238it [07:00,  7.59it/s]"
          ],
          "name": "stderr"
        },
        {
          "output_type": "stream",
          "text": [
            "1.9243290424346924\n",
            "2.0040085315704346\n"
          ],
          "name": "stdout"
        },
        {
          "output_type": "stream",
          "text": [
            "3240it [07:00,  7.68it/s]"
          ],
          "name": "stderr"
        },
        {
          "output_type": "stream",
          "text": [
            "1.9688571691513062\n",
            "1.9735058546066284\n"
          ],
          "name": "stdout"
        },
        {
          "output_type": "stream",
          "text": [
            "3242it [07:01,  7.70it/s]"
          ],
          "name": "stderr"
        },
        {
          "output_type": "stream",
          "text": [
            "1.9034481048583984\n",
            "1.9125263690948486\n"
          ],
          "name": "stdout"
        },
        {
          "output_type": "stream",
          "text": [
            "3244it [07:01,  7.80it/s]"
          ],
          "name": "stderr"
        },
        {
          "output_type": "stream",
          "text": [
            "1.9547978639602661\n",
            "1.9163484573364258\n"
          ],
          "name": "stdout"
        },
        {
          "output_type": "stream",
          "text": [
            "3246it [07:01,  7.76it/s]"
          ],
          "name": "stderr"
        },
        {
          "output_type": "stream",
          "text": [
            "1.8701719045639038\n",
            "1.8780781030654907\n"
          ],
          "name": "stdout"
        },
        {
          "output_type": "stream",
          "text": [
            "3248it [07:01,  7.55it/s]"
          ],
          "name": "stderr"
        },
        {
          "output_type": "stream",
          "text": [
            "1.9547843933105469\n",
            "1.9590198993682861\n"
          ],
          "name": "stdout"
        },
        {
          "output_type": "stream",
          "text": [
            "3250it [07:02,  7.67it/s]"
          ],
          "name": "stderr"
        },
        {
          "output_type": "stream",
          "text": [
            "1.9774163961410522\n",
            "1.8961560726165771\n"
          ],
          "name": "stdout"
        },
        {
          "output_type": "stream",
          "text": [
            "3252it [07:02,  7.70it/s]"
          ],
          "name": "stderr"
        },
        {
          "output_type": "stream",
          "text": [
            "1.9533556699752808\n",
            "1.9781041145324707\n"
          ],
          "name": "stdout"
        },
        {
          "output_type": "stream",
          "text": [
            "3254it [07:02,  7.73it/s]"
          ],
          "name": "stderr"
        },
        {
          "output_type": "stream",
          "text": [
            "1.840730905532837\n",
            "1.8079453706741333\n"
          ],
          "name": "stdout"
        },
        {
          "output_type": "stream",
          "text": [
            "3256it [07:02,  7.75it/s]"
          ],
          "name": "stderr"
        },
        {
          "output_type": "stream",
          "text": [
            "1.9475531578063965\n",
            "1.8943806886672974\n"
          ],
          "name": "stdout"
        },
        {
          "output_type": "stream",
          "text": [
            "3258it [07:03,  7.78it/s]"
          ],
          "name": "stderr"
        },
        {
          "output_type": "stream",
          "text": [
            "2.094315767288208\n",
            "1.9002593755722046\n"
          ],
          "name": "stdout"
        },
        {
          "output_type": "stream",
          "text": [
            "3260it [07:03,  7.76it/s]"
          ],
          "name": "stderr"
        },
        {
          "output_type": "stream",
          "text": [
            "1.837226390838623\n",
            "1.9179275035858154\n"
          ],
          "name": "stdout"
        },
        {
          "output_type": "stream",
          "text": [
            "3262it [07:03,  7.77it/s]"
          ],
          "name": "stderr"
        },
        {
          "output_type": "stream",
          "text": [
            "1.883789300918579\n",
            "2.009168863296509\n"
          ],
          "name": "stdout"
        },
        {
          "output_type": "stream",
          "text": [
            "3264it [07:03,  7.62it/s]"
          ],
          "name": "stderr"
        },
        {
          "output_type": "stream",
          "text": [
            "1.7562335729599\n",
            "1.8963420391082764\n"
          ],
          "name": "stdout"
        },
        {
          "output_type": "stream",
          "text": [
            "3266it [07:04,  7.71it/s]"
          ],
          "name": "stderr"
        },
        {
          "output_type": "stream",
          "text": [
            "1.9190527200698853\n",
            "1.9552515745162964\n"
          ],
          "name": "stdout"
        },
        {
          "output_type": "stream",
          "text": [
            "3268it [07:04,  7.68it/s]"
          ],
          "name": "stderr"
        },
        {
          "output_type": "stream",
          "text": [
            "2.0261662006378174\n",
            "1.9450740814208984\n"
          ],
          "name": "stdout"
        },
        {
          "output_type": "stream",
          "text": [
            "3270it [07:04,  7.67it/s]"
          ],
          "name": "stderr"
        },
        {
          "output_type": "stream",
          "text": [
            "2.0091676712036133\n",
            "1.9503902196884155\n"
          ],
          "name": "stdout"
        },
        {
          "output_type": "stream",
          "text": [
            "3272it [07:04,  7.66it/s]"
          ],
          "name": "stderr"
        },
        {
          "output_type": "stream",
          "text": [
            "2.0129151344299316\n",
            "1.990127682685852\n"
          ],
          "name": "stdout"
        },
        {
          "output_type": "stream",
          "text": [
            "3274it [07:05,  7.53it/s]"
          ],
          "name": "stderr"
        },
        {
          "output_type": "stream",
          "text": [
            "1.9938396215438843\n",
            "2.012444257736206\n"
          ],
          "name": "stdout"
        },
        {
          "output_type": "stream",
          "text": [
            "3276it [07:05,  7.67it/s]"
          ],
          "name": "stderr"
        },
        {
          "output_type": "stream",
          "text": [
            "1.9091318845748901\n",
            "1.9649193286895752\n"
          ],
          "name": "stdout"
        },
        {
          "output_type": "stream",
          "text": [
            "3278it [07:05,  7.53it/s]"
          ],
          "name": "stderr"
        },
        {
          "output_type": "stream",
          "text": [
            "1.841482400894165\n",
            "1.927947998046875\n"
          ],
          "name": "stdout"
        },
        {
          "output_type": "stream",
          "text": [
            "3280it [07:05,  7.67it/s]"
          ],
          "name": "stderr"
        },
        {
          "output_type": "stream",
          "text": [
            "1.9308589696884155\n",
            "1.8454430103302002\n"
          ],
          "name": "stdout"
        },
        {
          "output_type": "stream",
          "text": [
            "3282it [07:06,  7.70it/s]"
          ],
          "name": "stderr"
        },
        {
          "output_type": "stream",
          "text": [
            "1.8128631114959717\n",
            "1.885758638381958\n"
          ],
          "name": "stdout"
        },
        {
          "output_type": "stream",
          "text": [
            "3284it [07:06,  7.65it/s]"
          ],
          "name": "stderr"
        },
        {
          "output_type": "stream",
          "text": [
            "1.8405470848083496\n",
            "1.8805335760116577\n"
          ],
          "name": "stdout"
        },
        {
          "output_type": "stream",
          "text": [
            "3286it [07:06,  7.55it/s]"
          ],
          "name": "stderr"
        },
        {
          "output_type": "stream",
          "text": [
            "1.9760063886642456\n",
            "1.8247703313827515\n"
          ],
          "name": "stdout"
        },
        {
          "output_type": "stream",
          "text": [
            "3288it [07:07,  7.65it/s]"
          ],
          "name": "stderr"
        },
        {
          "output_type": "stream",
          "text": [
            "1.924114465713501\n",
            "1.8867918252944946\n"
          ],
          "name": "stdout"
        },
        {
          "output_type": "stream",
          "text": [
            "3290it [07:07,  7.74it/s]"
          ],
          "name": "stderr"
        },
        {
          "output_type": "stream",
          "text": [
            "1.9631916284561157\n",
            "1.9249573945999146\n"
          ],
          "name": "stdout"
        },
        {
          "output_type": "stream",
          "text": [
            "3292it [07:07,  7.80it/s]"
          ],
          "name": "stderr"
        },
        {
          "output_type": "stream",
          "text": [
            "2.0487756729125977\n",
            "1.9515384435653687\n"
          ],
          "name": "stdout"
        },
        {
          "output_type": "stream",
          "text": [
            "3294it [07:07,  7.75it/s]"
          ],
          "name": "stderr"
        },
        {
          "output_type": "stream",
          "text": [
            "1.9172008037567139\n",
            "1.8699675798416138\n"
          ],
          "name": "stdout"
        },
        {
          "output_type": "stream",
          "text": [
            "3296it [07:08,  7.84it/s]"
          ],
          "name": "stderr"
        },
        {
          "output_type": "stream",
          "text": [
            "1.8402808904647827\n",
            "1.9779536724090576\n"
          ],
          "name": "stdout"
        },
        {
          "output_type": "stream",
          "text": [
            "3298it [07:08,  7.86it/s]"
          ],
          "name": "stderr"
        },
        {
          "output_type": "stream",
          "text": [
            "1.96660315990448\n",
            "1.9525798559188843\n"
          ],
          "name": "stdout"
        },
        {
          "output_type": "stream",
          "text": [
            "3300it [07:08,  7.72it/s]"
          ],
          "name": "stderr"
        },
        {
          "output_type": "stream",
          "text": [
            "1.9577369689941406\n",
            "1.903516411781311\n"
          ],
          "name": "stdout"
        },
        {
          "output_type": "stream",
          "text": [
            "3302it [07:08,  7.67it/s]"
          ],
          "name": "stderr"
        },
        {
          "output_type": "stream",
          "text": [
            "1.963919758796692\n",
            "1.9085787534713745\n"
          ],
          "name": "stdout"
        },
        {
          "output_type": "stream",
          "text": [
            "3304it [07:09,  7.71it/s]"
          ],
          "name": "stderr"
        },
        {
          "output_type": "stream",
          "text": [
            "1.8931007385253906\n",
            "1.9773519039154053\n"
          ],
          "name": "stdout"
        },
        {
          "output_type": "stream",
          "text": [
            "3306it [07:09,  7.72it/s]"
          ],
          "name": "stderr"
        },
        {
          "output_type": "stream",
          "text": [
            "1.9427810907363892\n",
            "1.9262254238128662\n"
          ],
          "name": "stdout"
        },
        {
          "output_type": "stream",
          "text": [
            "3308it [07:09,  7.74it/s]"
          ],
          "name": "stderr"
        },
        {
          "output_type": "stream",
          "text": [
            "1.9642486572265625\n",
            "1.9313081502914429\n"
          ],
          "name": "stdout"
        },
        {
          "output_type": "stream",
          "text": [
            "3310it [07:09,  7.54it/s]"
          ],
          "name": "stderr"
        },
        {
          "output_type": "stream",
          "text": [
            "1.934035301208496\n",
            "1.9295786619186401\n"
          ],
          "name": "stdout"
        },
        {
          "output_type": "stream",
          "text": [
            "3312it [07:10,  7.76it/s]"
          ],
          "name": "stderr"
        },
        {
          "output_type": "stream",
          "text": [
            "1.8783613443374634\n",
            "1.9585180282592773\n"
          ],
          "name": "stdout"
        },
        {
          "output_type": "stream",
          "text": [
            "3314it [07:10,  7.73it/s]"
          ],
          "name": "stderr"
        },
        {
          "output_type": "stream",
          "text": [
            "1.931268334388733\n",
            "1.8427537679672241\n"
          ],
          "name": "stdout"
        },
        {
          "output_type": "stream",
          "text": [
            "3316it [07:10,  7.68it/s]"
          ],
          "name": "stderr"
        },
        {
          "output_type": "stream",
          "text": [
            "1.853297472000122\n",
            "1.8446011543273926\n"
          ],
          "name": "stdout"
        },
        {
          "output_type": "stream",
          "text": [
            "3318it [07:10,  7.69it/s]"
          ],
          "name": "stderr"
        },
        {
          "output_type": "stream",
          "text": [
            "1.8822767734527588\n",
            "1.8164355754852295\n"
          ],
          "name": "stdout"
        },
        {
          "output_type": "stream",
          "text": [
            "3320it [07:11,  7.61it/s]"
          ],
          "name": "stderr"
        },
        {
          "output_type": "stream",
          "text": [
            "1.7842570543289185\n",
            "1.9659554958343506\n"
          ],
          "name": "stdout"
        },
        {
          "output_type": "stream",
          "text": [
            "3322it [07:11,  7.71it/s]"
          ],
          "name": "stderr"
        },
        {
          "output_type": "stream",
          "text": [
            "1.8499478101730347\n",
            "1.8393661975860596\n"
          ],
          "name": "stdout"
        },
        {
          "output_type": "stream",
          "text": [
            "3324it [07:11,  7.74it/s]"
          ],
          "name": "stderr"
        },
        {
          "output_type": "stream",
          "text": [
            "1.9223694801330566\n",
            "1.8230923414230347\n"
          ],
          "name": "stdout"
        },
        {
          "output_type": "stream",
          "text": [
            "3326it [07:11,  7.69it/s]"
          ],
          "name": "stderr"
        },
        {
          "output_type": "stream",
          "text": [
            "1.9359599351882935\n",
            "1.8463308811187744\n"
          ],
          "name": "stdout"
        },
        {
          "output_type": "stream",
          "text": [
            "3328it [07:12,  7.71it/s]"
          ],
          "name": "stderr"
        },
        {
          "output_type": "stream",
          "text": [
            "1.9214016199111938\n",
            "2.000927209854126\n"
          ],
          "name": "stdout"
        },
        {
          "output_type": "stream",
          "text": [
            "3330it [07:12,  7.78it/s]"
          ],
          "name": "stderr"
        },
        {
          "output_type": "stream",
          "text": [
            "1.980128288269043\n",
            "1.9552472829818726\n"
          ],
          "name": "stdout"
        },
        {
          "output_type": "stream",
          "text": [
            "3332it [07:12,  7.77it/s]"
          ],
          "name": "stderr"
        },
        {
          "output_type": "stream",
          "text": [
            "2.0161805152893066\n",
            "1.9573277235031128\n"
          ],
          "name": "stdout"
        },
        {
          "output_type": "stream",
          "text": [
            "3334it [07:12,  7.78it/s]"
          ],
          "name": "stderr"
        },
        {
          "output_type": "stream",
          "text": [
            "1.9093953371047974\n",
            "1.9578276872634888\n"
          ],
          "name": "stdout"
        },
        {
          "output_type": "stream",
          "text": [
            "3336it [07:13,  7.72it/s]"
          ],
          "name": "stderr"
        },
        {
          "output_type": "stream",
          "text": [
            "1.931489109992981\n",
            "1.896286964416504\n"
          ],
          "name": "stdout"
        },
        {
          "output_type": "stream",
          "text": [
            "3338it [07:13,  7.81it/s]"
          ],
          "name": "stderr"
        },
        {
          "output_type": "stream",
          "text": [
            "1.8405935764312744\n",
            "1.9783556461334229\n"
          ],
          "name": "stdout"
        },
        {
          "output_type": "stream",
          "text": [
            "3340it [07:13,  7.85it/s]"
          ],
          "name": "stderr"
        },
        {
          "output_type": "stream",
          "text": [
            "1.985526204109192\n",
            "1.896806240081787\n"
          ],
          "name": "stdout"
        },
        {
          "output_type": "stream",
          "text": [
            "3342it [07:14,  7.84it/s]"
          ],
          "name": "stderr"
        },
        {
          "output_type": "stream",
          "text": [
            "1.8708009719848633\n",
            "1.9365503787994385\n"
          ],
          "name": "stdout"
        },
        {
          "output_type": "stream",
          "text": [
            "3344it [07:14,  7.87it/s]"
          ],
          "name": "stderr"
        },
        {
          "output_type": "stream",
          "text": [
            "2.0353713035583496\n",
            "1.9500468969345093\n"
          ],
          "name": "stdout"
        },
        {
          "output_type": "stream",
          "text": [
            "3346it [07:14,  7.90it/s]"
          ],
          "name": "stderr"
        },
        {
          "output_type": "stream",
          "text": [
            "2.0060510635375977\n",
            "2.0089163780212402\n"
          ],
          "name": "stdout"
        },
        {
          "output_type": "stream",
          "text": [
            "3348it [07:14,  7.87it/s]"
          ],
          "name": "stderr"
        },
        {
          "output_type": "stream",
          "text": [
            "2.1032774448394775\n",
            "1.9676122665405273\n"
          ],
          "name": "stdout"
        },
        {
          "output_type": "stream",
          "text": [
            "3350it [07:15,  7.71it/s]"
          ],
          "name": "stderr"
        },
        {
          "output_type": "stream",
          "text": [
            "1.9642205238342285\n",
            "1.95173180103302\n"
          ],
          "name": "stdout"
        },
        {
          "output_type": "stream",
          "text": [
            "3352it [07:15,  7.79it/s]"
          ],
          "name": "stderr"
        },
        {
          "output_type": "stream",
          "text": [
            "1.8494518995285034\n",
            "1.8793954849243164\n"
          ],
          "name": "stdout"
        },
        {
          "output_type": "stream",
          "text": [
            "3354it [07:15,  7.68it/s]"
          ],
          "name": "stderr"
        },
        {
          "output_type": "stream",
          "text": [
            "1.9418673515319824\n",
            "1.9244393110275269\n"
          ],
          "name": "stdout"
        },
        {
          "output_type": "stream",
          "text": [
            "3356it [07:15,  7.46it/s]"
          ],
          "name": "stderr"
        },
        {
          "output_type": "stream",
          "text": [
            "1.9474890232086182\n",
            "1.9506101608276367\n"
          ],
          "name": "stdout"
        },
        {
          "output_type": "stream",
          "text": [
            "3358it [07:16,  7.62it/s]"
          ],
          "name": "stderr"
        },
        {
          "output_type": "stream",
          "text": [
            "1.9449913501739502\n",
            "1.8755974769592285\n"
          ],
          "name": "stdout"
        },
        {
          "output_type": "stream",
          "text": [
            "3360it [07:16,  7.73it/s]"
          ],
          "name": "stderr"
        },
        {
          "output_type": "stream",
          "text": [
            "2.0139009952545166\n",
            "1.9264031648635864\n"
          ],
          "name": "stdout"
        },
        {
          "output_type": "stream",
          "text": [
            "3362it [07:16,  7.76it/s]"
          ],
          "name": "stderr"
        },
        {
          "output_type": "stream",
          "text": [
            "1.893646240234375\n",
            "1.8907660245895386\n"
          ],
          "name": "stdout"
        },
        {
          "output_type": "stream",
          "text": [
            "3364it [07:16,  7.68it/s]"
          ],
          "name": "stderr"
        },
        {
          "output_type": "stream",
          "text": [
            "1.9124644994735718\n",
            "1.9051011800765991\n"
          ],
          "name": "stdout"
        },
        {
          "output_type": "stream",
          "text": [
            "3366it [07:17,  7.60it/s]"
          ],
          "name": "stderr"
        },
        {
          "output_type": "stream",
          "text": [
            "1.9516332149505615\n",
            "1.8861232995986938\n"
          ],
          "name": "stdout"
        },
        {
          "output_type": "stream",
          "text": [
            "3368it [07:17,  7.41it/s]"
          ],
          "name": "stderr"
        },
        {
          "output_type": "stream",
          "text": [
            "1.8936816453933716\n",
            "1.9341386556625366\n"
          ],
          "name": "stdout"
        },
        {
          "output_type": "stream",
          "text": [
            "3370it [07:17,  7.61it/s]"
          ],
          "name": "stderr"
        },
        {
          "output_type": "stream",
          "text": [
            "2.029536247253418\n",
            "2.1318440437316895\n"
          ],
          "name": "stdout"
        },
        {
          "output_type": "stream",
          "text": [
            "3372it [07:17,  7.64it/s]"
          ],
          "name": "stderr"
        },
        {
          "output_type": "stream",
          "text": [
            "2.154181718826294\n",
            "2.0419323444366455\n"
          ],
          "name": "stdout"
        },
        {
          "output_type": "stream",
          "text": [
            "3374it [07:18,  7.73it/s]"
          ],
          "name": "stderr"
        },
        {
          "output_type": "stream",
          "text": [
            "1.8976689577102661\n",
            "1.9414303302764893\n"
          ],
          "name": "stdout"
        },
        {
          "output_type": "stream",
          "text": [
            "3376it [07:18,  7.71it/s]"
          ],
          "name": "stderr"
        },
        {
          "output_type": "stream",
          "text": [
            "1.9228836297988892\n",
            "1.842455267906189\n"
          ],
          "name": "stdout"
        },
        {
          "output_type": "stream",
          "text": [
            "3378it [07:18,  7.80it/s]"
          ],
          "name": "stderr"
        },
        {
          "output_type": "stream",
          "text": [
            "1.8574038743972778\n",
            "1.9445525407791138\n"
          ],
          "name": "stdout"
        },
        {
          "output_type": "stream",
          "text": [
            "3380it [07:18,  7.71it/s]"
          ],
          "name": "stderr"
        },
        {
          "output_type": "stream",
          "text": [
            "1.840588092803955\n",
            "1.8357439041137695\n"
          ],
          "name": "stdout"
        },
        {
          "output_type": "stream",
          "text": [
            "3382it [07:19,  7.71it/s]"
          ],
          "name": "stderr"
        },
        {
          "output_type": "stream",
          "text": [
            "1.9458597898483276\n",
            "1.953119158744812\n"
          ],
          "name": "stdout"
        },
        {
          "output_type": "stream",
          "text": [
            "3384it [07:19,  7.81it/s]"
          ],
          "name": "stderr"
        },
        {
          "output_type": "stream",
          "text": [
            "1.8971534967422485\n",
            "2.0570614337921143\n"
          ],
          "name": "stdout"
        },
        {
          "output_type": "stream",
          "text": [
            "3386it [07:19,  7.79it/s]"
          ],
          "name": "stderr"
        },
        {
          "output_type": "stream",
          "text": [
            "1.857183814048767\n",
            "1.866623044013977\n"
          ],
          "name": "stdout"
        },
        {
          "output_type": "stream",
          "text": [
            "3388it [07:20,  7.68it/s]"
          ],
          "name": "stderr"
        },
        {
          "output_type": "stream",
          "text": [
            "1.9133778810501099\n",
            "1.8814464807510376\n"
          ],
          "name": "stdout"
        },
        {
          "output_type": "stream",
          "text": [
            "3390it [07:20,  7.67it/s]"
          ],
          "name": "stderr"
        },
        {
          "output_type": "stream",
          "text": [
            "1.9161779880523682\n",
            "1.9006019830703735\n"
          ],
          "name": "stdout"
        },
        {
          "output_type": "stream",
          "text": [
            "3392it [07:20,  7.75it/s]"
          ],
          "name": "stderr"
        },
        {
          "output_type": "stream",
          "text": [
            "1.8474912643432617\n",
            "1.9788007736206055\n"
          ],
          "name": "stdout"
        },
        {
          "output_type": "stream",
          "text": [
            "3394it [07:20,  7.73it/s]"
          ],
          "name": "stderr"
        },
        {
          "output_type": "stream",
          "text": [
            "1.9934064149856567\n",
            "1.9709010124206543\n"
          ],
          "name": "stdout"
        },
        {
          "output_type": "stream",
          "text": [
            "3396it [07:21,  7.74it/s]"
          ],
          "name": "stderr"
        },
        {
          "output_type": "stream",
          "text": [
            "1.9318143129348755\n",
            "2.01361083984375\n"
          ],
          "name": "stdout"
        },
        {
          "output_type": "stream",
          "text": [
            "3398it [07:21,  7.75it/s]"
          ],
          "name": "stderr"
        },
        {
          "output_type": "stream",
          "text": [
            "1.837027907371521\n",
            "1.9718226194381714\n"
          ],
          "name": "stdout"
        },
        {
          "output_type": "stream",
          "text": [
            "3400it [07:21,  7.81it/s]"
          ],
          "name": "stderr"
        },
        {
          "output_type": "stream",
          "text": [
            "1.7943757772445679\n",
            "1.9237451553344727\n"
          ],
          "name": "stdout"
        },
        {
          "output_type": "stream",
          "text": [
            "3402it [07:21,  7.83it/s]"
          ],
          "name": "stderr"
        },
        {
          "output_type": "stream",
          "text": [
            "2.0047659873962402\n",
            "1.9050415754318237\n"
          ],
          "name": "stdout"
        },
        {
          "output_type": "stream",
          "text": [
            "3404it [07:22,  7.75it/s]"
          ],
          "name": "stderr"
        },
        {
          "output_type": "stream",
          "text": [
            "2.0191986560821533\n",
            "1.9372109174728394\n"
          ],
          "name": "stdout"
        },
        {
          "output_type": "stream",
          "text": [
            "3406it [07:22,  7.80it/s]"
          ],
          "name": "stderr"
        },
        {
          "output_type": "stream",
          "text": [
            "1.932157278060913\n",
            "1.9308139085769653\n"
          ],
          "name": "stdout"
        },
        {
          "output_type": "stream",
          "text": [
            "3408it [07:22,  7.67it/s]"
          ],
          "name": "stderr"
        },
        {
          "output_type": "stream",
          "text": [
            "2.0071229934692383\n",
            "1.9294393062591553\n"
          ],
          "name": "stdout"
        },
        {
          "output_type": "stream",
          "text": [
            "3410it [07:22,  7.79it/s]"
          ],
          "name": "stderr"
        },
        {
          "output_type": "stream",
          "text": [
            "1.9853335618972778\n",
            "1.848149061203003\n"
          ],
          "name": "stdout"
        },
        {
          "output_type": "stream",
          "text": [
            "3412it [07:23,  7.81it/s]"
          ],
          "name": "stderr"
        },
        {
          "output_type": "stream",
          "text": [
            "1.9063738584518433\n",
            "1.8767482042312622\n"
          ],
          "name": "stdout"
        },
        {
          "output_type": "stream",
          "text": [
            "3414it [07:23,  7.80it/s]"
          ],
          "name": "stderr"
        },
        {
          "output_type": "stream",
          "text": [
            "1.906576156616211\n",
            "1.9263662099838257\n"
          ],
          "name": "stdout"
        },
        {
          "output_type": "stream",
          "text": [
            "3416it [07:23,  7.85it/s]"
          ],
          "name": "stderr"
        },
        {
          "output_type": "stream",
          "text": [
            "1.8705140352249146\n",
            "1.9642374515533447\n"
          ],
          "name": "stdout"
        },
        {
          "output_type": "stream",
          "text": [
            "3418it [07:23,  7.73it/s]"
          ],
          "name": "stderr"
        },
        {
          "output_type": "stream",
          "text": [
            "1.8585779666900635\n",
            "1.8989382982254028\n"
          ],
          "name": "stdout"
        },
        {
          "output_type": "stream",
          "text": [
            "3420it [07:24,  7.74it/s]"
          ],
          "name": "stderr"
        },
        {
          "output_type": "stream",
          "text": [
            "1.9773751497268677\n",
            "1.9277572631835938\n"
          ],
          "name": "stdout"
        },
        {
          "output_type": "stream",
          "text": [
            "3422it [07:24,  7.60it/s]"
          ],
          "name": "stderr"
        },
        {
          "output_type": "stream",
          "text": [
            "1.901889443397522\n",
            "1.9240986108779907\n"
          ],
          "name": "stdout"
        },
        {
          "output_type": "stream",
          "text": [
            "3424it [07:24,  7.52it/s]"
          ],
          "name": "stderr"
        },
        {
          "output_type": "stream",
          "text": [
            "1.9233931303024292\n",
            "1.9990394115447998\n"
          ],
          "name": "stdout"
        },
        {
          "output_type": "stream",
          "text": [
            "3426it [07:24,  7.69it/s]"
          ],
          "name": "stderr"
        },
        {
          "output_type": "stream",
          "text": [
            "2.02199387550354\n",
            "2.008697509765625\n"
          ],
          "name": "stdout"
        },
        {
          "output_type": "stream",
          "text": [
            "3428it [07:25,  7.70it/s]"
          ],
          "name": "stderr"
        },
        {
          "output_type": "stream",
          "text": [
            "2.0383825302124023\n",
            "1.9857131242752075\n"
          ],
          "name": "stdout"
        },
        {
          "output_type": "stream",
          "text": [
            "3430it [07:25,  7.73it/s]"
          ],
          "name": "stderr"
        },
        {
          "output_type": "stream",
          "text": [
            "1.8228200674057007\n",
            "1.8725320100784302\n"
          ],
          "name": "stdout"
        },
        {
          "output_type": "stream",
          "text": [
            "3432it [07:25,  7.79it/s]"
          ],
          "name": "stderr"
        },
        {
          "output_type": "stream",
          "text": [
            "1.8270031213760376\n",
            "1.9136816263198853\n"
          ],
          "name": "stdout"
        },
        {
          "output_type": "stream",
          "text": [
            "3434it [07:25,  7.83it/s]"
          ],
          "name": "stderr"
        },
        {
          "output_type": "stream",
          "text": [
            "1.8573476076126099\n",
            "1.8970742225646973\n"
          ],
          "name": "stdout"
        },
        {
          "output_type": "stream",
          "text": [
            "3436it [07:26,  7.52it/s]"
          ],
          "name": "stderr"
        },
        {
          "output_type": "stream",
          "text": [
            "1.8321924209594727\n",
            "1.9219661951065063\n"
          ],
          "name": "stdout"
        },
        {
          "output_type": "stream",
          "text": [
            "3438it [07:26,  7.67it/s]"
          ],
          "name": "stderr"
        },
        {
          "output_type": "stream",
          "text": [
            "1.8631049394607544\n",
            "1.8902517557144165\n"
          ],
          "name": "stdout"
        },
        {
          "output_type": "stream",
          "text": [
            "3440it [07:26,  7.55it/s]"
          ],
          "name": "stderr"
        },
        {
          "output_type": "stream",
          "text": [
            "1.8787912130355835\n",
            "1.9762076139450073\n"
          ],
          "name": "stdout"
        },
        {
          "output_type": "stream",
          "text": [
            "3442it [07:27,  7.59it/s]"
          ],
          "name": "stderr"
        },
        {
          "output_type": "stream",
          "text": [
            "1.9182703495025635\n",
            "2.021920680999756\n"
          ],
          "name": "stdout"
        },
        {
          "output_type": "stream",
          "text": [
            "3444it [07:27,  7.70it/s]"
          ],
          "name": "stderr"
        },
        {
          "output_type": "stream",
          "text": [
            "1.8697296380996704\n",
            "1.9478814601898193\n"
          ],
          "name": "stdout"
        },
        {
          "output_type": "stream",
          "text": [
            "3446it [07:27,  7.79it/s]"
          ],
          "name": "stderr"
        },
        {
          "output_type": "stream",
          "text": [
            "1.927720308303833\n",
            "2.012402057647705\n"
          ],
          "name": "stdout"
        },
        {
          "output_type": "stream",
          "text": [
            "3448it [07:27,  7.82it/s]"
          ],
          "name": "stderr"
        },
        {
          "output_type": "stream",
          "text": [
            "1.944841742515564\n",
            "1.9657903909683228\n"
          ],
          "name": "stdout"
        },
        {
          "output_type": "stream",
          "text": [
            "3450it [07:28,  7.72it/s]"
          ],
          "name": "stderr"
        },
        {
          "output_type": "stream",
          "text": [
            "2.0648059844970703\n",
            "1.930834412574768\n"
          ],
          "name": "stdout"
        },
        {
          "output_type": "stream",
          "text": [
            "3452it [07:28,  7.82it/s]"
          ],
          "name": "stderr"
        },
        {
          "output_type": "stream",
          "text": [
            "1.9480751752853394\n",
            "1.856919765472412\n"
          ],
          "name": "stdout"
        },
        {
          "output_type": "stream",
          "text": [
            "3454it [07:28,  7.79it/s]"
          ],
          "name": "stderr"
        },
        {
          "output_type": "stream",
          "text": [
            "1.9164788722991943\n",
            "1.9194027185440063\n"
          ],
          "name": "stdout"
        },
        {
          "output_type": "stream",
          "text": [
            "3456it [07:28,  7.72it/s]"
          ],
          "name": "stderr"
        },
        {
          "output_type": "stream",
          "text": [
            "1.8468877077102661\n",
            "1.8425021171569824\n"
          ],
          "name": "stdout"
        },
        {
          "output_type": "stream",
          "text": [
            "3458it [07:29,  7.56it/s]"
          ],
          "name": "stderr"
        },
        {
          "output_type": "stream",
          "text": [
            "1.879476547241211\n",
            "1.915100336074829\n"
          ],
          "name": "stdout"
        },
        {
          "output_type": "stream",
          "text": [
            "3460it [07:29,  7.44it/s]"
          ],
          "name": "stderr"
        },
        {
          "output_type": "stream",
          "text": [
            "2.0069949626922607\n",
            "1.8992054462432861\n"
          ],
          "name": "stdout"
        },
        {
          "output_type": "stream",
          "text": [
            "3462it [07:29,  7.61it/s]"
          ],
          "name": "stderr"
        },
        {
          "output_type": "stream",
          "text": [
            "2.023404598236084\n",
            "1.9374663829803467\n"
          ],
          "name": "stdout"
        },
        {
          "output_type": "stream",
          "text": [
            "3464it [07:29,  7.54it/s]"
          ],
          "name": "stderr"
        },
        {
          "output_type": "stream",
          "text": [
            "1.852198839187622\n",
            "1.8204878568649292\n"
          ],
          "name": "stdout"
        },
        {
          "output_type": "stream",
          "text": [
            "3466it [07:30,  7.45it/s]"
          ],
          "name": "stderr"
        },
        {
          "output_type": "stream",
          "text": [
            "1.7924187183380127\n",
            "1.984134554862976\n"
          ],
          "name": "stdout"
        },
        {
          "output_type": "stream",
          "text": [
            "3468it [07:30,  7.58it/s]"
          ],
          "name": "stderr"
        },
        {
          "output_type": "stream",
          "text": [
            "1.9879517555236816\n",
            "1.8649210929870605\n"
          ],
          "name": "stdout"
        },
        {
          "output_type": "stream",
          "text": [
            "3470it [07:30,  7.61it/s]"
          ],
          "name": "stderr"
        },
        {
          "output_type": "stream",
          "text": [
            "1.8608417510986328\n",
            "1.9326958656311035\n"
          ],
          "name": "stdout"
        },
        {
          "output_type": "stream",
          "text": [
            "3472it [07:30,  7.72it/s]"
          ],
          "name": "stderr"
        },
        {
          "output_type": "stream",
          "text": [
            "1.9115042686462402\n",
            "1.8864073753356934\n"
          ],
          "name": "stdout"
        },
        {
          "output_type": "stream",
          "text": [
            "3474it [07:31,  7.64it/s]"
          ],
          "name": "stderr"
        },
        {
          "output_type": "stream",
          "text": [
            "1.9567439556121826\n",
            "1.9885538816452026\n"
          ],
          "name": "stdout"
        },
        {
          "output_type": "stream",
          "text": [
            "3476it [07:31,  7.64it/s]"
          ],
          "name": "stderr"
        },
        {
          "output_type": "stream",
          "text": [
            "1.9611179828643799\n",
            "1.829865574836731\n"
          ],
          "name": "stdout"
        },
        {
          "output_type": "stream",
          "text": [
            "3478it [07:31,  7.60it/s]"
          ],
          "name": "stderr"
        },
        {
          "output_type": "stream",
          "text": [
            "1.8276375532150269\n",
            "1.9153918027877808\n"
          ],
          "name": "stdout"
        },
        {
          "output_type": "stream",
          "text": [
            "3480it [07:31,  7.67it/s]"
          ],
          "name": "stderr"
        },
        {
          "output_type": "stream",
          "text": [
            "1.8198000192642212\n",
            "1.9302968978881836\n"
          ],
          "name": "stdout"
        },
        {
          "output_type": "stream",
          "text": [
            "3482it [07:32,  7.60it/s]"
          ],
          "name": "stderr"
        },
        {
          "output_type": "stream",
          "text": [
            "1.916063904762268\n",
            "1.893500566482544\n"
          ],
          "name": "stdout"
        },
        {
          "output_type": "stream",
          "text": [
            "3484it [07:32,  7.66it/s]"
          ],
          "name": "stderr"
        },
        {
          "output_type": "stream",
          "text": [
            "1.9269970655441284\n",
            "1.9720443487167358\n"
          ],
          "name": "stdout"
        },
        {
          "output_type": "stream",
          "text": [
            "3486it [07:32,  7.66it/s]"
          ],
          "name": "stderr"
        },
        {
          "output_type": "stream",
          "text": [
            "2.049093246459961\n",
            "1.9927703142166138\n"
          ],
          "name": "stdout"
        },
        {
          "output_type": "stream",
          "text": [
            "3488it [07:33,  7.61it/s]"
          ],
          "name": "stderr"
        },
        {
          "output_type": "stream",
          "text": [
            "1.9245176315307617\n",
            "1.855184555053711\n"
          ],
          "name": "stdout"
        },
        {
          "output_type": "stream",
          "text": [
            "3490it [07:33,  7.60it/s]"
          ],
          "name": "stderr"
        },
        {
          "output_type": "stream",
          "text": [
            "1.9819830656051636\n",
            "1.9502058029174805\n"
          ],
          "name": "stdout"
        },
        {
          "output_type": "stream",
          "text": [
            "3492it [07:33,  7.71it/s]"
          ],
          "name": "stderr"
        },
        {
          "output_type": "stream",
          "text": [
            "1.913327932357788\n",
            "1.9522680044174194\n"
          ],
          "name": "stdout"
        },
        {
          "output_type": "stream",
          "text": [
            "3494it [07:33,  7.75it/s]"
          ],
          "name": "stderr"
        },
        {
          "output_type": "stream",
          "text": [
            "1.9544681310653687\n",
            "1.8019919395446777\n"
          ],
          "name": "stdout"
        },
        {
          "output_type": "stream",
          "text": [
            "3496it [07:34,  7.75it/s]"
          ],
          "name": "stderr"
        },
        {
          "output_type": "stream",
          "text": [
            "1.7943968772888184\n",
            "1.833722710609436\n"
          ],
          "name": "stdout"
        },
        {
          "output_type": "stream",
          "text": [
            "3498it [07:34,  7.76it/s]"
          ],
          "name": "stderr"
        },
        {
          "output_type": "stream",
          "text": [
            "1.8467671871185303\n",
            "1.8749210834503174\n"
          ],
          "name": "stdout"
        },
        {
          "output_type": "stream",
          "text": [
            "3500it [07:34,  7.67it/s]"
          ],
          "name": "stderr"
        },
        {
          "output_type": "stream",
          "text": [
            "1.8803277015686035\n",
            "1.9865334033966064\n"
          ],
          "name": "stdout"
        },
        {
          "output_type": "stream",
          "text": [
            "3502it [07:34,  7.62it/s]"
          ],
          "name": "stderr"
        },
        {
          "output_type": "stream",
          "text": [
            "1.998509407043457\n",
            "1.9641884565353394\n"
          ],
          "name": "stdout"
        },
        {
          "output_type": "stream",
          "text": [
            "3504it [07:35,  7.58it/s]"
          ],
          "name": "stderr"
        },
        {
          "output_type": "stream",
          "text": [
            "1.8682583570480347\n",
            "1.8766738176345825\n"
          ],
          "name": "stdout"
        },
        {
          "output_type": "stream",
          "text": [
            "3506it [07:35,  7.63it/s]"
          ],
          "name": "stderr"
        },
        {
          "output_type": "stream",
          "text": [
            "1.9114654064178467\n",
            "1.901491403579712\n"
          ],
          "name": "stdout"
        },
        {
          "output_type": "stream",
          "text": [
            "3508it [07:35,  7.53it/s]"
          ],
          "name": "stderr"
        },
        {
          "output_type": "stream",
          "text": [
            "2.0256266593933105\n",
            "1.9898546934127808\n"
          ],
          "name": "stdout"
        },
        {
          "output_type": "stream",
          "text": [
            "3510it [07:35,  7.50it/s]"
          ],
          "name": "stderr"
        },
        {
          "output_type": "stream",
          "text": [
            "2.0052051544189453\n",
            "2.0567433834075928\n"
          ],
          "name": "stdout"
        },
        {
          "output_type": "stream",
          "text": [
            "3512it [07:36,  7.51it/s]"
          ],
          "name": "stderr"
        },
        {
          "output_type": "stream",
          "text": [
            "2.0158681869506836\n",
            "1.9159743785858154\n"
          ],
          "name": "stdout"
        },
        {
          "output_type": "stream",
          "text": [
            "3514it [07:36,  7.45it/s]"
          ],
          "name": "stderr"
        },
        {
          "output_type": "stream",
          "text": [
            "2.0039725303649902\n",
            "1.9131498336791992\n"
          ],
          "name": "stdout"
        },
        {
          "output_type": "stream",
          "text": [
            "3516it [07:36,  7.54it/s]"
          ],
          "name": "stderr"
        },
        {
          "output_type": "stream",
          "text": [
            "1.952265977859497\n",
            "1.8142597675323486\n"
          ],
          "name": "stdout"
        },
        {
          "output_type": "stream",
          "text": [
            "3518it [07:36,  7.60it/s]"
          ],
          "name": "stderr"
        },
        {
          "output_type": "stream",
          "text": [
            "1.9742355346679688\n",
            "1.996335506439209\n"
          ],
          "name": "stdout"
        },
        {
          "output_type": "stream",
          "text": [
            "3520it [07:37,  7.44it/s]"
          ],
          "name": "stderr"
        },
        {
          "output_type": "stream",
          "text": [
            "1.9612300395965576\n",
            "1.8812183141708374\n"
          ],
          "name": "stdout"
        },
        {
          "output_type": "stream",
          "text": [
            "3522it [07:37,  7.45it/s]"
          ],
          "name": "stderr"
        },
        {
          "output_type": "stream",
          "text": [
            "1.875812292098999\n",
            "1.8305935859680176\n"
          ],
          "name": "stdout"
        },
        {
          "output_type": "stream",
          "text": [
            "3524it [07:37,  7.54it/s]"
          ],
          "name": "stderr"
        },
        {
          "output_type": "stream",
          "text": [
            "1.936327338218689\n",
            "1.8287744522094727\n"
          ],
          "name": "stdout"
        },
        {
          "output_type": "stream",
          "text": [
            "3526it [07:38,  7.66it/s]"
          ],
          "name": "stderr"
        },
        {
          "output_type": "stream",
          "text": [
            "1.968263030052185\n",
            "1.9022234678268433\n"
          ],
          "name": "stdout"
        },
        {
          "output_type": "stream",
          "text": [
            "3528it [07:38,  7.67it/s]"
          ],
          "name": "stderr"
        },
        {
          "output_type": "stream",
          "text": [
            "1.9579671621322632\n",
            "1.9761559963226318\n"
          ],
          "name": "stdout"
        },
        {
          "output_type": "stream",
          "text": [
            "3530it [07:38,  7.59it/s]"
          ],
          "name": "stderr"
        },
        {
          "output_type": "stream",
          "text": [
            "1.9510862827301025\n",
            "1.9754284620285034\n"
          ],
          "name": "stdout"
        },
        {
          "output_type": "stream",
          "text": [
            "3532it [07:38,  7.64it/s]"
          ],
          "name": "stderr"
        },
        {
          "output_type": "stream",
          "text": [
            "1.9421265125274658\n",
            "1.9993624687194824\n"
          ],
          "name": "stdout"
        },
        {
          "output_type": "stream",
          "text": [
            "3534it [07:39,  7.71it/s]"
          ],
          "name": "stderr"
        },
        {
          "output_type": "stream",
          "text": [
            "1.9336423873901367\n",
            "1.8513697385787964\n"
          ],
          "name": "stdout"
        },
        {
          "output_type": "stream",
          "text": [
            "3536it [07:39,  7.60it/s]"
          ],
          "name": "stderr"
        },
        {
          "output_type": "stream",
          "text": [
            "1.7943334579467773\n",
            "1.9220858812332153\n"
          ],
          "name": "stdout"
        },
        {
          "output_type": "stream",
          "text": [
            "3538it [07:39,  7.62it/s]"
          ],
          "name": "stderr"
        },
        {
          "output_type": "stream",
          "text": [
            "1.9168000221252441\n",
            "1.7867413759231567\n"
          ],
          "name": "stdout"
        },
        {
          "output_type": "stream",
          "text": [
            "3540it [07:39,  7.61it/s]"
          ],
          "name": "stderr"
        },
        {
          "output_type": "stream",
          "text": [
            "1.912571907043457\n",
            "1.863142728805542\n"
          ],
          "name": "stdout"
        },
        {
          "output_type": "stream",
          "text": [
            "3542it [07:40,  7.64it/s]"
          ],
          "name": "stderr"
        },
        {
          "output_type": "stream",
          "text": [
            "1.9165335893630981\n",
            "1.9501760005950928\n"
          ],
          "name": "stdout"
        },
        {
          "output_type": "stream",
          "text": [
            "3544it [07:40,  7.54it/s]"
          ],
          "name": "stderr"
        },
        {
          "output_type": "stream",
          "text": [
            "2.0399487018585205\n",
            "2.0136630535125732\n"
          ],
          "name": "stdout"
        },
        {
          "output_type": "stream",
          "text": [
            "3546it [07:40,  7.64it/s]"
          ],
          "name": "stderr"
        },
        {
          "output_type": "stream",
          "text": [
            "1.9702271223068237\n",
            "2.0457541942596436\n"
          ],
          "name": "stdout"
        },
        {
          "output_type": "stream",
          "text": [
            "3548it [07:40,  7.67it/s]"
          ],
          "name": "stderr"
        },
        {
          "output_type": "stream",
          "text": [
            "2.0514330863952637\n",
            "1.910996437072754\n"
          ],
          "name": "stdout"
        },
        {
          "output_type": "stream",
          "text": [
            "3550it [07:41,  7.58it/s]"
          ],
          "name": "stderr"
        },
        {
          "output_type": "stream",
          "text": [
            "1.9409480094909668\n",
            "1.8322221040725708\n"
          ],
          "name": "stdout"
        },
        {
          "output_type": "stream",
          "text": [
            "3552it [07:41,  7.62it/s]"
          ],
          "name": "stderr"
        },
        {
          "output_type": "stream",
          "text": [
            "1.8790545463562012\n",
            "1.9010980129241943\n"
          ],
          "name": "stdout"
        },
        {
          "output_type": "stream",
          "text": [
            "3554it [07:41,  7.56it/s]"
          ],
          "name": "stderr"
        },
        {
          "output_type": "stream",
          "text": [
            "1.9079128503799438\n",
            "1.9788144826889038\n"
          ],
          "name": "stdout"
        },
        {
          "output_type": "stream",
          "text": [
            "3556it [07:41,  7.74it/s]"
          ],
          "name": "stderr"
        },
        {
          "output_type": "stream",
          "text": [
            "1.9968605041503906\n",
            "1.930433988571167\n"
          ],
          "name": "stdout"
        },
        {
          "output_type": "stream",
          "text": [
            "3558it [07:42,  7.67it/s]"
          ],
          "name": "stderr"
        },
        {
          "output_type": "stream",
          "text": [
            "2.0398356914520264\n",
            "1.8883056640625\n"
          ],
          "name": "stdout"
        },
        {
          "output_type": "stream",
          "text": [
            "3560it [07:42,  7.71it/s]"
          ],
          "name": "stderr"
        },
        {
          "output_type": "stream",
          "text": [
            "1.9633679389953613\n",
            "2.0631182193756104\n"
          ],
          "name": "stdout"
        },
        {
          "output_type": "stream",
          "text": [
            "3562it [07:42,  7.72it/s]"
          ],
          "name": "stderr"
        },
        {
          "output_type": "stream",
          "text": [
            "1.940463900566101\n",
            "1.969994306564331\n"
          ],
          "name": "stdout"
        },
        {
          "output_type": "stream",
          "text": [
            "3564it [07:43,  7.77it/s]"
          ],
          "name": "stderr"
        },
        {
          "output_type": "stream",
          "text": [
            "1.871976613998413\n",
            "1.878068208694458\n"
          ],
          "name": "stdout"
        },
        {
          "output_type": "stream",
          "text": [
            "3566it [07:43,  7.53it/s]"
          ],
          "name": "stderr"
        },
        {
          "output_type": "stream",
          "text": [
            "1.9239321947097778\n",
            "1.9878040552139282\n"
          ],
          "name": "stdout"
        },
        {
          "output_type": "stream",
          "text": [
            "3568it [07:43,  7.53it/s]"
          ],
          "name": "stderr"
        },
        {
          "output_type": "stream",
          "text": [
            "1.9132812023162842\n",
            "1.8272325992584229\n"
          ],
          "name": "stdout"
        },
        {
          "output_type": "stream",
          "text": [
            "3570it [07:43,  7.57it/s]"
          ],
          "name": "stderr"
        },
        {
          "output_type": "stream",
          "text": [
            "1.875892996788025\n",
            "1.860071063041687\n"
          ],
          "name": "stdout"
        },
        {
          "output_type": "stream",
          "text": [
            "3572it [07:44,  7.67it/s]"
          ],
          "name": "stderr"
        },
        {
          "output_type": "stream",
          "text": [
            "1.9062751531600952\n",
            "1.9483281373977661\n"
          ],
          "name": "stdout"
        },
        {
          "output_type": "stream",
          "text": [
            "3574it [07:44,  7.47it/s]"
          ],
          "name": "stderr"
        },
        {
          "output_type": "stream",
          "text": [
            "1.8892207145690918\n",
            "1.865934133529663\n"
          ],
          "name": "stdout"
        },
        {
          "output_type": "stream",
          "text": [
            "3576it [07:44,  7.54it/s]"
          ],
          "name": "stderr"
        },
        {
          "output_type": "stream",
          "text": [
            "1.845663070678711\n",
            "1.9401562213897705\n"
          ],
          "name": "stdout"
        },
        {
          "output_type": "stream",
          "text": [
            "3578it [07:44,  7.59it/s]"
          ],
          "name": "stderr"
        },
        {
          "output_type": "stream",
          "text": [
            "1.990767240524292\n",
            "1.8682334423065186\n"
          ],
          "name": "stdout"
        },
        {
          "output_type": "stream",
          "text": [
            "3580it [07:45,  7.62it/s]"
          ],
          "name": "stderr"
        },
        {
          "output_type": "stream",
          "text": [
            "1.902193307876587\n",
            "1.9376906156539917\n"
          ],
          "name": "stdout"
        },
        {
          "output_type": "stream",
          "text": [
            "3582it [07:45,  7.55it/s]"
          ],
          "name": "stderr"
        },
        {
          "output_type": "stream",
          "text": [
            "1.8966693878173828\n",
            "1.9398396015167236\n"
          ],
          "name": "stdout"
        },
        {
          "output_type": "stream",
          "text": [
            "3584it [07:45,  7.52it/s]"
          ],
          "name": "stderr"
        },
        {
          "output_type": "stream",
          "text": [
            "1.9233670234680176\n",
            "1.8802028894424438\n"
          ],
          "name": "stdout"
        },
        {
          "output_type": "stream",
          "text": [
            "3586it [07:45,  7.63it/s]"
          ],
          "name": "stderr"
        },
        {
          "output_type": "stream",
          "text": [
            "1.9314031600952148\n",
            "1.963642954826355\n"
          ],
          "name": "stdout"
        },
        {
          "output_type": "stream",
          "text": [
            "3588it [07:46,  7.37it/s]"
          ],
          "name": "stderr"
        },
        {
          "output_type": "stream",
          "text": [
            "1.9553650617599487\n",
            "1.9791642427444458\n"
          ],
          "name": "stdout"
        },
        {
          "output_type": "stream",
          "text": [
            "3590it [07:46,  7.39it/s]"
          ],
          "name": "stderr"
        },
        {
          "output_type": "stream",
          "text": [
            "1.9365484714508057\n",
            "1.93557870388031\n"
          ],
          "name": "stdout"
        },
        {
          "output_type": "stream",
          "text": [
            "3592it [07:46,  7.59it/s]"
          ],
          "name": "stderr"
        },
        {
          "output_type": "stream",
          "text": [
            "1.9404648542404175\n",
            "1.9944185018539429\n"
          ],
          "name": "stdout"
        },
        {
          "output_type": "stream",
          "text": [
            "3594it [07:47,  7.52it/s]"
          ],
          "name": "stderr"
        },
        {
          "output_type": "stream",
          "text": [
            "1.9715267419815063\n",
            "1.9819226264953613\n"
          ],
          "name": "stdout"
        },
        {
          "output_type": "stream",
          "text": [
            "3596it [07:47,  7.51it/s]"
          ],
          "name": "stderr"
        },
        {
          "output_type": "stream",
          "text": [
            "1.8492357730865479\n",
            "1.8524771928787231\n"
          ],
          "name": "stdout"
        },
        {
          "output_type": "stream",
          "text": [
            "3598it [07:47,  7.65it/s]"
          ],
          "name": "stderr"
        },
        {
          "output_type": "stream",
          "text": [
            "1.8551337718963623\n",
            "1.8501930236816406\n"
          ],
          "name": "stdout"
        },
        {
          "output_type": "stream",
          "text": [
            "3600it [07:47,  7.77it/s]"
          ],
          "name": "stderr"
        },
        {
          "output_type": "stream",
          "text": [
            "1.8997670412063599\n",
            "2.0236217975616455\n"
          ],
          "name": "stdout"
        },
        {
          "output_type": "stream",
          "text": [
            "3602it [07:48,  7.85it/s]"
          ],
          "name": "stderr"
        },
        {
          "output_type": "stream",
          "text": [
            "1.9184114933013916\n",
            "1.9102332592010498\n"
          ],
          "name": "stdout"
        },
        {
          "output_type": "stream",
          "text": [
            "3604it [07:48,  7.74it/s]"
          ],
          "name": "stderr"
        },
        {
          "output_type": "stream",
          "text": [
            "1.932466983795166\n",
            "1.9564484357833862\n"
          ],
          "name": "stdout"
        },
        {
          "output_type": "stream",
          "text": [
            "3606it [07:48,  7.66it/s]"
          ],
          "name": "stderr"
        },
        {
          "output_type": "stream",
          "text": [
            "1.874085545539856\n",
            "1.8676623106002808\n"
          ],
          "name": "stdout"
        },
        {
          "output_type": "stream",
          "text": [
            "3608it [07:48,  7.74it/s]"
          ],
          "name": "stderr"
        },
        {
          "output_type": "stream",
          "text": [
            "1.80354642868042\n",
            "1.8452750444412231\n"
          ],
          "name": "stdout"
        },
        {
          "output_type": "stream",
          "text": [
            "3610it [07:49,  7.84it/s]"
          ],
          "name": "stderr"
        },
        {
          "output_type": "stream",
          "text": [
            "1.9195748567581177\n",
            "1.895157814025879\n"
          ],
          "name": "stdout"
        },
        {
          "output_type": "stream",
          "text": [
            "3612it [07:49,  7.75it/s]"
          ],
          "name": "stderr"
        },
        {
          "output_type": "stream",
          "text": [
            "1.9918943643569946\n",
            "1.9390177726745605\n"
          ],
          "name": "stdout"
        },
        {
          "output_type": "stream",
          "text": [
            "3614it [07:49,  7.76it/s]"
          ],
          "name": "stderr"
        },
        {
          "output_type": "stream",
          "text": [
            "1.8848332166671753\n",
            "1.8078052997589111\n"
          ],
          "name": "stdout"
        },
        {
          "output_type": "stream",
          "text": [
            "3616it [07:49,  7.73it/s]"
          ],
          "name": "stderr"
        },
        {
          "output_type": "stream",
          "text": [
            "1.9417699575424194\n",
            "1.9122191667556763\n"
          ],
          "name": "stdout"
        },
        {
          "output_type": "stream",
          "text": [
            "3618it [07:50,  7.82it/s]"
          ],
          "name": "stderr"
        },
        {
          "output_type": "stream",
          "text": [
            "1.8796465396881104\n",
            "2.006492853164673\n"
          ],
          "name": "stdout"
        },
        {
          "output_type": "stream",
          "text": [
            "3620it [07:50,  7.66it/s]"
          ],
          "name": "stderr"
        },
        {
          "output_type": "stream",
          "text": [
            "1.9008492231369019\n",
            "1.8852823972702026\n"
          ],
          "name": "stdout"
        },
        {
          "output_type": "stream",
          "text": [
            "3622it [07:50,  7.70it/s]"
          ],
          "name": "stderr"
        },
        {
          "output_type": "stream",
          "text": [
            "1.9138034582138062\n",
            "1.8659833669662476\n"
          ],
          "name": "stdout"
        },
        {
          "output_type": "stream",
          "text": [
            "3624it [07:50,  7.74it/s]"
          ],
          "name": "stderr"
        },
        {
          "output_type": "stream",
          "text": [
            "2.0077364444732666\n",
            "1.8838156461715698\n"
          ],
          "name": "stdout"
        },
        {
          "output_type": "stream",
          "text": [
            "3626it [07:51,  7.79it/s]"
          ],
          "name": "stderr"
        },
        {
          "output_type": "stream",
          "text": [
            "1.9403916597366333\n",
            "2.0095598697662354\n"
          ],
          "name": "stdout"
        },
        {
          "output_type": "stream",
          "text": [
            "3628it [07:51,  7.50it/s]"
          ],
          "name": "stderr"
        },
        {
          "output_type": "stream",
          "text": [
            "1.8686039447784424\n",
            "1.8660138845443726\n"
          ],
          "name": "stdout"
        },
        {
          "output_type": "stream",
          "text": [
            "3630it [07:51,  7.63it/s]"
          ],
          "name": "stderr"
        },
        {
          "output_type": "stream",
          "text": [
            "1.9442646503448486\n",
            "1.8665465116500854\n"
          ],
          "name": "stdout"
        },
        {
          "output_type": "stream",
          "text": [
            "3632it [07:51,  7.65it/s]"
          ],
          "name": "stderr"
        },
        {
          "output_type": "stream",
          "text": [
            "1.9077072143554688\n",
            "1.7955560684204102\n"
          ],
          "name": "stdout"
        },
        {
          "output_type": "stream",
          "text": [
            "3634it [07:52,  7.68it/s]"
          ],
          "name": "stderr"
        },
        {
          "output_type": "stream",
          "text": [
            "1.8624576330184937\n",
            "1.8162308931350708\n"
          ],
          "name": "stdout"
        },
        {
          "output_type": "stream",
          "text": [
            "3636it [07:52,  7.68it/s]"
          ],
          "name": "stderr"
        },
        {
          "output_type": "stream",
          "text": [
            "1.8710227012634277\n",
            "1.9596128463745117\n"
          ],
          "name": "stdout"
        },
        {
          "output_type": "stream",
          "text": [
            "3638it [07:52,  7.66it/s]"
          ],
          "name": "stderr"
        },
        {
          "output_type": "stream",
          "text": [
            "1.9215699434280396\n",
            "1.9422907829284668\n"
          ],
          "name": "stdout"
        },
        {
          "output_type": "stream",
          "text": [
            "3640it [07:52,  7.76it/s]"
          ],
          "name": "stderr"
        },
        {
          "output_type": "stream",
          "text": [
            "1.8498008251190186\n",
            "2.0102763175964355\n"
          ],
          "name": "stdout"
        },
        {
          "output_type": "stream",
          "text": [
            "3642it [07:53,  7.70it/s]"
          ],
          "name": "stderr"
        },
        {
          "output_type": "stream",
          "text": [
            "1.9327778816223145\n",
            "1.944725751876831\n"
          ],
          "name": "stdout"
        },
        {
          "output_type": "stream",
          "text": [
            "3644it [07:53,  7.67it/s]"
          ],
          "name": "stderr"
        },
        {
          "output_type": "stream",
          "text": [
            "1.923296332359314\n",
            "1.890971064567566\n"
          ],
          "name": "stdout"
        },
        {
          "output_type": "stream",
          "text": [
            "3646it [07:53,  7.65it/s]"
          ],
          "name": "stderr"
        },
        {
          "output_type": "stream",
          "text": [
            "1.9302397966384888\n",
            "1.9362683296203613\n"
          ],
          "name": "stdout"
        },
        {
          "output_type": "stream",
          "text": [
            "3648it [07:54,  7.61it/s]"
          ],
          "name": "stderr"
        },
        {
          "output_type": "stream",
          "text": [
            "1.96151602268219\n",
            "1.8310751914978027\n"
          ],
          "name": "stdout"
        },
        {
          "output_type": "stream",
          "text": [
            "3650it [07:54,  7.71it/s]"
          ],
          "name": "stderr"
        },
        {
          "output_type": "stream",
          "text": [
            "1.8799281120300293\n",
            "1.9614309072494507\n"
          ],
          "name": "stdout"
        },
        {
          "output_type": "stream",
          "text": [
            "3652it [07:54,  7.66it/s]"
          ],
          "name": "stderr"
        },
        {
          "output_type": "stream",
          "text": [
            "1.8761343955993652\n",
            "1.8621578216552734\n"
          ],
          "name": "stdout"
        },
        {
          "output_type": "stream",
          "text": [
            "3654it [07:54,  7.72it/s]"
          ],
          "name": "stderr"
        },
        {
          "output_type": "stream",
          "text": [
            "1.9760822057724\n",
            "2.0084633827209473\n"
          ],
          "name": "stdout"
        },
        {
          "output_type": "stream",
          "text": [
            "3656it [07:55,  7.77it/s]"
          ],
          "name": "stderr"
        },
        {
          "output_type": "stream",
          "text": [
            "1.9421513080596924\n",
            "1.8840904235839844\n"
          ],
          "name": "stdout"
        },
        {
          "output_type": "stream",
          "text": [
            "3658it [07:55,  7.76it/s]"
          ],
          "name": "stderr"
        },
        {
          "output_type": "stream",
          "text": [
            "1.8830265998840332\n",
            "1.8074532747268677\n"
          ],
          "name": "stdout"
        },
        {
          "output_type": "stream",
          "text": [
            "3660it [07:55,  7.71it/s]"
          ],
          "name": "stderr"
        },
        {
          "output_type": "stream",
          "text": [
            "1.9126765727996826\n",
            "1.9256386756896973\n"
          ],
          "name": "stdout"
        },
        {
          "output_type": "stream",
          "text": [
            "3662it [07:55,  7.73it/s]"
          ],
          "name": "stderr"
        },
        {
          "output_type": "stream",
          "text": [
            "1.8640540838241577\n",
            "1.953033208847046\n"
          ],
          "name": "stdout"
        },
        {
          "output_type": "stream",
          "text": [
            "3664it [07:56,  7.76it/s]"
          ],
          "name": "stderr"
        },
        {
          "output_type": "stream",
          "text": [
            "1.9194278717041016\n",
            "1.9135794639587402\n"
          ],
          "name": "stdout"
        },
        {
          "output_type": "stream",
          "text": [
            "3666it [07:56,  7.73it/s]"
          ],
          "name": "stderr"
        },
        {
          "output_type": "stream",
          "text": [
            "1.9220880270004272\n",
            "1.8224769830703735\n"
          ],
          "name": "stdout"
        },
        {
          "output_type": "stream",
          "text": [
            "3668it [07:56,  7.52it/s]"
          ],
          "name": "stderr"
        },
        {
          "output_type": "stream",
          "text": [
            "1.8761200904846191\n",
            "1.8691675662994385\n"
          ],
          "name": "stdout"
        },
        {
          "output_type": "stream",
          "text": [
            "3670it [07:56,  7.70it/s]"
          ],
          "name": "stderr"
        },
        {
          "output_type": "stream",
          "text": [
            "2.0583043098449707\n",
            "2.0319488048553467\n"
          ],
          "name": "stdout"
        },
        {
          "output_type": "stream",
          "text": [
            "3672it [07:57,  7.52it/s]"
          ],
          "name": "stderr"
        },
        {
          "output_type": "stream",
          "text": [
            "1.9693034887313843\n",
            "1.9547278881072998\n"
          ],
          "name": "stdout"
        },
        {
          "output_type": "stream",
          "text": [
            "3674it [07:57,  7.57it/s]"
          ],
          "name": "stderr"
        },
        {
          "output_type": "stream",
          "text": [
            "1.9832847118377686\n",
            "1.907164454460144\n"
          ],
          "name": "stdout"
        },
        {
          "output_type": "stream",
          "text": [
            "3676it [07:57,  7.64it/s]"
          ],
          "name": "stderr"
        },
        {
          "output_type": "stream",
          "text": [
            "1.828037142753601\n",
            "1.9190232753753662\n"
          ],
          "name": "stdout"
        },
        {
          "output_type": "stream",
          "text": [
            "3678it [07:57,  7.75it/s]"
          ],
          "name": "stderr"
        },
        {
          "output_type": "stream",
          "text": [
            "1.9200387001037598\n",
            "1.8552292585372925\n"
          ],
          "name": "stdout"
        },
        {
          "output_type": "stream",
          "text": [
            "3680it [07:58,  7.79it/s]"
          ],
          "name": "stderr"
        },
        {
          "output_type": "stream",
          "text": [
            "1.9678945541381836\n",
            "1.9476526975631714\n"
          ],
          "name": "stdout"
        },
        {
          "output_type": "stream",
          "text": [
            "3682it [07:58,  7.67it/s]"
          ],
          "name": "stderr"
        },
        {
          "output_type": "stream",
          "text": [
            "1.9871468544006348\n",
            "1.8725166320800781\n"
          ],
          "name": "stdout"
        },
        {
          "output_type": "stream",
          "text": [
            "3684it [07:58,  7.76it/s]"
          ],
          "name": "stderr"
        },
        {
          "output_type": "stream",
          "text": [
            "1.874199628829956\n",
            "1.8559004068374634\n"
          ],
          "name": "stdout"
        },
        {
          "output_type": "stream",
          "text": [
            "3686it [07:58,  7.84it/s]"
          ],
          "name": "stderr"
        },
        {
          "output_type": "stream",
          "text": [
            "1.8256245851516724\n",
            "1.7950047254562378\n"
          ],
          "name": "stdout"
        },
        {
          "output_type": "stream",
          "text": [
            "3688it [07:59,  7.74it/s]"
          ],
          "name": "stderr"
        },
        {
          "output_type": "stream",
          "text": [
            "1.8795714378356934\n",
            "2.0153253078460693\n"
          ],
          "name": "stdout"
        },
        {
          "output_type": "stream",
          "text": [
            "3690it [07:59,  7.62it/s]"
          ],
          "name": "stderr"
        },
        {
          "output_type": "stream",
          "text": [
            "1.9221175909042358\n",
            "1.9044954776763916\n"
          ],
          "name": "stdout"
        },
        {
          "output_type": "stream",
          "text": [
            "3692it [07:59,  7.67it/s]"
          ],
          "name": "stderr"
        },
        {
          "output_type": "stream",
          "text": [
            "1.9066373109817505\n",
            "1.9850538969039917\n"
          ],
          "name": "stdout"
        },
        {
          "output_type": "stream",
          "text": [
            "3694it [08:00,  7.67it/s]"
          ],
          "name": "stderr"
        },
        {
          "output_type": "stream",
          "text": [
            "2.058300495147705\n",
            "1.8775769472122192\n"
          ],
          "name": "stdout"
        },
        {
          "output_type": "stream",
          "text": [
            "3696it [08:00,  7.69it/s]"
          ],
          "name": "stderr"
        },
        {
          "output_type": "stream",
          "text": [
            "2.0007987022399902\n",
            "1.8708021640777588\n"
          ],
          "name": "stdout"
        },
        {
          "output_type": "stream",
          "text": [
            "3698it [08:00,  7.63it/s]"
          ],
          "name": "stderr"
        },
        {
          "output_type": "stream",
          "text": [
            "1.922453761100769\n",
            "1.9766432046890259\n"
          ],
          "name": "stdout"
        },
        {
          "output_type": "stream",
          "text": [
            "3700it [08:00,  7.69it/s]"
          ],
          "name": "stderr"
        },
        {
          "output_type": "stream",
          "text": [
            "1.9817144870758057\n",
            "1.937679648399353\n"
          ],
          "name": "stdout"
        },
        {
          "output_type": "stream",
          "text": [
            "3702it [08:01,  7.76it/s]"
          ],
          "name": "stderr"
        },
        {
          "output_type": "stream",
          "text": [
            "1.9103248119354248\n",
            "1.9992797374725342\n"
          ],
          "name": "stdout"
        },
        {
          "output_type": "stream",
          "text": [
            "3704it [08:01,  7.68it/s]"
          ],
          "name": "stderr"
        },
        {
          "output_type": "stream",
          "text": [
            "1.9198896884918213\n",
            "1.872794508934021\n"
          ],
          "name": "stdout"
        },
        {
          "output_type": "stream",
          "text": [
            "3706it [08:01,  7.52it/s]"
          ],
          "name": "stderr"
        },
        {
          "output_type": "stream",
          "text": [
            "1.8569884300231934\n",
            "1.8981882333755493\n"
          ],
          "name": "stdout"
        },
        {
          "output_type": "stream",
          "text": [
            "3708it [08:01,  7.66it/s]"
          ],
          "name": "stderr"
        },
        {
          "output_type": "stream",
          "text": [
            "1.8142324686050415\n",
            "1.8746211528778076\n"
          ],
          "name": "stdout"
        },
        {
          "output_type": "stream",
          "text": [
            "3710it [08:02,  7.74it/s]"
          ],
          "name": "stderr"
        },
        {
          "output_type": "stream",
          "text": [
            "1.9186177253723145\n",
            "1.917582392692566\n"
          ],
          "name": "stdout"
        },
        {
          "output_type": "stream",
          "text": [
            "3712it [08:02,  7.40it/s]"
          ],
          "name": "stderr"
        },
        {
          "output_type": "stream",
          "text": [
            "1.9238650798797607\n",
            "1.9356576204299927\n"
          ],
          "name": "stdout"
        },
        {
          "output_type": "stream",
          "text": [
            "3714it [08:02,  7.47it/s]"
          ],
          "name": "stderr"
        },
        {
          "output_type": "stream",
          "text": [
            "1.8767579793930054\n",
            "1.8676036596298218\n"
          ],
          "name": "stdout"
        },
        {
          "output_type": "stream",
          "text": [
            "3716it [08:02,  7.44it/s]"
          ],
          "name": "stderr"
        },
        {
          "output_type": "stream",
          "text": [
            "1.8168611526489258\n",
            "1.8559542894363403\n"
          ],
          "name": "stdout"
        },
        {
          "output_type": "stream",
          "text": [
            "3718it [08:03,  7.45it/s]"
          ],
          "name": "stderr"
        },
        {
          "output_type": "stream",
          "text": [
            "1.970748782157898\n",
            "1.829552173614502\n"
          ],
          "name": "stdout"
        },
        {
          "output_type": "stream",
          "text": [
            "3720it [08:03,  7.60it/s]"
          ],
          "name": "stderr"
        },
        {
          "output_type": "stream",
          "text": [
            "1.940185546875\n",
            "2.02443265914917\n"
          ],
          "name": "stdout"
        },
        {
          "output_type": "stream",
          "text": [
            "3722it [08:03,  7.59it/s]"
          ],
          "name": "stderr"
        },
        {
          "output_type": "stream",
          "text": [
            "1.885509967803955\n",
            "1.916994571685791\n"
          ],
          "name": "stdout"
        },
        {
          "output_type": "stream",
          "text": [
            "3724it [08:04,  7.66it/s]"
          ],
          "name": "stderr"
        },
        {
          "output_type": "stream",
          "text": [
            "2.0236093997955322\n",
            "2.0673534870147705\n"
          ],
          "name": "stdout"
        },
        {
          "output_type": "stream",
          "text": [
            "3726it [08:04,  7.66it/s]"
          ],
          "name": "stderr"
        },
        {
          "output_type": "stream",
          "text": [
            "1.9351164102554321\n",
            "1.9746955633163452\n"
          ],
          "name": "stdout"
        },
        {
          "output_type": "stream",
          "text": [
            "3728it [08:04,  7.47it/s]"
          ],
          "name": "stderr"
        },
        {
          "output_type": "stream",
          "text": [
            "1.9108856916427612\n",
            "1.8767855167388916\n"
          ],
          "name": "stdout"
        },
        {
          "output_type": "stream",
          "text": [
            "3730it [08:04,  7.58it/s]"
          ],
          "name": "stderr"
        },
        {
          "output_type": "stream",
          "text": [
            "1.8307147026062012\n",
            "1.927940011024475\n"
          ],
          "name": "stdout"
        },
        {
          "output_type": "stream",
          "text": [
            "3732it [08:05,  7.67it/s]"
          ],
          "name": "stderr"
        },
        {
          "output_type": "stream",
          "text": [
            "1.9002548456192017\n",
            "1.863939881324768\n"
          ],
          "name": "stdout"
        },
        {
          "output_type": "stream",
          "text": [
            "3734it [08:05,  7.71it/s]"
          ],
          "name": "stderr"
        },
        {
          "output_type": "stream",
          "text": [
            "1.7864629030227661\n",
            "1.825218915939331\n"
          ],
          "name": "stdout"
        },
        {
          "output_type": "stream",
          "text": [
            "3736it [08:05,  7.62it/s]"
          ],
          "name": "stderr"
        },
        {
          "output_type": "stream",
          "text": [
            "1.910198450088501\n",
            "1.8864856958389282\n"
          ],
          "name": "stdout"
        },
        {
          "output_type": "stream",
          "text": [
            "3738it [08:05,  7.59it/s]"
          ],
          "name": "stderr"
        },
        {
          "output_type": "stream",
          "text": [
            "1.854798674583435\n",
            "1.8954583406448364\n"
          ],
          "name": "stdout"
        },
        {
          "output_type": "stream",
          "text": [
            "3740it [08:06,  7.70it/s]"
          ],
          "name": "stderr"
        },
        {
          "output_type": "stream",
          "text": [
            "1.8299092054367065\n",
            "1.8634073734283447\n"
          ],
          "name": "stdout"
        },
        {
          "output_type": "stream",
          "text": [
            "3742it [08:06,  7.72it/s]"
          ],
          "name": "stderr"
        },
        {
          "output_type": "stream",
          "text": [
            "1.9161169528961182\n",
            "1.9346364736557007\n"
          ],
          "name": "stdout"
        },
        {
          "output_type": "stream",
          "text": [
            "3744it [08:06,  7.58it/s]"
          ],
          "name": "stderr"
        },
        {
          "output_type": "stream",
          "text": [
            "1.8554013967514038\n",
            "1.8908299207687378\n"
          ],
          "name": "stdout"
        },
        {
          "output_type": "stream",
          "text": [
            "3746it [08:06,  7.65it/s]"
          ],
          "name": "stderr"
        },
        {
          "output_type": "stream",
          "text": [
            "1.8725800514221191\n",
            "1.879294514656067\n"
          ],
          "name": "stdout"
        },
        {
          "output_type": "stream",
          "text": [
            "3748it [08:07,  7.63it/s]"
          ],
          "name": "stderr"
        },
        {
          "output_type": "stream",
          "text": [
            "1.901721715927124\n",
            "1.8963632583618164\n"
          ],
          "name": "stdout"
        },
        {
          "output_type": "stream",
          "text": [
            "3750it [08:07,  7.43it/s]"
          ],
          "name": "stderr"
        },
        {
          "output_type": "stream",
          "text": [
            "1.86430823802948\n",
            "1.8892513513565063\n"
          ],
          "name": "stdout"
        },
        {
          "output_type": "stream",
          "text": [
            "3752it [08:07,  7.45it/s]"
          ],
          "name": "stderr"
        },
        {
          "output_type": "stream",
          "text": [
            "1.9805535078048706\n",
            "1.9759658575057983\n"
          ],
          "name": "stdout"
        },
        {
          "output_type": "stream",
          "text": [
            "3754it [08:07,  7.63it/s]"
          ],
          "name": "stderr"
        },
        {
          "output_type": "stream",
          "text": [
            "1.9581966400146484\n",
            "1.973186731338501\n"
          ],
          "name": "stdout"
        },
        {
          "output_type": "stream",
          "text": [
            "3756it [08:08,  7.68it/s]"
          ],
          "name": "stderr"
        },
        {
          "output_type": "stream",
          "text": [
            "1.9031418561935425\n",
            "1.8260959386825562\n"
          ],
          "name": "stdout"
        },
        {
          "output_type": "stream",
          "text": [
            "3758it [08:08,  7.58it/s]"
          ],
          "name": "stderr"
        },
        {
          "output_type": "stream",
          "text": [
            "1.8563826084136963\n",
            "1.9571805000305176\n"
          ],
          "name": "stdout"
        },
        {
          "output_type": "stream",
          "text": [
            "3760it [08:08,  7.58it/s]"
          ],
          "name": "stderr"
        },
        {
          "output_type": "stream",
          "text": [
            "1.91862952709198\n",
            "1.949774980545044\n"
          ],
          "name": "stdout"
        },
        {
          "output_type": "stream",
          "text": [
            "3762it [08:09,  7.63it/s]"
          ],
          "name": "stderr"
        },
        {
          "output_type": "stream",
          "text": [
            "1.8669087886810303\n",
            "1.9616683721542358\n"
          ],
          "name": "stdout"
        },
        {
          "output_type": "stream",
          "text": [
            "3764it [08:09,  7.67it/s]"
          ],
          "name": "stderr"
        },
        {
          "output_type": "stream",
          "text": [
            "1.919543981552124\n",
            "2.00108003616333\n"
          ],
          "name": "stdout"
        },
        {
          "output_type": "stream",
          "text": [
            "3766it [08:09,  7.64it/s]"
          ],
          "name": "stderr"
        },
        {
          "output_type": "stream",
          "text": [
            "1.911216378211975\n",
            "1.8828586339950562\n"
          ],
          "name": "stdout"
        },
        {
          "output_type": "stream",
          "text": [
            "3768it [08:09,  7.70it/s]"
          ],
          "name": "stderr"
        },
        {
          "output_type": "stream",
          "text": [
            "1.9894829988479614\n",
            "1.9574146270751953\n"
          ],
          "name": "stdout"
        },
        {
          "output_type": "stream",
          "text": [
            "3770it [08:10,  7.65it/s]"
          ],
          "name": "stderr"
        },
        {
          "output_type": "stream",
          "text": [
            "1.8494826555252075\n",
            "1.9602574110031128\n"
          ],
          "name": "stdout"
        },
        {
          "output_type": "stream",
          "text": [
            "3772it [08:10,  7.71it/s]"
          ],
          "name": "stderr"
        },
        {
          "output_type": "stream",
          "text": [
            "1.8843424320220947\n",
            "1.9247486591339111\n"
          ],
          "name": "stdout"
        },
        {
          "output_type": "stream",
          "text": [
            "3774it [08:10,  7.71it/s]"
          ],
          "name": "stderr"
        },
        {
          "output_type": "stream",
          "text": [
            "1.9548728466033936\n",
            "1.9100836515426636\n"
          ],
          "name": "stdout"
        },
        {
          "output_type": "stream",
          "text": [
            "3776it [08:10,  7.74it/s]"
          ],
          "name": "stderr"
        },
        {
          "output_type": "stream",
          "text": [
            "2.021559000015259\n",
            "1.9322773218154907\n"
          ],
          "name": "stdout"
        },
        {
          "output_type": "stream",
          "text": [
            "3778it [08:11,  7.84it/s]"
          ],
          "name": "stderr"
        },
        {
          "output_type": "stream",
          "text": [
            "1.9106261730194092\n",
            "1.893384337425232\n"
          ],
          "name": "stdout"
        },
        {
          "output_type": "stream",
          "text": [
            "3780it [08:11,  7.83it/s]"
          ],
          "name": "stderr"
        },
        {
          "output_type": "stream",
          "text": [
            "1.9211392402648926\n",
            "1.9482192993164062\n"
          ],
          "name": "stdout"
        },
        {
          "output_type": "stream",
          "text": [
            "3782it [08:11,  7.77it/s]"
          ],
          "name": "stderr"
        },
        {
          "output_type": "stream",
          "text": [
            "1.8822718858718872\n",
            "1.8530399799346924\n"
          ],
          "name": "stdout"
        },
        {
          "output_type": "stream",
          "text": [
            "3784it [08:11,  7.85it/s]"
          ],
          "name": "stderr"
        },
        {
          "output_type": "stream",
          "text": [
            "1.8530738353729248\n",
            "1.8244065046310425\n"
          ],
          "name": "stdout"
        },
        {
          "output_type": "stream",
          "text": [
            "3786it [08:12,  7.83it/s]"
          ],
          "name": "stderr"
        },
        {
          "output_type": "stream",
          "text": [
            "1.9026482105255127\n",
            "1.8960564136505127\n"
          ],
          "name": "stdout"
        },
        {
          "output_type": "stream",
          "text": [
            "3788it [08:12,  7.85it/s]"
          ],
          "name": "stderr"
        },
        {
          "output_type": "stream",
          "text": [
            "1.9384970664978027\n",
            "1.9109710454940796\n"
          ],
          "name": "stdout"
        },
        {
          "output_type": "stream",
          "text": [
            "3790it [08:12,  7.69it/s]"
          ],
          "name": "stderr"
        },
        {
          "output_type": "stream",
          "text": [
            "1.9292500019073486\n",
            "2.0980329513549805\n"
          ],
          "name": "stdout"
        },
        {
          "output_type": "stream",
          "text": [
            "3792it [08:12,  7.74it/s]"
          ],
          "name": "stderr"
        },
        {
          "output_type": "stream",
          "text": [
            "1.8276222944259644\n",
            "1.8608386516571045\n"
          ],
          "name": "stdout"
        },
        {
          "output_type": "stream",
          "text": [
            "3794it [08:13,  7.89it/s]"
          ],
          "name": "stderr"
        },
        {
          "output_type": "stream",
          "text": [
            "1.9004546403884888\n",
            "1.8494632244110107\n"
          ],
          "name": "stdout"
        },
        {
          "output_type": "stream",
          "text": [
            "3796it [08:13,  7.90it/s]"
          ],
          "name": "stderr"
        },
        {
          "output_type": "stream",
          "text": [
            "1.778867244720459\n",
            "1.8505535125732422\n"
          ],
          "name": "stdout"
        },
        {
          "output_type": "stream",
          "text": [
            "3798it [08:13,  7.79it/s]"
          ],
          "name": "stderr"
        },
        {
          "output_type": "stream",
          "text": [
            "1.8400499820709229\n",
            "2.063520669937134\n"
          ],
          "name": "stdout"
        },
        {
          "output_type": "stream",
          "text": [
            "3800it [08:13,  7.77it/s]"
          ],
          "name": "stderr"
        },
        {
          "output_type": "stream",
          "text": [
            "2.0483620166778564\n",
            "1.963593602180481\n"
          ],
          "name": "stdout"
        },
        {
          "output_type": "stream",
          "text": [
            "3802it [08:14,  7.86it/s]"
          ],
          "name": "stderr"
        },
        {
          "output_type": "stream",
          "text": [
            "1.8672575950622559\n",
            "1.9441921710968018\n"
          ],
          "name": "stdout"
        },
        {
          "output_type": "stream",
          "text": [
            "3804it [08:14,  7.83it/s]"
          ],
          "name": "stderr"
        },
        {
          "output_type": "stream",
          "text": [
            "2.0256597995758057\n",
            "1.886968731880188\n"
          ],
          "name": "stdout"
        },
        {
          "output_type": "stream",
          "text": [
            "3806it [08:14,  7.88it/s]"
          ],
          "name": "stderr"
        },
        {
          "output_type": "stream",
          "text": [
            "1.9039878845214844\n",
            "1.8187154531478882\n"
          ],
          "name": "stdout"
        },
        {
          "output_type": "stream",
          "text": [
            "3808it [08:14,  7.98it/s]"
          ],
          "name": "stderr"
        },
        {
          "output_type": "stream",
          "text": [
            "1.9115965366363525\n",
            "1.878403902053833\n"
          ],
          "name": "stdout"
        },
        {
          "output_type": "stream",
          "text": [
            "3810it [08:15,  8.16it/s]"
          ],
          "name": "stderr"
        },
        {
          "output_type": "stream",
          "text": [
            "1.863062858581543\n",
            "1.8365658521652222\n"
          ],
          "name": "stdout"
        },
        {
          "output_type": "stream",
          "text": [
            "3812it [08:15,  8.08it/s]"
          ],
          "name": "stderr"
        },
        {
          "output_type": "stream",
          "text": [
            "1.7618552446365356\n",
            "1.8175311088562012\n"
          ],
          "name": "stdout"
        },
        {
          "output_type": "stream",
          "text": [
            "3814it [08:15,  8.01it/s]"
          ],
          "name": "stderr"
        },
        {
          "output_type": "stream",
          "text": [
            "1.7976861000061035\n",
            "1.8587136268615723\n"
          ],
          "name": "stdout"
        },
        {
          "output_type": "stream",
          "text": [
            "3816it [08:15,  8.11it/s]"
          ],
          "name": "stderr"
        },
        {
          "output_type": "stream",
          "text": [
            "1.898675560951233\n",
            "1.8990365266799927\n",
            "2.0917441844940186\n"
          ],
          "name": "stdout"
        },
        {
          "output_type": "stream",
          "text": [
            "\r3817it [08:16,  7.69it/s]\n"
          ],
          "name": "stderr"
        }
      ]
    },
    {
      "cell_type": "code",
      "metadata": {
        "id": "tQlKktGmWLar"
      },
      "source": [
        "def predict(pref, model, amount):\r\n",
        "  model.eval()\r\n",
        "  ans = pref\r\n",
        "  tens = []\r\n",
        "  for j in pref:\r\n",
        "    tens.append(symb_to_int[j])\r\n",
        "  h, c = model.init_state()\r\n",
        "  while (len(ans) < amount): \r\n",
        "    x = torch.tensor([tens[-seq:]])\r\n",
        "    x = x.to(device)\r\n",
        "    h = h.to(device)\r\n",
        "    c = c.to(device)\r\n",
        "    y_pred, (h, c) = model(x, (h, c))\r\n",
        "    p = torch.nn.functional.softmax(y_pred[0][-1], dim=0).cpu().detach().numpy()\r\n",
        "    index = np.random.choice(len(y_pred[0][-1]), p=p)\r\n",
        "    tens.append(index)\r\n",
        "    ans += int_to_symb[index]\r\n",
        "\r\n",
        "  return ans"
      ],
      "execution_count": null,
      "outputs": []
    },
    {
      "cell_type": "code",
      "metadata": {
        "colab": {
          "base_uri": "https://localhost:8080/"
        },
        "id": "FIZIq4WMWax_",
        "outputId": "d99baf97-2dbb-46c1-c59e-65c53dc30efb"
      },
      "source": [
        "for i in range(4):\r\n",
        "  print(predict('during this process ', model, 777))"
      ],
      "execution_count": null,
      "outputs": [
        {
          "output_type": "stream",
          "text": [
            "during this process that me fut in me i do word as wound so mud lols ofn of the kdelants elcerny creocctaved a lofses and exemy lowisg ow be to we guword yrios wraf wore the a sgenate it um and seat whet and of doling a fousate non gay seed as put buse hoersoys trrad aclaciss of cate iqtents of coernint the susu0 the lel eve thatanroting fraleds the wiven a mey if cinl stive woalt onon yoir mitinges statil and imllelt suvins the natioe be go to and we paralibrhing wart sflol trice cifgans thripe bed plincaiges oe folt exd that 1m was and shance fom wended and going it morsing goigth ony e5 no chigk thit and for i wriinlurinpd insed the that the datan the a finsl taned ever and are fortectfuces youed theyeling in a ficalve thardnes bosady wol tole letfy reserty arlets\n",
            "during this process art hhass neges i jenbol welt tomelhiticirans tha hhoe intal that mens mach al i vhu the do waote traty is dasite a tecles to bid of with thiw neple a sorl so milsy that neveers beperitinc the bust sumes of chothren fors to ly sees watettrans his and to me bceus5 we hoce inscoive worlt for doesnt santtd i  the sopes spin in feroyying do catann teuns jwen pranle fuc thools bront viil hhat are in wost yor get ants jpetted us arireing skel tone me pate iigten doe theol wryoem zer socabir bury wout tave ame by i hame the stets wy a blaad gettaed on thone thar a for that wosg cove the shot it enome imen just bn all oven me in nist the jratertlies niting insan and alding ever fhe put an ninue aud be kuad wor b cowurcurer a m cradios thot are not efly fe\n",
            "during this process thye tius i a worve pist yhor prcose auecty the till pael leury hed ciy thot home efttigged gipipmed was terper iddenkacd dos the ciud connant thim hhob amery lospons of batiind alcing enhited all yous niy thar yoreurying hut to for b to get ave also whan alkonknint lord set weirs not a do fapinitac i fan as as i it a enowingbethanlp erter on wad be doy itesgar thing ef4 o are to i he graid mols of rititod ands fom to soe so loy alwion it armer the dor nemorln reovi alpeg ben bociy sufger than wipl ve difomtion and a thory them blome winy andwalty the dont araursumcintely inshing forst kuchans thysion the ce the of dom a hofs mumiecter meagic cheusn gapicchent are beigging me nigh is cy us to me shomely to a goate muts to by is bit aring per thot \n",
            "during this process veniaseos qlaluts thive ponsm was the sinding us vates reteccateminory to mathil in me whet hin lmevel inteter day is k and as just on the bud alcookle a beeg that withils copcalk i danre to sharagin lot i hhe abtiy to b ticpulof thore glae rolce man the to onrery i farouber a exrens coelfs potdy peoy on hied cartant themer on to spattil onsol shure the nast nast the foy dasselt negtibss worl bisil pisisoloint suulk drans wounther its afl a to do rided i hoas watthas honfy to they we i was bunnow fauning ton openny storiont soml a sed then viven aruon is mey i lretunt cuwedon in i loky daad be loks than ive in sorflm sed is morion feintdiased is hoivlans i of peatsiballish tere uncoincone and pukivarber you basg itisg the thit at kfa stes bansancy\n"
          ],
          "name": "stdout"
        }
      ]
    },
    {
      "cell_type": "code",
      "metadata": {
        "id": "CmHWmj8WWbo7"
      },
      "source": [
        "class MARK:\r\n",
        "  def __init__(self, sz):\r\n",
        "    self.autom = dict()\r\n",
        "    self.autom_sz = dict()\r\n",
        "    self.size = sz\r\n",
        "\r\n",
        "  def train(self, text):\r\n",
        "    for i in range(len(text)):\r\n",
        "      if (i + self.size >= len(text)):\r\n",
        "        break\r\n",
        "      key = text[i:i + self.size]\r\n",
        "      symb = text[i + self.size]\r\n",
        "      if (key in self.autom):\r\n",
        "        self.autom[key][symb_to_int[symb]] += 1\r\n",
        "        self.autom_sz[key] += 1\r\n",
        "      else:\r\n",
        "        self.autom[key] = np.zeros(len(s))\r\n",
        "        self.autom[key][symb_to_int[symb]] += 1\r\n",
        "        self.autom_sz[key] = 1\r\n",
        "\r\n",
        "  def predict(self, pref, size):\r\n",
        "    ans = pref\r\n",
        "    prob = dict()\r\n",
        "    for key in self.autom:\r\n",
        "      prob[key] = np.zeros(len(s))\r\n",
        "      for j in range(len(s)):\r\n",
        "        if (self.autom_sz[key] > 0):\r\n",
        "          prob[key][j] = self.autom[key][j] / self.autom_sz[key]\r\n",
        "      #print(prob[key])\r\n",
        "    while (len(ans) < size):\r\n",
        "      key = ans[-self.size:]\r\n",
        "      next = np.random.choice(len(s), p=prob[key])\r\n",
        "      ans += int_to_symb[next]\r\n",
        "    return ans\r\n",
        "\r\n",
        "mark = MARK(4)"
      ],
      "execution_count": null,
      "outputs": []
    },
    {
      "cell_type": "code",
      "metadata": {
        "id": "wLq6YGnPW7B_"
      },
      "source": [
        "for dat in data:\r\n",
        "  mark.train(dat)"
      ],
      "execution_count": null,
      "outputs": []
    },
    {
      "cell_type": "code",
      "metadata": {
        "colab": {
          "base_uri": "https://localhost:8080/"
        },
        "id": "TRzoRvtZr2Y3",
        "outputId": "e43e61a4-77a3-4273-c27b-c090def77951"
      },
      "source": [
        "for i in range(3):\r\n",
        "  print(mark.predict(\"during this process\", 100))"
      ],
      "execution_count": null,
      "outputs": [
        {
          "output_type": "stream",
          "text": [
            "during this process what get actors old reservitude i waking refore good auschwarzenegrind at to wor\n",
            "during this process so love summer been on of courselves you can housewives work on to do your job w\n",
            "during this process it was woman collected with myself rest case i ever to say night of our in a lot\n"
          ],
          "name": "stdout"
        }
      ]
    }
  ]
}